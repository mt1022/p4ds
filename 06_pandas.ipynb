{
 "cells": [
  {
   "cell_type": "markdown",
   "id": "0d2858f1-a37e-4975-ac4c-a53eba512a1f",
   "metadata": {},
   "source": [
    "# 06 - Pandas\n",
    "\n",
    "- Source of example datasets: https://github.com/mwaskom/seaborn-data"
   ]
  },
  {
   "cell_type": "code",
   "execution_count": null,
   "id": "50676780-f532-43d8-b8e9-eb47115797e8",
   "metadata": {},
   "outputs": [],
   "source": [
    "import numpy as np\n",
    "import pandas as pd\n",
    "import seaborn as sns"
   ]
  },
  {
   "cell_type": "markdown",
   "id": "b979a27d-34af-4a69-ad9a-c61b14092077",
   "metadata": {},
   "source": [
    "## 基本数据结构：Series, DataFrame\n",
    "\n",
    "Pandas中核心的表示数据的对象类型：\n",
    "- Series: 一维的有标签的array，元素可以是任何类型的对象（数字、字符串等），元素的标签是其index；\n",
    "- DataFrame: 二维的有标签的数据结构，其中的每一列都是Series；行的标签是index，列的标签是columns；\n",
    "\n",
    "更多内容：intro to data structure: https://pandas.pydata.org/docs/user_guide/dsintro.html"
   ]
  },
  {
   "cell_type": "code",
   "execution_count": null,
   "id": "b9f8c60f-8f98-45ea-8f6b-d7a8998db1b1",
   "metadata": {},
   "outputs": [],
   "source": [
    "# 从已有对象创建\n",
    "df = pd.DataFrame({\n",
    "    'a': range(3),\n",
    "    'b': list('xyz'),\n",
    "    'c': np.random.normal(size=3),\n",
    "    'd': 1\n",
    "})\n",
    "df"
   ]
  },
  {
   "cell_type": "code",
   "execution_count": null,
   "id": "8e3acf87-1bbe-4d9a-bc8d-44e30065463a",
   "metadata": {},
   "outputs": [],
   "source": [
    "# 从文件创建\n",
    "iris = pd.read_table('homework/iris.csv', sep=',')\n",
    "iris"
   ]
  },
  {
   "cell_type": "code",
   "execution_count": null,
   "id": "39d53417-fb62-4ca7-836d-97ffe632811c",
   "metadata": {},
   "outputs": [],
   "source": [
    "type(iris)"
   ]
  },
  {
   "cell_type": "code",
   "execution_count": null,
   "id": "ce6bd575-5b9f-4e33-9f08-bbd6f79744f7",
   "metadata": {},
   "outputs": [],
   "source": [
    "iris.columns"
   ]
  },
  {
   "cell_type": "code",
   "execution_count": null,
   "id": "dad5663f-70ec-4abb-83a6-3d73f1336962",
   "metadata": {},
   "outputs": [],
   "source": [
    "iris.index"
   ]
  },
  {
   "cell_type": "code",
   "execution_count": null,
   "id": "60785316-14ea-45ae-b2f3-bcf95bfca9ec",
   "metadata": {},
   "outputs": [],
   "source": [
    "type(iris.sepal_length)"
   ]
  },
  {
   "cell_type": "markdown",
   "id": "ffeb5a42-2dcf-4766-a26e-f9271b465d36",
   "metadata": {},
   "source": [
    "Series类似R里面的向量，DataFrame类似前面讲的dict,即DataFrame ~ dict of Series"
   ]
  },
  {
   "cell_type": "code",
   "execution_count": null,
   "id": "034c3f47-171b-49c8-ab2d-491bba4fc03d",
   "metadata": {},
   "outputs": [],
   "source": [
    "x = pd.Series(list('aabbbc'))\n",
    "x"
   ]
  },
  {
   "cell_type": "code",
   "execution_count": null,
   "id": "d994082f-b077-4ecd-831f-a3126b7cdbdb",
   "metadata": {},
   "outputs": [],
   "source": [
    "x.value_counts()"
   ]
  },
  {
   "cell_type": "code",
   "execution_count": null,
   "id": "91c49762-51b8-4e43-8213-4827cfc82dcd",
   "metadata": {},
   "outputs": [],
   "source": [
    "x[0]"
   ]
  },
  {
   "cell_type": "code",
   "execution_count": null,
   "id": "c3f0dcb1-810b-4403-aab2-389de33db9f8",
   "metadata": {},
   "outputs": [],
   "source": [
    "x.isna()"
   ]
  },
  {
   "cell_type": "code",
   "execution_count": null,
   "id": "3953d432-5a64-45be-8890-9ea12e1d0597",
   "metadata": {},
   "outputs": [],
   "source": [
    "x.isin(['a', 'b'])"
   ]
  },
  {
   "cell_type": "code",
   "execution_count": null,
   "id": "5fb6c6dc-c608-4f38-bb92-ecb0f14d47d4",
   "metadata": {},
   "outputs": [],
   "source": [
    "# Series可以有名字\n",
    "s = pd.Series(np.random.standard_normal(5), index=list('abcde'))\n",
    "s"
   ]
  },
  {
   "cell_type": "code",
   "execution_count": null,
   "id": "722fc1bb-da2c-4b34-adfa-e3f6ec7f74b8",
   "metadata": {},
   "outputs": [],
   "source": [
    "s.index"
   ]
  },
  {
   "cell_type": "code",
   "execution_count": null,
   "id": "47df6584-c3e2-44bc-9157-fbcf00642191",
   "metadata": {},
   "outputs": [],
   "source": [
    "s.values"
   ]
  },
  {
   "cell_type": "code",
   "execution_count": null,
   "id": "dc228d49-b03f-4b51-8c88-56601b3f7b43",
   "metadata": {},
   "outputs": [],
   "source": [
    "print([i for i in dir(s) if not i.startswith('_')])"
   ]
  },
  {
   "cell_type": "code",
   "execution_count": null,
   "id": "9b9eb783-622d-4a12-b75a-f4f085ff3018",
   "metadata": {},
   "outputs": [],
   "source": [
    "print([i for i in dir(iris) if not i.startswith('_')])"
   ]
  },
  {
   "cell_type": "markdown",
   "id": "462b165e-cc0d-42bf-95ae-9e61851a23d9",
   "metadata": {},
   "source": [
    "## 提取子集 (indexing/slicing)\n",
    "（能提取即能赋值，不再赘述）"
   ]
  },
  {
   "cell_type": "code",
   "execution_count": null,
   "id": "f2c1454f-afb5-4a02-8bb6-0d772df5dde4",
   "metadata": {},
   "outputs": [],
   "source": [
    "df"
   ]
  },
  {
   "cell_type": "code",
   "execution_count": null,
   "id": "bfec7678-2b29-4d4e-8e2c-a79609e89c94",
   "metadata": {},
   "outputs": [],
   "source": [
    "df['a']    # 字符串索引提取列得到Series"
   ]
  },
  {
   "cell_type": "code",
   "execution_count": null,
   "id": "d07e18dc-9530-4a77-8995-0001cf70d97b",
   "metadata": {},
   "outputs": [],
   "source": [
    "df[['a']]  # 列表索引得到包含指定列的DataFrame"
   ]
  },
  {
   "cell_type": "code",
   "execution_count": null,
   "id": "1f027586-59ab-4bf1-a05d-e8b8f7ca54b0",
   "metadata": {},
   "outputs": [],
   "source": [
    "df[df['a'] > 0]   # 逻辑向量索引选取符合条件的行"
   ]
  },
  {
   "cell_type": "code",
   "execution_count": null,
   "id": "462566c4-f2a4-4a84-bbf2-3f525ebd72ce",
   "metadata": {},
   "outputs": [],
   "source": [
    "df.a       # OOP style"
   ]
  },
  {
   "cell_type": "code",
   "execution_count": null,
   "id": "d53d1fec-9428-4e6a-bde9-7f939de00b9a",
   "metadata": {},
   "outputs": [],
   "source": [
    "df.index  # 行名"
   ]
  },
  {
   "cell_type": "code",
   "execution_count": null,
   "id": "84c9af9b-04dc-4f9e-9fd1-e83938c63634",
   "metadata": {},
   "outputs": [],
   "source": [
    "df.index = [2, 1, 0]\n",
    "df"
   ]
  },
  {
   "cell_type": "code",
   "execution_count": null,
   "id": "06161b4d-12d1-4828-a6f7-a2652d19e4d5",
   "metadata": {},
   "outputs": [],
   "source": [
    "df.columns  # 列名"
   ]
  },
  {
   "cell_type": "code",
   "execution_count": null,
   "id": "9052ce5e-3153-4416-aa91-9061be13234f",
   "metadata": {},
   "outputs": [],
   "source": [
    "# 根据行名或列名索引\n",
    "df.loc[[1, 2], ['a', 'b']]"
   ]
  },
  {
   "cell_type": "code",
   "execution_count": null,
   "id": "777c5dd2-04a2-40da-bf93-e0a9396e13ac",
   "metadata": {},
   "outputs": [],
   "source": [
    "df.loc[:, 'a']"
   ]
  },
  {
   "cell_type": "markdown",
   "id": "aa821acc-5447-4168-9648-0ca8345f3371",
   "metadata": {},
   "source": [
    "--------------\n",
    "\n",
    "🙋**练习**\n",
    "\n",
    "下面代码的输出应该是什么？\n",
    "```python\n",
    "df.loc[:, ['a']]\n",
    "```\n",
    "\n",
    "--------------"
   ]
  },
  {
   "cell_type": "code",
   "execution_count": null,
   "id": "e98794b8-6d87-483b-aafe-dfaf1d8d5785",
   "metadata": {},
   "outputs": [],
   "source": [
    "# 根据行或列的顺序索引（与numpy 2D array类似）\n",
    "df.iloc[::-1, ::-1]"
   ]
  },
  {
   "cell_type": "code",
   "execution_count": null,
   "id": "92aa6089-f900-4e13-8cf4-0d650fd88577",
   "metadata": {},
   "outputs": [],
   "source": [
    "# Series的索引与DataFrame的列类似\n",
    "s"
   ]
  },
  {
   "cell_type": "code",
   "execution_count": null,
   "id": "f11d009d-ba15-4925-8e85-d1e95cad6a4c",
   "metadata": {},
   "outputs": [],
   "source": [
    "s.a"
   ]
  },
  {
   "cell_type": "code",
   "execution_count": null,
   "id": "657e7864-8ee8-4682-ad63-79749750d9a7",
   "metadata": {},
   "outputs": [],
   "source": [
    "s['a']"
   ]
  },
  {
   "cell_type": "code",
   "execution_count": null,
   "id": "ec482c07-9281-4a50-89d3-c5d1f54feab5",
   "metadata": {},
   "outputs": [],
   "source": [
    "s.loc['a']"
   ]
  },
  {
   "cell_type": "code",
   "execution_count": null,
   "id": "22a5e010-5b5a-453c-8105-ad4884078ee4",
   "metadata": {},
   "outputs": [],
   "source": [
    "s.iloc[0]"
   ]
  },
  {
   "cell_type": "markdown",
   "id": "f91138a2-826c-4e33-971c-7f4059088a02",
   "metadata": {},
   "source": [
    "## 分组操作\n",
    "\n",
    "GroupBy -> Summarize"
   ]
  },
  {
   "cell_type": "code",
   "execution_count": null,
   "id": "d0bb2f9b-7d37-496f-91a1-d55833e008ee",
   "metadata": {},
   "outputs": [],
   "source": [
    "iris"
   ]
  },
  {
   "cell_type": "code",
   "execution_count": null,
   "id": "605093a5-a683-44c0-8612-afa46f210a18",
   "metadata": {},
   "outputs": [],
   "source": [
    "iris.groupby('species').mean()"
   ]
  },
  {
   "cell_type": "code",
   "execution_count": null,
   "id": "a8581f92-4264-4e7a-a6d9-8273d7284451",
   "metadata": {},
   "outputs": [],
   "source": [
    "# 等价于\n",
    "iris.groupby('species').agg('mean')"
   ]
  },
  {
   "cell_type": "markdown",
   "id": "16f205d4-24bc-4f31-bc6f-dbfec58691bd",
   "metadata": {},
   "source": [
    "GroupBy -> Transform"
   ]
  },
  {
   "cell_type": "code",
   "execution_count": null,
   "id": "77122d2f-5a76-43ac-921c-883ff8f8aa81",
   "metadata": {},
   "outputs": [],
   "source": [
    "iris.cumsum()"
   ]
  },
  {
   "cell_type": "code",
   "execution_count": null,
   "id": "902f89c9-984b-4d42-a89d-03c0181cc847",
   "metadata": {},
   "outputs": [],
   "source": [
    "iris.groupby('species').cumsum()"
   ]
  },
  {
   "cell_type": "code",
   "execution_count": null,
   "id": "552524cf-c24a-479a-bd1b-f380fc2f3a27",
   "metadata": {},
   "outputs": [],
   "source": [
    "# 等价于\n",
    "iris.groupby('species').transform('cumsum')"
   ]
  },
  {
   "cell_type": "markdown",
   "id": "483a47cc-9309-4b42-adc5-4b1fae568b57",
   "metadata": {},
   "source": [
    "通用方案：Groupby -> Apply"
   ]
  },
  {
   "cell_type": "code",
   "execution_count": null,
   "id": "aa9c1053-9b37-4bd0-8eb1-da8fd43aa2f4",
   "metadata": {},
   "outputs": [],
   "source": [
    "iris.groupby('species').apply(lambda df: df.mean())"
   ]
  },
  {
   "cell_type": "code",
   "execution_count": null,
   "id": "a406a05f-97d2-4aec-86e1-64983aa93285",
   "metadata": {},
   "outputs": [],
   "source": [
    "iris.groupby('species')['sepal_length'].apply(lambda x: np.mean(x))"
   ]
  },
  {
   "cell_type": "markdown",
   "id": "1fdd02f6-c5cd-46df-b440-9c7f465e4ea6",
   "metadata": {},
   "source": [
    "## 拓展（自学内容）\n",
    "\n",
    "- 常用函数速查：https://github.com/gxelab/tutorials/blob/main/essential_pandas.md\n",
    "- 官方教学：https://pandas.pydata.org/docs/user_guide/index.html"
   ]
  }
 ],
 "metadata": {
  "kernelspec": {
   "display_name": "Python 3 (ipykernel)",
   "language": "python",
   "name": "python3"
  },
  "language_info": {
   "codemirror_mode": {
    "name": "ipython",
    "version": 3
   },
   "file_extension": ".py",
   "mimetype": "text/x-python",
   "name": "python",
   "nbconvert_exporter": "python",
   "pygments_lexer": "ipython3",
   "version": "3.13.2"
  }
 },
 "nbformat": 4,
 "nbformat_minor": 5
}
