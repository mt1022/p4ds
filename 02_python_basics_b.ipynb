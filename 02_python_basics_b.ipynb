{
 "cells": [
  {
   "cell_type": "markdown",
   "id": "ac2337b3-34a2-43db-8145-5769017bbe50",
   "metadata": {},
   "source": [
    "# 02 - Python basics B\n",
    "\n",
    "- 字符串 strings\n",
    "- 流程控制 control flow\n",
    "- 可迭代对象、迭代器 iterable & iterator\n",
    "- 表达式 comprehensions\n",
    "- 文件对象 file object"
   ]
  },
  {
   "cell_type": "markdown",
   "id": "61eeea48-92b0-49e3-a645-3a06939c47c6",
   "metadata": {},
   "source": [
    "## 字符串Strings"
   ]
  },
  {
   "cell_type": "markdown",
   "id": "706f9197-a15d-4ded-a3e3-9a03c9a299a0",
   "metadata": {},
   "source": [
    "### 创建"
   ]
  },
  {
   "cell_type": "code",
   "execution_count": 1,
   "id": "536be494-3b27-4e7a-9db9-34a264c3394c",
   "metadata": {},
   "outputs": [
    {
     "data": {
      "text/plain": [
       "True"
      ]
     },
     "execution_count": 1,
     "metadata": {},
     "output_type": "execute_result"
    }
   ],
   "source": [
    "# single quote/double是一样的\n",
    "\"string\" == 'string'"
   ]
  },
  {
   "cell_type": "code",
   "execution_count": 4,
   "id": "123cbcf9-03d6-4617-8973-398c5a08c231",
   "metadata": {},
   "outputs": [
    {
     "data": {
      "text/plain": [
       "(\"string'\", 'string\"')"
      ]
     },
     "execution_count": 4,
     "metadata": {},
     "output_type": "execute_result"
    }
   ],
   "source": [
    "\"string'\", 'string\"'"
   ]
  },
  {
   "cell_type": "code",
   "execution_count": 7,
   "id": "be443396-2649-4983-9b38-c25b05f59e3b",
   "metadata": {},
   "outputs": [
    {
     "data": {
      "text/plain": [
       "(\"string'\", 'string\" ')"
      ]
     },
     "execution_count": 7,
     "metadata": {},
     "output_type": "execute_result"
    }
   ],
   "source": [
    "\"\"\"string'\"\"\", '''string\" '''"
   ]
  },
  {
   "cell_type": "code",
   "execution_count": 8,
   "id": "5566a0fe-2617-492c-9a6d-c1d5ffbc5f14",
   "metadata": {},
   "outputs": [
    {
     "data": {
      "text/plain": [
       "'\\nabc\\ndef\\n'"
      ]
     },
     "execution_count": 8,
     "metadata": {},
     "output_type": "execute_result"
    }
   ],
   "source": [
    "\"\"\"\n",
    "abc\n",
    "def\n",
    "\"\"\""
   ]
  },
  {
   "cell_type": "code",
   "execution_count": 9,
   "id": "0703287b-4d1a-4898-8f53-72b3bf9e0b85",
   "metadata": {},
   "outputs": [
    {
     "data": {
      "text/plain": [
       "4"
      ]
     },
     "execution_count": 9,
     "metadata": {},
     "output_type": "execute_result"
    }
   ],
   "source": [
    "len(\"next\")"
   ]
  },
  {
   "cell_type": "code",
   "execution_count": 20,
   "id": "3f585737-062f-4876-a3b0-b767ca6b33db",
   "metadata": {},
   "outputs": [
    {
     "data": {
      "text/plain": [
       "4"
      ]
     },
     "execution_count": 20,
     "metadata": {},
     "output_type": "execute_result"
    }
   ],
   "source": [
    "len(\"\\next\")"
   ]
  },
  {
   "cell_type": "markdown",
   "id": "c76c9776-1c1e-490c-9caa-abbb5d890c17",
   "metadata": {},
   "source": [
    "**转义字符(escape character)**: 反斜杠 `\\` 开头的特殊字符\n",
    "\n",
    "\n",
    "| 转义字符 | 说明                          | 示例                | 输出结果          |\n",
    "|----------|-----------------------------|---------------------|------------------|\n",
    "| `\\\\`     | 反斜杠                      | `\"C:\\\\Users\"`       | `C:\\Users`       |\n",
    "| `\\'`     | 单引号                      | `'It\\'s me'`       | `It's me`        |\n",
    "| `\\\"`     | 双引号                      | `\"She said \\\"Hi\\\"\"` | `She said \"Hi\"`  |\n",
    "| `\\n`     | 换行符                      | `\"Hello\\nWorld\"`   | `Hello`<br>`World` |\n",
    "| `\\t`     | 水平制表符 (Tab)            | `\"Name:\\tAlice\"`   | `Name:    Alice` |\n"
   ]
  },
  {
   "cell_type": "code",
   "execution_count": 14,
   "id": "e823227f-46e6-4df3-a8cf-3c2e8338efb2",
   "metadata": {},
   "outputs": [
    {
     "data": {
      "text/plain": [
       "'She said \"Hi\"'"
      ]
     },
     "execution_count": 14,
     "metadata": {},
     "output_type": "execute_result"
    }
   ],
   "source": [
    "\"She said \\\"Hi\\\"\""
   ]
  },
  {
   "cell_type": "code",
   "execution_count": 15,
   "id": "2838135c-10c3-4af5-9178-eb5b86dd49f1",
   "metadata": {},
   "outputs": [
    {
     "name": "stdout",
     "output_type": "stream",
     "text": [
      "She said \"Hi\"\n"
     ]
    }
   ],
   "source": [
    "print(\"She said \\\"Hi\\\"\")"
   ]
  },
  {
   "cell_type": "code",
   "execution_count": 16,
   "id": "c587f0a2-ade1-4c1e-bbee-41c7f15799f8",
   "metadata": {},
   "outputs": [
    {
     "data": {
      "text/plain": [
       "'C:\\\\data'"
      ]
     },
     "execution_count": 16,
     "metadata": {},
     "output_type": "execute_result"
    }
   ],
   "source": [
    "a = \"C:\\\\data\"\n",
    "a  # 以代码的形式输出"
   ]
  },
  {
   "cell_type": "code",
   "execution_count": 17,
   "id": "054e03a2-cd00-4954-907f-6f3f362d734d",
   "metadata": {},
   "outputs": [
    {
     "name": "stdout",
     "output_type": "stream",
     "text": [
      "C:\\data\n"
     ]
    }
   ],
   "source": [
    "print(a)"
   ]
  },
  {
   "cell_type": "code",
   "execution_count": 18,
   "id": "eb2c7ecb-1c04-42ae-9a95-0418b0124460",
   "metadata": {},
   "outputs": [
    {
     "data": {
      "text/plain": [
       "'\\nThis is a string.\\n'"
      ]
     },
     "execution_count": 18,
     "metadata": {},
     "output_type": "execute_result"
    }
   ],
   "source": [
    "# 三重引号创建的字符串支持换行\n",
    "x = \"\"\"\n",
    "This is a string.\n",
    "\"\"\"\n",
    "x"
   ]
  },
  {
   "cell_type": "markdown",
   "id": "3239fd7a-e836-4688-b083-bd6fd46a13b8",
   "metadata": {},
   "source": [
    "**原始字符串(raw-string)** 是以字母`r`开头的特殊字符串，转义机制在这里不起作用。"
   ]
  },
  {
   "cell_type": "code",
   "execution_count": 19,
   "id": "968e6c13-e805-4ef4-9c82-60de52ac3003",
   "metadata": {},
   "outputs": [
    {
     "name": "stdout",
     "output_type": "stream",
     "text": [
      "She said \\\"Hi\\\"\n"
     ]
    }
   ],
   "source": [
    "print(r'She said \\\"Hi\\\"')"
   ]
  },
  {
   "cell_type": "code",
   "execution_count": 21,
   "id": "a7f15882-a178-4b4d-8148-801c7f23206e",
   "metadata": {},
   "outputs": [
    {
     "data": {
      "text/plain": [
       "5"
      ]
     },
     "execution_count": 21,
     "metadata": {},
     "output_type": "execute_result"
    }
   ],
   "source": [
    "len(r'\\next')"
   ]
  },
  {
   "cell_type": "markdown",
   "id": "8966999f-1202-401f-a9ee-52905a54b95d",
   "metadata": {},
   "source": [
    "### 基本操作"
   ]
  },
  {
   "cell_type": "code",
   "execution_count": 22,
   "id": "77c9b1bd-a269-4e77-8c5a-1b4fe4c37953",
   "metadata": {},
   "outputs": [
    {
     "data": {
      "text/plain": [
       "'abcdef'"
      ]
     },
     "execution_count": 22,
     "metadata": {},
     "output_type": "execute_result"
    }
   ],
   "source": [
    "'abc' + 'def'"
   ]
  },
  {
   "cell_type": "code",
   "execution_count": 26,
   "id": "c0998553-5da3-49d2-8219-c0a62ccf87ae",
   "metadata": {},
   "outputs": [
    {
     "data": {
      "text/plain": [
       "'abcdefghi'"
      ]
     },
     "execution_count": 26,
     "metadata": {},
     "output_type": "execute_result"
    }
   ],
   "source": [
    "'abc' 'def' 'ghi'"
   ]
  },
  {
   "cell_type": "code",
   "execution_count": 27,
   "id": "e60fec11-c56f-4c85-b766-d817f864786a",
   "metadata": {},
   "outputs": [
    {
     "name": "stdout",
     "output_type": "stream",
     "text": [
      "Hello, LI Lei!\n"
     ]
    }
   ],
   "source": [
    "name = \"LI Lei\"\n",
    "print(\"Hello, \" + name + \"!\")"
   ]
  },
  {
   "cell_type": "code",
   "execution_count": 28,
   "id": "53762f02-c7ce-42ca-af60-188f5dbb0a0e",
   "metadata": {},
   "outputs": [
    {
     "name": "stdout",
     "output_type": "stream",
     "text": [
      "Hello, LI Lei!\n"
     ]
    }
   ],
   "source": [
    "print(f\"Hello, {name}!\")"
   ]
  },
  {
   "cell_type": "code",
   "execution_count": 32,
   "id": "2969dc9b-8e54-4c97-84ee-78aae91293b2",
   "metadata": {},
   "outputs": [
    {
     "data": {
      "text/plain": [
       "'abcabcabc'"
      ]
     },
     "execution_count": 32,
     "metadata": {},
     "output_type": "execute_result"
    }
   ],
   "source": [
    "'abc' * 3"
   ]
  },
  {
   "cell_type": "code",
   "execution_count": 33,
   "id": "10a9cb0d-ac4c-4c46-aa4a-fb9adc371372",
   "metadata": {},
   "outputs": [
    {
     "data": {
      "text/plain": [
       "['a', 'b', 'c']"
      ]
     },
     "execution_count": 33,
     "metadata": {},
     "output_type": "execute_result"
    }
   ],
   "source": [
    "list('abc')"
   ]
  },
  {
   "cell_type": "code",
   "execution_count": 34,
   "id": "759102a6-7ab0-4acf-bf79-6cca3fa3ba5f",
   "metadata": {},
   "outputs": [
    {
     "data": {
      "text/plain": [
       "['a', 'b', 'c', 'a', 'b', 'c']"
      ]
     },
     "execution_count": 34,
     "metadata": {},
     "output_type": "execute_result"
    }
   ],
   "source": [
    "list('abc') * 2"
   ]
  },
  {
   "cell_type": "code",
   "execution_count": 35,
   "id": "81ab24de-64dd-4a81-9a14-187b0f2b7e52",
   "metadata": {},
   "outputs": [
    {
     "data": {
      "text/plain": [
       "'cba'"
      ]
     },
     "execution_count": 35,
     "metadata": {},
     "output_type": "execute_result"
    }
   ],
   "source": [
    "'abc'[::-1]"
   ]
  },
  {
   "cell_type": "code",
   "execution_count": 36,
   "id": "369203fd-548e-4f3f-8754-de5c3b0f55ae",
   "metadata": {},
   "outputs": [
    {
     "data": {
      "text/plain": [
       "(True, True, True)"
      ]
     },
     "execution_count": 36,
     "metadata": {},
     "output_type": "execute_result"
    }
   ],
   "source": [
    "'a' < 'b', 'a' == 'a', 'a ' > 'a'"
   ]
  },
  {
   "cell_type": "markdown",
   "id": "75b8ecd2-73b0-4a8e-8d33-0b1ea8cc43bf",
   "metadata": {},
   "source": [
    "补充：方法（method）即绑定某个对象的函数\n",
    "- `object.attribute`\n",
    "- `function(arguments)`\n",
    "\n",
    "`object.method(arguments)`"
   ]
  },
  {
   "cell_type": "code",
   "execution_count": 37,
   "id": "47596d7f-0ee7-4c21-8cc9-0fdc887c8e50",
   "metadata": {},
   "outputs": [
    {
     "name": "stdout",
     "output_type": "stream",
     "text": [
      "['__add__', '__class__', '__contains__', '__delattr__', '__dir__', '__doc__', '__eq__', '__format__', '__ge__', '__getattribute__', '__getitem__', '__getnewargs__', '__getstate__', '__gt__', '__hash__', '__init__', '__init_subclass__', '__iter__', '__le__', '__len__', '__lt__', '__mod__', '__mul__', '__ne__', '__new__', '__reduce__', '__reduce_ex__', '__repr__', '__rmod__', '__rmul__', '__setattr__', '__sizeof__', '__str__', '__subclasshook__', 'capitalize', 'casefold', 'center', 'count', 'encode', 'endswith', 'expandtabs', 'find', 'format', 'format_map', 'index', 'isalnum', 'isalpha', 'isascii', 'isdecimal', 'isdigit', 'isidentifier', 'islower', 'isnumeric', 'isprintable', 'isspace', 'istitle', 'isupper', 'join', 'ljust', 'lower', 'lstrip', 'maketrans', 'partition', 'removeprefix', 'removesuffix', 'replace', 'rfind', 'rindex', 'rjust', 'rpartition', 'rsplit', 'rstrip', 'split', 'splitlines', 'startswith', 'strip', 'swapcase', 'title', 'translate', 'upper', 'zfill']\n"
     ]
    }
   ],
   "source": [
    "# 列出x对象的所有attribute\n",
    "print(dir(x))"
   ]
  },
  {
   "cell_type": "code",
   "execution_count": 56,
   "id": "2165eb76-22c1-4ca8-ba18-aaf3615051a9",
   "metadata": {},
   "outputs": [
    {
     "data": {
      "text/plain": [
       "'xyc-xyc-xyd-a-b'"
      ]
     },
     "execution_count": 56,
     "metadata": {},
     "output_type": "execute_result"
    }
   ],
   "source": [
    "x = 'abc-abc-abd-a-b'\n",
    "x.replace('ab', 'xy')"
   ]
  },
  {
   "cell_type": "code",
   "execution_count": 41,
   "id": "59b5f4d4-da68-4b0c-aac3-772690e52eba",
   "metadata": {},
   "outputs": [
    {
     "data": {
      "text/plain": [
       "'xyc-abc-abd'"
      ]
     },
     "execution_count": 41,
     "metadata": {},
     "output_type": "execute_result"
    }
   ],
   "source": [
    "x.replace('ab', 'xy', 1)"
   ]
  },
  {
   "cell_type": "code",
   "execution_count": 42,
   "id": "1e3cdfee-8910-4bb0-bd91-dc520a84dce7",
   "metadata": {},
   "outputs": [
    {
     "data": {
      "text/plain": [
       "'Abc-abc-abd'"
      ]
     },
     "execution_count": 42,
     "metadata": {},
     "output_type": "execute_result"
    }
   ],
   "source": [
    "x.capitalize()"
   ]
  },
  {
   "cell_type": "code",
   "execution_count": 44,
   "id": "b4a491fe-6af9-4ae6-9ca4-30c0ef80fa8d",
   "metadata": {},
   "outputs": [
    {
     "data": {
      "text/plain": [
       "2"
      ]
     },
     "execution_count": 44,
     "metadata": {},
     "output_type": "execute_result"
    }
   ],
   "source": [
    "x.find('c')"
   ]
  },
  {
   "cell_type": "code",
   "execution_count": 45,
   "id": "3b6033f9-f661-4bc3-938a-ab1ab6855832",
   "metadata": {},
   "outputs": [
    {
     "data": {
      "text/plain": [
       "True"
      ]
     },
     "execution_count": 45,
     "metadata": {},
     "output_type": "execute_result"
    }
   ],
   "source": [
    "'123'.isdecimal()"
   ]
  },
  {
   "cell_type": "code",
   "execution_count": 46,
   "id": "1d566f1e-fd6b-4451-8f6f-935aeb7c28aa",
   "metadata": {},
   "outputs": [
    {
     "data": {
      "text/plain": [
       "True"
      ]
     },
     "execution_count": 46,
     "metadata": {},
     "output_type": "execute_result"
    }
   ],
   "source": [
    "'123'.isdigit()"
   ]
  },
  {
   "cell_type": "code",
   "execution_count": 48,
   "id": "affce84a-f537-4387-a67d-5a7325fa8f91",
   "metadata": {},
   "outputs": [
    {
     "data": {
      "text/plain": [
       "True"
      ]
     },
     "execution_count": 48,
     "metadata": {},
     "output_type": "execute_result"
    }
   ],
   "source": [
    "'    \\t\\n'.isspace()"
   ]
  },
  {
   "cell_type": "code",
   "execution_count": 49,
   "id": "a572408b-9523-4941-889b-0f636d870c47",
   "metadata": {},
   "outputs": [
    {
     "data": {
      "text/plain": [
       "'123,456,789'"
      ]
     },
     "execution_count": 49,
     "metadata": {},
     "output_type": "execute_result"
    }
   ],
   "source": [
    "','.join(['123', '456', '789'])"
   ]
  },
  {
   "cell_type": "code",
   "execution_count": 50,
   "id": "ccd57581-a519-40dd-a574-2bbfed20572b",
   "metadata": {},
   "outputs": [
    {
     "data": {
      "text/plain": [
       "['123', '456', '789']"
      ]
     },
     "execution_count": 50,
     "metadata": {},
     "output_type": "execute_result"
    }
   ],
   "source": [
    "'123,456,789'.split(',')"
   ]
  },
  {
   "cell_type": "code",
   "execution_count": 51,
   "id": "2e6b1009-38dd-4697-a849-4c5a0b76d721",
   "metadata": {},
   "outputs": [
    {
     "data": {
      "text/plain": [
       "['123', '456,789']"
      ]
     },
     "execution_count": 51,
     "metadata": {},
     "output_type": "execute_result"
    }
   ],
   "source": [
    "'123,456,789'.split(',', 1)"
   ]
  },
  {
   "cell_type": "code",
   "execution_count": 52,
   "id": "9f162f12-ab18-4c57-bba3-6280fb8ea876",
   "metadata": {},
   "outputs": [
    {
     "data": {
      "text/plain": [
       "['123,456', '789']"
      ]
     },
     "execution_count": 52,
     "metadata": {},
     "output_type": "execute_result"
    }
   ],
   "source": [
    "'123,456,789'.rsplit(',', 1)  # r = right"
   ]
  },
  {
   "cell_type": "code",
   "execution_count": 53,
   "id": "15896582-5c01-4edc-9757-c91042c90ba8",
   "metadata": {},
   "outputs": [
    {
     "data": {
      "text/plain": [
       "(True, False)"
      ]
     },
     "execution_count": 53,
     "metadata": {},
     "output_type": "execute_result"
    }
   ],
   "source": [
    "'abc'.startswith('ab'), 'abc'.endswith('x')"
   ]
  },
  {
   "cell_type": "code",
   "execution_count": 54,
   "id": "620042ba-6a16-499b-9a49-fbee37547739",
   "metadata": {},
   "outputs": [
    {
     "data": {
      "text/plain": [
       "('ABC', 'abc')"
      ]
     },
     "execution_count": 54,
     "metadata": {},
     "output_type": "execute_result"
    }
   ],
   "source": [
    "'abc'.upper(), 'Abc'.lower()"
   ]
  },
  {
   "cell_type": "code",
   "execution_count": 57,
   "id": "66eef25f-0d3f-4596-be36-8367490b43c9",
   "metadata": {},
   "outputs": [
    {
     "data": {
      "text/plain": [
       "'xxyyzzxyz'"
      ]
     },
     "execution_count": 57,
     "metadata": {},
     "output_type": "execute_result"
    }
   ],
   "source": [
    "'aabbccabc'.translate(str.maketrans('abc', 'xyz'))"
   ]
  },
  {
   "cell_type": "code",
   "execution_count": 65,
   "id": "63542013-8f0b-488f-9641-fbfa2965b3f3",
   "metadata": {},
   "outputs": [
    {
     "name": "stdout",
     "output_type": "stream",
     "text": [
      "abc\t xyz\t3.14\trst\n",
      "\n"
     ]
    }
   ],
   "source": [
    "x = 'abc\\t xyz\\t3.14\\trst\\n'\n",
    "print(x)"
   ]
  },
  {
   "cell_type": "code",
   "execution_count": 66,
   "id": "27f68ce2-8fa6-4e91-83a3-4f242c17de7d",
   "metadata": {},
   "outputs": [
    {
     "data": {
      "text/plain": [
       "['abc', 'xyz', '3.14', 'rst']"
      ]
     },
     "execution_count": 66,
     "metadata": {},
     "output_type": "execute_result"
    }
   ],
   "source": [
    "x.split()"
   ]
  },
  {
   "cell_type": "markdown",
   "id": "a74623f8-3d4e-4a64-b6ee-fb1f5ee6efe2",
   "metadata": {},
   "source": [
    "#### 字符串格式化\n",
    "\n",
    "(已经讲过f-string)"
   ]
  },
  {
   "cell_type": "code",
   "execution_count": 60,
   "id": "28bf32f3-e953-41ef-ad20-68864a53e897",
   "metadata": {},
   "outputs": [
    {
     "data": {
      "text/plain": [
       "'Hello, LI Lei and HAN Meimei!'"
      ]
     },
     "execution_count": 60,
     "metadata": {},
     "output_type": "execute_result"
    }
   ],
   "source": [
    "\"Hello, {} and {}!\".format(name, \"HAN Meimei\")"
   ]
  },
  {
   "cell_type": "code",
   "execution_count": 61,
   "id": "038eda3d-9286-4701-b4d3-b71ec4948878",
   "metadata": {},
   "outputs": [
    {
     "data": {
      "text/plain": [
       "'pi = 3.100000, r = 2.132400'"
      ]
     },
     "execution_count": 61,
     "metadata": {},
     "output_type": "execute_result"
    }
   ],
   "source": [
    "\"pi = %f, r = %f\" % (3.1, 2.1324)"
   ]
  },
  {
   "cell_type": "code",
   "execution_count": 62,
   "id": "ae479baf-135f-42a4-9e6b-c8936d9ad86e",
   "metadata": {},
   "outputs": [
    {
     "data": {
      "text/plain": [
       "'pi = 03.10, r = 002.13'"
      ]
     },
     "execution_count": 62,
     "metadata": {},
     "output_type": "execute_result"
    }
   ],
   "source": [
    "\"pi = %05.2f, r = %06.02f\" % (3.1, 2.1324)"
   ]
  },
  {
   "cell_type": "code",
   "execution_count": 63,
   "id": "d15ba0ab-7d4e-4fa3-a58f-1aff83cc0fed",
   "metadata": {},
   "outputs": [
    {
     "data": {
      "text/plain": [
       "5"
      ]
     },
     "execution_count": 63,
     "metadata": {},
     "output_type": "execute_result"
    }
   ],
   "source": [
    "# \"02\"表示小数点后面精确到2位小数，不足在后面补0\n",
    "# \"05\"中的5表示总的字符串宽度，0表示不足在前面补0\n",
    "len(\"%05.2f\" % (3.1))"
   ]
  },
  {
   "cell_type": "markdown",
   "id": "8315ee1f-9901-4bff-9f11-ac9857038ede",
   "metadata": {},
   "source": [
    "#### CSV与TSV的文本解析"
   ]
  },
  {
   "cell_type": "code",
   "execution_count": 68,
   "id": "fa67e11d-9571-428e-b8c8-31ddf75c87c9",
   "metadata": {},
   "outputs": [
    {
     "data": {
      "text/plain": [
       "['abc', 'xyz', '3.14', 'rst  \\n']"
      ]
     },
     "execution_count": 68,
     "metadata": {},
     "output_type": "execute_result"
    }
   ],
   "source": [
    "x = 'abc,xyz,3.14,rst  \\n'\n",
    "x.split(',')"
   ]
  },
  {
   "cell_type": "code",
   "execution_count": 69,
   "id": "3897477e-d5b3-4fa2-9cb1-3d6411237f0c",
   "metadata": {},
   "outputs": [
    {
     "data": {
      "text/plain": [
       "'abc,xyz,3.14,rst'"
      ]
     },
     "execution_count": 69,
     "metadata": {},
     "output_type": "execute_result"
    }
   ],
   "source": [
    "x.rstrip()"
   ]
  },
  {
   "cell_type": "code",
   "execution_count": 70,
   "id": "9a016a36-3400-488e-a8ae-8ed7e6f59d38",
   "metadata": {},
   "outputs": [
    {
     "data": {
      "text/plain": [
       "['abc', 'xyz', '3.14', 'rst']"
      ]
     },
     "execution_count": 70,
     "metadata": {},
     "output_type": "execute_result"
    }
   ],
   "source": [
    "x.rstrip().split(',')"
   ]
  },
  {
   "cell_type": "markdown",
   "id": "220824b9-baa6-48e2-825e-e723ac5799cf",
   "metadata": {},
   "source": [
    "### 正则表达式 (regular expression)\n",
    "\n",
    "python对正则表达式的支持：\n",
    "- https://docs.python.org/3/library/re.html\n",
    "- https://docs.python.org/3/howto/regex.html#regex-howto\n",
    "\n",
    "怎么写正则表达式：LLM可能比大多数程序员效率高。\n",
    "\n",
    "🙋**练习：自学python正则表达式**\n",
    "- https://realpython.com/regex-python\n",
    "- https://realpython.com/regex-python-part-2/\n",
    "- https://www.runoob.com/python3/python3-reg-expressions.html （中文）"
   ]
  },
  {
   "cell_type": "markdown",
   "id": "acaff0bb-7e8f-41e4-b4f0-a852ff36d896",
   "metadata": {},
   "source": [
    "## 函数(function)也是对象\n",
    "\n",
    "```python\n",
    "def function_name(arg1, arg2, ...):\n",
    "    ... \n",
    "    return \n",
    "```"
   ]
  },
  {
   "cell_type": "code",
   "execution_count": null,
   "id": "248dce3b-e8cb-467e-950f-a01ab7eff517",
   "metadata": {},
   "outputs": [],
   "source": [
    "def function_name(arg1, arg2):\n",
    "    \"\"\"\n",
    "    documentation\n",
    "    \"\"\"\n",
    "    result = [arg1, arg2]\n",
    "    return result"
   ]
  },
  {
   "cell_type": "markdown",
   "id": "53a21e07-79f7-4e2e-8ee6-8ca00914673c",
   "metadata": {},
   "source": [
    "## 对象的特性(attributes)\n",
    "\n",
    "```python\n",
    "object.attribute\n",
    "```\n",
    "python中的对象有很多特性，特性可以是普通的对象，即属性(property)，也可以是适用于该对象的函数,即方法（method）。\n",
    "\n",
    "```python\n",
    "object.__attribute__\n",
    "```\n",
    "前后都有两个下划线的特性，是特殊的特性，一般由python代码解释器调用，而非用户直接调用。\n",
    "\n",
    "例如这些方法在冒号后面对应的指令出现时，由代码解释器隐式调用：\n",
    "- `x.__iter__`: `iter(x)`\n",
    "- `x.__str__`: `print(x)`\n",
    "- `x.__len__`: `len(x)`\n",
    "- `x.__contains__`: `i in x`\n",
    "- `x.__getitem__(slice(start, stop, step))`: `x[start:stop:step]`"
   ]
  },
  {
   "cell_type": "code",
   "execution_count": 71,
   "id": "ea914c6d-9f45-442b-a1a9-e39ee5d3d957",
   "metadata": {},
   "outputs": [
    {
     "name": "stdout",
     "output_type": "stream",
     "text": [
      "Help on built-in function dir in module builtins:\n",
      "\n",
      "dir(...)\n",
      "    dir([object]) -> list of strings\n",
      "\n",
      "    If called without an argument, return the names in the current scope.\n",
      "    Else, return an alphabetized list of names comprising (some of) the attributes\n",
      "    of the given object, and of attributes reachable from it.\n",
      "    If the object supplies a method named __dir__, it will be used; otherwise\n",
      "    the default dir() logic is used and returns:\n",
      "      for a module object: the module's attributes.\n",
      "      for a class object:  its attributes, and recursively the attributes\n",
      "        of its bases.\n",
      "      for any other object: its attributes, its class's attributes, and\n",
      "        recursively the attributes of its class's base classes.\n",
      "\n"
     ]
    }
   ],
   "source": [
    "# dir函数可以查看函数的所有特性\n",
    "help(dir)"
   ]
  },
  {
   "cell_type": "code",
   "execution_count": 72,
   "id": "e5d3a6b8-03e3-4ddd-8859-e813e553e787",
   "metadata": {},
   "outputs": [
    {
     "name": "stdout",
     "output_type": "stream",
     "text": [
      "['a', 'b', 3]\n"
     ]
    }
   ],
   "source": [
    "# print函数会通过对象的.__str__获取对象的string表示形式\n",
    "# 如果没有定义.__str__会使用.__repr__\n",
    "# 如果都没定义，会显示类型跟内存地址\n",
    "x = ['a', 'b', 3]\n",
    "print(x)"
   ]
  },
  {
   "cell_type": "code",
   "execution_count": 73,
   "id": "d1ff04e5-334b-4e3b-adec-2fb2f4b27840",
   "metadata": {},
   "outputs": [
    {
     "data": {
      "text/plain": [
       "\"['a', 'b', 3]\""
      ]
     },
     "execution_count": 73,
     "metadata": {},
     "output_type": "execute_result"
    }
   ],
   "source": [
    "x.__str__()"
   ]
  },
  {
   "cell_type": "code",
   "execution_count": 74,
   "id": "9ed96419-8442-438d-a2ae-8166adc61994",
   "metadata": {},
   "outputs": [
    {
     "data": {
      "text/plain": [
       "\"['a', 'b', 3]\""
      ]
     },
     "execution_count": 74,
     "metadata": {},
     "output_type": "execute_result"
    }
   ],
   "source": [
    "str(x)"
   ]
  },
  {
   "cell_type": "markdown",
   "id": "97ea77b9-bb62-4637-b906-cddfb665fd64",
   "metadata": {},
   "source": [
    "## 常用的python指令 (statement)\n",
    "\n",
    "\n",
    "##### 基础语句\n",
    "\n",
    "| 指令 | 说明 | 示例 |\n",
    "|------|------|------|\n",
    "| `=` | 赋值语句 | `x = 10` |\n",
    "| `del` | 删除变量或对象元素 | `del lst[0]` |\n",
    "| `pass` | 空操作占位符 | `def foo(): pass` |\n",
    "| `assert` | 断言条件为真 | `assert x > 0` |\n",
    "| `raise` | 抛出异常 | `raise ValueError()` |\n",
    "\n",
    "##### 流程控制\n",
    "\n",
    "| 指令 | 说明 | 示例 |\n",
    "|------|------|------|\n",
    "| `if/elif/else` | 条件判断 | `if x>0: print(\"正数\")` |\n",
    "| `for` | 迭代循环 | `for i in range(5):` |\n",
    "| `while` | 条件循环 | `while x < 10:` |\n",
    "| `break` | 跳出循环 | `while True: break` |\n",
    "| `continue` | 跳过当前迭代 | `for i in range(5): if i==2: continue` |\n",
    "| `try/except/finally` | 异常处理 | `try: x=1/0 except: print(\"错误\")` |\n",
    "\n",
    "##### 函数与类\n",
    "\n",
    "| 指令 | 说明 | 示例 |\n",
    "|------|------|------|\n",
    "| `def` | 定义函数 | `def foo(): return 1` |\n",
    "| `return` | 函数返回值 | `return x + y` |\n",
    "| `yield` | 生成器返回值 | `yield i**2` |\n",
    "| `class` | 定义类 | `class Foo:` |\n",
    "| `lambda` | 匿名函数 | `f = lambda x: x+1` |\n",
    "\n",
    "##### 导入与作用域\n",
    "\n",
    "| 指令 | 说明 | 示例 |\n",
    "|------|------|------|\n",
    "| `import` | 导入模块 | `import os` |\n",
    "| `from...import` | 从模块导入 | `from math import sqrt` |\n",
    "| `global` | 声明全局变量 | `global count` |\n",
    "| `nonlocal` | 声明非局部变量 | `nonlocal x` |\n",
    "\n",
    "##### 上下文管理\n",
    "\n",
    "| 指令 | 说明 | 示例 |\n",
    "|------|------|------|\n",
    "| `with` | 上下文管理器 | `with open('a.txt') as f:` |\n",
    "| `as` | 别名赋值 | `import numpy as np` |\n",
    "\n",
    "##### 其他特殊语句\n",
    "\n",
    "| 指令 | 说明 | 示例 |\n",
    "|------|------|------|\n",
    "| `match/case` (Python 3.10+) | 模式匹配 | `match x: case 1: print(\"one\")` |\n",
    "| `...` (Ellipsis) | 省略号对象 | `def foo(): ...` |\n",
    "| `@` | 装饰器语法 | `@decorator def foo(): pass` |\n"
   ]
  },
  {
   "cell_type": "markdown",
   "id": "dba7c762-f1d9-421d-b266-9e009ac22f6c",
   "metadata": {},
   "source": [
    "### 赋值语句\n",
    "\n",
    "- 赋值语句将对象与变量名绑定；\n",
    "- 变量名存储的不是对象的值，而是对象的内存地址，即变量是对 对象 的引用(reference)，类似于C语言中的指针；"
   ]
  },
  {
   "cell_type": "code",
   "execution_count": 75,
   "id": "d417cf72-5c6c-461e-b77f-7e3cddce8799",
   "metadata": {},
   "outputs": [
    {
     "data": {
      "text/plain": [
       "[1, 2, 3]"
      ]
     },
     "execution_count": 75,
     "metadata": {},
     "output_type": "execute_result"
    }
   ],
   "source": [
    "# basic assignment\n",
    "a = [1, 2, 3]\n",
    "a"
   ]
  },
  {
   "cell_type": "code",
   "execution_count": 76,
   "id": "850db022-d4ca-43ca-b49f-63841a773e45",
   "metadata": {},
   "outputs": [
    {
     "name": "stdout",
     "output_type": "stream",
     "text": [
      "a = 1, b = 2, c = 3\n"
     ]
    }
   ],
   "source": [
    "# sequence assignment\n",
    "a, b, c = [1, 2, 3]\n",
    "print(f'a = {a}, b = {b}, c = {c}')"
   ]
  },
  {
   "cell_type": "code",
   "execution_count": 77,
   "id": "f17a677f-edda-4c54-92a2-49dbb64d7ee8",
   "metadata": {},
   "outputs": [
    {
     "name": "stdout",
     "output_type": "stream",
     "text": [
      "a = 1, b = 2, c = 3\n"
     ]
    }
   ],
   "source": [
    "[a, b, c] = [1, 2, 3]\n",
    "print(f'a = {a}, b = {b}, c = {c}')"
   ]
  },
  {
   "cell_type": "code",
   "execution_count": 78,
   "id": "610f8b78-0573-49a7-b0ce-4947aa02632e",
   "metadata": {},
   "outputs": [
    {
     "name": "stdout",
     "output_type": "stream",
     "text": [
      "a = 0, b = 1, c = 2\n"
     ]
    }
   ],
   "source": [
    "a, b, c = range(3)\n",
    "print(f'a = {a}, b = {b}, c = {c}')"
   ]
  },
  {
   "cell_type": "code",
   "execution_count": 80,
   "id": "83ea0f13-059b-4742-992d-3ca54bed3f98",
   "metadata": {},
   "outputs": [
    {
     "data": {
      "text/plain": [
       "[0, 1, 2]"
      ]
     },
     "execution_count": 80,
     "metadata": {},
     "output_type": "execute_result"
    }
   ],
   "source": [
    "list(range(3))"
   ]
  },
  {
   "cell_type": "code",
   "execution_count": 81,
   "id": "ecd54a6a-1e8f-4c1a-b2cd-b4f8a116eeef",
   "metadata": {},
   "outputs": [
    {
     "ename": "ValueError",
     "evalue": "not enough values to unpack (expected 3, got 2)",
     "output_type": "error",
     "traceback": [
      "\u001b[31m---------------------------------------------------------------------------\u001b[39m",
      "\u001b[31mValueError\u001b[39m                                Traceback (most recent call last)",
      "\u001b[36mCell\u001b[39m\u001b[36m \u001b[39m\u001b[32mIn[81]\u001b[39m\u001b[32m, line 1\u001b[39m\n\u001b[32m----> \u001b[39m\u001b[32m1\u001b[39m a, b, c = \u001b[38;5;28mrange\u001b[39m(\u001b[32m2\u001b[39m)\n\u001b[32m      2\u001b[39m \u001b[38;5;28mprint\u001b[39m(\u001b[33mf\u001b[39m\u001b[33m'\u001b[39m\u001b[33ma = \u001b[39m\u001b[38;5;132;01m{\u001b[39;00ma\u001b[38;5;132;01m}\u001b[39;00m\u001b[33m, b = \u001b[39m\u001b[38;5;132;01m{\u001b[39;00mb\u001b[38;5;132;01m}\u001b[39;00m\u001b[33m, c = \u001b[39m\u001b[38;5;132;01m{\u001b[39;00mc\u001b[38;5;132;01m}\u001b[39;00m\u001b[33m'\u001b[39m)\n",
      "\u001b[31mValueError\u001b[39m: not enough values to unpack (expected 3, got 2)"
     ]
    }
   ],
   "source": [
    "a, b, c = range(2)\n",
    "print(f'a = {a}, b = {b}, c = {c}')"
   ]
  },
  {
   "cell_type": "code",
   "execution_count": 83,
   "id": "e1592037-1f06-428b-92f0-3d38fe56e563",
   "metadata": {},
   "outputs": [
    {
     "name": "stdout",
     "output_type": "stream",
     "text": [
      "2025\n"
     ]
    }
   ],
   "source": [
    "a, _ = ('2025', 'zhang san')  # _ 常用来匹配某个位置，但其值后续不再用到\n",
    "print(a)"
   ]
  },
  {
   "cell_type": "code",
   "execution_count": 85,
   "id": "91a1d305-2353-4a19-80a7-82e3bd533705",
   "metadata": {},
   "outputs": [
    {
     "ename": "ValueError",
     "evalue": "too many values to unpack (expected 2)",
     "output_type": "error",
     "traceback": [
      "\u001b[31m---------------------------------------------------------------------------\u001b[39m",
      "\u001b[31mValueError\u001b[39m                                Traceback (most recent call last)",
      "\u001b[36mCell\u001b[39m\u001b[36m \u001b[39m\u001b[32mIn[85]\u001b[39m\u001b[32m, line 2\u001b[39m\n\u001b[32m      1\u001b[39m \u001b[38;5;66;03m# extended-unpacking assignment\u001b[39;00m\n\u001b[32m----> \u001b[39m\u001b[32m2\u001b[39m a, b = [\u001b[32m1\u001b[39m, \u001b[32m2\u001b[39m, \u001b[32m3\u001b[39m]\n",
      "\u001b[31mValueError\u001b[39m: too many values to unpack (expected 2)"
     ]
    }
   ],
   "source": [
    "# extended-unpacking assignment\n",
    "a, b = [1, 2, 3]"
   ]
  },
  {
   "cell_type": "code",
   "execution_count": 86,
   "id": "b8891a0e-cb0d-4701-beb7-cd174a9573c8",
   "metadata": {},
   "outputs": [
    {
     "data": {
      "text/plain": [
       "(1, [2, 3])"
      ]
     },
     "execution_count": 86,
     "metadata": {},
     "output_type": "execute_result"
    }
   ],
   "source": [
    "a, *b = [1, 2, 3]\n",
    "a, b"
   ]
  },
  {
   "cell_type": "code",
   "execution_count": 87,
   "id": "ba0b9a6f-88fc-4c50-a841-84e6cbf29763",
   "metadata": {},
   "outputs": [
    {
     "data": {
      "text/plain": [
       "(1, [2, 3], 4)"
      ]
     },
     "execution_count": 87,
     "metadata": {},
     "output_type": "execute_result"
    }
   ],
   "source": [
    "a, *b, c = [1, 2, 3, 4]\n",
    "a, b, c"
   ]
  },
  {
   "cell_type": "code",
   "execution_count": 88,
   "id": "bd6c64af-f044-4efa-a2e4-84943ab0d509",
   "metadata": {},
   "outputs": [
    {
     "data": {
      "text/plain": [
       "(0, 1, [])"
      ]
     },
     "execution_count": 88,
     "metadata": {},
     "output_type": "execute_result"
    }
   ],
   "source": [
    "a, b, *c = range(2)\n",
    "a, b, c"
   ]
  },
  {
   "cell_type": "code",
   "execution_count": 89,
   "id": "942e1459-56ff-414f-8031-ce52904c98d0",
   "metadata": {},
   "outputs": [
    {
     "ename": "SyntaxError",
     "evalue": "multiple starred expressions in assignment (991317121.py, line 1)",
     "output_type": "error",
     "traceback": [
      "  \u001b[36mCell\u001b[39m\u001b[36m \u001b[39m\u001b[32mIn[89]\u001b[39m\u001b[32m, line 1\u001b[39m\n\u001b[31m    \u001b[39m\u001b[31ma, b, *c, *d = range(2)\u001b[39m\n    ^\n\u001b[31mSyntaxError\u001b[39m\u001b[31m:\u001b[39m multiple starred expressions in assignment\n"
     ]
    }
   ],
   "source": [
    "a, b, *c, *d = range(2)\n",
    "a, b, c"
   ]
  },
  {
   "cell_type": "code",
   "execution_count": 90,
   "id": "b8e3fbab-0e65-4281-bc8b-870cee36833b",
   "metadata": {},
   "outputs": [
    {
     "data": {
      "text/plain": [
       "(6, 10, 2.5, 2)"
      ]
     },
     "execution_count": 90,
     "metadata": {},
     "output_type": "execute_result"
    }
   ],
   "source": [
    "a = b = c = d = 5\n",
    "a += 1   # a = a + 1\n",
    "b *= 2   # b = b * 2\n",
    "c /= 2   # c = c / 3\n",
    "d %= 3   # d = d % 3\n",
    "a, b, c, d"
   ]
  },
  {
   "cell_type": "code",
   "execution_count": 92,
   "id": "f8f5ac11-8740-4262-aa22-30f26cb62c1d",
   "metadata": {},
   "outputs": [
    {
     "data": {
      "text/plain": [
       "(3, 7)"
      ]
     },
     "execution_count": 92,
     "metadata": {},
     "output_type": "execute_result"
    }
   ],
   "source": [
    "# assignment in expression\n",
    "b = (a := 3) + 4  # equal to: a = 3; b = a + 3\n",
    "a, b"
   ]
  },
  {
   "cell_type": "markdown",
   "id": "4fcec77f-3609-48bd-8892-1611d102349c",
   "metadata": {},
   "source": [
    "##### 🙋练习\n",
    "\n",
    "1. 在执行之前你能猜出下面这两段代码的输出是什么吗？\n",
    "```python\n",
    "a, *b = 'python'\n",
    "print([a, b])\n",
    "```\n",
    "\n",
    "```python\n",
    "a = []\n",
    "a += 'python'\n",
    "print(a)\n",
    "```\n",
    "\n",
    "2.  已知=右边是`(110, (119, 120))`，怎么用一行赋值语句把三个数值分别赋给a, b, c?\n",
    "```python\n",
    "? = (110, (119, 120))\n",
    "```"
   ]
  },
  {
   "cell_type": "markdown",
   "id": "1a6138c9-810b-4a58-8bdf-0f4f062b69c1",
   "metadata": {},
   "source": [
    "##### 共享的引用"
   ]
  },
  {
   "cell_type": "code",
   "execution_count": 93,
   "id": "88271b64-17c2-4125-b977-2787e26a91fc",
   "metadata": {},
   "outputs": [
    {
     "name": "stdout",
     "output_type": "stream",
     "text": [
      "[1, 2, 3]\n",
      "[-1, 2, 3]\n"
     ]
    }
   ],
   "source": [
    "a = [1, 2, 3]\n",
    "b = a\n",
    "print(b)\n",
    "a[0] = -1\n",
    "print(b)"
   ]
  },
  {
   "cell_type": "code",
   "execution_count": 94,
   "id": "11c1465a-bc8a-4afd-9e24-b4d6e0ca7c45",
   "metadata": {},
   "outputs": [
    {
     "name": "stdout",
     "output_type": "stream",
     "text": [
      "[[1, 2, 3], 4, 5, 6]\n"
     ]
    }
   ],
   "source": [
    "a = [1, 2, 3]\n",
    "b = [a, 4, 5, 6]\n",
    "print(b)"
   ]
  },
  {
   "cell_type": "code",
   "execution_count": 95,
   "id": "8ec1b3be-1792-42ae-9a66-005042b2acd6",
   "metadata": {},
   "outputs": [
    {
     "name": "stdout",
     "output_type": "stream",
     "text": [
      "[[-1, 2, 3], 4, 5, 6]\n"
     ]
    }
   ],
   "source": [
    "a[0] = -1\n",
    "print(b)"
   ]
  },
  {
   "cell_type": "code",
   "execution_count": 98,
   "id": "246e06ff-560c-44a6-9133-af7787758af9",
   "metadata": {},
   "outputs": [
    {
     "name": "stdout",
     "output_type": "stream",
     "text": [
      "[[1, 2, 3], 4, 5, 6]\n",
      "[[1, 2, 3], 4, 5, 6]\n",
      "[-1, 2, 3]\n"
     ]
    }
   ],
   "source": [
    "# 怎么避免\n",
    "a = [1, 2, 3]\n",
    "b = [a[:], 4, 5, 6]\n",
    "print(b)\n",
    "a[0] = -1\n",
    "print(b)\n",
    "print(a)"
   ]
  },
  {
   "cell_type": "code",
   "execution_count": 99,
   "id": "181282f9-ae7d-49bb-bd3d-1bfa689e1ec9",
   "metadata": {},
   "outputs": [
    {
     "name": "stdout",
     "output_type": "stream",
     "text": [
      "[1, 2, 3]\n",
      "[1, 2, 3]\n"
     ]
    }
   ],
   "source": [
    "a = [1, 2, 3]\n",
    "b = a.copy()\n",
    "print(b)\n",
    "a[0] = -1\n",
    "print(b)"
   ]
  },
  {
   "cell_type": "markdown",
   "id": "ccd602f7-288b-4224-a12e-e00b4d2beb79",
   "metadata": {},
   "source": [
    "### print"
   ]
  },
  {
   "cell_type": "code",
   "execution_count": 100,
   "id": "381aecc8-02e9-403d-a270-16e432fac842",
   "metadata": {},
   "outputs": [
    {
     "name": "stdout",
     "output_type": "stream",
     "text": [
      "a b\n"
     ]
    }
   ],
   "source": [
    "print('a', 'b')"
   ]
  },
  {
   "cell_type": "code",
   "execution_count": 102,
   "id": "05508784-1263-4f19-a59b-6fd722a35d56",
   "metadata": {},
   "outputs": [
    {
     "name": "stdout",
     "output_type": "stream",
     "text": [
      "a,b\n"
     ]
    }
   ],
   "source": [
    "print('a', 'b', sep=',')  # sep is short for seperator"
   ]
  },
  {
   "cell_type": "code",
   "execution_count": 103,
   "id": "b662d072-1ddf-4cb9-9c4f-43f741387e8b",
   "metadata": {},
   "outputs": [
    {
     "name": "stdout",
     "output_type": "stream",
     "text": [
      "a\tb\tc\n",
      "-----\n"
     ]
    }
   ],
   "source": [
    "print('a', 'b', 'c', sep='\\t')\n",
    "print('-----')"
   ]
  },
  {
   "cell_type": "code",
   "execution_count": 106,
   "id": "057e7667-52e3-4772-9a98-211a83aee60e",
   "metadata": {},
   "outputs": [
    {
     "name": "stdout",
     "output_type": "stream",
     "text": [
      "a\tb\tc;-----\n"
     ]
    }
   ],
   "source": [
    "print('a', 'b', 'c', sep='\\t', end=';')\n",
    "print('-----')"
   ]
  },
  {
   "cell_type": "markdown",
   "id": "ee6bac7a-13b3-4bfa-aaa5-3176cadbff25",
   "metadata": {},
   "source": [
    "### 流程控制\n",
    "\n",
    "开始之前：\n",
    "- python会自动检测指令或代码块结束的位置；\n",
    "- 一行的末尾表示一条指令的结束，不需要用特殊的符号比如`;`来结束一条指令；\n",
    "- 可以用`;`把几个简单指令组合写在一行；\n",
    "- 如果指令延续多行，可以用括号(`()`, `[]`, `{}`)括起来；\n",
    "- 在一行的末尾加一个反斜杠也可以表示指令还没结束，需要延续到下一行，但容易出错；(不推荐使用)\n",
    "- 缩进表示一个代码块(code block)的开始，缩进结束即block的结束；（注意: 在正式的文本中不要中英混杂）；\n",
    "- 缩进的形式可以用tab、四个空格、两个空格、或tab，但在程序中要保持一致，不要混合使用；"
   ]
  },
  {
   "cell_type": "code",
   "execution_count": 107,
   "id": "a6c9a2b3-b8d2-4ae2-97e0-c57685871a82",
   "metadata": {},
   "outputs": [
    {
     "data": {
      "text/plain": [
       "[1, 2, 3, 4]"
      ]
     },
     "execution_count": 107,
     "metadata": {},
     "output_type": "execute_result"
    }
   ],
   "source": [
    "x = [1, 2,\n",
    "     3, 4]\n",
    "x"
   ]
  },
  {
   "cell_type": "code",
   "execution_count": 112,
   "id": "52404ce0-1937-4312-b49f-91cdce211628",
   "metadata": {},
   "outputs": [
    {
     "name": "stdout",
     "output_type": "stream",
     "text": [
      "ab\n"
     ]
    }
   ],
   "source": [
    "y = 'a' 'b'\n",
    "'c'\n",
    "print(y)"
   ]
  },
  {
   "cell_type": "code",
   "execution_count": 113,
   "id": "45c7732a-84b0-4a12-8b12-14e6d3cded87",
   "metadata": {},
   "outputs": [
    {
     "name": "stdout",
     "output_type": "stream",
     "text": [
      "abc\n"
     ]
    }
   ],
   "source": [
    "y = ('a' 'b'\n",
    "     'c')\n",
    "print(y)"
   ]
  },
  {
   "cell_type": "markdown",
   "id": "c4c90b61-0e1a-4353-a6f0-c17d3d4ce892",
   "metadata": {},
   "source": [
    "#### if-else\n",
    "\n",
    "```python\n",
    "if test:\n",
    "    code block\n",
    "elif test:\n",
    "    code block\n",
    "else:\n",
    "    code block\n",
    "```"
   ]
  },
  {
   "cell_type": "code",
   "execution_count": 114,
   "id": "a13fbf24-95b9-4445-8dac-4c71ee375786",
   "metadata": {},
   "outputs": [
    {
     "name": "stdout",
     "output_type": "stream",
     "text": [
      "x is positive!\n"
     ]
    }
   ],
   "source": [
    "x = 3\n",
    "if x > 0:\n",
    "    print(\"x is positive!\")"
   ]
  },
  {
   "cell_type": "code",
   "execution_count": 115,
   "id": "f4e71f35-ff6a-42ed-9201-db553bc6b21e",
   "metadata": {},
   "outputs": [
    {
     "name": "stdout",
     "output_type": "stream",
     "text": [
      "x is not positive!\n"
     ]
    }
   ],
   "source": [
    "x = -2\n",
    "if x > 0:\n",
    "    print(\"x is positive!\")\n",
    "else:\n",
    "    print(\"x is not positive!\")"
   ]
  },
  {
   "cell_type": "code",
   "execution_count": 116,
   "id": "c668d0a2-3055-49aa-b58f-5ef9ef9c3c07",
   "metadata": {},
   "outputs": [
    {
     "data": {
      "text/plain": [
       "False"
      ]
     },
     "execution_count": 116,
     "metadata": {},
     "output_type": "execute_result"
    }
   ],
   "source": [
    "x > 0"
   ]
  },
  {
   "cell_type": "code",
   "execution_count": 117,
   "id": "21941452-7b82-43a5-b0ec-607f3bf75340",
   "metadata": {},
   "outputs": [
    {
     "name": "stdout",
     "output_type": "stream",
     "text": [
      "x is negative!\n"
     ]
    }
   ],
   "source": [
    "x = -2\n",
    "if x > 0:\n",
    "    print(\"x is positive!\")\n",
    "elif x == 0:\n",
    "    print(\"x is zero!\")\n",
    "else:\n",
    "    print(\"x is negative!\")"
   ]
  },
  {
   "cell_type": "code",
   "execution_count": 118,
   "id": "df007a7c-c021-47c3-a6a7-dffbd19995b0",
   "metadata": {},
   "outputs": [
    {
     "name": "stdout",
     "output_type": "stream",
     "text": [
      "x is zero!\n"
     ]
    }
   ],
   "source": [
    "x = 0\n",
    "if x > 0:\n",
    "    print(\"x is positive!\")\n",
    "elif x == 0:\n",
    "    print(\"x is zero!\")\n",
    "else:\n",
    "    print(\"x is negative!\")"
   ]
  },
  {
   "cell_type": "code",
   "execution_count": 121,
   "id": "47ed657e-9cf6-43de-b75b-85296c6c8ecb",
   "metadata": {},
   "outputs": [
    {
     "name": "stdout",
     "output_type": "stream",
     "text": [
      "positive\n"
     ]
    }
   ],
   "source": [
    "# 类似于C语言中的条件赋值如何实现？\n",
    "#  C : condition? a : b\n",
    "#  py: a condition? else b\n",
    "a = 2\n",
    "b = 'positive' if a > 0 else 'non-positive'\n",
    "print(b)"
   ]
  },
  {
   "cell_type": "code",
   "execution_count": 122,
   "id": "a5811d7f-f385-4b83-b840-3bef81b546b0",
   "metadata": {},
   "outputs": [
    {
     "name": "stdout",
     "output_type": "stream",
     "text": [
      "second option\n"
     ]
    }
   ],
   "source": [
    "# multiple choices\n",
    "a = 2\n",
    "match a:\n",
    "    case 1:\n",
    "        print('first option')\n",
    "    case 2:\n",
    "        print('second option')\n",
    "    case 3:\n",
    "        print('third option')"
   ]
  },
  {
   "cell_type": "code",
   "execution_count": 123,
   "id": "0cf0ca80-b9ec-4c2b-b1c4-72f94251669f",
   "metadata": {},
   "outputs": [
    {
     "name": "stdout",
     "output_type": "stream",
     "text": [
      "invalid option\n"
     ]
    }
   ],
   "source": [
    "a = 7\n",
    "match a:\n",
    "    case 1:\n",
    "        print('first option')\n",
    "    case 2:\n",
    "        print('second option')\n",
    "    case 3:\n",
    "        print('third option')\n",
    "    case _:\n",
    "        print('invalid option')\n"
   ]
  },
  {
   "cell_type": "markdown",
   "id": "be55a2f3-0fee-485f-ba38-128a81609f64",
   "metadata": {},
   "source": [
    "🙋练习\n",
    "\n",
    "尝试理解这段代码，并预测其输出。\n",
    "```python\n",
    "scores = [('zhang san', 61), ('li si', 85), ('wolong', 48), ('zhuge', 100)]\n",
    "for record in scores:\n",
    "    match record:\n",
    "        case (name, score) if score >= 60:\n",
    "            print(f'    {name}: pass')\n",
    "        case (name, _):\n",
    "            print(f'    {name}, fail')\n",
    "```"
   ]
  },
  {
   "cell_type": "code",
   "execution_count": 124,
   "id": "14886004-b19d-4a2e-8f54-dab8c5dc1a26",
   "metadata": {},
   "outputs": [
    {
     "name": "stdout",
     "output_type": "stream",
     "text": [
      "pass\n"
     ]
    }
   ],
   "source": [
    "score_a, score_b, score_c = 100, 80, 61\n",
    "if score_a >= 60 and score_b >= 60 and score_c >= 60:\n",
    "    print('pass')\n",
    "else:\n",
    "    print('fail')"
   ]
  },
  {
   "cell_type": "code",
   "execution_count": 125,
   "id": "60a395a5-8a64-437f-bd19-3ed1c4cfb549",
   "metadata": {},
   "outputs": [
    {
     "data": {
      "text/plain": [
       "(True, False)"
      ]
     },
     "execution_count": 125,
     "metadata": {},
     "output_type": "execute_result"
    }
   ],
   "source": [
    "# 大小比较返回True，False (即返回整数1或0）\n",
    "2 < 3, 2 > 3"
   ]
  },
  {
   "cell_type": "code",
   "execution_count": 127,
   "id": "297e49c3-4865-484f-805b-ee8099527e4f",
   "metadata": {},
   "outputs": [
    {
     "data": {
      "text/plain": [
       "True"
      ]
     },
     "execution_count": 127,
     "metadata": {},
     "output_type": "execute_result"
    }
   ],
   "source": [
    "# `and` 返回什么？\n",
    "a = score_a > 60 and score_b > 60\n",
    "a"
   ]
  },
  {
   "cell_type": "code",
   "execution_count": 128,
   "id": "cce20ab7-d0a4-4bf0-a907-a013a05c3f63",
   "metadata": {},
   "outputs": [
    {
     "name": "stdout",
     "output_type": "stream",
     "text": [
      "3\n"
     ]
    }
   ],
   "source": [
    "a = 2 and 3\n",
    "print(a)"
   ]
  },
  {
   "cell_type": "code",
   "execution_count": 129,
   "id": "a5ab26c0-363d-4d6d-a98b-0f7725793452",
   "metadata": {},
   "outputs": [
    {
     "name": "stdout",
     "output_type": "stream",
     "text": [
      "2\n"
     ]
    }
   ],
   "source": [
    "a = 3 and 2\n",
    "print(a)"
   ]
  },
  {
   "cell_type": "markdown",
   "id": "1bcf1452-4747-4c19-9111-e46d2795138a",
   "metadata": {},
   "source": [
    "##### 反思and、or、not\n",
    "\n",
    "- python中的任何对象都有一个内在的`True`或`False`值；\n",
    "- 数字0、空对象、`None`的布尔值是`False`，其他对象的布尔值是`True`；\n",
    "- 比较(>, <, >=, <=)或相等（==）测试返回的值是`True`/`False`；\n",
    "- `or` : 如果左侧对象的布尔值是`True`，返回左边的对象，否则返回右边的对象；\n",
    "- `and`: 如果左侧对象的布尔值是`False`，返回左边的对象，否则返回右边的对象；\n",
    "- `not`: 返回与右侧对象的布尔值相反的布尔值；"
   ]
  },
  {
   "cell_type": "code",
   "execution_count": 136,
   "id": "a822d4e2-fb13-4956-a48d-1fdc304094e1",
   "metadata": {},
   "outputs": [
    {
     "name": "stdout",
     "output_type": "stream",
     "text": [
      "2\n"
     ]
    }
   ],
   "source": [
    "x = 2 or 3\n",
    "print(x)"
   ]
  },
  {
   "cell_type": "code",
   "execution_count": 137,
   "id": "c33de2db-0ef7-4e5a-a2bd-474d06956d0f",
   "metadata": {},
   "outputs": [
    {
     "data": {
      "text/plain": [
       "2"
      ]
     },
     "execution_count": 137,
     "metadata": {},
     "output_type": "execute_result"
    }
   ],
   "source": [
    "x = 0 or 2\n",
    "x"
   ]
  },
  {
   "cell_type": "markdown",
   "id": "1ed12b89-1200-41f2-872f-dba14c24d274",
   "metadata": {},
   "source": [
    "🙋**练习**\n",
    "\n",
    "1. 判断下面代码的数据结果\n",
    "```python\n",
    "a = 0 or 1\n",
    "print(a)\n",
    "```\n",
    "\n",
    "2. 哪个对象特性决定了对象的内在布尔值是True还是False？"
   ]
  },
  {
   "cell_type": "markdown",
   "id": "dbd35f19-5920-4d33-bf02-2f7c4baaee95",
   "metadata": {},
   "source": [
    "##### is和==\n",
    "\n",
    "- `==` 比较两个对象的值是否相等；\n",
    "- `is` 比较两个对象是否相同（位于相同的内存地址）；"
   ]
  },
  {
   "cell_type": "code",
   "execution_count": 138,
   "id": "30d8369f-8aee-461c-b0ab-342cc8fb3bb1",
   "metadata": {},
   "outputs": [
    {
     "data": {
      "text/plain": [
       "(True, False)"
      ]
     },
     "execution_count": 138,
     "metadata": {},
     "output_type": "execute_result"
    }
   ],
   "source": [
    "a = b = 'Hello, World!'\n",
    "c = 'Hello, World!'\n",
    "a is b, a is c"
   ]
  },
  {
   "cell_type": "code",
   "execution_count": 139,
   "id": "0aadd0ef-dc36-4e4b-a04f-bdb9525d1002",
   "metadata": {},
   "outputs": [
    {
     "data": {
      "text/plain": [
       "(4430168560, 4430168560, 4436364912)"
      ]
     },
     "execution_count": 139,
     "metadata": {},
     "output_type": "execute_result"
    }
   ],
   "source": [
    "# 查看a,b,c的内存地址\n",
    "id(a), id(b), id(c)"
   ]
  },
  {
   "cell_type": "code",
   "execution_count": 140,
   "id": "4ec3f07d-c495-4c23-abfc-0748a39c7edd",
   "metadata": {},
   "outputs": [
    {
     "data": {
      "text/plain": [
       "(True, True)"
      ]
     },
     "execution_count": 140,
     "metadata": {},
     "output_type": "execute_result"
    }
   ],
   "source": [
    "a == b, a == c"
   ]
  },
  {
   "cell_type": "markdown",
   "id": "aebb57fa-2939-4628-87b2-3468d832ea7a",
   "metadata": {},
   "source": [
    "🙋**练习**\n",
    "\n",
    "判断下面代码的数据结果是True还是False？\n",
    "```python\n",
    "a = 'py'\n",
    "b = 'py'\n",
    "print(a is b)\n",
    "```\n",
    "一定要做一下，没有看起来那么简单！想想为什么会输出这样的结果？(提示：用`id`检验自己的猜想)"
   ]
  },
  {
   "cell_type": "markdown",
   "id": "8f7d228a-b5b8-4a01-80fe-a8d55e3974f4",
   "metadata": {},
   "source": [
    "#### While\n",
    "\n",
    "```python\n",
    "while test:\n",
    "    ...\n",
    "    if test: break\n",
    "    if test: continue\n",
    "else:\n",
    "    ...  # 循环正常结束时(即不通过break结束）执行\n",
    "```\n",
    "\n",
    "注意：**不要写死循环！**"
   ]
  },
  {
   "cell_type": "code",
   "execution_count": null,
   "id": "071a7d50-2b0c-4e24-83c3-a05a4c758953",
   "metadata": {},
   "outputs": [],
   "source": [
    "# do not run this cell in notebook\n",
    "while True:\n",
    "    x = input(\"Please enter a number:\")\n",
    "    if x == \"q\": break\n",
    "    print(float(x)**2)\n",
    "print(\"Bye!\")"
   ]
  },
  {
   "cell_type": "code",
   "execution_count": 141,
   "id": "3a209144-a76a-453a-adf4-83b1b8658fee",
   "metadata": {},
   "outputs": [
    {
     "name": "stdout",
     "output_type": "stream",
     "text": [
      "x = 1, x = 2, x = 3, x = 4, x = 5, x = 6, x = 7, x = 8, x = 9, "
     ]
    },
    {
     "data": {
      "text/plain": [
       "[1, 4, 9, 16, 25, 36, 49, 64, 81]"
      ]
     },
     "execution_count": 141,
     "metadata": {},
     "output_type": "execute_result"
    }
   ],
   "source": [
    "y = []\n",
    "x = 1\n",
    "while x < 10:\n",
    "    print(f'x = {x}', end=', ')\n",
    "    y.append(x**2)\n",
    "    x += 1\n",
    "\n",
    "y"
   ]
  },
  {
   "cell_type": "code",
   "execution_count": 142,
   "id": "b7458b59-464f-4740-b5a1-8d3f9114b0c6",
   "metadata": {},
   "outputs": [
    {
     "name": "stdout",
     "output_type": "stream",
     "text": [
      "x = 1, x = 1, x = 1, x = 1, x = 1, x = 1, x = 1, x = 1, x = 1, x = 1, x = 1, x = 1, x = 1, x = 1, x = 1, x = 1, x = 1, x = 1, x = 1, x = 1, x = 1, x = 1, x = 1, x = 1, x = 1, x = 1, x = 1, x = 1, x = 1, x = 1, x = 1, x = 1, x = 1, x = 1, x = 1, x = 1, x = 1, x = 1, x = 1, x = 1, x = 1, x = 1, x = 1, x = 1, x = 1, x = 1, x = 1, x = 1, x = 1, x = 1, x = 1, x = 1, x = 1, x = 1, x = 1, x = 1, x = 1, x = 1, x = 1, x = 1, x = 1, x = 1, x = 1, x = 1, x = 1, x = 1, x = 1, x = 1, x = 1, x = 1, x = 1, x = 1, x = 1, "
     ]
    },
    {
     "ename": "KeyboardInterrupt",
     "evalue": "",
     "output_type": "error",
     "traceback": [
      "\u001b[31m---------------------------------------------------------------------------\u001b[39m",
      "\u001b[31mKeyboardInterrupt\u001b[39m                         Traceback (most recent call last)",
      "\u001b[36mCell\u001b[39m\u001b[36m \u001b[39m\u001b[32mIn[142]\u001b[39m\u001b[32m, line 10\u001b[39m\n\u001b[32m      8\u001b[39m     y.append(x**\u001b[32m2\u001b[39m)\n\u001b[32m      9\u001b[39m     \u001b[38;5;66;03m# x += 1\u001b[39;00m\n\u001b[32m---> \u001b[39m\u001b[32m10\u001b[39m     \u001b[43msleep\u001b[49m\u001b[43m(\u001b[49m\u001b[32;43m1\u001b[39;49m\u001b[43m)\u001b[49m\n\u001b[32m     12\u001b[39m y\n",
      "\u001b[31mKeyboardInterrupt\u001b[39m: "
     ]
    }
   ],
   "source": [
    "from time import sleep\n",
    "\n",
    "y = []\n",
    "x = 1\n",
    "\n",
    "while x < 10:\n",
    "    print(f'x = {x}', end=', ')\n",
    "    y.append(x**2)\n",
    "    # x += 1\n",
    "    sleep(1)\n",
    "\n",
    "y"
   ]
  },
  {
   "cell_type": "markdown",
   "id": "d9dbf36b-6e6e-4cf8-bc27-caa9c39e0ef1",
   "metadata": {},
   "source": [
    "#### for-loop\n",
    "\n",
    "```python\n",
    "for item in iterable:\n",
    "    ...\n",
    "    if test: break\n",
    "    if test: continue\n",
    "    ...\n",
    "else:\n",
    "    ...\n",
    "```\n",
    "\n",
    "可迭代对象(iterable)是可以遍历的对象，本质上来说是实现了`__iter__`方法的对象，包括各种序列(list, tuple, range)以及dict等以及迭代器。"
   ]
  },
  {
   "cell_type": "code",
   "execution_count": 143,
   "id": "ad5a969b-e7ce-417c-8ab8-ce92b269d48d",
   "metadata": {},
   "outputs": [
    {
     "data": {
      "text/plain": [
       "True"
      ]
     },
     "execution_count": 143,
     "metadata": {},
     "output_type": "execute_result"
    }
   ],
   "source": [
    "x = [1, 'a', 'abc']\n",
    "'__iter__' in dir(x)"
   ]
  },
  {
   "cell_type": "code",
   "execution_count": 144,
   "id": "3331aa07-e21c-45af-9057-17af26808106",
   "metadata": {},
   "outputs": [
    {
     "data": {
      "text/plain": [
       "True"
      ]
     },
     "execution_count": 144,
     "metadata": {},
     "output_type": "execute_result"
    }
   ],
   "source": [
    "y = range(10)\n",
    "'__iter__' in dir(y)"
   ]
  },
  {
   "cell_type": "code",
   "execution_count": 145,
   "id": "6f32bdfb-7bab-4b3a-b304-7049bde2be25",
   "metadata": {},
   "outputs": [
    {
     "name": "stdout",
     "output_type": "stream",
     "text": [
      "1\n",
      "a\n",
      "abc\n"
     ]
    }
   ],
   "source": [
    "for i in [1, 'a', 'abc']:\n",
    "    print(i)"
   ]
  },
  {
   "cell_type": "code",
   "execution_count": 150,
   "id": "4a4e3421-5706-4b70-b0f6-20b0cd732519",
   "metadata": {},
   "outputs": [
    {
     "data": {
      "text/plain": [
       "{'a': '1', 'b': '2', 'c': '3'}"
      ]
     },
     "execution_count": 150,
     "metadata": {},
     "output_type": "execute_result"
    }
   ],
   "source": [
    "x = dict(zip('abc', ['1', '2', '3']))\n",
    "x"
   ]
  },
  {
   "cell_type": "code",
   "execution_count": 151,
   "id": "970b2a29-7e82-4479-8d88-7522f82fb1d1",
   "metadata": {},
   "outputs": [
    {
     "name": "stdout",
     "output_type": "stream",
     "text": [
      "a\n",
      "b\n",
      "c\n"
     ]
    }
   ],
   "source": [
    "for i in x:\n",
    "    print(i)"
   ]
  },
  {
   "cell_type": "code",
   "execution_count": 152,
   "id": "a2fa090e-f044-4ab9-8eed-e8ad4415010c",
   "metadata": {},
   "outputs": [
    {
     "data": {
      "text/plain": [
       "dict_keys(['a', 'b', 'c'])"
      ]
     },
     "execution_count": 152,
     "metadata": {},
     "output_type": "execute_result"
    }
   ],
   "source": [
    "x.keys()"
   ]
  },
  {
   "cell_type": "code",
   "execution_count": 153,
   "id": "aa1edd35-3c52-4e5b-bc6f-a7a2d1af6587",
   "metadata": {},
   "outputs": [
    {
     "data": {
      "text/plain": [
       "dict_items([('a', '1'), ('b', '2'), ('c', '3')])"
      ]
     },
     "execution_count": 153,
     "metadata": {},
     "output_type": "execute_result"
    }
   ],
   "source": [
    "x.items()"
   ]
  },
  {
   "cell_type": "code",
   "execution_count": 149,
   "id": "f3e0b6e2-4ee4-4a37-a8ed-602299ffa729",
   "metadata": {},
   "outputs": [
    {
     "name": "stdout",
     "output_type": "stream",
     "text": [
      "i = 0\n",
      "i = 1\n",
      "i = 2\n",
      "i = 3\n",
      "i = 4\n",
      "i = 5\n",
      "i = 6\n",
      "i = 7\n",
      "i = 8\n",
      "i = 9\n"
     ]
    },
    {
     "data": {
      "text/plain": [
       "[0, 4, 16, 36, 64]"
      ]
     },
     "execution_count": 149,
     "metadata": {},
     "output_type": "execute_result"
    }
   ],
   "source": [
    "x = []\n",
    "for i in range(10):\n",
    "    print(f'i = {i}')\n",
    "    if i % 2 == 1:\n",
    "        continue   # 如果是奇数，当前循环结束，继续下一个循环\n",
    "    x.append(i**2)\n",
    "\n",
    "x"
   ]
  },
  {
   "cell_type": "code",
   "execution_count": 154,
   "id": "ed8a9a1a-c80f-469c-ae29-9859f8d4c99d",
   "metadata": {},
   "outputs": [
    {
     "name": "stdout",
     "output_type": "stream",
     "text": [
      "a => 1\n",
      "2 => b\n"
     ]
    }
   ],
   "source": [
    "d = {'a': 1, 2: 'b'}\n",
    "for key, value in d.items():\n",
    "    print(f'{key} => {value}')"
   ]
  },
  {
   "cell_type": "markdown",
   "id": "2fe7a438-185f-4679-9c39-44a763772f3e",
   "metadata": {},
   "source": [
    "##### for-loop相关的辅助函数\n",
    "\n",
    "```\n",
    "range(from, to, step_size=1)\n",
    "\n",
    "zip(iterable, iterable, ...)\n",
    "\n",
    "enumerate(iterable)\n",
    "```"
   ]
  },
  {
   "cell_type": "code",
   "execution_count": 159,
   "id": "b7cb51b9-baee-41fa-b714-f08b91c2da6d",
   "metadata": {},
   "outputs": [
    {
     "data": {
      "text/plain": [
       "range(0, 10)"
      ]
     },
     "execution_count": 159,
     "metadata": {},
     "output_type": "execute_result"
    }
   ],
   "source": [
    "range(10)"
   ]
  },
  {
   "cell_type": "code",
   "execution_count": 160,
   "id": "b1322086-ba50-4a42-8d40-0669af1c17fd",
   "metadata": {},
   "outputs": [
    {
     "data": {
      "text/plain": [
       "[0, 1, 2, 3, 4, 5, 6, 7, 8, 9]"
      ]
     },
     "execution_count": 160,
     "metadata": {},
     "output_type": "execute_result"
    }
   ],
   "source": [
    "list(range(10))"
   ]
  },
  {
   "cell_type": "code",
   "execution_count": 161,
   "id": "00844a78-f07e-4754-b4ba-96534785f1d9",
   "metadata": {},
   "outputs": [
    {
     "data": {
      "text/plain": [
       "[1, 2, 3, 4, 5, 6, 7, 8, 9]"
      ]
     },
     "execution_count": 161,
     "metadata": {},
     "output_type": "execute_result"
    }
   ],
   "source": [
    "list(range(1, 10))"
   ]
  },
  {
   "cell_type": "code",
   "execution_count": 162,
   "id": "7be753a9-153f-4951-8a02-74d56bebe40a",
   "metadata": {},
   "outputs": [
    {
     "data": {
      "text/plain": [
       "[1, 3, 5, 7, 9]"
      ]
     },
     "execution_count": 162,
     "metadata": {},
     "output_type": "execute_result"
    }
   ],
   "source": [
    "list(range(1, 10, 2))"
   ]
  },
  {
   "cell_type": "code",
   "execution_count": 163,
   "id": "60105b8b-7dc6-42e5-a8b4-57f64112e1a0",
   "metadata": {},
   "outputs": [
    {
     "data": {
      "text/plain": [
       "<zip at 0x10874e0c0>"
      ]
     },
     "execution_count": 163,
     "metadata": {},
     "output_type": "execute_result"
    }
   ],
   "source": [
    "x = range(5)\n",
    "y = 'abcde'\n",
    "zip(x, y)"
   ]
  },
  {
   "cell_type": "code",
   "execution_count": 164,
   "id": "55fe91bf-b885-4b82-aa36-150a8d762365",
   "metadata": {},
   "outputs": [
    {
     "data": {
      "text/plain": [
       "[(0, 'a'), (1, 'b'), (2, 'c'), (3, 'd'), (4, 'e')]"
      ]
     },
     "execution_count": 164,
     "metadata": {},
     "output_type": "execute_result"
    }
   ],
   "source": [
    "list(zip(x, y))"
   ]
  },
  {
   "cell_type": "code",
   "execution_count": 165,
   "id": "545426ac-81fe-4c3e-b44f-ce77afb1eef3",
   "metadata": {},
   "outputs": [
    {
     "data": {
      "text/plain": [
       "[(0, 'a'), (1, 'b'), (2, 'c')]"
      ]
     },
     "execution_count": 165,
     "metadata": {},
     "output_type": "execute_result"
    }
   ],
   "source": [
    "# length is determined by the shortest iterable\n",
    "list(zip(range(3), 'abcde'))"
   ]
  },
  {
   "cell_type": "code",
   "execution_count": 166,
   "id": "91086e79-2a0f-43dc-ab98-07a3c06d27e5",
   "metadata": {},
   "outputs": [
    {
     "name": "stdout",
     "output_type": "stream",
     "text": [
      "(0, 'a', 'A')\n",
      "(1, 'b', 'B')\n",
      "(2, 'c', 'C')\n",
      "(3, 'd', 'D')\n",
      "(4, 'e', 'E')\n"
     ]
    }
   ],
   "source": [
    "z = list('ABCDE')\n",
    "\n",
    "for i in zip(x, y, z):\n",
    "    print(i)"
   ]
  },
  {
   "cell_type": "code",
   "execution_count": 167,
   "id": "76ed6944-7df6-43a7-8c80-b3c142546e5e",
   "metadata": {},
   "outputs": [
    {
     "name": "stdout",
     "output_type": "stream",
     "text": [
      "0 ['a', 'A']\n",
      "1 ['b', 'B']\n",
      "2 ['c', 'C']\n",
      "3 ['d', 'D']\n",
      "4 ['e', 'E']\n"
     ]
    }
   ],
   "source": [
    "for a, *b in zip(x, y, z):\n",
    "    print(a, b)"
   ]
  },
  {
   "cell_type": "code",
   "execution_count": 168,
   "id": "6c30751f-8086-4a54-a687-b2e9975da8f0",
   "metadata": {},
   "outputs": [
    {
     "name": "stdout",
     "output_type": "stream",
     "text": [
      "character at index 0 is a\n",
      "character at index 1 is b\n",
      "character at index 2 is c\n",
      "character at index 3 is d\n",
      "character at index 4 is e\n"
     ]
    }
   ],
   "source": [
    "index = 0\n",
    "for char in 'abcde':\n",
    "    print(f'character at index {index} is {char}')\n",
    "    index += 1"
   ]
  },
  {
   "cell_type": "code",
   "execution_count": 169,
   "id": "5ff07a16-e8f8-404f-84f6-45c3b73e27f4",
   "metadata": {},
   "outputs": [
    {
     "name": "stdout",
     "output_type": "stream",
     "text": [
      "(0, 'a')\n",
      "(1, 'b')\n",
      "(2, 'c')\n",
      "(3, 'd')\n",
      "(4, 'e')\n"
     ]
    }
   ],
   "source": [
    "for i in enumerate('abcde'):\n",
    "    print(i)"
   ]
  },
  {
   "cell_type": "code",
   "execution_count": 170,
   "id": "0cdcfd1f-62a6-461b-aa17-483b23bd4eda",
   "metadata": {},
   "outputs": [
    {
     "name": "stdout",
     "output_type": "stream",
     "text": [
      "character at index 0 is a\n",
      "character at index 1 is b\n",
      "character at index 2 is c\n",
      "character at index 3 is d\n",
      "character at index 4 is e\n"
     ]
    }
   ],
   "source": [
    "for index, char in enumerate('abcde'):\n",
    "    print(f'character at index {index} is {char}')"
   ]
  },
  {
   "cell_type": "markdown",
   "id": "bda6a3ee-440a-4b84-b4ce-be3bb2c713ba",
   "metadata": {},
   "source": [
    "#### try-except\n",
    "捕获可能出现的代码错误，并采取必要的措施，防止程序中断；"
   ]
  },
  {
   "cell_type": "code",
   "execution_count": 171,
   "id": "fd6ed70e-c4e2-4d07-a96b-2ebfe4ad066f",
   "metadata": {},
   "outputs": [
    {
     "ename": "ZeroDivisionError",
     "evalue": "division by zero",
     "output_type": "error",
     "traceback": [
      "\u001b[31m---------------------------------------------------------------------------\u001b[39m",
      "\u001b[31mZeroDivisionError\u001b[39m                         Traceback (most recent call last)",
      "\u001b[36mCell\u001b[39m\u001b[36m \u001b[39m\u001b[32mIn[171]\u001b[39m\u001b[32m, line 1\u001b[39m\n\u001b[32m----> \u001b[39m\u001b[32m1\u001b[39m \u001b[38;5;28mprint\u001b[39m(\u001b[32;43m1\u001b[39;49m\u001b[43m/\u001b[49m\u001b[32;43m0\u001b[39;49m)\n",
      "\u001b[31mZeroDivisionError\u001b[39m: division by zero"
     ]
    }
   ],
   "source": [
    "print(1/0)"
   ]
  },
  {
   "cell_type": "code",
   "execution_count": 172,
   "id": "b330d6ca-741b-4af1-8f6b-c7eb30f22c7f",
   "metadata": {},
   "outputs": [
    {
     "name": "stdout",
     "output_type": "stream",
     "text": [
      "Division error\n"
     ]
    }
   ],
   "source": [
    "try:\n",
    "    print(1/0)\n",
    "except:\n",
    "    print('Division error')"
   ]
  },
  {
   "cell_type": "code",
   "execution_count": 176,
   "id": "813119f7-eba9-4ade-9ef0-b9871d178633",
   "metadata": {},
   "outputs": [
    {
     "name": "stdout",
     "output_type": "stream",
     "text": [
      "division by zero\n"
     ]
    }
   ],
   "source": [
    "x = 1\n",
    "y = 0\n",
    "try:\n",
    "    z = x/y\n",
    "except ZeroDivisionError:\n",
    "    print('division by zero')\n",
    "    z = 100"
   ]
  },
  {
   "cell_type": "code",
   "execution_count": 177,
   "id": "2885e3d2-f6ea-4378-a326-960615db845d",
   "metadata": {},
   "outputs": [
    {
     "name": "stdout",
     "output_type": "stream",
     "text": [
      "100\n"
     ]
    }
   ],
   "source": [
    "print(z)"
   ]
  },
  {
   "cell_type": "code",
   "execution_count": 178,
   "id": "d4845818-1845-4e1a-9b8b-d4b4fefca747",
   "metadata": {},
   "outputs": [
    {
     "name": "stdout",
     "output_type": "stream",
     "text": [
      "\"A\" is not a valid key in d\n"
     ]
    }
   ],
   "source": [
    "d = dict()\n",
    "try:\n",
    "    x = d['A']\n",
    "except KeyError:\n",
    "    print('\"A\" is not a valid key in d')"
   ]
  },
  {
   "cell_type": "markdown",
   "id": "bce538b0-deb3-4c87-80f0-291539faf33f",
   "metadata": {},
   "source": [
    "## 可迭代对象（iterable）\n",
    "\n",
    "- 可迭代对象（iterable）: 有`__iter__`方法的对象，可以遍历生成序列；\n",
    "- 迭代器（iterator）: 有`__next__`方法的对象，每次运行都会给出对象下一次迭代的值；\n"
   ]
  },
  {
   "cell_type": "code",
   "execution_count": 179,
   "id": "629cce1b-091d-407b-a9cc-70e6668c02c6",
   "metadata": {},
   "outputs": [
    {
     "data": {
      "text/plain": [
       "'__class__, __class_getitem__, __delattr__, __dir__, __doc__, __eq__, __format__, __ge__, __getattribute__, __getstate__, __gt__, __hash__, __init__, __init_subclass__, __iter__, __le__, __lt__, __ne__, __new__, __next__, __reduce__, __reduce_ex__, __repr__, __setattr__, __sizeof__, __str__, __subclasshook__'"
      ]
     },
     "execution_count": 179,
     "metadata": {},
     "output_type": "execute_result"
    }
   ],
   "source": [
    "x = enumerate(range(1, 5))\n",
    "', '.join(dir(x))"
   ]
  },
  {
   "cell_type": "code",
   "execution_count": 180,
   "id": "4831b27e-e769-4f40-8502-402c2c164fbb",
   "metadata": {},
   "outputs": [
    {
     "data": {
      "text/plain": [
       "[(0, 1), (1, 2), (2, 3), (3, 4)]"
      ]
     },
     "execution_count": 180,
     "metadata": {},
     "output_type": "execute_result"
    }
   ],
   "source": [
    "list(x)"
   ]
  },
  {
   "cell_type": "code",
   "execution_count": 181,
   "id": "31bcfb2d-ca23-4344-b575-f554d5fc4546",
   "metadata": {},
   "outputs": [
    {
     "data": {
      "text/plain": [
       "False"
      ]
     },
     "execution_count": 181,
     "metadata": {},
     "output_type": "execute_result"
    }
   ],
   "source": [
    "x = enumerate(range(1, 5))\n",
    "a = list(x)\n",
    "b = list(x)\n",
    "a == b"
   ]
  },
  {
   "cell_type": "code",
   "execution_count": 182,
   "id": "02425ed7-487a-4089-aa23-d3d71101fab4",
   "metadata": {},
   "outputs": [
    {
     "data": {
      "text/plain": [
       "[(0, 1), (1, 2), (2, 3), (3, 4)]"
      ]
     },
     "execution_count": 182,
     "metadata": {},
     "output_type": "execute_result"
    }
   ],
   "source": [
    "a"
   ]
  },
  {
   "cell_type": "code",
   "execution_count": 183,
   "id": "5b786cb8-9a9d-4167-bdf5-a8bb13d89a70",
   "metadata": {},
   "outputs": [
    {
     "data": {
      "text/plain": [
       "[]"
      ]
     },
     "execution_count": 183,
     "metadata": {},
     "output_type": "execute_result"
    }
   ],
   "source": [
    "b"
   ]
  },
  {
   "cell_type": "code",
   "execution_count": 184,
   "id": "996975e6-74d5-4773-a34f-a455f93a7cd4",
   "metadata": {},
   "outputs": [
    {
     "ename": "StopIteration",
     "evalue": "",
     "output_type": "error",
     "traceback": [
      "\u001b[31m---------------------------------------------------------------------------\u001b[39m",
      "\u001b[31mStopIteration\u001b[39m                             Traceback (most recent call last)",
      "\u001b[36mCell\u001b[39m\u001b[36m \u001b[39m\u001b[32mIn[184]\u001b[39m\u001b[32m, line 1\u001b[39m\n\u001b[32m----> \u001b[39m\u001b[32m1\u001b[39m \u001b[38;5;28;43mnext\u001b[39;49m\u001b[43m(\u001b[49m\u001b[43mx\u001b[49m\u001b[43m)\u001b[49m\n",
      "\u001b[31mStopIteration\u001b[39m: "
     ]
    }
   ],
   "source": [
    "next(x)"
   ]
  },
  {
   "cell_type": "code",
   "execution_count": 185,
   "id": "59e8528d-b4be-4fa8-b38c-da38b88e03f8",
   "metadata": {},
   "outputs": [],
   "source": [
    "x = enumerate(range(1, 5))"
   ]
  },
  {
   "cell_type": "code",
   "execution_count": 186,
   "id": "cbcce09f-0c7c-47be-afe5-5bc48bcb9900",
   "metadata": {},
   "outputs": [
    {
     "data": {
      "text/plain": [
       "(0, 1)"
      ]
     },
     "execution_count": 186,
     "metadata": {},
     "output_type": "execute_result"
    }
   ],
   "source": [
    "next(x)"
   ]
  },
  {
   "cell_type": "code",
   "execution_count": 187,
   "id": "365abdab-3e75-40f3-b6af-011c44017919",
   "metadata": {},
   "outputs": [
    {
     "data": {
      "text/plain": [
       "(1, 2)"
      ]
     },
     "execution_count": 187,
     "metadata": {},
     "output_type": "execute_result"
    }
   ],
   "source": [
    "next(x)"
   ]
  },
  {
   "cell_type": "code",
   "execution_count": 188,
   "id": "3f7732d9-500b-4d39-b077-d9c5ca764c01",
   "metadata": {},
   "outputs": [
    {
     "data": {
      "text/plain": [
       "[(2, 3), (3, 4)]"
      ]
     },
     "execution_count": 188,
     "metadata": {},
     "output_type": "execute_result"
    }
   ],
   "source": [
    "list(x)  # 迭代器中已经遍历过的值没了！"
   ]
  },
  {
   "cell_type": "code",
   "execution_count": null,
   "id": "6c05f73a-4f8a-47d0-b13d-80c283741cf5",
   "metadata": {},
   "outputs": [],
   "source": [
    "list(x)  # # 迭代器会耗竭"
   ]
  },
  {
   "cell_type": "code",
   "execution_count": 189,
   "id": "c7192caf-2931-4deb-8561-28dc749d631f",
   "metadata": {},
   "outputs": [
    {
     "data": {
      "text/plain": [
       "[]"
      ]
     },
     "execution_count": 189,
     "metadata": {},
     "output_type": "execute_result"
    }
   ],
   "source": [
    "list(x)"
   ]
  },
  {
   "cell_type": "code",
   "execution_count": 190,
   "id": "e2640d99-dee4-4d7b-b8e7-97eea1bd14d5",
   "metadata": {},
   "outputs": [],
   "source": [
    "x = 'abcde'\n",
    "y = iter(x)  # 把iterable转为iterator"
   ]
  },
  {
   "cell_type": "code",
   "execution_count": 191,
   "id": "1bfe9c19-43f7-41eb-bdcf-a64211562235",
   "metadata": {},
   "outputs": [
    {
     "ename": "TypeError",
     "evalue": "'str' object is not an iterator",
     "output_type": "error",
     "traceback": [
      "\u001b[31m---------------------------------------------------------------------------\u001b[39m",
      "\u001b[31mTypeError\u001b[39m                                 Traceback (most recent call last)",
      "\u001b[36mCell\u001b[39m\u001b[36m \u001b[39m\u001b[32mIn[191]\u001b[39m\u001b[32m, line 1\u001b[39m\n\u001b[32m----> \u001b[39m\u001b[32m1\u001b[39m \u001b[38;5;28;43mnext\u001b[39;49m\u001b[43m(\u001b[49m\u001b[43mx\u001b[49m\u001b[43m)\u001b[49m\n",
      "\u001b[31mTypeError\u001b[39m: 'str' object is not an iterator"
     ]
    }
   ],
   "source": [
    "next(x)"
   ]
  },
  {
   "cell_type": "code",
   "execution_count": 192,
   "id": "0570753b-8b80-4fa5-9ba6-a2519f0781c8",
   "metadata": {},
   "outputs": [
    {
     "data": {
      "text/plain": [
       "'a'"
      ]
     },
     "execution_count": 192,
     "metadata": {},
     "output_type": "execute_result"
    }
   ],
   "source": [
    "next(y)"
   ]
  },
  {
   "cell_type": "code",
   "execution_count": 193,
   "id": "309c7791-a788-41fb-af0d-ebba015cb8dc",
   "metadata": {},
   "outputs": [
    {
     "data": {
      "text/plain": [
       "'b'"
      ]
     },
     "execution_count": 193,
     "metadata": {},
     "output_type": "execute_result"
    }
   ],
   "source": [
    "next(y)"
   ]
  },
  {
   "cell_type": "code",
   "execution_count": 194,
   "id": "85b8aa77-d186-4784-98a3-8937c5e21931",
   "metadata": {},
   "outputs": [
    {
     "data": {
      "text/plain": [
       "(['a', 'b', 'c', 'd', 'e'], ['c', 'd', 'e'])"
      ]
     },
     "execution_count": 194,
     "metadata": {},
     "output_type": "execute_result"
    }
   ],
   "source": [
    "list(x), list(y)"
   ]
  },
  {
   "cell_type": "code",
   "execution_count": 195,
   "id": "33c8c7d6-a93a-4095-a076-06699f3e1312",
   "metadata": {},
   "outputs": [
    {
     "data": {
      "text/plain": [
       "['aaa', 'bbb', 'ccc', 'ddd', 'eee', 'fff']"
      ]
     },
     "execution_count": 195,
     "metadata": {},
     "output_type": "execute_result"
    }
   ],
   "source": [
    "x = 'aaabbbcccdddeeefff'\n",
    "list(map(''.join, zip(*[iter(x)]*3)))\n",
    "# 练习题：分解代码，逐步执行，看看怎样一步步得到这个结果的"
   ]
  },
  {
   "cell_type": "markdown",
   "id": "5f0bacea-d147-4b3b-9796-141b56f8a1b9",
   "metadata": {},
   "source": [
    "##### 函数迭代(functional itrable)"
   ]
  },
  {
   "cell_type": "code",
   "execution_count": 196,
   "id": "d6d3eef4-7691-45ed-8427-9aef78aeb350",
   "metadata": {},
   "outputs": [],
   "source": [
    "x = map(int, '12345')"
   ]
  },
  {
   "cell_type": "code",
   "execution_count": 197,
   "id": "d0b56f33-a8f5-458e-99f7-ca8dc4e6795d",
   "metadata": {},
   "outputs": [
    {
     "data": {
      "text/plain": [
       "<map at 0x10827e890>"
      ]
     },
     "execution_count": 197,
     "metadata": {},
     "output_type": "execute_result"
    }
   ],
   "source": [
    "x"
   ]
  },
  {
   "cell_type": "code",
   "execution_count": 198,
   "id": "080b2691-8ac6-45a8-ba62-b492507044d1",
   "metadata": {},
   "outputs": [
    {
     "data": {
      "text/plain": [
       "'__class__, __delattr__, __dir__, __doc__, __eq__, __format__, __ge__, __getattribute__, __getstate__, __gt__, __hash__, __init__, __init_subclass__, __iter__, __le__, __lt__, __ne__, __new__, __next__, __reduce__, __reduce_ex__, __repr__, __setattr__, __sizeof__, __str__, __subclasshook__'"
      ]
     },
     "execution_count": 198,
     "metadata": {},
     "output_type": "execute_result"
    }
   ],
   "source": [
    "', '.join(dir(x))"
   ]
  },
  {
   "cell_type": "code",
   "execution_count": 200,
   "id": "4bfce9c9-b23f-467f-9dc5-4c902dcc0e60",
   "metadata": {},
   "outputs": [
    {
     "name": "stdout",
     "output_type": "stream",
     "text": [
      "2\n"
     ]
    }
   ],
   "source": [
    "print(next(x))"
   ]
  },
  {
   "cell_type": "code",
   "execution_count": 201,
   "id": "7617d3b2-9e8f-4360-9d7d-95045941d39e",
   "metadata": {},
   "outputs": [
    {
     "data": {
      "text/plain": [
       "[3, 4, 5]"
      ]
     },
     "execution_count": 201,
     "metadata": {},
     "output_type": "execute_result"
    }
   ],
   "source": [
    "list(x)"
   ]
  },
  {
   "cell_type": "markdown",
   "id": "70fa7139-da4c-4c3d-83de-b6b252df2c66",
   "metadata": {},
   "source": [
    "## Python 列表推导式（List Comprehensions）"
   ]
  },
  {
   "cell_type": "code",
   "execution_count": null,
   "id": "80aaf18f-d24e-4be9-a697-4d25be01eaac",
   "metadata": {},
   "outputs": [],
   "source": [
    "y = []\n",
    "for i in range(10):\n",
    "    y.append(i**2)\n",
    "y"
   ]
  },
  {
   "cell_type": "code",
   "execution_count": null,
   "id": "5e38c560-ec74-4c24-9689-b94037a01944",
   "metadata": {},
   "outputs": [],
   "source": [
    "[i**2 for i in range(10)]"
   ]
  },
  {
   "cell_type": "code",
   "execution_count": null,
   "id": "74ccc22d-9990-4447-82a3-d36ec15cfe48",
   "metadata": {},
   "outputs": [],
   "source": [
    "%%timeit -n 10 -r 5\n",
    "# -n: 每轮重复执行多少次代码；\n",
    "# -r: 一共执行几轮；\n",
    "y = []\n",
    "for i in range(100_0000):\n",
    "    y.append(i**2)"
   ]
  },
  {
   "cell_type": "code",
   "execution_count": null,
   "id": "5ef3aa02-ac9f-46f1-9d5e-4ebbfb7cb632",
   "metadata": {},
   "outputs": [],
   "source": [
    "%timeit -n 10 -r 5 [i**2 for i in range(100_0000)]"
   ]
  },
  {
   "cell_type": "code",
   "execution_count": null,
   "id": "8313a05a-3d60-442b-a12d-e23f87e820bf",
   "metadata": {},
   "outputs": [],
   "source": [
    "y = []\n",
    "for i in range(10):\n",
    "    if i % 2 == 0:\n",
    "        y.append(i**2)\n",
    "y"
   ]
  },
  {
   "cell_type": "code",
   "execution_count": null,
   "id": "40cc883b-411f-4eb9-8a1b-db8381998d1e",
   "metadata": {},
   "outputs": [],
   "source": [
    "# with if\n",
    "[i**2 for i in range(10) if i % 2 == 0]"
   ]
  },
  {
   "cell_type": "code",
   "execution_count": null,
   "id": "9e77cebf-aef7-472d-9c1a-789dd5127b27",
   "metadata": {},
   "outputs": [],
   "source": [
    "# nested for loop\n",
    "x = [i + j + k for i in 'ACGT' for j in 'ACGT' for k in 'ACGT']\n",
    "print(x)"
   ]
  },
  {
   "cell_type": "code",
   "execution_count": null,
   "id": "c281f0b1-597a-43a9-8881-7542f5530435",
   "metadata": {},
   "outputs": [],
   "source": [
    "print([i for i in x if not i in ['TAA', 'TAG', 'TGA']])"
   ]
  },
  {
   "cell_type": "code",
   "execution_count": null,
   "id": "855ac1f4-a805-43ea-9910-ff5f911210be",
   "metadata": {},
   "outputs": [],
   "source": [
    "# 结果可以是其他类型，不限于list\n",
    "{i**2 for i in range(10)}"
   ]
  },
  {
   "cell_type": "code",
   "execution_count": null,
   "id": "5f76c86f-b765-45c3-8f43-e5089761dc51",
   "metadata": {},
   "outputs": [],
   "source": [
    "{i:i**2 for i in range(10)}"
   ]
  },
  {
   "cell_type": "code",
   "execution_count": null,
   "id": "ba16fc5d-fbd6-40ad-8b44-6297fd83b380",
   "metadata": {},
   "outputs": [],
   "source": [
    "(i**2 for i in range(10))  # generator, not tuple"
   ]
  },
  {
   "cell_type": "markdown",
   "id": "c88b4a02-6e51-4ff2-982e-c30aa5824d6f",
   "metadata": {},
   "source": [
    "### Generator (生成器）与 Iterator（迭代器）的区别\n",
    "生成器（Generator）是一种特殊的迭代器，它允许你根据需要一个一个生成值（惰性计算），而不是一次性生成所有数据。这种特性使其特别适合处理大规模数据流或无限序列，能显著节省内存。"
   ]
  },
  {
   "cell_type": "code",
   "execution_count": null,
   "id": "2e24c8fd-4ab3-47eb-878c-21540eaf3935",
   "metadata": {},
   "outputs": [],
   "source": [
    "import sys\n",
    "\n",
    "lst = [x for x in range(100000)]\n",
    "print(sys.getsizeof(lst))\n",
    "\n",
    "# 生成器表达式 （generator expression)\n",
    "gen = (x for x in range(100000))\n",
    "print(sys.getsizeof(gen))"
   ]
  },
  {
   "cell_type": "markdown",
   "id": "f7b3a029-a1a3-486d-a0a4-f66a8b50668c",
   "metadata": {},
   "source": [
    "🙋**练习**\n",
    "\n",
    "下面两段代码的输出一样吗？为什么？\n",
    "\n",
    "代码1：\n",
    "```python\n",
    "x = [[0] * 2 for i in range(2)]\n",
    "x[0][0] = 1\n",
    "print(x)\n",
    "```\n",
    "\n",
    "代码2：\n",
    "```python\n",
    "x = [[0] * 2] * 2\n",
    "x[0][0] = 1\n",
    "print(x)\n",
    "```"
   ]
  },
  {
   "cell_type": "markdown",
   "id": "0f0452a1-e15c-489a-b04c-3c15c5ba29ac",
   "metadata": {},
   "source": [
    "## 扩展 （自学内容）\n",
    "\n",
    "### 基础对象的拓展\n",
    "\n",
    "- https://docs.python.org/3/library/collections.html\n",
    "\n",
    "\n",
    "###  为高效循环创建迭代器的函数\n",
    "\n",
    "- https://docs.python.org/3/library/itertools.html (english)\n",
    "- https://docs.python.org/zh-cn/3.12/library/itertools.html (中文）"
   ]
  },
  {
   "cell_type": "markdown",
   "id": "ce730558-90c5-4f45-8e9e-4a453812b3f1",
   "metadata": {},
   "source": [
    "## File"
   ]
  },
  {
   "cell_type": "code",
   "execution_count": null,
   "id": "4329a50e-c252-46d7-b13f-fb6a5dcdf7f5",
   "metadata": {},
   "outputs": [],
   "source": [
    "# 创建一个名为tmp的临时文件夹，可以单击右侧的新增文件夹按钮手动创建\n",
    "! mkdir -p tmp"
   ]
  },
  {
   "cell_type": "code",
   "execution_count": null,
   "id": "1d94c2b5-7750-4d21-8956-7454374d9c59",
   "metadata": {},
   "outputs": [],
   "source": [
    "f = open('tmp/test.txt', 'w')"
   ]
  },
  {
   "cell_type": "code",
   "execution_count": null,
   "id": "50f0c67f-8461-4723-bb04-9d898894f323",
   "metadata": {},
   "outputs": [],
   "source": [
    "f"
   ]
  },
  {
   "cell_type": "code",
   "execution_count": null,
   "id": "7f2b70de-5ace-42fa-9d9a-a78ecdf7e9ca",
   "metadata": {},
   "outputs": [],
   "source": [
    "', '.join(dir(f))"
   ]
  },
  {
   "cell_type": "code",
   "execution_count": null,
   "id": "77f6ba42-6460-4803-a5b3-28bb23978416",
   "metadata": {},
   "outputs": [],
   "source": [
    "f.write('abc')"
   ]
  },
  {
   "cell_type": "markdown",
   "id": "2329dde6-65c3-49be-9c9e-01c75a47ff4b",
   "metadata": {},
   "source": [
    "虽然我们命令python在文件中写入\"abc\",但是实际文件仍然是空的，因为python为了提高效率，将输出暂时缓存，超过一定大小时才会真正写入。"
   ]
  },
  {
   "cell_type": "code",
   "execution_count": null,
   "id": "980b08e8-0cb6-43f0-ae45-1eaf713c96a0",
   "metadata": {},
   "outputs": [],
   "source": [
    "# like将缓存的内容（buffer）写入到文件\n",
    "f.flush()"
   ]
  },
  {
   "cell_type": "code",
   "execution_count": null,
   "id": "fef0ccee-578e-4452-abe0-ba9d3bac7d2f",
   "metadata": {},
   "outputs": [],
   "source": [
    "f.writelines(['1\\n', '2\\n', '3\\n'])"
   ]
  },
  {
   "cell_type": "code",
   "execution_count": null,
   "id": "4bed86cd-0100-4ccd-aeed-dbf84a18d9df",
   "metadata": {},
   "outputs": [],
   "source": [
    "f.flush()"
   ]
  },
  {
   "cell_type": "code",
   "execution_count": null,
   "id": "ee650b08-f61f-4f99-a443-718062d9ab13",
   "metadata": {},
   "outputs": [],
   "source": [
    "# 关闭文件对象\n",
    "f.close()"
   ]
  },
  {
   "cell_type": "code",
   "execution_count": null,
   "id": "d43aa2f9-e951-4865-8741-176de6eff4dc",
   "metadata": {},
   "outputs": [],
   "source": [
    "f.write('a new line')"
   ]
  },
  {
   "cell_type": "code",
   "execution_count": null,
   "id": "d19d2fa4-e2c1-4ed5-b3b2-af4fa298ba46",
   "metadata": {},
   "outputs": [],
   "source": [
    "f2 = open('tmp/test.txt', 'r')"
   ]
  },
  {
   "cell_type": "code",
   "execution_count": null,
   "id": "6874bb45-db6c-464b-8fe4-9ceddd4e218c",
   "metadata": {},
   "outputs": [],
   "source": [
    "f2"
   ]
  },
  {
   "cell_type": "markdown",
   "id": "fab448ed-e9d2-4090-aa0c-d0e4c404b1f5",
   "metadata": {},
   "source": [
    "open函数的第二个参数是处理文件的模式\n",
    "- `r`: read，读取；\n",
    "- `w`: write，写入；\n",
    "- `rb` / `wb`: 以二进制字节（byte）而非字符形式读/写；\n",
    "- `r+`: 即可读也可写；"
   ]
  },
  {
   "cell_type": "code",
   "execution_count": null,
   "id": "9331ed5e-c2f9-4c82-87af-ba86751b360b",
   "metadata": {},
   "outputs": [],
   "source": [
    "f2.read()"
   ]
  },
  {
   "cell_type": "code",
   "execution_count": null,
   "id": "bec6e3dc-d0f0-4663-ae8b-040752180b93",
   "metadata": {},
   "outputs": [],
   "source": [
    "f2.close()"
   ]
  },
  {
   "cell_type": "code",
   "execution_count": null,
   "id": "14717ad7-024f-46a1-b58a-d4840b3f63ae",
   "metadata": {},
   "outputs": [],
   "source": [
    "f2 = open('tmp/test.txt', 'r')\n",
    "f2.readline()"
   ]
  },
  {
   "cell_type": "code",
   "execution_count": null,
   "id": "3df00fa1-2d15-4b9f-bdde-2bb307e1c0ba",
   "metadata": {},
   "outputs": [],
   "source": [
    "next(f2)"
   ]
  },
  {
   "cell_type": "code",
   "execution_count": null,
   "id": "4ec2e45a-6f14-4516-8ce2-bdae61cc1d6b",
   "metadata": {},
   "outputs": [],
   "source": [
    "next(f2)"
   ]
  },
  {
   "cell_type": "code",
   "execution_count": null,
   "id": "2bd88d8c-5384-4a2a-a674-f050c233d5d0",
   "metadata": {},
   "outputs": [],
   "source": [
    "next(f2)"
   ]
  },
  {
   "cell_type": "code",
   "execution_count": null,
   "id": "1c76f7b0-357a-4830-9162-9bdfacb16c23",
   "metadata": {},
   "outputs": [],
   "source": [
    "f2.closed"
   ]
  },
  {
   "cell_type": "code",
   "execution_count": null,
   "id": "5a1c684e-209c-461b-868d-ec56647017f8",
   "metadata": {},
   "outputs": [],
   "source": [
    "f2.close()"
   ]
  },
  {
   "cell_type": "code",
   "execution_count": null,
   "id": "c3ce12d6-3b01-458d-be09-c540b7604c0f",
   "metadata": {},
   "outputs": [],
   "source": [
    "f3 = open('tmp/test.txt', 'r')\n",
    "for line in f3:\n",
    "    print(line)"
   ]
  },
  {
   "cell_type": "code",
   "execution_count": null,
   "id": "e2b38f4a-a8f1-4c93-9e12-4c4cb3cb2631",
   "metadata": {},
   "outputs": [],
   "source": [
    "f3.closed"
   ]
  },
  {
   "cell_type": "code",
   "execution_count": null,
   "id": "a404e575-d1c9-47d8-b3d5-471c2dc3e473",
   "metadata": {},
   "outputs": [],
   "source": [
    "f3.close()"
   ]
  },
  {
   "cell_type": "markdown",
   "id": "17c4bef3-c37e-4dda-95f8-61afcf93c98f",
   "metadata": {},
   "source": [
    "文件对象不关闭会占用系统资源，但是老是忘记关闭怎么办？\n",
    "\n",
    "> 使用context manager ！\n",
    "\n",
    "Context Manager（上下文管理器）是 Python 中一种自动管理资源的机制，用于确保资源（如文件、网络连接、数据库连接、锁等）在使用后正确释放，避免泄漏或错误。"
   ]
  },
  {
   "cell_type": "code",
   "execution_count": null,
   "id": "122992de-347a-4f04-8396-dd4fcb4d0e63",
   "metadata": {},
   "outputs": [],
   "source": [
    "with open('tmp/test.txt', 'r') as f3:\n",
    "    for line in f3:\n",
    "        print(line, end='')"
   ]
  },
  {
   "cell_type": "code",
   "execution_count": null,
   "id": "fb84301b-a81d-482c-9f47-87dc3fea7862",
   "metadata": {},
   "outputs": [],
   "source": [
    "f3.closed"
   ]
  },
  {
   "cell_type": "markdown",
   "id": "4573b2bc-228a-41c8-a1a8-106ab322df19",
   "metadata": {},
   "source": [
    "## Homework\n",
    "\n",
    "fasta是最常用的生物信息学文件格式之一，其具体形式如下：\n",
    "```\n",
    ">id\n",
    "sequence\n",
    ">id\n",
    "sequence\n",
    "```\n",
    "\n",
    "读取`homework/seqs.fasta`,计算每条序列的长度，输出一个名为`seqs_length.tsv`的tsv文件，第一列为序列id，第二列为序列长度：\n",
    "```\n",
    "id    length\n",
    "ad    14\n",
    "...\n",
    "```\n",
    "注意：\n",
    "- 不能使用任何第三方module/package;\n",
    "- 生成式AI仅限于查询内置函数的具体用法、报错信息的意义，千万不要复制题目让AI直接给出完整解决方案；"
   ]
  },
  {
   "cell_type": "markdown",
   "id": "3b5c93c5-2121-4e6d-95e8-55b561ce9647",
   "metadata": {},
   "source": [
    "## 拓展阅读材料\n",
    "\n",
    "《Fluent Python， 2nd edition》第一部分关于Python数据结构的深入介绍；"
   ]
  },
  {
   "cell_type": "code",
   "execution_count": null,
   "id": "42bc4819-2a66-4601-8357-a14dae3a6004",
   "metadata": {},
   "outputs": [],
   "source": []
  }
 ],
 "metadata": {
  "kernelspec": {
   "display_name": "Python 3 (ipykernel)",
   "language": "python",
   "name": "python3"
  },
  "language_info": {
   "codemirror_mode": {
    "name": "ipython",
    "version": 3
   },
   "file_extension": ".py",
   "mimetype": "text/x-python",
   "name": "python",
   "nbconvert_exporter": "python",
   "pygments_lexer": "ipython3",
   "version": "3.13.2"
  }
 },
 "nbformat": 4,
 "nbformat_minor": 5
}
