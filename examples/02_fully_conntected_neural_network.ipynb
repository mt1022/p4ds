{
 "cells": [
  {
   "cell_type": "markdown",
   "id": "dbc6a624-3217-4bdb-9bc9-89dd29af0c50",
   "metadata": {},
   "source": [
    "# Fully connected neural network with numpy\n",
    "\n",
    "Check this for background: https://www.coursera.org/learn/neural-networks-deep-learning/home/module/3"
   ]
  },
  {
   "cell_type": "code",
   "execution_count": 1,
   "id": "15d168a5-2ee3-4eac-9197-24bc24e565ea",
   "metadata": {},
   "outputs": [],
   "source": [
    "import numpy as np\n",
    "import pandas as pd\n",
    "import seaborn as sns"
   ]
  },
  {
   "cell_type": "markdown",
   "id": "48af938e-70ce-4d18-8791-edd747cdc4c7",
   "metadata": {},
   "source": [
    "## Prepare dataset"
   ]
  },
  {
   "cell_type": "code",
   "execution_count": 2,
   "id": "ad8f87a9-c77b-4e70-b989-43fa3c6143ac",
   "metadata": {},
   "outputs": [],
   "source": [
    "iris = sns.load_dataset('iris')"
   ]
  },
  {
   "cell_type": "code",
   "execution_count": 3,
   "id": "0ef3f26c-80f3-4bbc-93cd-a1cb04797d0e",
   "metadata": {},
   "outputs": [],
   "source": [
    "iris = iris[iris['species'].isin(['setosa', 'virginica'])]"
   ]
  },
  {
   "cell_type": "code",
   "execution_count": 4,
   "id": "44eda17d-b8dc-4759-962d-4258e646a823",
   "metadata": {},
   "outputs": [],
   "source": [
    "X = iris.iloc[:,0:4].to_numpy().T"
   ]
  },
  {
   "cell_type": "code",
   "execution_count": 5,
   "id": "edcefd6b-7abd-45fa-8d3f-e07317d12fbf",
   "metadata": {},
   "outputs": [],
   "source": [
    "Y = (iris['species'] == 'setosa').to_numpy().astype(int).reshape(1, -1)"
   ]
  },
  {
   "cell_type": "code",
   "execution_count": 6,
   "id": "67859da8-06ba-4813-bebd-5255ed76bc18",
   "metadata": {},
   "outputs": [
    {
     "data": {
      "text/html": [
       "<div>\n",
       "<style scoped>\n",
       "    .dataframe tbody tr th:only-of-type {\n",
       "        vertical-align: middle;\n",
       "    }\n",
       "\n",
       "    .dataframe tbody tr th {\n",
       "        vertical-align: top;\n",
       "    }\n",
       "\n",
       "    .dataframe thead th {\n",
       "        text-align: right;\n",
       "    }\n",
       "</style>\n",
       "<table border=\"1\" class=\"dataframe\">\n",
       "  <thead>\n",
       "    <tr style=\"text-align: right;\">\n",
       "      <th></th>\n",
       "      <th>sepal_length</th>\n",
       "      <th>sepal_width</th>\n",
       "      <th>petal_length</th>\n",
       "      <th>petal_width</th>\n",
       "      <th>species</th>\n",
       "    </tr>\n",
       "  </thead>\n",
       "  <tbody>\n",
       "    <tr>\n",
       "      <th>0</th>\n",
       "      <td>5.1</td>\n",
       "      <td>3.5</td>\n",
       "      <td>1.4</td>\n",
       "      <td>0.2</td>\n",
       "      <td>setosa</td>\n",
       "    </tr>\n",
       "    <tr>\n",
       "      <th>1</th>\n",
       "      <td>4.9</td>\n",
       "      <td>3.0</td>\n",
       "      <td>1.4</td>\n",
       "      <td>0.2</td>\n",
       "      <td>setosa</td>\n",
       "    </tr>\n",
       "    <tr>\n",
       "      <th>2</th>\n",
       "      <td>4.7</td>\n",
       "      <td>3.2</td>\n",
       "      <td>1.3</td>\n",
       "      <td>0.2</td>\n",
       "      <td>setosa</td>\n",
       "    </tr>\n",
       "    <tr>\n",
       "      <th>3</th>\n",
       "      <td>4.6</td>\n",
       "      <td>3.1</td>\n",
       "      <td>1.5</td>\n",
       "      <td>0.2</td>\n",
       "      <td>setosa</td>\n",
       "    </tr>\n",
       "    <tr>\n",
       "      <th>4</th>\n",
       "      <td>5.0</td>\n",
       "      <td>3.6</td>\n",
       "      <td>1.4</td>\n",
       "      <td>0.2</td>\n",
       "      <td>setosa</td>\n",
       "    </tr>\n",
       "    <tr>\n",
       "      <th>...</th>\n",
       "      <td>...</td>\n",
       "      <td>...</td>\n",
       "      <td>...</td>\n",
       "      <td>...</td>\n",
       "      <td>...</td>\n",
       "    </tr>\n",
       "    <tr>\n",
       "      <th>145</th>\n",
       "      <td>6.7</td>\n",
       "      <td>3.0</td>\n",
       "      <td>5.2</td>\n",
       "      <td>2.3</td>\n",
       "      <td>virginica</td>\n",
       "    </tr>\n",
       "    <tr>\n",
       "      <th>146</th>\n",
       "      <td>6.3</td>\n",
       "      <td>2.5</td>\n",
       "      <td>5.0</td>\n",
       "      <td>1.9</td>\n",
       "      <td>virginica</td>\n",
       "    </tr>\n",
       "    <tr>\n",
       "      <th>147</th>\n",
       "      <td>6.5</td>\n",
       "      <td>3.0</td>\n",
       "      <td>5.2</td>\n",
       "      <td>2.0</td>\n",
       "      <td>virginica</td>\n",
       "    </tr>\n",
       "    <tr>\n",
       "      <th>148</th>\n",
       "      <td>6.2</td>\n",
       "      <td>3.4</td>\n",
       "      <td>5.4</td>\n",
       "      <td>2.3</td>\n",
       "      <td>virginica</td>\n",
       "    </tr>\n",
       "    <tr>\n",
       "      <th>149</th>\n",
       "      <td>5.9</td>\n",
       "      <td>3.0</td>\n",
       "      <td>5.1</td>\n",
       "      <td>1.8</td>\n",
       "      <td>virginica</td>\n",
       "    </tr>\n",
       "  </tbody>\n",
       "</table>\n",
       "<p>100 rows × 5 columns</p>\n",
       "</div>"
      ],
      "text/plain": [
       "     sepal_length  sepal_width  petal_length  petal_width    species\n",
       "0             5.1          3.5           1.4          0.2     setosa\n",
       "1             4.9          3.0           1.4          0.2     setosa\n",
       "2             4.7          3.2           1.3          0.2     setosa\n",
       "3             4.6          3.1           1.5          0.2     setosa\n",
       "4             5.0          3.6           1.4          0.2     setosa\n",
       "..            ...          ...           ...          ...        ...\n",
       "145           6.7          3.0           5.2          2.3  virginica\n",
       "146           6.3          2.5           5.0          1.9  virginica\n",
       "147           6.5          3.0           5.2          2.0  virginica\n",
       "148           6.2          3.4           5.4          2.3  virginica\n",
       "149           5.9          3.0           5.1          1.8  virginica\n",
       "\n",
       "[100 rows x 5 columns]"
      ]
     },
     "execution_count": 6,
     "metadata": {},
     "output_type": "execute_result"
    }
   ],
   "source": [
    "iris"
   ]
  },
  {
   "cell_type": "code",
   "execution_count": 7,
   "id": "6bcc1d79-3bb5-45ab-b29a-4e2054d5a48a",
   "metadata": {},
   "outputs": [
    {
     "data": {
      "text/plain": [
       "species\n",
       "setosa       50\n",
       "virginica    50\n",
       "Name: count, dtype: int64"
      ]
     },
     "execution_count": 7,
     "metadata": {},
     "output_type": "execute_result"
    }
   ],
   "source": [
    "iris['species'].value_counts()"
   ]
  },
  {
   "cell_type": "code",
   "execution_count": 8,
   "id": "eeba9f17-9f6b-4f2f-a259-47ed0cd9bfe9",
   "metadata": {},
   "outputs": [
    {
     "data": {
      "text/plain": [
       "array([[5.1, 4.9, 4.7, 4.6, 5. ],\n",
       "       [3.5, 3. , 3.2, 3.1, 3.6],\n",
       "       [1.4, 1.4, 1.3, 1.5, 1.4],\n",
       "       [0.2, 0.2, 0.2, 0.2, 0.2]])"
      ]
     },
     "execution_count": 8,
     "metadata": {},
     "output_type": "execute_result"
    }
   ],
   "source": [
    "X[:,:5]  # each column "
   ]
  },
  {
   "cell_type": "code",
   "execution_count": 9,
   "id": "5630bf9d-7f41-4636-a236-ba0bd3be997a",
   "metadata": {},
   "outputs": [
    {
     "data": {
      "text/plain": [
       "(1, 100)"
      ]
     },
     "execution_count": 9,
     "metadata": {},
     "output_type": "execute_result"
    }
   ],
   "source": [
    "Y.shape"
   ]
  },
  {
   "cell_type": "code",
   "execution_count": 10,
   "id": "e30e11d2-a4c2-41d6-a5a3-cada42354443",
   "metadata": {},
   "outputs": [
    {
     "data": {
      "text/plain": [
       "array([1, 1, 1, 1, 1, 1, 1, 1, 1, 1])"
      ]
     },
     "execution_count": 10,
     "metadata": {},
     "output_type": "execute_result"
    }
   ],
   "source": [
    "Y[0, :10]"
   ]
  },
  {
   "cell_type": "markdown",
   "id": "d3445c6e-2c93-41ba-8414-8b6a823bd7aa",
   "metadata": {},
   "source": [
    "## Neural network with a single hidden layer\n",
    "\n",
    "- layer 0: input with $n_0$ units\n",
    "- layer 1: hidden layer with $n_1$ units\n",
    "    - activation: sigmoid\n",
    "- layer 1: output layer with $n_2 = 1$ unit\n",
    "    - activaiton: sigmoid"
   ]
  },
  {
   "cell_type": "code",
   "execution_count": 11,
   "id": "1f2809aa-eca9-4692-8f58-f48054c59ae1",
   "metadata": {},
   "outputs": [
    {
     "data": {
      "text/plain": [
       "(4, 4, 1)"
      ]
     },
     "execution_count": 11,
     "metadata": {},
     "output_type": "execute_result"
    }
   ],
   "source": [
    "n0 = X.shape[0]\n",
    "n1 = 4\n",
    "n2 = 1\n",
    "n0, n1, n2"
   ]
  },
  {
   "cell_type": "code",
   "execution_count": 12,
   "id": "bc35e026-8870-4c3d-bb6f-6d10af020f49",
   "metadata": {},
   "outputs": [
    {
     "data": {
      "text/plain": [
       "100"
      ]
     },
     "execution_count": 12,
     "metadata": {},
     "output_type": "execute_result"
    }
   ],
   "source": [
    "# number of test examples\n",
    "m = X.shape[1]\n",
    "m"
   ]
  },
  {
   "cell_type": "markdown",
   "id": "37a57f12-4663-4fc6-98f9-0559fe84472d",
   "metadata": {},
   "source": [
    "### Define the activation function"
   ]
  },
  {
   "cell_type": "code",
   "execution_count": 13,
   "id": "40b18e73-36f7-4658-bff8-8533b3404151",
   "metadata": {},
   "outputs": [],
   "source": [
    "def sigmoid(x):\n",
    "    \"\"\"Vectorized sigmoid function\"\"\"\n",
    "    return 1 / (1 + np.exp(-x))"
   ]
  },
  {
   "cell_type": "code",
   "execution_count": 14,
   "id": "2b7811b9-ef0d-4f5b-9bde-35799b1dabf1",
   "metadata": {},
   "outputs": [
    {
     "data": {
      "text/plain": [
       "array([[0.11920292, 0.5       , 0.73105858],\n",
       "       [0.73105858, 0.5       , 0.11920292]])"
      ]
     },
     "execution_count": 14,
     "metadata": {},
     "output_type": "execute_result"
    }
   ],
   "source": [
    "sigmoid(np.array([[-2, 0, 1],\n",
    "                  [1, 0, -2]]))"
   ]
  },
  {
   "cell_type": "markdown",
   "id": "9bd54d35-ebed-4546-b1ab-20029f42aa79",
   "metadata": {},
   "source": [
    "### Parameter random initialization"
   ]
  },
  {
   "cell_type": "code",
   "execution_count": 15,
   "id": "5dca26d1-2b82-4296-ac25-7c608212dad9",
   "metadata": {},
   "outputs": [],
   "source": [
    "W1 = np.random.normal(size=(n1, n0)) * 0.01\n",
    "b1 = np.random.normal(size=(n1, 1)) * 0.01\n",
    "W2 = np.random.normal(size=(n2, n1)) * 0.01\n",
    "b2 = np.random.normal(size=(n2, 1)) * 0.01"
   ]
  },
  {
   "cell_type": "markdown",
   "id": "1edb9f7e-a961-4193-83d7-306797fcc415",
   "metadata": {},
   "source": [
    "### Optimize parameters with the gradient descent method\n",
    "\n",
    "note\n",
    "- matrix multiplication: `np.matmul(A, B)`, `A @ B`, where A, B are matrices;\n",
    "- element wise production: `np.multiply(A, B)`, `A * B`, where A, B are matrices are of the same shape (after broadcasting if necessary);\n",
    "- dot product (result is a scalar): `np.dot(A, B)`, `np.sum(A * B)`, where A, B are vectors of the same size;"
   ]
  },
  {
   "cell_type": "code",
   "execution_count": 16,
   "id": "90e04869-99e4-4cd1-aaba-8fb0a53ff81f",
   "metadata": {},
   "outputs": [],
   "source": [
    "epochs = 1000\n",
    "alpha = 0.1"
   ]
  },
  {
   "cell_type": "code",
   "execution_count": 17,
   "id": "525c96f1-922d-4e74-9d62-dd7754f89ad3",
   "metadata": {
    "scrolled": true
   },
   "outputs": [],
   "source": [
    "costs = np.zeros(epochs)\n",
    "for i in range(epochs):\n",
    "    # foward propargation\n",
    "    Z1 = W1 @ X + b1\n",
    "    A1 = sigmoid(Z1)\n",
    "    Z2 = W2 @ A1 + b2\n",
    "    A2 = sigmoid(Z2)\n",
    "    \n",
    "    # cost function\n",
    "    J = -np.sum(Y * np.log(A2) + (1 - Y) * np.log(1 - A2)) / m\n",
    "    costs[i] = J\n",
    "    \n",
    "    # back propargation\n",
    "    dZ2 = A2 - Y\n",
    "    dW2 = dZ2 @ A1.T / m\n",
    "    db2 = np.sum(dZ2, axis=1, keepdims=True) / m\n",
    "    dZ1 = (W2.T @ dZ2) * (A1[1] * (1 - A1[1]))\n",
    "    dW1 = dZ1 @ X.T / m\n",
    "    db1 = np.sum(dZ1, axis=1, keepdims=True) / m\n",
    "\n",
    "    # update parameter with gradient descent\n",
    "    W1 -= alpha * dW1\n",
    "    b1 -= alpha * db1\n",
    "    W2 -= alpha * dW2\n",
    "    b2 -= alpha * db2    "
   ]
  },
  {
   "cell_type": "code",
   "execution_count": 18,
   "id": "39bda729-3464-4503-b601-3b7d1b7976bf",
   "metadata": {},
   "outputs": [
    {
     "data": {
      "text/plain": [
       "[Text(0.5, 0, 'Epochs'), Text(0, 0.5, 'Cost')]"
      ]
     },
     "execution_count": 18,
     "metadata": {},
     "output_type": "execute_result"
    },
    {
     "data": {
      "image/png": "[encoded data removed]",
      "text/plain": [
       "<Figure size 640x480 with 1 Axes>"
      ]
     },
     "metadata": {},
     "output_type": "display_data"
    }
   ],
   "source": [
    "ax = sns.lineplot(costs)\n",
    "ax.set(xlabel='Epochs', ylabel='Cost')"
   ]
  },
  {
   "cell_type": "code",
   "execution_count": 19,
   "id": "84c9a905-e6a6-450e-afa6-b2df3af19e64",
   "metadata": {},
   "outputs": [
    {
     "data": {
      "text/plain": [
       "[Text(0.5, 0, 'Observed y'), Text(0, 0.5, 'Predicted y')]"
      ]
     },
     "execution_count": 19,
     "metadata": {},
     "output_type": "execute_result"
    },
    {
     "data": {
      "image/png": "[encoded data removed]",
      "text/plain": [
       "<Figure size 640x480 with 1 Axes>"
      ]
     },
     "metadata": {},
     "output_type": "display_data"
    }
   ],
   "source": [
    "ax = sns.scatterplot(x=Y[0,:], y=A2[0,:])\n",
    "ax.set(xlabel='Observed y', ylabel='Predicted y')"
   ]
  },
  {
   "cell_type": "markdown",
   "id": "3fdf8387-64c4-43cf-8a62-48d0fe124fcc",
   "metadata": {},
   "source": [
    "### Using variable learning rates\n",
    "begin with large steps, ends with small steps during gradient learning"
   ]
  },
  {
   "cell_type": "code",
   "execution_count": 20,
   "id": "405343f3-161e-464f-8e07-03ee1d3e85d6",
   "metadata": {},
   "outputs": [],
   "source": [
    "W1 = np.random.normal(size=(n1, n0)) * 0.01\n",
    "b1 = np.random.normal(size=(n1, 1)) * 0.01\n",
    "W2 = np.random.normal(size=(n2, n1)) * 0.01\n",
    "b2 = np.random.normal(size=(n2, 1)) * 0.01\n",
    "\n",
    "epochs = 1500\n",
    "\n",
    "def f_alpha(epoch):\n",
    "    if epoch < 500:\n",
    "        return 0.1\n",
    "    elif epoch < 750:\n",
    "        return 0.03\n",
    "    elif epoch < 1000:\n",
    "        return 0.01\n",
    "    else:\n",
    "        return 0.001"
   ]
  },
  {
   "cell_type": "code",
   "execution_count": 21,
   "id": "c98a89d3-3584-4f6d-8048-334c81ae8687",
   "metadata": {},
   "outputs": [],
   "source": [
    "costs = np.zeros(epochs)\n",
    "for i in range(epochs):\n",
    "    # foward propargation\n",
    "    Z1 = W1 @ X + b1\n",
    "    A1 = sigmoid(Z1)\n",
    "    Z2 = W2 @ A1 + b2\n",
    "    A2 = sigmoid(Z2)\n",
    "    \n",
    "    # cost function\n",
    "    J = -np.sum(Y * np.log(A2) + (1 - Y) * np.log(1 - A2)) / m\n",
    "    costs[i] = J\n",
    "    \n",
    "    # back propargation\n",
    "    dZ2 = A2 - Y\n",
    "    dW2 = dZ2 @ A1.T / m\n",
    "    db2 = np.sum(dZ2, axis=1, keepdims=True) / m\n",
    "    dZ1 = (W2.T @ dZ2) * (A1[1] * (1 - A1[1]))\n",
    "    dW1 = dZ1 @ X.T / m\n",
    "    db1 = np.sum(dZ1, axis=1, keepdims=True) / m\n",
    "\n",
    "    # update parameter\n",
    "    W1 -= f_alpha(i) * dW1\n",
    "    b1 -= f_alpha(i) * db1\n",
    "    W2 -= f_alpha(i) * dW2\n",
    "    b2 -= f_alpha(i) * db2\n"
   ]
  },
  {
   "cell_type": "code",
   "execution_count": 22,
   "id": "7d811620-60d7-412a-b296-79fd099b74cb",
   "metadata": {},
   "outputs": [
    {
     "data": {
      "text/plain": [
       "[Text(0.5, 0, 'Epochs'), Text(0, 0.5, 'Cost')]"
      ]
     },
     "execution_count": 22,
     "metadata": {},
     "output_type": "execute_result"
    },
    {
     "data": {
      "image/png": "[encoded data removed]",
      "text/plain": [
       "<Figure size 640x480 with 1 Axes>"
      ]
     },
     "metadata": {},
     "output_type": "display_data"
    }
   ],
   "source": [
    "ax = sns.lineplot(costs)\n",
    "ax.set(xlabel='Epochs', ylabel='Cost')"
   ]
  },
  {
   "cell_type": "code",
   "execution_count": 23,
   "id": "2f653ed5-0116-4d34-bf32-44fe70b5bb8c",
   "metadata": {},
   "outputs": [
    {
     "data": {
      "text/plain": [
       "(np.float64(0.0354142790823433),\n",
       " array([[ 0.64353462,  1.28095157, -1.87602828, -0.93261914],\n",
       "        [-0.28607867, -0.60641404,  0.92973988,  0.48267199],\n",
       "        [-0.21321129, -0.47658949,  0.74095376,  0.37658832],\n",
       "        [-0.47839956, -1.07090428,  1.65058911,  0.83492315]]),\n",
       " array([[ 0.30822409],\n",
       "        [-0.13777332],\n",
       "        [-0.11208054],\n",
       "        [-0.25107628]]),\n",
       " array([[ 2.81065308, -1.39249569, -1.11526806, -2.16539746]]),\n",
       " array([[0.77711635]]))"
      ]
     },
     "execution_count": 23,
     "metadata": {},
     "output_type": "execute_result"
    }
   ],
   "source": [
    "J, W1, b1, W2, b2"
   ]
  }
 ],
 "metadata": {
  "kernelspec": {
   "display_name": "Python 3 (ipykernel)",
   "language": "python",
   "name": "python3"
  },
  "language_info": {
   "codemirror_mode": {
    "name": "ipython",
    "version": 3
   },
   "file_extension": ".py",
   "mimetype": "text/x-python",
   "name": "python",
   "nbconvert_exporter": "python",
   "pygments_lexer": "ipython3",
   "version": "3.13.2"
  }
 },
 "nbformat": 4,
 "nbformat_minor": 5
}
