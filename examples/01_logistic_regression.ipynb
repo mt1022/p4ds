{
 "cells": [
  {
   "cell_type": "code",
   "execution_count": 1,
   "id": "15d168a5-2ee3-4eac-9197-24bc24e565ea",
   "metadata": {},
   "outputs": [],
   "source": [
    "import numpy as np\n",
    "import pandas as pd\n",
    "import seaborn as sns"
   ]
  },
  {
   "cell_type": "markdown",
   "id": "48af938e-70ce-4d18-8791-edd747cdc4c7",
   "metadata": {},
   "source": [
    "# Prepare dataset"
   ]
  },
  {
   "cell_type": "code",
   "execution_count": 2,
   "id": "ad8f87a9-c77b-4e70-b989-43fa3c6143ac",
   "metadata": {},
   "outputs": [],
   "source": [
    "iris = sns.load_dataset('iris')"
   ]
  },
  {
   "cell_type": "code",
   "execution_count": 3,
   "id": "0ef3f26c-80f3-4bbc-93cd-a1cb04797d0e",
   "metadata": {},
   "outputs": [],
   "source": [
    "iris = iris[iris['species'].isin(['setosa', 'virginica'])]"
   ]
  },
  {
   "cell_type": "code",
   "execution_count": 4,
   "id": "44eda17d-b8dc-4759-962d-4258e646a823",
   "metadata": {},
   "outputs": [],
   "source": [
    "X = iris.iloc[:,0:4].to_numpy().T"
   ]
  },
  {
   "cell_type": "code",
   "execution_count": 5,
   "id": "edcefd6b-7abd-45fa-8d3f-e07317d12fbf",
   "metadata": {},
   "outputs": [],
   "source": [
    "y = (iris['species'] == 'setosa').to_numpy().astype(int)"
   ]
  },
  {
   "cell_type": "code",
   "execution_count": 6,
   "id": "67859da8-06ba-4813-bebd-5255ed76bc18",
   "metadata": {},
   "outputs": [
    {
     "data": {
      "text/html": [
       "<div>\n",
       "<style scoped>\n",
       "    .dataframe tbody tr th:only-of-type {\n",
       "        vertical-align: middle;\n",
       "    }\n",
       "\n",
       "    .dataframe tbody tr th {\n",
       "        vertical-align: top;\n",
       "    }\n",
       "\n",
       "    .dataframe thead th {\n",
       "        text-align: right;\n",
       "    }\n",
       "</style>\n",
       "<table border=\"1\" class=\"dataframe\">\n",
       "  <thead>\n",
       "    <tr style=\"text-align: right;\">\n",
       "      <th></th>\n",
       "      <th>sepal_length</th>\n",
       "      <th>sepal_width</th>\n",
       "      <th>petal_length</th>\n",
       "      <th>petal_width</th>\n",
       "      <th>species</th>\n",
       "    </tr>\n",
       "  </thead>\n",
       "  <tbody>\n",
       "    <tr>\n",
       "      <th>0</th>\n",
       "      <td>5.1</td>\n",
       "      <td>3.5</td>\n",
       "      <td>1.4</td>\n",
       "      <td>0.2</td>\n",
       "      <td>setosa</td>\n",
       "    </tr>\n",
       "    <tr>\n",
       "      <th>1</th>\n",
       "      <td>4.9</td>\n",
       "      <td>3.0</td>\n",
       "      <td>1.4</td>\n",
       "      <td>0.2</td>\n",
       "      <td>setosa</td>\n",
       "    </tr>\n",
       "    <tr>\n",
       "      <th>2</th>\n",
       "      <td>4.7</td>\n",
       "      <td>3.2</td>\n",
       "      <td>1.3</td>\n",
       "      <td>0.2</td>\n",
       "      <td>setosa</td>\n",
       "    </tr>\n",
       "    <tr>\n",
       "      <th>3</th>\n",
       "      <td>4.6</td>\n",
       "      <td>3.1</td>\n",
       "      <td>1.5</td>\n",
       "      <td>0.2</td>\n",
       "      <td>setosa</td>\n",
       "    </tr>\n",
       "    <tr>\n",
       "      <th>4</th>\n",
       "      <td>5.0</td>\n",
       "      <td>3.6</td>\n",
       "      <td>1.4</td>\n",
       "      <td>0.2</td>\n",
       "      <td>setosa</td>\n",
       "    </tr>\n",
       "    <tr>\n",
       "      <th>...</th>\n",
       "      <td>...</td>\n",
       "      <td>...</td>\n",
       "      <td>...</td>\n",
       "      <td>...</td>\n",
       "      <td>...</td>\n",
       "    </tr>\n",
       "    <tr>\n",
       "      <th>145</th>\n",
       "      <td>6.7</td>\n",
       "      <td>3.0</td>\n",
       "      <td>5.2</td>\n",
       "      <td>2.3</td>\n",
       "      <td>virginica</td>\n",
       "    </tr>\n",
       "    <tr>\n",
       "      <th>146</th>\n",
       "      <td>6.3</td>\n",
       "      <td>2.5</td>\n",
       "      <td>5.0</td>\n",
       "      <td>1.9</td>\n",
       "      <td>virginica</td>\n",
       "    </tr>\n",
       "    <tr>\n",
       "      <th>147</th>\n",
       "      <td>6.5</td>\n",
       "      <td>3.0</td>\n",
       "      <td>5.2</td>\n",
       "      <td>2.0</td>\n",
       "      <td>virginica</td>\n",
       "    </tr>\n",
       "    <tr>\n",
       "      <th>148</th>\n",
       "      <td>6.2</td>\n",
       "      <td>3.4</td>\n",
       "      <td>5.4</td>\n",
       "      <td>2.3</td>\n",
       "      <td>virginica</td>\n",
       "    </tr>\n",
       "    <tr>\n",
       "      <th>149</th>\n",
       "      <td>5.9</td>\n",
       "      <td>3.0</td>\n",
       "      <td>5.1</td>\n",
       "      <td>1.8</td>\n",
       "      <td>virginica</td>\n",
       "    </tr>\n",
       "  </tbody>\n",
       "</table>\n",
       "<p>100 rows × 5 columns</p>\n",
       "</div>"
      ],
      "text/plain": [
       "     sepal_length  sepal_width  petal_length  petal_width    species\n",
       "0             5.1          3.5           1.4          0.2     setosa\n",
       "1             4.9          3.0           1.4          0.2     setosa\n",
       "2             4.7          3.2           1.3          0.2     setosa\n",
       "3             4.6          3.1           1.5          0.2     setosa\n",
       "4             5.0          3.6           1.4          0.2     setosa\n",
       "..            ...          ...           ...          ...        ...\n",
       "145           6.7          3.0           5.2          2.3  virginica\n",
       "146           6.3          2.5           5.0          1.9  virginica\n",
       "147           6.5          3.0           5.2          2.0  virginica\n",
       "148           6.2          3.4           5.4          2.3  virginica\n",
       "149           5.9          3.0           5.1          1.8  virginica\n",
       "\n",
       "[100 rows x 5 columns]"
      ]
     },
     "execution_count": 6,
     "metadata": {},
     "output_type": "execute_result"
    }
   ],
   "source": [
    "iris"
   ]
  },
  {
   "cell_type": "code",
   "execution_count": 7,
   "id": "6bcc1d79-3bb5-45ab-b29a-4e2054d5a48a",
   "metadata": {},
   "outputs": [
    {
     "data": {
      "text/plain": [
       "species\n",
       "setosa       50\n",
       "virginica    50\n",
       "Name: count, dtype: int64"
      ]
     },
     "execution_count": 7,
     "metadata": {},
     "output_type": "execute_result"
    }
   ],
   "source": [
    "iris['species'].value_counts()"
   ]
  },
  {
   "cell_type": "code",
   "execution_count": 8,
   "id": "eeba9f17-9f6b-4f2f-a259-47ed0cd9bfe9",
   "metadata": {},
   "outputs": [
    {
     "data": {
      "text/plain": [
       "array([[5.1, 4.9, 4.7],\n",
       "       [3.5, 3. , 3.2],\n",
       "       [1.4, 1.4, 1.3],\n",
       "       [0.2, 0.2, 0.2]])"
      ]
     },
     "execution_count": 8,
     "metadata": {},
     "output_type": "execute_result"
    }
   ],
   "source": [
    "X[:,:3]"
   ]
  },
  {
   "cell_type": "code",
   "execution_count": 9,
   "id": "5630bf9d-7f41-4636-a236-ba0bd3be997a",
   "metadata": {},
   "outputs": [
    {
     "data": {
      "text/plain": [
       "array([1, 1, 1])"
      ]
     },
     "execution_count": 9,
     "metadata": {},
     "output_type": "execute_result"
    }
   ],
   "source": [
    "y[:3]"
   ]
  },
  {
   "cell_type": "markdown",
   "id": "1b84a1b9-3a80-47ab-b874-c310d9f8a856",
   "metadata": {},
   "source": [
    "## functions"
   ]
  },
  {
   "cell_type": "code",
   "execution_count": 10,
   "id": "40b18e73-36f7-4658-bff8-8533b3404151",
   "metadata": {},
   "outputs": [],
   "source": [
    "def sigmoid(x):\n",
    "    \"\"\"Vectorized sigmoid function\"\"\"\n",
    "    return 1 / (1 + np.exp(-x))"
   ]
  },
  {
   "cell_type": "code",
   "execution_count": 11,
   "id": "2b7811b9-ef0d-4f5b-9bde-35799b1dabf1",
   "metadata": {},
   "outputs": [
    {
     "data": {
      "text/plain": [
       "array([0.11920292, 0.5       , 0.73105858])"
      ]
     },
     "execution_count": 11,
     "metadata": {},
     "output_type": "execute_result"
    }
   ],
   "source": [
    "sigmoid(np.array([-2, 0, 1]))"
   ]
  },
  {
   "cell_type": "markdown",
   "id": "d3445c6e-2c93-41ba-8414-8b6a823bd7aa",
   "metadata": {},
   "source": [
    "## Logistic regression with gradient descent"
   ]
  },
  {
   "cell_type": "markdown",
   "id": "9bd54d35-ebed-4546-b1ab-20029f42aa79",
   "metadata": {},
   "source": [
    "### Initial parameters"
   ]
  },
  {
   "cell_type": "code",
   "execution_count": 12,
   "id": "965884e5-dc4a-4ed3-9e52-d07a65f6ed16",
   "metadata": {},
   "outputs": [],
   "source": [
    "w = np.zeros((X.shape[0], 1))\n",
    "b = np.zeros(1)"
   ]
  },
  {
   "cell_type": "code",
   "execution_count": 13,
   "id": "4b68741e-3b0a-40fa-ad5e-9c5f0a040189",
   "metadata": {},
   "outputs": [
    {
     "data": {
      "text/plain": [
       "array([[0.],\n",
       "       [0.],\n",
       "       [0.],\n",
       "       [0.]])"
      ]
     },
     "execution_count": 13,
     "metadata": {},
     "output_type": "execute_result"
    }
   ],
   "source": [
    "w"
   ]
  },
  {
   "cell_type": "code",
   "execution_count": 14,
   "id": "ab13a7d3-9d5d-4bc3-b5ba-56f99e1c7b98",
   "metadata": {},
   "outputs": [
    {
     "data": {
      "text/plain": [
       "array([0.])"
      ]
     },
     "execution_count": 14,
     "metadata": {},
     "output_type": "execute_result"
    }
   ],
   "source": [
    "b"
   ]
  },
  {
   "cell_type": "markdown",
   "id": "1edb9f7e-a961-4193-83d7-306797fcc415",
   "metadata": {},
   "source": [
    "### learning with fix rate"
   ]
  },
  {
   "cell_type": "code",
   "execution_count": 15,
   "id": "90e04869-99e4-4cd1-aaba-8fb0a53ff81f",
   "metadata": {},
   "outputs": [],
   "source": [
    "epochs = 1000\n",
    "alpha = 0.001"
   ]
  },
  {
   "cell_type": "code",
   "execution_count": 16,
   "id": "525c96f1-922d-4e74-9d62-dd7754f89ad3",
   "metadata": {
    "scrolled": true
   },
   "outputs": [],
   "source": [
    "costs = []\n",
    "for i in range(epochs):\n",
    "    # foward propargation\n",
    "    z = w.T @ X + b\n",
    "    a = sigmoid(z)\n",
    "    \n",
    "    # cost function\n",
    "    J = -(np.dot(y, np.log(a.squeeze())) + np.dot(1-y, np.log(1-a.squeeze()))) / X.shape[1]\n",
    "    \n",
    "    # back propargation\n",
    "    dz = a - y.reshape(1, -1)\n",
    "    dw = X @ dz.T / X.shape[1]\n",
    "    db = np.sum(dz) / X.shape[1]\n",
    "\n",
    "    # update parameter\n",
    "    w -= alpha * dw\n",
    "    b -= alpha * db\n",
    "\n",
    "    # record costs after at epoch\n",
    "    # print(w.T, b, J)\n",
    "    costs.append(J)"
   ]
  },
  {
   "cell_type": "code",
   "execution_count": 17,
   "id": "39bda729-3464-4503-b601-3b7d1b7976bf",
   "metadata": {},
   "outputs": [
    {
     "data": {
      "text/plain": [
       "[Text(0.5, 0, 'Epochs'), Text(0, 0.5, 'Cost')]"
      ]
     },
     "execution_count": 17,
     "metadata": {},
     "output_type": "execute_result"
    },
    {
     "data": {
      "image/png": "[encoded data removed]",
      "text/plain": [
       "<Figure size 640x480 with 1 Axes>"
      ]
     },
     "metadata": {},
     "output_type": "display_data"
    }
   ],
   "source": [
    "ax = sns.lineplot(costs)\n",
    "ax.set(xlabel='Epochs', ylabel='Cost')"
   ]
  },
  {
   "cell_type": "markdown",
   "id": "3fdf8387-64c4-43cf-8a62-48d0fe124fcc",
   "metadata": {},
   "source": [
    "### Using variable learning rate (begin with large steps)"
   ]
  },
  {
   "cell_type": "code",
   "execution_count": 18,
   "id": "405343f3-161e-464f-8e07-03ee1d3e85d6",
   "metadata": {},
   "outputs": [],
   "source": [
    "w = np.zeros((X.shape[0], 1))\n",
    "b = np.zeros(1)\n",
    "epochs = 1000\n",
    "\n",
    "def f_alpha(n):\n",
    "    if n < 20:\n",
    "        return 0.1\n",
    "    elif n < 200:\n",
    "        return 0.01\n",
    "    else:\n",
    "        return 0.001"
   ]
  },
  {
   "cell_type": "code",
   "execution_count": 19,
   "id": "c98a89d3-3584-4f6d-8048-334c81ae8687",
   "metadata": {},
   "outputs": [],
   "source": [
    "costs = []\n",
    "for i in range(epochs):\n",
    "    # foward propargation\n",
    "    z = w.T @ X + b\n",
    "    a = sigmoid(z)\n",
    "    \n",
    "    # cost function\n",
    "    J = -(np.dot(y, np.log(a.squeeze())) + np.dot(1-y, np.log(1-a.squeeze()))) / X.shape[1]\n",
    "    \n",
    "    # back propargation\n",
    "    dz = a - y.reshape(1, -1)\n",
    "    dw = X @ dz.T / X.shape[1]\n",
    "    db = np.sum(dz) / X.shape[1]\n",
    "\n",
    "    # update parameter\n",
    "    w -= f_alpha(i) * dw\n",
    "    b -= f_alpha(i) * db\n",
    "\n",
    "    # record costs after at epoch\n",
    "    # print(w.T, b, J)\n",
    "    costs.append(J)"
   ]
  },
  {
   "cell_type": "code",
   "execution_count": 20,
   "id": "7d811620-60d7-412a-b296-79fd099b74cb",
   "metadata": {},
   "outputs": [
    {
     "data": {
      "text/plain": [
       "[Text(0.5, 0, 'Epochs'), Text(0, 0.5, 'Cost')]"
      ]
     },
     "execution_count": 20,
     "metadata": {},
     "output_type": "execute_result"
    },
    {
     "data": {
      "image/png": "[encoded data removed]",
      "text/plain": [
       "<Figure size 640x480 with 1 Axes>"
      ]
     },
     "metadata": {},
     "output_type": "display_data"
    }
   ],
   "source": [
    "ax = sns.lineplot(costs)\n",
    "ax.set(xlabel='Epochs', ylabel='Cost')"
   ]
  },
  {
   "cell_type": "code",
   "execution_count": 21,
   "id": "2f653ed5-0116-4d34-bf32-44fe70b5bb8c",
   "metadata": {},
   "outputs": [
    {
     "data": {
      "text/plain": [
       "(np.float64(0.07864800441525553),\n",
       " array([[ 0.30526572],\n",
       "        [ 0.6917984 ],\n",
       "        [-1.07575652],\n",
       "        [-0.53901738]]),\n",
       " array([0.163436]))"
      ]
     },
     "execution_count": 21,
     "metadata": {},
     "output_type": "execute_result"
    }
   ],
   "source": [
    "J, w, b"
   ]
  },
  {
   "cell_type": "markdown",
   "id": "c7d9949a-e67e-4e9d-9eab-fdc3be3d580d",
   "metadata": {},
   "source": [
    "### plot predictions"
   ]
  },
  {
   "cell_type": "code",
   "execution_count": 22,
   "id": "2b76cfef-7bc4-49fd-b81f-91f0755ab63e",
   "metadata": {},
   "outputs": [
    {
     "data": {
      "text/plain": [
       "array([[0.92606259, 0.89290564, 0.90934412, 0.87982723, 0.92866601,\n",
       "        0.92168697, 0.90482364, 0.91055585, 0.86977354, 0.89437939,\n",
       "        0.93401633, 0.89583799, 0.89512045, 0.91004953, 0.96451309,\n",
       "        0.95763409, 0.94763814, 0.92228609, 0.92702024, 0.92915526,\n",
       "        0.90268283, 0.92061288, 0.94657506, 0.87044861, 0.8616527 ,\n",
       "        0.87392812, 0.89139418, 0.92061072, 0.923372  , 0.87899271,\n",
       "        0.87482078, 0.91171391, 0.94880953, 0.95827715, 0.88917826,\n",
       "        0.9244782 , 0.94033019, 0.93019908, 0.88852014, 0.9130111 ,\n",
       "        0.92763196, 0.82750963, 0.90150618, 0.88759809, 0.88988635,\n",
       "        0.88456029, 0.92553972, 0.89729746, 0.93210988, 0.91363406,\n",
       "        0.03129391, 0.06246437, 0.04424826, 0.05207243, 0.03908423,\n",
       "        0.02476906, 0.08560649, 0.03391461, 0.03656524, 0.04488042,\n",
       "        0.09948365, 0.06061686, 0.06099899, 0.05604779, 0.05171107,\n",
       "        0.06847476, 0.06514147, 0.03730566, 0.01274484, 0.06474747,\n",
       "        0.05274857, 0.07314983, 0.02115316, 0.09220765, 0.05885072,\n",
       "        0.05469857, 0.10519937, 0.10522361, 0.04302479, 0.06506615,\n",
       "        0.03816919, 0.05957996, 0.04085933, 0.09353313, 0.04951823,\n",
       "        0.03869886, 0.05319375, 0.06753532, 0.11270166, 0.07400904,\n",
       "        0.04905161, 0.09015419, 0.06246437, 0.04173814, 0.04798444,\n",
       "        0.07245589, 0.06999217, 0.07951827, 0.06656905, 0.08190878]])"
      ]
     },
     "execution_count": 22,
     "metadata": {},
     "output_type": "execute_result"
    }
   ],
   "source": [
    "y_pred = sigmoid(w.T @ X + b)\n",
    "y_pred"
   ]
  },
  {
   "cell_type": "code",
   "execution_count": 23,
   "id": "4ca32257-50fd-4719-9fa8-05cbaecc579b",
   "metadata": {},
   "outputs": [
    {
     "data": {
      "text/plain": [
       "array([1, 1, 1, 1, 1, 1, 1, 1, 1, 1, 1, 1, 1, 1, 1, 1, 1, 1, 1, 1, 1, 1,\n",
       "       1, 1, 1, 1, 1, 1, 1, 1, 1, 1, 1, 1, 1, 1, 1, 1, 1, 1, 1, 1, 1, 1,\n",
       "       1, 1, 1, 1, 1, 1, 0, 0, 0, 0, 0, 0, 0, 0, 0, 0, 0, 0, 0, 0, 0, 0,\n",
       "       0, 0, 0, 0, 0, 0, 0, 0, 0, 0, 0, 0, 0, 0, 0, 0, 0, 0, 0, 0, 0, 0,\n",
       "       0, 0, 0, 0, 0, 0, 0, 0, 0, 0, 0, 0])"
      ]
     },
     "execution_count": 23,
     "metadata": {},
     "output_type": "execute_result"
    }
   ],
   "source": [
    "y"
   ]
  },
  {
   "cell_type": "code",
   "execution_count": 24,
   "id": "84c9a905-e6a6-450e-afa6-b2df3af19e64",
   "metadata": {},
   "outputs": [
    {
     "data": {
      "text/plain": [
       "[Text(0.5, 0, 'Observed y'), Text(0, 0.5, 'Predicted y')]"
      ]
     },
     "execution_count": 24,
     "metadata": {},
     "output_type": "execute_result"
    },
    {
     "data": {
      "image/png": "[encoded data removed]",
      "text/plain": [
       "<Figure size 640x480 with 1 Axes>"
      ]
     },
     "metadata": {},
     "output_type": "display_data"
    }
   ],
   "source": [
    "ax = sns.scatterplot(x=y, y=y_pred[0])\n",
    "ax.set(xlabel='Observed y', ylabel='Predicted y')"
   ]
  }
 ],
 "metadata": {
  "kernelspec": {
   "display_name": "Python 3 (ipykernel)",
   "language": "python",
   "name": "python3"
  },
  "language_info": {
   "codemirror_mode": {
    "name": "ipython",
    "version": 3
   },
   "file_extension": ".py",
   "mimetype": "text/x-python",
   "name": "python",
   "nbconvert_exporter": "python",
   "pygments_lexer": "ipython3",
   "version": "3.13.2"
  }
 },
 "nbformat": 4,
 "nbformat_minor": 5
}
