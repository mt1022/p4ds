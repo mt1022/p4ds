{
 "cells": [
  {
   "cell_type": "markdown",
   "id": "c48b799a-3423-48ab-92d8-0843fe9a09b2",
   "metadata": {},
   "source": [
    "## Python能用来干嘛？\n",
    "- 处理数据\n",
    "- 绘制图表\n",
    "- 流程自动化，节省时间\n",
    "- 深度学习（图像识别、生成模型[?])"
   ]
  },
  {
   "cell_type": "markdown",
   "id": "aaf01f02-ac28-44f0-bda7-2c06fb04bc40",
   "metadata": {
    "jp-MarkdownHeadingCollapsed": true
   },
   "source": [
    "## 为什么AI现在发展这么快，我还要学自己用python编程？\n",
    "\n",
    "我的经验：\n",
    "- 熟练的程序员在复杂多样的实际应用场景中比AI更高效灵活；\n",
    "- 没有任何一个AI敢跟你保证它对它所生成的内容所产生的后果负责！\n",
    "\n",
    "不信可以自己看看你常用的AI工具的服务条款或协议。\n",
    "\n",
    "https://openai.com/policies/terms-of-use/\n",
    "> When you use our Services you understand and agree:\n",
    ">   - Output may not always be accurate. You should not rely on Output from our Services as a sole source of truth or factual > information, or as a substitute for professional advice.\n",
    ">   - You must evaluate Output for accuracy and appropriateness for your use case, including using human review as appropriate, before using or sharing Output from the Services.\n",
    ">   - You must not use any Output relating to a person for any purpose that could have a legal or material impact on that person, such as making credit, educational, employment, housing, insurance, legal, medical, or other important decisions about them. \n",
    ">   - Our Services may provide incomplete, incorrect, or offensive Output that does not represent OpenAI’s views. If Output references any third party products or services, it doesn’t mean the third party endorses or is affiliated with OpenAI.\n",
    "> (人话版：**你理解我们生成的内容会有错，这不代表我们的观点**)\n",
    "> \n",
    "> Disclaimer of warranties\n",
    "OUR SERVICES ARE PROVIDED “AS IS.” EXCEPT TO THE EXTENT PROHIBITED BY LAW, WE AND OUR AFFILIATES AND LICENSORS MAKE NO WARRANTIES (EXPRESS, IMPLIED, STATUTORY OR OTHERWISE) WITH RESPECT TO THE SERVICES, AND DISCLAIM ALL WARRANTIES INCLUDING, BUT NOT LIMITED TO, WARRANTIES OF MERCHANTABILITY, FITNESS FOR A PARTICULAR PURPOSE, SATISFACTORY QUALITY, NON-INFRINGEMENT, AND QUIET ENJOYMENT, AND ANY WARRANTIES ARISING OUT OF ANY COURSE OF DEALING OR TRADE USAGE. WE DO NOT WARRANT THAT THE SERVICES WILL BE UNINTERRUPTED, ACCURATE OR ERROR FREE, OR THAT ANY CONTENT WILL BE SECURE OR NOT LOST OR ALTERED. \n",
    "> YOU ACCEPT AND AGREE THAT ANY USE OF OUTPUTS FROM OUR SERVICE IS AT YOUR SOLE RISK AND YOU WILL NOT RELY ON OUTPUT AS A SOLE SOURCE OF TRUTH OR FACTUAL INFORMATION, OR AS A SUBSTITUTE FOR PROFESSIONAL ADVICE.\n",
    "> (人话版:**咱可事先说好了，我们不对我们模型的输出负任何责任**)\n",
    "\n",
    "腾讯元宝（https://rule.tencent.com/rule/202403110001）\n",
    "> 本服务的生成内容由大语言模型技术生成，不代表本服务提供方的立场，若涉及对您或者相关方可能产生重大影响的情形（例如法律、医疗、金融等相关专业场景或领域），本服务不能替代专业人员向您提供解答，相关内容仅供您参考。您根据生成内容所作出的判断或者据此作出的后续相关操作行为，其责任由您依法承担。请审慎理性和依法使用本服务。\n",
    "> 您充分了解并同意，您需要为自己使用本服务的行为及产生的后果负责，且您应对使用本服务时接触到的内容自行加以判断，包括因对内容的正确性、完整性或实用性的依赖而产生的风险。\n",
    "> 因您违反本协议导致或产生第三方主张的索赔、要求或损失，您应当独立承担责任；腾讯公司因此遭受损失的，您也应当一并赔偿。\n",
    "> 如因您违反法律法规或本协议约定的行为给我们造成损失的，或您干扰本服务的运行，或干扰其他用户对本服务的使用的，我们有权向您索赔。\n",
    "> 我们致力于提供安全、稳定、持续的服务，以保障用户的正常使用，您理解并同意，尽管我们已经尽了最大努力，但由于大模型技术发展的局限性，我们无法完全保证 ...\n",
    "鉴于此，针对本服务生成的内容请您注意甄别并根据您的实际情况做出理性判断。请审慎理性和依法使用本服务。\n",
    "> 6除非本服务相关界面另有说明，或您与我们另有约定，或法律有明确规定，我们不对由于使用本服务给您引起的损害承担责任。\n",
    "> (人话版:**我们对模型输出基本不负任何责任，你自己多加小心！**)\n",
    "\n",
    "### AI自己怎么看？\n",
    "Q:\n",
    "> 现在AI写代码这么厉害，我是否还有必要学习如何自己用python写程序？\n",
    "\n",
    "ChatGPT 说：\n",
    ">这是一个非常现实且重要的问题。简单来说，即便现在AI能写代码，自己学会Python依然很有价值。下面我从几个角度来分析：\n",
    ">\n",
    ">✅ 为什么你仍然应该学Python：\n",
    ">1. 【理解和评估AI生成代码的能力】AI虽然能帮你写代码，但它有时会犯错。你需要有能力：看懂代码在干什么；判断它是否正确、高效、安全；调试和修改它。\n",
    "   没有编程基础，这些事几乎做不了。\n",
    ">\n",
    ">2. 【增强你的主动性和创造力】\n",
    "如果你不会编程，AI就像个“黑箱工具”。但如果你懂：\n",
    "你可以更明确地描述问题或需求（提示词更精准）；\n",
    "更容易组合、拼接AI生成的不同代码片段；\n",
    "能写一些AI无法想象的“独特解决方案”。\n",
    ">3. 【学习编程是理解AI本身的一种方式】\n",
    "学Python会帮助你理解：\n",
    "算法、模型和数据结构是怎么工作的；\n",
    "你更容易入门机器学习、数据分析、自动化等领域。\n",
    ">4. 【在复杂项目中，AI只是你的助手】\n",
    "AI适合写中小型功能、代码片段、模板。但在这些情况下你必须自己主导：\n",
    "构建大规模系统或应用；\n",
    "理清代码结构、数据流、模块依赖；\n",
    "协作开发、版本控制等。\n",
    ">5. 【AI辅助编程 ≠ 不用编程】\n",
    "AI不会替代程序员，而是让一个程序员变得像“十个程序员”一样高效。如果你懂Python，再借助AI，你会更有生产力。\n",
    ">\n",
    "\n",
    "### 本课程的免责声明\n",
    "> © 2025 主办方 版权所有\n",
    "> \n",
    "> 本课程提供的所有课程材料（包括但不限于代码、文档、示例及数据集）均按\"原样\"提供，不附带任何明示或暗示的担保，包括但不限于对适销性、特定用途适用性及非侵权的担保。\n",
    ">\n",
    "> 参与本课程者需知悉：\n",
    "> \n",
    "> - 学院及授课教师不对因使用课程材料引发的任何直接/间接损失承担责任\n",
    "> - 学员应自行承担编程环境配置、数据实践操作及代码调试的相关风险\n",
    "> - 课程可能涉及的第三方库及工具，其版权归属各自所有者\n",
    "> \n",
    "> 学员通过参与本课程即视为同意：\n",
    "> \n",
    "> - 自行备份重要数据并承担数据丢失风险\n",
    "> - 在将所学技术应用于科研项目时履行必要的伦理审查义务\n",
    "> - 不得将课程材料用于违法违规用途\n",
    "> \n",
    "> 本声明条款解释权归主办方所有。"
   ]
  },
  {
   "cell_type": "markdown",
   "id": "f58047c2-8fd8-4466-991f-049f3bd1b566",
   "metadata": {
    "jp-MarkdownHeadingCollapsed": true
   },
   "source": [
    "## 编程语言学习的建议\n",
    "- 重要的事情说三遍：练习！练习！练习！（课程学习仅能作为辅助,上手练习的时间应当占到学习总时间的80%以上）\n",
    "- 遵从基本的代码规范\n",
    "    - [PEP8 Style Guide for Python Code](https://peps.python.org/pep-0008/)\n",
    "    - 从一开始就养成习惯，提高代码的可读性，方便你我他；\n",
    "- 尝试理解代码：\n",
    "  - 预判代码输出的结果：这段代码的输出是什么我能否在执行之前判断？\n",
    "  - 举一反三：如果我对代码做了XX修改，输出的结果会变成什么样？\n",
    "  - 运行，看看能自己的预期是否一致？不一致的话是因为什么原因？\n",
    "- 多使用基于大语言模型的(Large language model, LLM)的聊天机器人：\n",
    "  - 某个函数怎么用，举例；\n",
    "  - 某个错误是什么原因导致的？\n",
    "  - 告诉我这段代码是什么意思（逐行解释）\n",
    "- 抓住机会将python用于自己的项目：学以致用使我们最终的目标！\n",
    "\n",
    "演示：https://www.tongyi.com/qianwen\n",
    "（注：使用任何一个LLM都能满足基本的python学习需求）\n",
    "\n",
    "本教程中的练习以后都将以以下形式出现：\n",
    "\n",
    "🙋**练习**：利用LLM花几分钟时间快速掌握Markdown基本语法。"
   ]
  },
  {
   "cell_type": "markdown",
   "id": "488470a1-ddcc-4afa-bb3a-65c8ef0295a3",
   "metadata": {},
   "source": [
    "## 怎么下载安装python\n",
    "https://www.python.org/downloads/"
   ]
  },
  {
   "cell_type": "markdown",
   "id": "53c36fe9-f184-4b74-8781-190fe5f9bb69",
   "metadata": {},
   "source": [
    "### 推荐的安装方法 (for unix-like system)\n",
    "💻 (现场演示)\n",
    "- 安装 miniforge3: https://github.com/conda-forge/miniforge\n",
    "- 创建新环境并安装python\n",
    "  ```bash\n",
    "  mamba create -n main python=3.13\n",
    "  # 询问是否接受修改敲Y\n",
    "  ```\n",
    "- 激活环境：\n",
    "  ```bash\n",
    "  mamba activate main\n",
    "  ```\n",
    "- 安装jupyterlab以及其它常用package：\n",
    "  ```bash\n",
    "  mamba install jupyterlab numpy pandas seaborn plotnine\n",
    "  ```\n",
    "- 运行jupyterlab:\n",
    "  ```bash\n",
    "  jupyter lab\n",
    "  ```\n",
    "\n",
    "note：第二步如果没有mamba，需要先安装\n",
    "```bash\n",
    "conda install mamba\n",
    "```\n",
    "\n",
    "#### Windows上可选的安装方法\n",
    "1. native miniforge -> environment for python & jupyterlab\n",
    "- 下载 windows installer: https://conda-forge.org/download/\n",
    "- 从应用程序中打开\"miniforge Prompt\"\n",
    "- 执行\"conda init\"\n",
    "- 执行\"mamba create -n main python=3.13\"\n",
    "- 执行\"conda activate main\"\n",
    "\n",
    "  注1：如果想要在powershell使用miniforge，则需以下步骤：\n",
    "    - 从应用程序中打开\"miniforge Prompt\"\n",
    "    - 执行\"conda init powershell\"\n",
    "    - 打开powershell查看是否成功\n",
    "    - 如果出现ExecutionPolicy相关的错误，可以尝试以管理员身份打开PowerShell，执行以下命令后，以普通方式重新打开powershell\n",
    "      ```Powershell\n",
    "      Set-ExecutionPolicy -Scope CurrentUser -ExecutionPolicy Unrestricted\n",
    "      # 或\n",
    "      Set-ExecutionPolicy -Scope CurrentUser -ExecutionPolicy RemoteSigned\n",
    "      ```\n",
    "\n",
    "  注2：Cmd.exe或PowerShell中文版默认字体为非等宽字体使用极不方便，可以用Windows官方出品的原生终端[Windows Terminal](https://learn.microsoft.com/zh-cn/windows/terminal/)登录Cmd.exe或PowerShell。\n",
    "\n",
    "\n",
    "2. wsl2 (ubuntu) -> miniforge -> environment for python & jupyterlab\n",
    "\n",
    "3. Anaconda\n",
    "\n",
    "4. others."
   ]
  },
  {
   "cell_type": "markdown",
   "id": "37e9798e-d2ba-4e52-a8e8-80eb4914ed9b",
   "metadata": {},
   "source": [
    "## 怎么运行python？\n",
    "- 交互式执行\n",
    "    - python解释器(intepreter)\n",
    "    - Jupyter lab / jupyter notebook （本课程大多数场景使用的模式）\n",
    "    - Visual Studio Code (即VS code) + 相关插件\n",
    "- 非交互式运行\n",
    "    - 通过终端运行\n",
    "\n",
    "### Jupyter lab/notebook基础\n",
    "💻\n",
    "- `Esc`: 进入命令模式；\n",
    "- `Enter`: 进入编辑模式；\n",
    "- `Shift + Enter`: 运行当前或选中的Cell，然后进入下一个Cell；"
   ]
  },
  {
   "cell_type": "markdown",
   "id": "09312b95-5f6e-4623-9b71-96807a1f0d7a",
   "metadata": {},
   "source": [
    "命令模式快捷键：\n",
    "- Up/down Arrow: 切换单元；\n",
    "- `A` (above): 在当前单元上面插入一个新的单元；\n",
    "- `B` (below): 在当前单元下面插入一个新的单元；\n",
    "- `M` (markdown): 把当前单元变成markdown单元；\n",
    "- `Y` (code): 把当前单元变成代码单元；\n",
    "- `X` (cut)\n",
    "- `C` (copy)\n",
    "- `V` (paste) （在当前单元下方粘贴）\n",
    "- `dd`(delete) 删除当前单元格；"
   ]
  },
  {
   "cell_type": "markdown",
   "id": "efd52759-f1e2-43f4-80dc-9e9821ca674f",
   "metadata": {},
   "source": [
    "编辑模式快捷键：\n",
    "- `Ctrl` + `Shift` + `-`: 从当前光标所在位置把当前单元（cell）分成两个；\n",
    "- `Ctrl` + `S`: 保存\n",
    "- `Tab`: 自动补全\n",
    "- `Ctrl`/`Command` + `/`: comment注释/uncomment取消注释\n",
    "- `Ctrl`/`Command` + `]`: 缩进\n",
    "- `Ctrl`/`Command` + `[`: 反缩进"
   ]
  },
  {
   "cell_type": "markdown",
   "id": "052dc873-8ecd-4861-882f-80af0852d83e",
   "metadata": {},
   "source": [
    "# 01 - Python语法基础A"
   ]
  },
  {
   "cell_type": "markdown",
   "id": "54176bb1-3a37-4de1-974e-75c1120f784b",
   "metadata": {},
   "source": [
    "## 第一个程序：Hello, world!"
   ]
  },
  {
   "cell_type": "code",
   "execution_count": 1,
   "id": "721980db-1cbc-4430-8204-343971737347",
   "metadata": {},
   "outputs": [
    {
     "name": "stdout",
     "output_type": "stream",
     "text": [
      "Hello, World!\n"
     ]
    }
   ],
   "source": [
    "# 交互式\n",
    "print(\"Hello, World!\")"
   ]
  },
  {
   "cell_type": "code",
   "execution_count": 2,
   "id": "17de7b1b-3f7a-4857-8894-5a779689f34c",
   "metadata": {},
   "outputs": [
    {
     "name": "stdout",
     "output_type": "stream",
     "text": [
      "Hello, World!\n"
     ]
    }
   ],
   "source": [
    "# 脚本\n",
    "! python src/hello_world.py"
   ]
  },
  {
   "cell_type": "markdown",
   "id": "728fbcd2-5884-4edf-9acd-96566127ee12",
   "metadata": {},
   "source": [
    "注意：这里`!`表示该命令在终端（terminal）执行。"
   ]
  },
  {
   "cell_type": "code",
   "execution_count": 3,
   "id": "ea774f9e-c630-45c1-83d3-c0385a9cef24",
   "metadata": {},
   "outputs": [
    {
     "ename": "SyntaxError",
     "evalue": "invalid character '！' (U+FF01) (2872244262.py, line 1)",
     "output_type": "error",
     "traceback": [
      "  \u001b[36mCell\u001b[39m\u001b[36m \u001b[39m\u001b[32mIn[3]\u001b[39m\u001b[32m, line 1\u001b[39m\n\u001b[31m    \u001b[39m\u001b[31m！ cat src/hello_world.py\u001b[39m\n    ^\n\u001b[31mSyntaxError\u001b[39m\u001b[31m:\u001b[39m invalid character '！' (U+FF01)\n"
     ]
    }
   ],
   "source": [
    "！ cat src/hello_world.py"
   ]
  },
  {
   "cell_type": "code",
   "execution_count": 4,
   "id": "84349ae8-f539-4702-996a-7a425552c930",
   "metadata": {},
   "outputs": [
    {
     "name": "stdout",
     "output_type": "stream",
     "text": [
      "print(\"Hello, World!\")\n"
     ]
    }
   ],
   "source": [
    "! cat src/hello_world.py"
   ]
  },
  {
   "cell_type": "markdown",
   "id": "84d1466a-559f-4f8b-8380-f85fcb555dca",
   "metadata": {},
   "source": [
    "## python作为计算器"
   ]
  },
  {
   "cell_type": "code",
   "execution_count": 5,
   "id": "94e9137a-e27f-4fee-a08e-ddfa1f26e1c5",
   "metadata": {},
   "outputs": [
    {
     "data": {
      "text/plain": [
       "7"
      ]
     },
     "execution_count": 5,
     "metadata": {},
     "output_type": "execute_result"
    }
   ],
   "source": [
    "# 交互式运行时，python会自动打印最后一个表达式的值，因此后面很多情况下我们会省略“print”\n",
    "3 + 4"
   ]
  },
  {
   "cell_type": "code",
   "execution_count": 6,
   "id": "e35fb4ab-17e5-497c-b587-6d3e78e29530",
   "metadata": {},
   "outputs": [
    {
     "data": {
      "text/plain": [
       "2.5"
      ]
     },
     "execution_count": 6,
     "metadata": {},
     "output_type": "execute_result"
    }
   ],
   "source": [
    "(2 + 3)/2"
   ]
  },
  {
   "cell_type": "code",
   "execution_count": 7,
   "id": "dad63d68-0f04-42ff-ab86-f60a557a4285",
   "metadata": {},
   "outputs": [
    {
     "data": {
      "text/plain": [
       "100"
      ]
     },
     "execution_count": 7,
     "metadata": {},
     "output_type": "execute_result"
    }
   ],
   "source": [
    "10**2"
   ]
  },
  {
   "cell_type": "code",
   "execution_count": 8,
   "id": "c5decd5c-536d-4cf8-a5f9-8bc29b27f927",
   "metadata": {},
   "outputs": [
    {
     "ename": "NameError",
     "evalue": "name 'log' is not defined",
     "output_type": "error",
     "traceback": [
      "\u001b[31m---------------------------------------------------------------------------\u001b[39m",
      "\u001b[31mNameError\u001b[39m                                 Traceback (most recent call last)",
      "\u001b[36mCell\u001b[39m\u001b[36m \u001b[39m\u001b[32mIn[8]\u001b[39m\u001b[32m, line 1\u001b[39m\n\u001b[32m----> \u001b[39m\u001b[32m1\u001b[39m \u001b[43mlog\u001b[49m(\u001b[32m10\u001b[39m)\n",
      "\u001b[31mNameError\u001b[39m: name 'log' is not defined"
     ]
    }
   ],
   "source": [
    "log(10)"
   ]
  },
  {
   "cell_type": "code",
   "execution_count": 9,
   "id": "b6ba19bd-e876-4293-a942-28fcd1b29693",
   "metadata": {},
   "outputs": [
    {
     "data": {
      "text/plain": [
       "2.0"
      ]
     },
     "execution_count": 9,
     "metadata": {},
     "output_type": "execute_result"
    }
   ],
   "source": [
    "import math\n",
    "\n",
    "math.log10(100)"
   ]
  },
  {
   "cell_type": "markdown",
   "id": "492652c4-05ec-43ae-afac-7c9adc8e6186",
   "metadata": {},
   "source": [
    "`math`是一个python的标准包。"
   ]
  },
  {
   "cell_type": "code",
   "execution_count": 10,
   "id": "836f34c2-2e9c-45d7-9b1c-f3f049fe50e8",
   "metadata": {},
   "outputs": [
    {
     "data": {
      "text/plain": [
       "2.0"
      ]
     },
     "execution_count": 10,
     "metadata": {},
     "output_type": "execute_result"
    }
   ],
   "source": [
    "from math import log, log10, log2, e, pi\n",
    "\n",
    "log10(100)"
   ]
  },
  {
   "cell_type": "code",
   "execution_count": 11,
   "id": "2b6b7c19-1ab2-4295-9358-4d09cc88cdae",
   "metadata": {},
   "outputs": [
    {
     "data": {
      "text/plain": [
       "3.0"
      ]
     },
     "execution_count": 11,
     "metadata": {},
     "output_type": "execute_result"
    }
   ],
   "source": [
    "log2(8)"
   ]
  },
  {
   "cell_type": "code",
   "execution_count": 12,
   "id": "9df60e06-cd61-43a2-9126-7cd6ac8cd3fe",
   "metadata": {},
   "outputs": [
    {
     "data": {
      "text/plain": [
       "1.0"
      ]
     },
     "execution_count": 12,
     "metadata": {},
     "output_type": "execute_result"
    }
   ],
   "source": [
    "log(e)"
   ]
  },
  {
   "cell_type": "code",
   "execution_count": 13,
   "id": "b136003d-2312-4993-bbbd-c74df45c8d5f",
   "metadata": {},
   "outputs": [
    {
     "data": {
      "text/plain": [
       "56.548667764616276"
      ]
     },
     "execution_count": 13,
     "metadata": {},
     "output_type": "execute_result"
    }
   ],
   "source": [
    "2 * pi * 3**2\n",
    "# 思考：优先级？"
   ]
  },
  {
   "cell_type": "markdown",
   "id": "52f34456-4510-493d-b990-a86ff41673e1",
   "metadata": {},
   "source": [
    "## Python程序基本概念的层次结构\n",
    "\n",
    "### 层次结构\n",
    "- 程序(Program)由模块组成\n",
    "- 模块由多条指令(Statement)组成\n",
    "- 指令包含表达式(Expression)\n",
    "- 表达式创建、处理对象(Object)\n",
    "- 对象无处不在 (everything in python is an object in python)\n",
    "\n",
    "### 基本概念\n",
    "- 指令(Statement)：告诉python我们的程序应该做什么的代码；\n",
    "- 表达式(Expression)：用来计算某个值的对象与操作符的组合；\n",
    "- 对象(Object)：数据以对象的形式存在；\n",
    "\n",
    "```python\n",
    "# example statement\n",
    "a = 1 + 1\n",
    "#   - object\n",
    "#       - object\n",
    "#   ----- expression\n",
    "```"
   ]
  },
  {
   "cell_type": "markdown",
   "id": "7ed1f1df-3ced-4729-8026-ec732688450c",
   "metadata": {},
   "source": [
    "### 数据\n",
    "\n",
    "常见数据都可以用对象表示；不仅有内置的对象，还可以自己编写新的对象类型；\n",
    "\n",
    "- 文本\n",
    "- 数字\n",
    "- 序列\n",
    "- 表格\n",
    "- 图片\n",
    "- 地图\n",
    "- 声音\n",
    "- 视频\n"
   ]
  },
  {
   "cell_type": "code",
   "execution_count": 14,
   "id": "bb36e622-9afc-43a9-a0d6-740deb5298c0",
   "metadata": {},
   "outputs": [
    {
     "name": "stdout",
     "output_type": "stream",
     "text": [
      "hello, World!\n"
     ]
    }
   ],
   "source": [
    "print(\"hello, World!\")"
   ]
  },
  {
   "cell_type": "code",
   "execution_count": 15,
   "id": "7324501d-3dcf-4e10-bbc2-09f51823c6e8",
   "metadata": {},
   "outputs": [
    {
     "name": "stdout",
     "output_type": "stream",
     "text": [
      "hello, World!\n"
     ]
    }
   ],
   "source": [
    "print('hello, World!')"
   ]
  },
  {
   "cell_type": "code",
   "execution_count": 16,
   "id": "617475cd-02f4-4852-8af9-1b68b6bd6314",
   "metadata": {},
   "outputs": [
    {
     "data": {
      "text/plain": [
       "'hello, World!'"
      ]
     },
     "execution_count": 16,
     "metadata": {},
     "output_type": "execute_result"
    }
   ],
   "source": [
    "\"hello, World!\""
   ]
  },
  {
   "cell_type": "code",
   "execution_count": 17,
   "id": "e780b6dc-701b-4b2c-aad5-94e7dc82058e",
   "metadata": {},
   "outputs": [
    {
     "name": "stdout",
     "output_type": "stream",
     "text": [
      "3\n"
     ]
    }
   ],
   "source": [
    "print(3)"
   ]
  },
  {
   "cell_type": "markdown",
   "id": "4b1599dd-29ce-4347-9186-af514a1cdc8b",
   "metadata": {},
   "source": [
    "## 变量\n",
    "变量（variable）就是对象的名字。\n",
    "- 变量指代某个对象，并不需要提前创建；\n",
    "- 变量在首次赋值时创建；（即将变量名与具体的某个对象用赋值操作符`=`绑定）\n",
    "- 变量只有在被赋值之后才能在表达式中使用；\n",
    "- 变量在表达式中使用时会被替换成对应的对象；\n",
    "\n",
    "C语言\n",
    "```C\n",
    "int a;  // 声明整型变量 a\n",
    "a = 3;  // 给 a 赋值为 3\n",
    "```\n",
    "\n",
    "python\n",
    "```python\n",
    "a = 3\n",
    "```"
   ]
  },
  {
   "cell_type": "code",
   "execution_count": 18,
   "id": "338d6af0-23a3-4180-a805-2cd5b6b61aaa",
   "metadata": {},
   "outputs": [
    {
     "ename": "NameError",
     "evalue": "name 'a' is not defined",
     "output_type": "error",
     "traceback": [
      "\u001b[31m---------------------------------------------------------------------------\u001b[39m",
      "\u001b[31mNameError\u001b[39m                                 Traceback (most recent call last)",
      "\u001b[36mCell\u001b[39m\u001b[36m \u001b[39m\u001b[32mIn[18]\u001b[39m\u001b[32m, line 1\u001b[39m\n\u001b[32m----> \u001b[39m\u001b[32m1\u001b[39m \u001b[38;5;28;01mdel\u001b[39;00m \u001b[43ma\u001b[49m  \u001b[38;5;66;03m# delete, 删除a所指代的对象\u001b[39;00m\n",
      "\u001b[31mNameError\u001b[39m: name 'a' is not defined"
     ]
    }
   ],
   "source": [
    "del a  # delete, 删除a所指代的对象"
   ]
  },
  {
   "cell_type": "code",
   "execution_count": 19,
   "id": "eafccd43-3dca-4a02-af2b-e36a1b2835ee",
   "metadata": {},
   "outputs": [
    {
     "ename": "NameError",
     "evalue": "name 'a' is not defined",
     "output_type": "error",
     "traceback": [
      "\u001b[31m---------------------------------------------------------------------------\u001b[39m",
      "\u001b[31mNameError\u001b[39m                                 Traceback (most recent call last)",
      "\u001b[36mCell\u001b[39m\u001b[36m \u001b[39m\u001b[32mIn[19]\u001b[39m\u001b[32m, line 1\u001b[39m\n\u001b[32m----> \u001b[39m\u001b[32m1\u001b[39m \u001b[43ma\u001b[49m\n",
      "\u001b[31mNameError\u001b[39m: name 'a' is not defined"
     ]
    }
   ],
   "source": [
    "a"
   ]
  },
  {
   "cell_type": "code",
   "execution_count": 20,
   "id": "ff03ffa4-65b6-48c0-91c0-80132afbd1ab",
   "metadata": {},
   "outputs": [],
   "source": [
    "a = \"python\""
   ]
  },
  {
   "cell_type": "code",
   "execution_count": 21,
   "id": "98f4d20b-728c-4fb2-873d-fe17f430d303",
   "metadata": {},
   "outputs": [
    {
     "name": "stdout",
     "output_type": "stream",
     "text": [
      "python\n"
     ]
    }
   ],
   "source": [
    "print(a)"
   ]
  },
  {
   "cell_type": "code",
   "execution_count": 22,
   "id": "783b5d98-2217-49f6-89af-058768c74252",
   "metadata": {},
   "outputs": [
    {
     "data": {
      "text/plain": [
       "'a = {a}'"
      ]
     },
     "execution_count": 22,
     "metadata": {},
     "output_type": "execute_result"
    }
   ],
   "source": [
    "\"a = {a}\""
   ]
  },
  {
   "cell_type": "code",
   "execution_count": 23,
   "id": "0ab45e69-9b94-4cca-b577-c32b6555eed3",
   "metadata": {},
   "outputs": [
    {
     "data": {
      "text/plain": [
       "'python'"
      ]
     },
     "execution_count": 23,
     "metadata": {},
     "output_type": "execute_result"
    }
   ],
   "source": [
    "a"
   ]
  },
  {
   "cell_type": "code",
   "execution_count": 24,
   "id": "309a4dd7-c826-47bf-8953-8f25c0535ede",
   "metadata": {},
   "outputs": [
    {
     "data": {
      "text/plain": [
       "'a = python'"
      ]
     },
     "execution_count": 24,
     "metadata": {},
     "output_type": "execute_result"
    }
   ],
   "source": [
    "# 以下f-string中，第一个a是字符，第二个a是变量，第二个a的值最终将被替换成其所指代的字符串。\n",
    "f\"a = {a}\""
   ]
  },
  {
   "cell_type": "code",
   "execution_count": 25,
   "id": "4fe2f2ef-4040-4418-9cba-79b55afc3446",
   "metadata": {},
   "outputs": [
    {
     "name": "stdout",
     "output_type": "stream",
     "text": [
      "23 * 2324 = 53452\n"
     ]
    }
   ],
   "source": [
    "print(f\"23 * 2324 = {23 * 2324}\")"
   ]
  },
  {
   "cell_type": "markdown",
   "id": "e0f74d6d-788a-4ea7-9e31-762b687f14b4",
   "metadata": {},
   "source": [
    "🙋**练习**：自学如何创建格式化的字符串：http://docs.python.org/3/tutorial/inputoutput.html"
   ]
  },
  {
   "cell_type": "code",
   "execution_count": 26,
   "id": "b0da0577-e9a7-40c7-9704-32b01c7129e1",
   "metadata": {},
   "outputs": [
    {
     "name": "stdout",
     "output_type": "stream",
     "text": [
      "<class 'int'>\n",
      "<class 'str'>\n"
     ]
    }
   ],
   "source": [
    "a = 3\n",
    "print(type(a))\n",
    "a = '3'\n",
    "print(type(a))"
   ]
  },
  {
   "cell_type": "markdown",
   "id": "7ea34c4e-b22f-43fd-b2fc-a7a863ddfc7f",
   "metadata": {},
   "source": [
    "Q：当a重新赋值后，原先的对象（整数3）去哪里了？\n",
    "\n",
    "A：其所占用的内存空间被自动释放了(垃圾回收机制：Garbage collection)"
   ]
  },
  {
   "cell_type": "markdown",
   "id": "4086c604-4599-44cd-91f0-f531d465174f",
   "metadata": {},
   "source": [
    "## 常见的python内置对象\n",
    "- number 数值 (整数、浮点数、布尔值 boolean)\n",
    "- string 字符串 (immutable)\n",
    "- list 列表\n",
    "- tuple 元组 (immutable)\n",
    "- set 集合\n",
    "- dictionary (hash map)字典\n",
    "\n",
    "| 对象类型          | 可变性 (Mutable) | 说明                     |\n",
    "|-------------------|------------------|--------------------------|\n",
    "| `int`             | 不可变           | 整数                     |\n",
    "| `float`           | 不可变           | 浮点数                   |\n",
    "| `bool`            | 不可变           | 布尔值                   |\n",
    "| `str`             | 不可变           | 字符串                   |\n",
    "| `tuple`           | 不可变           | 元组                     |\n",
    "| `list`            | 可变             | 列表                     |\n",
    "| `dict`            | 可变             | 字典                     |\n",
    "| `set`             | 可变             | 集合                     |\n",
    "| `function`        | 可变             | 函数对象                 |\n",
    "| `class`           | 可变             | 类对象                   |\n",
    "| `module`          | 可变             | 模块对象                 |\n"
   ]
  },
  {
   "cell_type": "markdown",
   "id": "7c61b19b-5131-478c-a258-f99f14ed81e4",
   "metadata": {},
   "source": [
    "### 数值 number\n",
    "\n",
    "##### 常见数值类型\n",
    "| 类型        | 关键字/模块          | 描述                          | 示例                | 可变性  | 使用场景                     |\n",
    "|-------------|---------------------|-----------------------------|--------------------|---------|----------------------------|\n",
    "| 整数        | `int`               | 任意大小的整数                | `x = 42`           | 不可变  | 常规计数、索引               |\n",
    "| 浮点数      | `float`             | 双精度浮点数（64位）           | `y = 3.14`         | 不可变  | 科学计算、小数运算           |\n",
    "| 复数        | `complex`           | 实部 + 虚部（j后缀）           | `z = 2+3j`         | 不可变  | 数学/工程计算                |\n",
    "| 布尔型      | `bool`              | `True`/`False`（继承自int）    | `flag = True`      | 不可变  | 逻辑判断                     |"
   ]
  },
  {
   "cell_type": "code",
   "execution_count": 27,
   "id": "bc4c7bde-5ae6-4075-a5d5-201d4a73e90f",
   "metadata": {},
   "outputs": [
    {
     "name": "stdout",
     "output_type": "stream",
     "text": [
      "x = 1, y = 1.0\n"
     ]
    }
   ],
   "source": [
    "x = 1\n",
    "y = 1.0\n",
    "print(f'x = {x}, y = {y}')"
   ]
  },
  {
   "cell_type": "code",
   "execution_count": 28,
   "id": "1a883ace-6b9c-4900-858a-e3737a12cc77",
   "metadata": {},
   "outputs": [
    {
     "data": {
      "text/plain": [
       "False"
      ]
     },
     "execution_count": 28,
     "metadata": {},
     "output_type": "execute_result"
    }
   ],
   "source": [
    "a = 1 > 2\n",
    "a"
   ]
  },
  {
   "cell_type": "code",
   "execution_count": 29,
   "id": "059362a2-c40a-4520-b1ce-c286b2387eb9",
   "metadata": {},
   "outputs": [
    {
     "data": {
      "text/plain": [
       "False"
      ]
     },
     "execution_count": 29,
     "metadata": {},
     "output_type": "execute_result"
    }
   ],
   "source": [
    "1.1 + 2.2 == 3.3"
   ]
  },
  {
   "cell_type": "code",
   "execution_count": 30,
   "id": "ec03298b-b802-46a1-8e3e-869ddc613f3d",
   "metadata": {},
   "outputs": [
    {
     "data": {
      "text/plain": [
       "True"
      ]
     },
     "execution_count": 30,
     "metadata": {},
     "output_type": "execute_result"
    }
   ],
   "source": [
    "math.isclose(1.1 + 2.2, 3.3)"
   ]
  },
  {
   "cell_type": "code",
   "execution_count": 31,
   "id": "b767b31f-85ce-4bdb-9613-675a3829a35d",
   "metadata": {},
   "outputs": [
    {
     "name": "stdout",
     "output_type": "stream",
     "text": [
      "3.3000000000000003\n"
     ]
    }
   ],
   "source": [
    "print(3.1 + 0.2)"
   ]
  },
  {
   "cell_type": "markdown",
   "id": "2921890b-9d8f-4c1e-8373-29e03a374f32",
   "metadata": {},
   "source": [
    "🙋**练习**：查阅资料学习编程语言中浮点数的精度问题。"
   ]
  },
  {
   "cell_type": "markdown",
   "id": "f777f899-3d8a-4edf-9915-a97b3e059d96",
   "metadata": {},
   "source": [
    "#### 如何知道一个变量的具体类型？"
   ]
  },
  {
   "cell_type": "code",
   "execution_count": 32,
   "id": "586fc6f1-e8c8-4d7f-9d76-c3f7fb885ed1",
   "metadata": {},
   "outputs": [
    {
     "data": {
      "text/plain": [
       "int"
      ]
     },
     "execution_count": 32,
     "metadata": {},
     "output_type": "execute_result"
    }
   ],
   "source": [
    "type(x)"
   ]
  },
  {
   "cell_type": "code",
   "execution_count": 33,
   "id": "acac2899-ccff-406e-b18d-5e71bfba2e60",
   "metadata": {},
   "outputs": [
    {
     "data": {
      "text/plain": [
       "1.0"
      ]
     },
     "execution_count": 33,
     "metadata": {},
     "output_type": "execute_result"
    }
   ],
   "source": [
    "y"
   ]
  },
  {
   "cell_type": "code",
   "execution_count": 34,
   "id": "68ae6ae1-0c07-4e80-b531-84a23708844f",
   "metadata": {},
   "outputs": [
    {
     "data": {
      "text/plain": [
       "float"
      ]
     },
     "execution_count": 34,
     "metadata": {},
     "output_type": "execute_result"
    }
   ],
   "source": [
    "type(y)"
   ]
  },
  {
   "cell_type": "markdown",
   "id": "8facbaae-5392-49cb-a5e9-c0933df83317",
   "metadata": {},
   "source": [
    "#### 如何从一个类型转换成另一个类型？"
   ]
  },
  {
   "cell_type": "code",
   "execution_count": 35,
   "id": "91aba484-9acc-4060-8e7d-6d082dc5aca4",
   "metadata": {},
   "outputs": [
    {
     "name": "stdout",
     "output_type": "stream",
     "text": [
      "y2 = 1 (type = <class 'int'>)\n"
     ]
    }
   ],
   "source": [
    "y2 = int(y)\n",
    "print(f'y2 = {y2} (type = {type(y2)})')"
   ]
  },
  {
   "cell_type": "code",
   "execution_count": 36,
   "id": "3ce07c31-9870-4462-8423-e1ac215a904f",
   "metadata": {},
   "outputs": [
    {
     "data": {
      "text/plain": [
       "(str, float)"
      ]
     },
     "execution_count": 36,
     "metadata": {},
     "output_type": "execute_result"
    }
   ],
   "source": [
    "x = '3.14'\n",
    "y = float(x)\n",
    "\n",
    "type(x), type(y)"
   ]
  },
  {
   "cell_type": "code",
   "execution_count": 37,
   "id": "cb468054-fc39-4611-8e2b-f46947a13732",
   "metadata": {},
   "outputs": [
    {
     "data": {
      "text/plain": [
       "'3.141592653589793'"
      ]
     },
     "execution_count": 37,
     "metadata": {},
     "output_type": "execute_result"
    }
   ],
   "source": [
    "str(pi)"
   ]
  },
  {
   "cell_type": "markdown",
   "id": "980923ed-cf81-4e3b-b844-e87faa8eab1f",
   "metadata": {},
   "source": [
    "#### 取整"
   ]
  },
  {
   "cell_type": "code",
   "execution_count": 38,
   "id": "740df108-3c7e-471e-b559-dbd172138210",
   "metadata": {},
   "outputs": [
    {
     "data": {
      "text/plain": [
       "(3, 4)"
      ]
     },
     "execution_count": 38,
     "metadata": {},
     "output_type": "execute_result"
    }
   ],
   "source": [
    "# 四舍五入\n",
    "round(3.14), round(3.7)"
   ]
  },
  {
   "cell_type": "code",
   "execution_count": 39,
   "id": "f60314be-d13e-4fe2-b7b6-0b241166a2be",
   "metadata": {},
   "outputs": [
    {
     "data": {
      "text/plain": [
       "(4, 4)"
      ]
     },
     "execution_count": 39,
     "metadata": {},
     "output_type": "execute_result"
    }
   ],
   "source": [
    "# 向上取整\n",
    "math.ceil(3.14), math.ceil(3.7)"
   ]
  },
  {
   "cell_type": "code",
   "execution_count": 40,
   "id": "fdbccbfe-1a3a-4985-9337-f5af61efb23b",
   "metadata": {},
   "outputs": [
    {
     "data": {
      "text/plain": [
       "(3, 3)"
      ]
     },
     "execution_count": 40,
     "metadata": {},
     "output_type": "execute_result"
    }
   ],
   "source": [
    "# 向下取整\n",
    "math.floor(3.14), math.floor(3.14)"
   ]
  },
  {
   "cell_type": "markdown",
   "id": "d7b516fe-62d6-4b27-8aa5-73a8a36b0b9e",
   "metadata": {},
   "source": [
    "#### 如何用漂亮的格式打印数字？"
   ]
  },
  {
   "cell_type": "code",
   "execution_count": 41,
   "id": "78aac7d6-1720-4357-bb2c-28c6b9d63b11",
   "metadata": {},
   "outputs": [
    {
     "data": {
      "text/plain": [
       "3.141592653589793"
      ]
     },
     "execution_count": 41,
     "metadata": {},
     "output_type": "execute_result"
    }
   ],
   "source": [
    "a = pi\n",
    "pi"
   ]
  },
  {
   "cell_type": "code",
   "execution_count": 42,
   "id": "c49d55f5-4101-4549-af9e-46156ff5b514",
   "metadata": {},
   "outputs": [
    {
     "name": "stdout",
     "output_type": "stream",
     "text": [
      "a = 3.142\n"
     ]
    }
   ],
   "source": [
    "print(f'a = {a:.3f}')"
   ]
  },
  {
   "cell_type": "code",
   "execution_count": 43,
   "id": "7cd5a60f-6a1f-4f34-abbb-0bb8365d311c",
   "metadata": {},
   "outputs": [
    {
     "name": "stdout",
     "output_type": "stream",
     "text": [
      "a = 3.14e+00\n"
     ]
    }
   ],
   "source": [
    "print(f'a = {a:.2e}')"
   ]
  },
  {
   "cell_type": "code",
   "execution_count": 44,
   "id": "dd9e5ed6-d577-4cac-bb42-3c644d7d5b72",
   "metadata": {},
   "outputs": [
    {
     "name": "stdout",
     "output_type": "stream",
     "text": [
      "00199\n"
     ]
    }
   ],
   "source": [
    "print(f'{199:05d}')"
   ]
  },
  {
   "cell_type": "markdown",
   "id": "bc0cce06-5496-4096-913b-ba6c0d216df2",
   "metadata": {},
   "source": [
    "#### 常用运算符（operator） (按照优先级从高到低排列)\n",
    "\n",
    "| 优先级 | 运算符                  | 描述                          | 示例                      | 结合性     |\n",
    "|--------|-------------------------|-----------------------------|--------------------------|------------|\n",
    "| 1      | `**`                    | 指数（幂运算）                | `x ** y` (x 的 y 次方)    | 从右到左   |\n",
    "| 2      | `~`, `+`, `-`           | 按位取反、正号、负号           | `~x`, `+x`, `-x`         | 从右到左   |\n",
    "| 3      | `*`, `/`, `//`, `%`     | 乘、除、整除、取模             | `x * y`, `x / y`, `x // y`, `x % y` | 从左到右   |\n",
    "| 4      | `+`, `-`                | 加、减                        | `x + y`, `x - y`         | 从左到右   |\n",
    "| 5      | `<<`, `>>`              | 左移、右移                    | `x << y`, `x >> y`       | 从左到右   |\n",
    "| 6      | `&`                     | 按位与                        | `x & y`                  | 从左到右   |\n",
    "| 7      | `^`                     | 按位异或                      | `x ^ y`                  | 从左到右   |\n",
    "| 8      | `\\|`                    | 按位或                        | `x \\| y`                 | 从左到右   |\n",
    "| 9      | `==`, `!=`, `>`, `<`, `>=`, `<=` | 比较运算符 | `x == y`, `x != y`, `x > y` 等 | 从左到右   |\n",
    "| 10     | `is`, `is not`, `in`, `not in` | 身份/成员运算符 | `x is y`, `x in y` 等    | 从左到右   |\n",
    "| 11     | `not`                   | 逻辑非                        | `not x`                  | 从右到左   |\n",
    "| 12     | `and`                   | 逻辑与                        | `x and y`                | 从左到右   |\n",
    "| 13     | `or`                    | 逻辑或                        | `x or y`                 | 从左到右   |\n",
    "| 14     | `:=`                    | 海象运算符 (Python 3.8+)      | `if (n := len(x)) > 10:` | 从右到左   |\n",
    "\n",
    "注意：结合性决定了相同优先级运算符的计算顺序（如 `2 ** 3 ** 2` 按从右到左计算为 `2 ** (3 ** 2)`）"
   ]
  },
  {
   "cell_type": "code",
   "execution_count": 45,
   "id": "cc053588-c6fc-4ba4-b6ae-bc43fbf82e5a",
   "metadata": {},
   "outputs": [
    {
     "data": {
      "text/plain": [
       "56.548667764616276"
      ]
     },
     "execution_count": 45,
     "metadata": {},
     "output_type": "execute_result"
    }
   ],
   "source": [
    "2 * pi * 3**2"
   ]
  },
  {
   "cell_type": "code",
   "execution_count": 46,
   "id": "a8934521-7193-46a7-bf56-8fe2bbd0f6ad",
   "metadata": {},
   "outputs": [
    {
     "data": {
      "text/plain": [
       "355.3057584392169"
      ]
     },
     "execution_count": 46,
     "metadata": {},
     "output_type": "execute_result"
    }
   ],
   "source": [
    "(2 * (pi * 3))**2"
   ]
  },
  {
   "cell_type": "code",
   "execution_count": 47,
   "id": "a904b2fa-6bf4-4ddc-b556-51b57cd019f0",
   "metadata": {},
   "outputs": [
    {
     "data": {
      "text/plain": [
       "56.548667764616276"
      ]
     },
     "execution_count": 47,
     "metadata": {},
     "output_type": "execute_result"
    }
   ],
   "source": [
    "2 * pi * (3**2)"
   ]
  },
  {
   "cell_type": "markdown",
   "id": "d562521e-73e2-4645-8a0e-8a9e7c41582f",
   "metadata": {},
   "source": [
    "Q: **记不住优先级怎么办？**\n",
    "\n",
    "A: 手动加括号，省脑子，还提高了可读性!"
   ]
  },
  {
   "cell_type": "markdown",
   "id": "cd0ecdd1-46d2-4e25-b336-40c9c28db48f",
   "metadata": {},
   "source": [
    "### 列表 list"
   ]
  },
  {
   "cell_type": "code",
   "execution_count": 48,
   "id": "205f685a-4025-42f0-826f-e3ee74a533fc",
   "metadata": {},
   "outputs": [
    {
     "data": {
      "text/plain": [
       "[]"
      ]
     },
     "execution_count": 48,
     "metadata": {},
     "output_type": "execute_result"
    }
   ],
   "source": [
    "# 列表可以用方括号创建\n",
    "x = [] # 可以是空的\n",
    "x"
   ]
  },
  {
   "cell_type": "code",
   "execution_count": 49,
   "id": "57caea66-efe8-4b03-ab36-9c4ebe246662",
   "metadata": {},
   "outputs": [
    {
     "data": {
      "text/plain": [
       "[1, 2, 3]"
      ]
     },
     "execution_count": 49,
     "metadata": {},
     "output_type": "execute_result"
    }
   ],
   "source": [
    "x = [1, 2, 3]\n",
    "x"
   ]
  },
  {
   "cell_type": "code",
   "execution_count": 50,
   "id": "c3112c8a-73ed-4217-9f39-ebc6d9b7f553",
   "metadata": {},
   "outputs": [
    {
     "data": {
      "text/plain": [
       "[0, 1, 2, 3, 4, 5, 6, 7, 8, 9]"
      ]
     },
     "execution_count": 50,
     "metadata": {},
     "output_type": "execute_result"
    }
   ],
   "source": [
    "# 也可以通过list函数从可迭代对象创建\n",
    "list(range(0, 10))"
   ]
  },
  {
   "cell_type": "code",
   "execution_count": 51,
   "id": "3187bbad-d3cd-4c15-bbb3-8c68bc1e22d8",
   "metadata": {},
   "outputs": [
    {
     "data": {
      "text/plain": [
       "[1, 2, [1, 2, 3], 'abc']"
      ]
     },
     "execution_count": 51,
     "metadata": {},
     "output_type": "execute_result"
    }
   ],
   "source": [
    "# 列表的元素可以是不同类型的对象\n",
    "y = [1, 2, x, 'abc']\n",
    "y"
   ]
  },
  {
   "cell_type": "markdown",
   "id": "92285904-acac-4f83-9f6b-7b48bfbd1fbf",
   "metadata": {},
   "source": [
    "#### 索引 （indexing）\n",
    "python中序列的索引从0开始！"
   ]
  },
  {
   "cell_type": "code",
   "execution_count": 52,
   "id": "a545b702-84f0-4a10-ac60-44590e827efe",
   "metadata": {},
   "outputs": [
    {
     "data": {
      "text/plain": [
       "1"
      ]
     },
     "execution_count": 52,
     "metadata": {},
     "output_type": "execute_result"
    }
   ],
   "source": [
    "y[0]"
   ]
  },
  {
   "cell_type": "code",
   "execution_count": 53,
   "id": "33e0cb2d-5d6e-4fbd-ad0a-c7801efdcf2b",
   "metadata": {},
   "outputs": [
    {
     "data": {
      "text/plain": [
       "2"
      ]
     },
     "execution_count": 53,
     "metadata": {},
     "output_type": "execute_result"
    }
   ],
   "source": [
    "y[1]"
   ]
  },
  {
   "cell_type": "code",
   "execution_count": 54,
   "id": "7bd8152a-3d55-4b56-8313-c81b6d0fdd56",
   "metadata": {},
   "outputs": [
    {
     "data": {
      "text/plain": [
       "320"
      ]
     },
     "execution_count": 54,
     "metadata": {},
     "output_type": "execute_result"
    }
   ],
   "source": [
    "# 可以用负数从后往前索引\n",
    "a = list(range(123, 321))\n",
    "a[-1] # 倒数第一个数字"
   ]
  },
  {
   "cell_type": "code",
   "execution_count": 55,
   "id": "9c2b0f4f-ac92-455c-8987-63e83eea25bd",
   "metadata": {},
   "outputs": [
    {
     "data": {
      "text/plain": [
       "3"
      ]
     },
     "execution_count": 55,
     "metadata": {},
     "output_type": "execute_result"
    }
   ],
   "source": [
    "# 嵌套列表(nested list)的索引\n",
    "y[2][2]"
   ]
  },
  {
   "cell_type": "markdown",
   "id": "3e4d52c2-97ea-49b8-8757-56efb2039c97",
   "metadata": {},
   "source": [
    "#### 切片（slicing）"
   ]
  },
  {
   "cell_type": "code",
   "execution_count": 56,
   "id": "df1306e0-62b8-4a2a-ba99-5befeb91e354",
   "metadata": {},
   "outputs": [
    {
     "data": {
      "text/plain": [
       "[1, 2, [1, 2, 3], 'abc']"
      ]
     },
     "execution_count": 56,
     "metadata": {},
     "output_type": "execute_result"
    }
   ],
   "source": [
    "y"
   ]
  },
  {
   "cell_type": "code",
   "execution_count": 57,
   "id": "0742de53-9e83-4005-92d4-f0d050c1f95c",
   "metadata": {},
   "outputs": [
    {
     "data": {
      "text/plain": [
       "[1, 2]"
      ]
     },
     "execution_count": 57,
     "metadata": {},
     "output_type": "execute_result"
    }
   ],
   "source": [
    "y[0:2]  # 区间是0-based，左闭右开。0:2包含索引为0、1的元素，不包含索引为2的元素(第三个）"
   ]
  },
  {
   "cell_type": "code",
   "execution_count": 58,
   "id": "bababc44-0d92-47e2-a146-19b480c906a8",
   "metadata": {},
   "outputs": [
    {
     "data": {
      "text/plain": [
       "[1, 2]"
      ]
     },
     "execution_count": 58,
     "metadata": {},
     "output_type": "execute_result"
    }
   ],
   "source": [
    "y[:2]"
   ]
  },
  {
   "cell_type": "code",
   "execution_count": 59,
   "id": "a1ce68cd-d877-4093-9769-6d2122167757",
   "metadata": {},
   "outputs": [
    {
     "data": {
      "text/plain": [
       "[[1, 2, 3], 'abc']"
      ]
     },
     "execution_count": 59,
     "metadata": {},
     "output_type": "execute_result"
    }
   ],
   "source": [
    "y[-2:]"
   ]
  },
  {
   "cell_type": "code",
   "execution_count": 60,
   "id": "6823877f-c68a-4bac-9da2-58ea193719e7",
   "metadata": {},
   "outputs": [
    {
     "data": {
      "text/plain": [
       "['abc', [1, 2, 3], 2, 1]"
      ]
     },
     "execution_count": 60,
     "metadata": {},
     "output_type": "execute_result"
    }
   ],
   "source": [
    "y[::-1]  # 倒序"
   ]
  },
  {
   "cell_type": "code",
   "execution_count": 61,
   "id": "744c957d-9463-4255-9e84-73e4abe42716",
   "metadata": {},
   "outputs": [
    {
     "data": {
      "text/plain": [
       "[1, [1, 2, 3]]"
      ]
     },
     "execution_count": 61,
     "metadata": {},
     "output_type": "execute_result"
    }
   ],
   "source": [
    "y[::2]    # 每隔一个保留"
   ]
  },
  {
   "cell_type": "markdown",
   "id": "8de00e67-beba-4026-879f-a09f938f5d69",
   "metadata": {},
   "source": [
    "#### 修改列表"
   ]
  },
  {
   "cell_type": "code",
   "execution_count": 62,
   "id": "3ee74121-02ec-462f-b502-20990a1f379f",
   "metadata": {},
   "outputs": [
    {
     "data": {
      "text/plain": [
       "[1, 'a', 2]"
      ]
     },
     "execution_count": 62,
     "metadata": {},
     "output_type": "execute_result"
    }
   ],
   "source": [
    "x = [1, 'a', 2]\n",
    "x"
   ]
  },
  {
   "cell_type": "code",
   "execution_count": 63,
   "id": "fd51a987-f2d7-4e55-9937-19edfdeede96",
   "metadata": {},
   "outputs": [
    {
     "data": {
      "text/plain": [
       "[1, 'a', 'c']"
      ]
     },
     "execution_count": 63,
     "metadata": {},
     "output_type": "execute_result"
    }
   ],
   "source": [
    "x[2] = 'c'\n",
    "x"
   ]
  },
  {
   "cell_type": "code",
   "execution_count": 64,
   "id": "789a8554-9726-4e3a-b14a-c4c81ae75ada",
   "metadata": {},
   "outputs": [
    {
     "name": "stdout",
     "output_type": "stream",
     "text": [
      "[1, 'a', 'c', 4]\n"
     ]
    }
   ],
   "source": [
    "x.append(4)\n",
    "print(x)"
   ]
  },
  {
   "cell_type": "code",
   "execution_count": 65,
   "id": "97134f72-4d7f-493d-a3fd-23b4d73aa295",
   "metadata": {},
   "outputs": [
    {
     "name": "stdout",
     "output_type": "stream",
     "text": [
      "[4, 'c', 'a', 1]\n"
     ]
    }
   ],
   "source": [
    "x.reverse()\n",
    "print(x)"
   ]
  },
  {
   "cell_type": "code",
   "execution_count": 66,
   "id": "a8a8c628-1012-4dab-ad94-710480ed350e",
   "metadata": {},
   "outputs": [
    {
     "data": {
      "text/plain": [
       "[4, 'x', 'y', 'z', 'c', 'a', 1]"
      ]
     },
     "execution_count": 66,
     "metadata": {},
     "output_type": "execute_result"
    }
   ],
   "source": [
    "# insertion\n",
    "x[1:1] = ['x', 'y', 'z']\n",
    "x"
   ]
  },
  {
   "cell_type": "code",
   "execution_count": 67,
   "id": "2d3255be-91c1-4a22-a685-8e8123101180",
   "metadata": {},
   "outputs": [
    {
     "data": {
      "text/plain": [
       "[4, 'c', 'a', 1]"
      ]
     },
     "execution_count": 67,
     "metadata": {},
     "output_type": "execute_result"
    }
   ],
   "source": [
    "# deletion\n",
    "x[1:4] = []\n",
    "x"
   ]
  },
  {
   "cell_type": "code",
   "execution_count": 68,
   "id": "034c4ac9-147a-4dfd-a023-0e85f753acb5",
   "metadata": {},
   "outputs": [
    {
     "data": {
      "text/plain": [
       "[4, 'a', 'b', 1]"
      ]
     },
     "execution_count": 68,
     "metadata": {},
     "output_type": "execute_result"
    }
   ],
   "source": [
    "# replace\n",
    "x[1:3] = ['a', 'b']\n",
    "x"
   ]
  },
  {
   "cell_type": "code",
   "execution_count": 69,
   "id": "2c7b6754-5e09-4bda-8aa8-e7f80d1254bb",
   "metadata": {},
   "outputs": [
    {
     "data": {
      "text/plain": [
       "['a', 'b', 1]"
      ]
     },
     "execution_count": 69,
     "metadata": {},
     "output_type": "execute_result"
    }
   ],
   "source": [
    "# delete a single element\n",
    "del x[0]\n",
    "x"
   ]
  },
  {
   "cell_type": "markdown",
   "id": "2d99fa49-e598-459e-b85d-ec972265cf0d",
   "metadata": {},
   "source": [
    "Q：怎么知道列表对象还支持怎么操作？"
   ]
  },
  {
   "cell_type": "code",
   "execution_count": 70,
   "id": "197ff459-c8bf-4db4-816b-8cca0f66da4a",
   "metadata": {},
   "outputs": [
    {
     "name": "stdout",
     "output_type": "stream",
     "text": [
      "['__add__', '__class__', '__class_getitem__', '__contains__', '__delattr__', '__delitem__', '__dir__', '__doc__', '__eq__', '__format__', '__ge__', '__getattribute__', '__getitem__', '__getstate__', '__gt__', '__hash__', '__iadd__', '__imul__', '__init__', '__init_subclass__', '__iter__', '__le__', '__len__', '__lt__', '__mul__', '__ne__', '__new__', '__reduce__', '__reduce_ex__', '__repr__', '__reversed__', '__rmul__', '__setattr__', '__setitem__', '__sizeof__', '__str__', '__subclasshook__', 'append', 'clear', 'copy', 'count', 'extend', 'index', 'insert', 'pop', 'remove', 'reverse', 'sort']\n"
     ]
    }
   ],
   "source": [
    "print(dir(x))"
   ]
  },
  {
   "cell_type": "code",
   "execution_count": 71,
   "id": "5ac9bcd4-4c19-4825-b85b-f530c4960e9f",
   "metadata": {},
   "outputs": [
    {
     "name": "stdout",
     "output_type": "stream",
     "text": [
      "Help on built-in function sort:\n",
      "\n",
      "sort(*, key=None, reverse=False) method of builtins.list instance\n",
      "    Sort the list in ascending order and return None.\n",
      "\n",
      "    The sort is in-place (i.e. the list itself is modified) and stable (i.e. the\n",
      "    order of two equal elements is maintained).\n",
      "\n",
      "    If a key function is given, apply it once to each list item and sort them,\n",
      "    ascending or descending, according to their function values.\n",
      "\n",
      "    The reverse flag can be set to sort in descending order.\n",
      "\n"
     ]
    }
   ],
   "source": [
    "help(x.sort)"
   ]
  },
  {
   "cell_type": "markdown",
   "id": "72bdd63b-5ae9-41cc-bbaf-2fa85fad2849",
   "metadata": {},
   "source": [
    "#### 其他操作"
   ]
  },
  {
   "cell_type": "code",
   "execution_count": 72,
   "id": "89e975f9-a64c-4923-92d6-45e2c67d7021",
   "metadata": {},
   "outputs": [
    {
     "data": {
      "text/plain": [
       "[1, 2, 3, 'a', 'b', 'c']"
      ]
     },
     "execution_count": 72,
     "metadata": {},
     "output_type": "execute_result"
    }
   ],
   "source": [
    "# 合并两个列表\n",
    "[1, 2, 3] + ['a', 'b', 'c']"
   ]
  },
  {
   "cell_type": "code",
   "execution_count": 73,
   "id": "05ce4198-533a-4479-ad4f-8c675a2daa39",
   "metadata": {},
   "outputs": [
    {
     "data": {
      "text/plain": [
       "[1, 2, 3, 'a', 'b', 'c']"
      ]
     },
     "execution_count": 73,
     "metadata": {},
     "output_type": "execute_result"
    }
   ],
   "source": [
    "x = [1, 2, 3]\n",
    "x.extend(['a', 'b', 'c'])\n",
    "x"
   ]
  },
  {
   "cell_type": "code",
   "execution_count": 74,
   "id": "60729517-72a4-47d5-83b0-46fb1ce697af",
   "metadata": {},
   "outputs": [
    {
     "data": {
      "text/plain": [
       "6"
      ]
     },
     "execution_count": 74,
     "metadata": {},
     "output_type": "execute_result"
    }
   ],
   "source": [
    "# 列表的大小\n",
    "len([1, 2, 3] + ['a', 'b', 'c'])"
   ]
  },
  {
   "cell_type": "markdown",
   "id": "eae798e1-49b1-417b-8841-76852c71353e",
   "metadata": {},
   "source": [
    "🙋**练习**：如何用`x.sort()`方法对`x = [1, 'b', 'a', 'c', 3, 2]`按照字母顺序反向排序？"
   ]
  },
  {
   "cell_type": "markdown",
   "id": "cc30d73f-6fa3-4201-8577-b540d2d406cf",
   "metadata": {},
   "source": [
    "### 元组 tuple\n",
    "与列表相似，但不可变 (immutable)"
   ]
  },
  {
   "cell_type": "code",
   "execution_count": 75,
   "id": "d6477f1b-2859-4b11-8945-269f87973d05",
   "metadata": {},
   "outputs": [
    {
     "data": {
      "text/plain": [
       "(1, 2, 3)"
      ]
     },
     "execution_count": 75,
     "metadata": {},
     "output_type": "execute_result"
    }
   ],
   "source": [
    "tuple([1, 2, 3])"
   ]
  },
  {
   "cell_type": "code",
   "execution_count": 76,
   "id": "0d4c3720-2a4d-439b-af7a-57862c53ec24",
   "metadata": {},
   "outputs": [
    {
     "data": {
      "text/plain": [
       "(1, 2, 3)"
      ]
     },
     "execution_count": 76,
     "metadata": {},
     "output_type": "execute_result"
    }
   ],
   "source": [
    "x = (1, 2, 3)\n",
    "x"
   ]
  },
  {
   "cell_type": "code",
   "execution_count": 77,
   "id": "5b2efe54-a53a-4f1e-bb0b-b6b73537297e",
   "metadata": {},
   "outputs": [
    {
     "data": {
      "text/plain": [
       "(1, 2, 3)"
      ]
     },
     "execution_count": 77,
     "metadata": {},
     "output_type": "execute_result"
    }
   ],
   "source": [
    "x = 1, 2, 3\n",
    "x"
   ]
  },
  {
   "cell_type": "code",
   "execution_count": 78,
   "id": "241c0d8a-e0b5-49d8-b9fa-2c07c043d19b",
   "metadata": {},
   "outputs": [
    {
     "ename": "TypeError",
     "evalue": "'tuple' object does not support item assignment",
     "output_type": "error",
     "traceback": [
      "\u001b[31m---------------------------------------------------------------------------\u001b[39m",
      "\u001b[31mTypeError\u001b[39m                                 Traceback (most recent call last)",
      "\u001b[36mCell\u001b[39m\u001b[36m \u001b[39m\u001b[32mIn[78]\u001b[39m\u001b[32m, line 1\u001b[39m\n\u001b[32m----> \u001b[39m\u001b[32m1\u001b[39m \u001b[43mx\u001b[49m\u001b[43m[\u001b[49m\u001b[32;43m2\u001b[39;49m\u001b[43m]\u001b[49m = \u001b[33m'\u001b[39m\u001b[33ma\u001b[39m\u001b[33m'\u001b[39m  \u001b[38;5;66;03m# immutable\u001b[39;00m\n",
      "\u001b[31mTypeError\u001b[39m: 'tuple' object does not support item assignment"
     ]
    }
   ],
   "source": [
    "x[2] = 'a'  # immutable"
   ]
  },
  {
   "cell_type": "code",
   "execution_count": 79,
   "id": "f9cdb6b2-4d3b-49b5-b1a6-bd4406e0a9c5",
   "metadata": {},
   "outputs": [
    {
     "name": "stdout",
     "output_type": "stream",
     "text": [
      "['__add__', '__class__', '__class_getitem__', '__contains__', '__delattr__', '__dir__', '__doc__', '__eq__', '__format__', '__ge__', '__getattribute__', '__getitem__', '__getnewargs__', '__getstate__', '__gt__', '__hash__', '__init__', '__init_subclass__', '__iter__', '__le__', '__len__', '__lt__', '__mul__', '__ne__', '__new__', '__reduce__', '__reduce_ex__', '__repr__', '__rmul__', '__setattr__', '__sizeof__', '__str__', '__subclasshook__', 'count', 'index']\n"
     ]
    }
   ],
   "source": [
    "print(dir(x))"
   ]
  },
  {
   "cell_type": "code",
   "execution_count": 80,
   "id": "1b61810b-c4da-4623-a693-ab49dd47711a",
   "metadata": {},
   "outputs": [
    {
     "data": {
      "text/plain": [
       "3"
      ]
     },
     "execution_count": 80,
     "metadata": {},
     "output_type": "execute_result"
    }
   ],
   "source": [
    "x[2]"
   ]
  },
  {
   "cell_type": "code",
   "execution_count": 81,
   "id": "3adbbe80-77fb-4ca4-ac93-ef16332d5c1f",
   "metadata": {},
   "outputs": [
    {
     "data": {
      "text/plain": [
       "(1, 'a', 3, 3, 4, 'b')"
      ]
     },
     "execution_count": 81,
     "metadata": {},
     "output_type": "execute_result"
    }
   ],
   "source": [
    "y = (1, 'a', 3) + (3,4, 'b')\n",
    "y"
   ]
  },
  {
   "cell_type": "code",
   "execution_count": 82,
   "id": "950f114b-b529-4191-9cf1-384fa5fc5dfc",
   "metadata": {},
   "outputs": [
    {
     "data": {
      "text/plain": [
       "('b', 4, 3, 3, 'a', 1)"
      ]
     },
     "execution_count": 82,
     "metadata": {},
     "output_type": "execute_result"
    }
   ],
   "source": [
    "y[::-1]"
   ]
  },
  {
   "cell_type": "code",
   "execution_count": 83,
   "id": "5374dbc6-9123-4816-99a5-37c62ca327bc",
   "metadata": {},
   "outputs": [
    {
     "data": {
      "text/plain": [
       "(1, 'a', 3, 3, 4, 'b')"
      ]
     },
     "execution_count": 83,
     "metadata": {},
     "output_type": "execute_result"
    }
   ],
   "source": [
    "y"
   ]
  },
  {
   "cell_type": "markdown",
   "id": "dce88761-73bf-46cf-a4f8-05872413c392",
   "metadata": {},
   "source": [
    "### 字符串 string\n",
    "不可变的（immutable）、可迭代的（iterable）字符列表"
   ]
  },
  {
   "cell_type": "code",
   "execution_count": 84,
   "id": "ae187984-ef35-4100-b5e3-8f2f3a18878f",
   "metadata": {},
   "outputs": [
    {
     "data": {
      "text/plain": [
       "'Hello, World!'"
      ]
     },
     "execution_count": 84,
     "metadata": {},
     "output_type": "execute_result"
    }
   ],
   "source": [
    "x = 'Hello, World!'\n",
    "x"
   ]
  },
  {
   "cell_type": "code",
   "execution_count": 85,
   "id": "a614ab9e-a06f-4d2a-afe5-3adcb059d935",
   "metadata": {},
   "outputs": [
    {
     "data": {
      "text/plain": [
       "['H', 'e', 'l', 'l', 'o', ',', ' ', 'W', 'o', 'r', 'l', 'd', '!']"
      ]
     },
     "execution_count": 85,
     "metadata": {},
     "output_type": "execute_result"
    }
   ],
   "source": [
    "list(x)"
   ]
  },
  {
   "cell_type": "code",
   "execution_count": 86,
   "id": "79a9cb32-c178-449a-8c9b-1b64033d4839",
   "metadata": {},
   "outputs": [
    {
     "name": "stdout",
     "output_type": "stream",
     "text": [
      "['__add__', '__class__', '__contains__', '__delattr__', '__dir__', '__doc__', '__eq__', '__format__', '__ge__', '__getattribute__', '__getitem__', '__getnewargs__', '__getstate__', '__gt__', '__hash__', '__init__', '__init_subclass__', '__iter__', '__le__', '__len__', '__lt__', '__mod__', '__mul__', '__ne__', '__new__', '__reduce__', '__reduce_ex__', '__repr__', '__rmod__', '__rmul__', '__setattr__', '__sizeof__', '__str__', '__subclasshook__', 'capitalize', 'casefold', 'center', 'count', 'encode', 'endswith', 'expandtabs', 'find', 'format', 'format_map', 'index', 'isalnum', 'isalpha', 'isascii', 'isdecimal', 'isdigit', 'isidentifier', 'islower', 'isnumeric', 'isprintable', 'isspace', 'istitle', 'isupper', 'join', 'ljust', 'lower', 'lstrip', 'maketrans', 'partition', 'removeprefix', 'removesuffix', 'replace', 'rfind', 'rindex', 'rjust', 'rpartition', 'rsplit', 'rstrip', 'split', 'splitlines', 'startswith', 'strip', 'swapcase', 'title', 'translate', 'upper', 'zfill']\n"
     ]
    }
   ],
   "source": [
    "print(dir(x))"
   ]
  },
  {
   "cell_type": "code",
   "execution_count": 87,
   "id": "31cc64ae-6af6-4424-98f6-1206efd443db",
   "metadata": {},
   "outputs": [
    {
     "data": {
      "text/plain": [
       "'!dlroW ,olleH'"
      ]
     },
     "execution_count": 87,
     "metadata": {},
     "output_type": "execute_result"
    }
   ],
   "source": [
    "x[::-1]"
   ]
  },
  {
   "cell_type": "code",
   "execution_count": 88,
   "id": "71bf9681-41e3-4a1e-9918-13b8314cb2ea",
   "metadata": {},
   "outputs": [
    {
     "data": {
      "text/plain": [
       "'Hello'"
      ]
     },
     "execution_count": 88,
     "metadata": {},
     "output_type": "execute_result"
    }
   ],
   "source": [
    "x[:5]"
   ]
  },
  {
   "cell_type": "code",
   "execution_count": 89,
   "id": "b3ff5d83-5b71-48be-be72-09bf987ce8e3",
   "metadata": {},
   "outputs": [
    {
     "data": {
      "text/plain": [
       "'!'"
      ]
     },
     "execution_count": 89,
     "metadata": {},
     "output_type": "execute_result"
    }
   ],
   "source": [
    "x[-1]"
   ]
  },
  {
   "cell_type": "code",
   "execution_count": 90,
   "id": "1957af4f-39d1-4361-b9e0-d81274cb74e4",
   "metadata": {},
   "outputs": [
    {
     "data": {
      "text/plain": [
       "'Hello, World!'"
      ]
     },
     "execution_count": 90,
     "metadata": {},
     "output_type": "execute_result"
    }
   ],
   "source": [
    "'Hello' + ', ' + 'World!'"
   ]
  },
  {
   "cell_type": "code",
   "execution_count": 91,
   "id": "1f936807-7762-4fee-b217-861f204ebc84",
   "metadata": {},
   "outputs": [
    {
     "ename": "TypeError",
     "evalue": "'str' object does not support item assignment",
     "output_type": "error",
     "traceback": [
      "\u001b[31m---------------------------------------------------------------------------\u001b[39m",
      "\u001b[31mTypeError\u001b[39m                                 Traceback (most recent call last)",
      "\u001b[36mCell\u001b[39m\u001b[36m \u001b[39m\u001b[32mIn[91]\u001b[39m\u001b[32m, line 1\u001b[39m\n\u001b[32m----> \u001b[39m\u001b[32m1\u001b[39m \u001b[43mx\u001b[49m\u001b[43m[\u001b[49m\u001b[32;43m2\u001b[39;49m\u001b[43m]\u001b[49m = \u001b[33m'\u001b[39m\u001b[33mx\u001b[39m\u001b[33m'\u001b[39m\n",
      "\u001b[31mTypeError\u001b[39m: 'str' object does not support item assignment"
     ]
    }
   ],
   "source": [
    "x[2] = 'x'"
   ]
  },
  {
   "cell_type": "markdown",
   "id": "70dfe296-e6b1-4ce2-a26c-d248e7d291a5",
   "metadata": {},
   "source": [
    "### 集合 set\n",
    "无冗余元素（任何两个元素的值都不一样）的无序集合。"
   ]
  },
  {
   "cell_type": "code",
   "execution_count": 92,
   "id": "a433e599-d8dd-4b66-9c34-0700b5487d5a",
   "metadata": {},
   "outputs": [
    {
     "data": {
      "text/plain": [
       "{1, 2, 'a'}"
      ]
     },
     "execution_count": 92,
     "metadata": {},
     "output_type": "execute_result"
    }
   ],
   "source": [
    "a = set([1, 2, 2, 'a', 'a'])\n",
    "a"
   ]
  },
  {
   "cell_type": "code",
   "execution_count": 93,
   "id": "498abf27-9d12-410a-96b1-4b2b25af483f",
   "metadata": {},
   "outputs": [
    {
     "data": {
      "text/plain": [
       "{1, 2, 'a'}"
      ]
     },
     "execution_count": 93,
     "metadata": {},
     "output_type": "execute_result"
    }
   ],
   "source": [
    "a = {1, 2, 2, 'a', 'a'}\n",
    "a"
   ]
  },
  {
   "cell_type": "code",
   "execution_count": 94,
   "id": "39e52afd-737b-407e-bf3c-964bd199c075",
   "metadata": {},
   "outputs": [
    {
     "data": {
      "text/plain": [
       "set"
      ]
     },
     "execution_count": 94,
     "metadata": {},
     "output_type": "execute_result"
    }
   ],
   "source": [
    "type(a)"
   ]
  },
  {
   "cell_type": "code",
   "execution_count": 95,
   "id": "fbc2bbe7-4e14-4281-a3d2-3c08d4cde600",
   "metadata": {},
   "outputs": [
    {
     "ename": "TypeError",
     "evalue": "'set' object is not subscriptable",
     "output_type": "error",
     "traceback": [
      "\u001b[31m---------------------------------------------------------------------------\u001b[39m",
      "\u001b[31mTypeError\u001b[39m                                 Traceback (most recent call last)",
      "\u001b[36mCell\u001b[39m\u001b[36m \u001b[39m\u001b[32mIn[95]\u001b[39m\u001b[32m, line 1\u001b[39m\n\u001b[32m----> \u001b[39m\u001b[32m1\u001b[39m \u001b[43ma\u001b[49m\u001b[43m[\u001b[49m\u001b[32;43m0\u001b[39;49m\u001b[43m]\u001b[49m\n",
      "\u001b[31mTypeError\u001b[39m: 'set' object is not subscriptable"
     ]
    }
   ],
   "source": [
    "a[0]"
   ]
  },
  {
   "cell_type": "code",
   "execution_count": 96,
   "id": "8128cc00-0d5c-479c-b012-da485a79ea47",
   "metadata": {},
   "outputs": [
    {
     "data": {
      "text/plain": [
       "{'a', 'b', 'c'}"
      ]
     },
     "execution_count": 96,
     "metadata": {},
     "output_type": "execute_result"
    }
   ],
   "source": [
    "b = {'a', 'b', 'c'}\n",
    "b"
   ]
  },
  {
   "cell_type": "code",
   "execution_count": 97,
   "id": "e21e3151-f4f3-4e4a-a893-ea6889d84e0a",
   "metadata": {},
   "outputs": [
    {
     "data": {
      "text/plain": [
       "{'a'}"
      ]
     },
     "execution_count": 97,
     "metadata": {},
     "output_type": "execute_result"
    }
   ],
   "source": [
    "a.intersection(b)"
   ]
  },
  {
   "cell_type": "code",
   "execution_count": 98,
   "id": "d9a3a819-80c3-41b4-8abb-4c24b2693a8f",
   "metadata": {},
   "outputs": [
    {
     "data": {
      "text/plain": [
       "{1, 2, 'a', 'b', 'c'}"
      ]
     },
     "execution_count": 98,
     "metadata": {},
     "output_type": "execute_result"
    }
   ],
   "source": [
    "a.union(b)"
   ]
  },
  {
   "cell_type": "code",
   "execution_count": 99,
   "id": "b2bf9106-452b-4483-b2e6-8eb07b8a2b79",
   "metadata": {},
   "outputs": [
    {
     "data": {
      "text/plain": [
       "{1, 2}"
      ]
     },
     "execution_count": 99,
     "metadata": {},
     "output_type": "execute_result"
    }
   ],
   "source": [
    "a.difference(b)"
   ]
  },
  {
   "cell_type": "code",
   "execution_count": 100,
   "id": "278b7a31-b65a-4a23-b254-a52698de2258",
   "metadata": {},
   "outputs": [
    {
     "data": {
      "text/plain": [
       "{'a'}"
      ]
     },
     "execution_count": 100,
     "metadata": {},
     "output_type": "execute_result"
    }
   ],
   "source": [
    "a & b"
   ]
  },
  {
   "cell_type": "code",
   "execution_count": 101,
   "id": "0a2e57d7-f20b-45b1-9e3e-41ef4d0d390c",
   "metadata": {},
   "outputs": [
    {
     "data": {
      "text/plain": [
       "{1, 2, 'a', 'b', 'c'}"
      ]
     },
     "execution_count": 101,
     "metadata": {},
     "output_type": "execute_result"
    }
   ],
   "source": [
    "a | b"
   ]
  },
  {
   "cell_type": "code",
   "execution_count": 102,
   "id": "6dc178d4-9dac-4716-8612-e6202bb3559f",
   "metadata": {},
   "outputs": [
    {
     "data": {
      "text/plain": [
       "{1, 2}"
      ]
     },
     "execution_count": 102,
     "metadata": {},
     "output_type": "execute_result"
    }
   ],
   "source": [
    "a - b"
   ]
  },
  {
   "cell_type": "markdown",
   "id": "375bd84d-3010-49d3-9237-4f9041cb33c3",
   "metadata": {},
   "source": [
    "### 字典 dictionary\n",
    "键（key）：值（value）对儿的集合"
   ]
  },
  {
   "cell_type": "code",
   "execution_count": 103,
   "id": "6b95fe32-65b5-42a9-ae93-8f0f627147de",
   "metadata": {},
   "outputs": [
    {
     "data": {
      "text/plain": [
       "{'a': 1, 'b': 2, 'c': 'hello'}"
      ]
     },
     "execution_count": 103,
     "metadata": {},
     "output_type": "execute_result"
    }
   ],
   "source": [
    "x = dict(a = 1, b = 2, c = 'hello')\n",
    "x"
   ]
  },
  {
   "cell_type": "code",
   "execution_count": 104,
   "id": "8a4f539c-4688-402a-a2fa-84d8164f46e5",
   "metadata": {},
   "outputs": [
    {
     "data": {
      "text/plain": [
       "{'a': 1, 'b': 2, 'c': 'hello'}"
      ]
     },
     "execution_count": 104,
     "metadata": {},
     "output_type": "execute_result"
    }
   ],
   "source": [
    "x = {'a': 1, 'b': 2, 'c': 'hello'}\n",
    "x"
   ]
  },
  {
   "cell_type": "code",
   "execution_count": 105,
   "id": "bf96a867-3d9e-416d-ba07-5a8210306a6d",
   "metadata": {},
   "outputs": [
    {
     "data": {
      "text/plain": [
       "{'a': 1, 'b': 2, 'c': 'hello'}"
      ]
     },
     "execution_count": 105,
     "metadata": {},
     "output_type": "execute_result"
    }
   ],
   "source": [
    "x = dict([('a', 1), ('b', 2), ('c', 'hello')])\n",
    "x"
   ]
  },
  {
   "cell_type": "code",
   "execution_count": 106,
   "id": "3890d7c9-aeba-4183-a794-a8102d1c1349",
   "metadata": {},
   "outputs": [
    {
     "data": {
      "text/plain": [
       "{'a': 1, 'b': 2, 'c': 'hello'}"
      ]
     },
     "execution_count": 106,
     "metadata": {},
     "output_type": "execute_result"
    }
   ],
   "source": [
    "x = dict(zip(['a', 'b', 'c'], [1, 2, 'hello']))\n",
    "x"
   ]
  },
  {
   "cell_type": "code",
   "execution_count": 107,
   "id": "2611041a-fe20-4663-823a-9e7712558651",
   "metadata": {},
   "outputs": [
    {
     "ename": "KeyError",
     "evalue": "0",
     "output_type": "error",
     "traceback": [
      "\u001b[31m---------------------------------------------------------------------------\u001b[39m",
      "\u001b[31mKeyError\u001b[39m                                  Traceback (most recent call last)",
      "\u001b[36mCell\u001b[39m\u001b[36m \u001b[39m\u001b[32mIn[107]\u001b[39m\u001b[32m, line 1\u001b[39m\n\u001b[32m----> \u001b[39m\u001b[32m1\u001b[39m \u001b[43mx\u001b[49m\u001b[43m[\u001b[49m\u001b[32;43m0\u001b[39;49m\u001b[43m]\u001b[49m\n",
      "\u001b[31mKeyError\u001b[39m: 0"
     ]
    }
   ],
   "source": [
    "x[0]"
   ]
  },
  {
   "cell_type": "code",
   "execution_count": 108,
   "id": "21008988-3d4a-47e6-8152-5e7b35428e1d",
   "metadata": {},
   "outputs": [
    {
     "data": {
      "text/plain": [
       "1"
      ]
     },
     "execution_count": 108,
     "metadata": {},
     "output_type": "execute_result"
    }
   ],
   "source": [
    "x['a']"
   ]
  },
  {
   "cell_type": "code",
   "execution_count": 109,
   "id": "a2bec941-f1ad-4544-b0f1-31a140b1166b",
   "metadata": {},
   "outputs": [
    {
     "data": {
      "text/plain": [
       "'hello'"
      ]
     },
     "execution_count": 109,
     "metadata": {},
     "output_type": "execute_result"
    }
   ],
   "source": [
    "x['c']"
   ]
  },
  {
   "cell_type": "code",
   "execution_count": 110,
   "id": "d1368040-9b78-4439-baf2-f8dedee20062",
   "metadata": {},
   "outputs": [
    {
     "ename": "KeyError",
     "evalue": "'d'",
     "output_type": "error",
     "traceback": [
      "\u001b[31m---------------------------------------------------------------------------\u001b[39m",
      "\u001b[31mKeyError\u001b[39m                                  Traceback (most recent call last)",
      "\u001b[36mCell\u001b[39m\u001b[36m \u001b[39m\u001b[32mIn[110]\u001b[39m\u001b[32m, line 1\u001b[39m\n\u001b[32m----> \u001b[39m\u001b[32m1\u001b[39m \u001b[43mx\u001b[49m\u001b[43m[\u001b[49m\u001b[33;43m'\u001b[39;49m\u001b[33;43md\u001b[39;49m\u001b[33;43m'\u001b[39;49m\u001b[43m]\u001b[49m\n",
      "\u001b[31mKeyError\u001b[39m: 'd'"
     ]
    }
   ],
   "source": [
    "x['d']"
   ]
  },
  {
   "cell_type": "code",
   "execution_count": 111,
   "id": "f6d63f3a-63e5-45c9-8842-f00d7cf90931",
   "metadata": {},
   "outputs": [
    {
     "data": {
      "text/plain": [
       "{'a': 1, 'b': 2, 'c': 'hello', 'd': 4}"
      ]
     },
     "execution_count": 111,
     "metadata": {},
     "output_type": "execute_result"
    }
   ],
   "source": [
    "x['d'] = 4\n",
    "x"
   ]
  },
  {
   "cell_type": "code",
   "execution_count": 112,
   "id": "6ff55b36-b9e4-441c-aa35-31f7aa6b9f10",
   "metadata": {},
   "outputs": [
    {
     "data": {
      "text/plain": [
       "{'a': 1, 'b': 2, 'c': 'hello'}"
      ]
     },
     "execution_count": 112,
     "metadata": {},
     "output_type": "execute_result"
    }
   ],
   "source": [
    "del x['d']\n",
    "x"
   ]
  },
  {
   "cell_type": "code",
   "execution_count": 113,
   "id": "365b0215-919a-4ffe-bd37-3cc223a6c116",
   "metadata": {},
   "outputs": [
    {
     "name": "stdout",
     "output_type": "stream",
     "text": [
      "['__class__', '__class_getitem__', '__contains__', '__delattr__', '__delitem__', '__dir__', '__doc__', '__eq__', '__format__', '__ge__', '__getattribute__', '__getitem__', '__getstate__', '__gt__', '__hash__', '__init__', '__init_subclass__', '__ior__', '__iter__', '__le__', '__len__', '__lt__', '__ne__', '__new__', '__or__', '__reduce__', '__reduce_ex__', '__repr__', '__reversed__', '__ror__', '__setattr__', '__setitem__', '__sizeof__', '__str__', '__subclasshook__', 'clear', 'copy', 'fromkeys', 'get', 'items', 'keys', 'pop', 'popitem', 'setdefault', 'update', 'values']\n"
     ]
    }
   ],
   "source": [
    "print(dir(x))"
   ]
  },
  {
   "cell_type": "code",
   "execution_count": 114,
   "id": "6bee6d9c-592c-4560-ad44-5cc43fcce3b7",
   "metadata": {},
   "outputs": [
    {
     "data": {
      "text/plain": [
       "dict_items([('a', 1), ('b', 2), ('c', 'hello')])"
      ]
     },
     "execution_count": 114,
     "metadata": {},
     "output_type": "execute_result"
    }
   ],
   "source": [
    "x.items()"
   ]
  },
  {
   "cell_type": "code",
   "execution_count": 115,
   "id": "d7f40f0c-1863-434f-9302-076027d055f9",
   "metadata": {},
   "outputs": [
    {
     "data": {
      "text/plain": [
       "dict_keys(['a', 'b', 'c'])"
      ]
     },
     "execution_count": 115,
     "metadata": {},
     "output_type": "execute_result"
    }
   ],
   "source": [
    "x.keys()"
   ]
  },
  {
   "cell_type": "code",
   "execution_count": 116,
   "id": "fdb3ae37-37fc-4bec-ae4a-c9c83bb640d1",
   "metadata": {},
   "outputs": [
    {
     "data": {
      "text/plain": [
       "dict_values([1, 2, 'hello'])"
      ]
     },
     "execution_count": 116,
     "metadata": {},
     "output_type": "execute_result"
    }
   ],
   "source": [
    "x.values()"
   ]
  },
  {
   "cell_type": "code",
   "execution_count": 117,
   "id": "092d2834-3d83-4b25-aa0e-f9a6faa2d63c",
   "metadata": {},
   "outputs": [
    {
     "data": {
      "text/plain": [
       "{'a': 1, 'b': 2, 'c': 'hello'}"
      ]
     },
     "execution_count": 117,
     "metadata": {},
     "output_type": "execute_result"
    }
   ],
   "source": [
    "x['d'] = 4\n",
    "x.pop('d')\n",
    "x"
   ]
  },
  {
   "cell_type": "code",
   "execution_count": 118,
   "id": "9e98663e-0439-4b5e-8171-9633898f96e8",
   "metadata": {},
   "outputs": [
    {
     "data": {
      "text/plain": [
       "3"
      ]
     },
     "execution_count": 118,
     "metadata": {},
     "output_type": "execute_result"
    }
   ],
   "source": [
    "len(x)"
   ]
  },
  {
   "cell_type": "code",
   "execution_count": 119,
   "id": "0ffb9d51-d973-4af7-b9de-38569ff89e26",
   "metadata": {},
   "outputs": [
    {
     "ename": "TypeError",
     "evalue": "unsupported operand type(s) for +: 'dict' and 'dict'",
     "output_type": "error",
     "traceback": [
      "\u001b[31m---------------------------------------------------------------------------\u001b[39m",
      "\u001b[31mTypeError\u001b[39m                                 Traceback (most recent call last)",
      "\u001b[36mCell\u001b[39m\u001b[36m \u001b[39m\u001b[32mIn[119]\u001b[39m\u001b[32m, line 4\u001b[39m\n\u001b[32m      2\u001b[39m d1 = {\u001b[32m1\u001b[39m:\u001b[32m2\u001b[39m, \u001b[33m'\u001b[39m\u001b[33ma\u001b[39m\u001b[33m'\u001b[39m: \u001b[33m'\u001b[39m\u001b[33mb\u001b[39m\u001b[33m'\u001b[39m}\n\u001b[32m      3\u001b[39m d2 = {\u001b[32m3\u001b[39m:\u001b[32m4\u001b[39m}\n\u001b[32m----> \u001b[39m\u001b[32m4\u001b[39m \u001b[43md1\u001b[49m\u001b[43m \u001b[49m\u001b[43m+\u001b[49m\u001b[43m \u001b[49m\u001b[43md2\u001b[49m\n",
      "\u001b[31mTypeError\u001b[39m: unsupported operand type(s) for +: 'dict' and 'dict'"
     ]
    }
   ],
   "source": [
    "# 怎么合并两个字典\n",
    "d1 = {1:2, 'a': 'b'}\n",
    "d2 = {3:4}\n",
    "d1 + d2"
   ]
  },
  {
   "cell_type": "code",
   "execution_count": 120,
   "id": "ec1cde9f-4843-4555-8904-3d2918009044",
   "metadata": {},
   "outputs": [
    {
     "data": {
      "text/plain": [
       "{1: 2, 'a': 'b', 3: 4}"
      ]
     },
     "execution_count": 120,
     "metadata": {},
     "output_type": "execute_result"
    }
   ],
   "source": [
    "d1 | d2"
   ]
  },
  {
   "cell_type": "code",
   "execution_count": 121,
   "id": "c467c35e-3fe7-44ff-9805-d28be76bd5e6",
   "metadata": {},
   "outputs": [
    {
     "data": {
      "text/plain": [
       "{1: 2, 'a': 'b', 3: 4}"
      ]
     },
     "execution_count": 121,
     "metadata": {},
     "output_type": "execute_result"
    }
   ],
   "source": [
    "{**d1, **d2}"
   ]
  }
 ],
 "metadata": {
  "kernelspec": {
   "display_name": "Python 3 (ipykernel)",
   "language": "python",
   "name": "python3"
  },
  "language_info": {
   "codemirror_mode": {
    "name": "ipython",
    "version": 3
   },
   "file_extension": ".py",
   "mimetype": "text/x-python",
   "name": "python",
   "nbconvert_exporter": "python",
   "pygments_lexer": "ipython3",
   "version": "3.13.2"
  }
 },
 "nbformat": 4,
 "nbformat_minor": 5
}
