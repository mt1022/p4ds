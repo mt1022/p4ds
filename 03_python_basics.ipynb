{
 "cells": [
  {
   "cell_type": "markdown",
   "id": "fe4da253-ac50-489b-8a41-2918efe29b71",
   "metadata": {},
   "source": [
    "# 0C - Python basics C\n",
    "\n",
    "- function\n",
    "- generator\n",
    "- exceptions\n",
    "- argument scope\n",
    "- module"
   ]
  },
  {
   "cell_type": "code",
   "execution_count": null,
   "id": "69b8b167-f8df-4362-b8df-daab748a805a",
   "metadata": {},
   "outputs": [],
   "source": []
  }
 ],
 "metadata": {
  "kernelspec": {
   "display_name": "Python 3 (ipykernel)",
   "language": "python",
   "name": "python3"
  },
  "language_info": {
   "codemirror_mode": {
    "name": "ipython",
    "version": 3
   },
   "file_extension": ".py",
   "mimetype": "text/x-python",
   "name": "python",
   "nbconvert_exporter": "python",
   "pygments_lexer": "ipython3",
   "version": "3.13.2"
  }
 },
 "nbformat": 4,
 "nbformat_minor": 5
}
