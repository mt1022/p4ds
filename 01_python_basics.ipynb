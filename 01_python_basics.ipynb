{
 "cells": [
  {
   "cell_type": "markdown",
   "id": "052dc873-8ecd-4861-882f-80af0852d83e",
   "metadata": {},
   "source": [
    "# 初识Python"
   ]
  },
  {
   "cell_type": "markdown",
   "id": "f46ec69c-864d-4c59-9a12-3718763feaa5",
   "metadata": {},
   "source": [
    "## 怎么下载安装python\n",
    "https://www.python.org/downloads/"
   ]
  },
  {
   "cell_type": "markdown",
   "id": "1e3e86fc-06fb-4113-975d-675eceadcac5",
   "metadata": {},
   "source": [
    "## 怎么运行python？\n",
    "- 交互式执行\n",
    "    - python解释器(intepreter)\n",
    "    - Jupyter lab / jupyter notebook （本课程大多数场景使用的模式）\n",
    "    - Visual Studio Code (即VS code) + 相关插件\n",
    "- 非交互式运行\n",
    "    - 命令行"
   ]
  },
  {
   "cell_type": "markdown",
   "id": "c5f0603e-833c-418e-80de-c9bfa9bc8fb6",
   "metadata": {},
   "source": [
    "## 编程语言学习的建议\n",
    "- 重要的事情说三遍：练习！练习！练习！\n",
    "- 尝试理解代码：\n",
    "  - 预判代码输出的结果：这段代码的输出是什么我能否在执行之前判断？\n",
    "  - 举一反三：如果我对代码做了XX修改，输出的结果会变成什么样？\n",
    "  - 运行，看看能自己的预期是否一致？不一致的话是因为什么原因？\n",
    "- 多使用基于LLM的聊天机器人：\n",
    "  - 某个函数怎么用，举例；\n",
    "  - 某个错误是什么原因导致的？\n",
    "  - 告诉我这段代码是什么意思（逐行解释）"
   ]
  },
  {
   "cell_type": "markdown",
   "id": "b59d963b-0c8c-4aed-9337-0ea81e3d7e53",
   "metadata": {},
   "source": [
    "## 第一个程序：Hello, world!"
   ]
  },
  {
   "cell_type": "markdown",
   "id": "ba5e1129-749e-461f-a2c4-e01a981c7658",
   "metadata": {},
   "source": [
    "## 为什么AI现在发展这么快，我还要学自己用python编程？\n",
    "\n",
    "我的经验：\n",
    "- 熟练的程序员在复杂多样的实际应用场景中比AI更高效灵活；\n",
    "- 没有任何一个AI敢跟你保证它对它所生成的内容所产生的后果负责！\n",
    "\n",
    "不信可以自己看看你常用的AI工具的服务条款或协议。\n",
    "\n",
    "https://openai.com/policies/terms-of-use/\n",
    "> When you use our Services you understand and agree:\n",
    ">   - Output may not always be accurate. You should not rely on Output from our Services as a sole source of truth or factual > information, or as a substitute for professional advice.\n",
    ">   - You must evaluate Output for accuracy and appropriateness for your use case, including using human review as appropriate, before using or sharing Output from the Services.\n",
    ">   - You must not use any Output relating to a person for any purpose that could have a legal or material impact on that person, such as making credit, educational, employment, housing, insurance, legal, medical, or other important decisions about them. \n",
    ">   - Our Services may provide incomplete, incorrect, or offensive Output that does not represent OpenAI’s views. If Output references any third party products or services, it doesn’t mean the third party endorses or is affiliated with OpenAI.\n",
    "> (人话版：你理解我们生成的内容会有错，这不代表我们的观点)\n",
    "> Disclaimer of warranties\n",
    "OUR SERVICES ARE PROVIDED “AS IS.” EXCEPT TO THE EXTENT PROHIBITED BY LAW, WE AND OUR AFFILIATES AND LICENSORS MAKE NO WARRANTIES (EXPRESS, IMPLIED, STATUTORY OR OTHERWISE) WITH RESPECT TO THE SERVICES, AND DISCLAIM ALL WARRANTIES INCLUDING, BUT NOT LIMITED TO, WARRANTIES OF MERCHANTABILITY, FITNESS FOR A PARTICULAR PURPOSE, SATISFACTORY QUALITY, NON-INFRINGEMENT, AND QUIET ENJOYMENT, AND ANY WARRANTIES ARISING OUT OF ANY COURSE OF DEALING OR TRADE USAGE. WE DO NOT WARRANT THAT THE SERVICES WILL BE UNINTERRUPTED, ACCURATE OR ERROR FREE, OR THAT ANY CONTENT WILL BE SECURE OR NOT LOST OR ALTERED. \n",
    "> YOU ACCEPT AND AGREE THAT ANY USE OF OUTPUTS FROM OUR SERVICE IS AT YOUR SOLE RISK AND YOU WILL NOT RELY ON OUTPUT AS A SOLE SOURCE OF TRUTH OR FACTUAL INFORMATION, OR AS A SUBSTITUTE FOR PROFESSIONAL ADVICE.\n",
    "> (人话版:咱可事先说好了，我们不对我们模型的输出负任何责任)\n",
    "\n",
    "腾讯元宝（https://rule.tencent.com/rule/202403110001）\n",
    "> 本服务的生成内容由大语言模型技术生成，不代表本服务提供方的立场，若涉及对您或者相关方可能产生重大影响的情形（例如法律、医疗、金融等相关专业场景或领域），本服务不能替代专业人员向您提供解答，相关内容仅供您参考。您根据生成内容所作出的判断或者据此作出的后续相关操作行为，其责任由您依法承担。请审慎理性和依法使用本服务。\n",
    "> 您充分了解并同意，您需要为自己使用本服务的行为及产生的后果负责，且您应对使用本服务时接触到的内容自行加以判断，包括因对内容的正确性、完整性或实用性的依赖而产生的风险。\n",
    "> 因您违反本协议导致或产生第三方主张的索赔、要求或损失，您应当独立承担责任；腾讯公司因此遭受损失的，您也应当一并赔偿。\n",
    "> 如因您违反法律法规或本协议约定的行为给我们造成损失的，或您干扰本服务的运行，或干扰其他用户对本服务的使用的，我们有权向您索赔。\n",
    "> 我们致力于提供安全、稳定、持续的服务，以保障用户的正常使用，您理解并同意，尽管我们已经尽了最大努力，但由于大模型技术发展的局限性，我们无法完全保证 ...\n",
    "鉴于此，针对本服务生成的内容请您注意甄别并根据您的实际情况做出理性判断。请审慎理性和依法使用本服务。\n",
    "> 6除非本服务相关界面另有说明，或您与我们另有约定，或法律有明确规定，我们不对由于使用本服务给您引起的损害承担责任。\n",
    "> (人话版:我们对模型输出基本不负任何责任，你自己多加小心！)\n",
    "\n",
    "### AI自己怎么看？\n",
    "Q:\n",
    "> 现在AI写代码这么厉害，我是否还有必要学习如何自己用python写程序？\n",
    "\n",
    "ChatGPT 说：\n",
    ">这是一个非常现实且重要的问题。简单来说，即便现在AI能写代码，自己学会Python依然很有价值。下面我从几个角度来分析：\n",
    ">\n",
    ">✅ 为什么你仍然应该学Python：\n",
    ">1. 【理解和评估AI生成代码的能力】AI虽然能帮你写代码，但它有时会犯错。你需要有能力：看懂代码在干什么；判断它是否正确、高效、安全；调试和修改它。\n",
    "   没有编程基础，这些事几乎做不了。\n",
    ">\n",
    ">2. 【增强你的主动性和创造力】\n",
    "如果你不会编程，AI就像个“黑箱工具”。但如果你懂：\n",
    "你可以更明确地描述问题或需求（提示词更精准）；\n",
    "更容易组合、拼接AI生成的不同代码片段；\n",
    "能写一些AI无法想象的“独特解决方案”。\n",
    ">3. 【学习编程是理解AI本身的一种方式】\n",
    "学Python会帮助你理解：\n",
    "算法、模型和数据结构是怎么工作的；\n",
    "你更容易入门机器学习、数据分析、自动化等领域。\n",
    ">4. 【在复杂项目中，AI只是你的助手】\n",
    "AI适合写中小型功能、代码片段、模板。但在这些情况下你必须自己主导：\n",
    "构建大规模系统或应用；\n",
    "理清代码结构、数据流、模块依赖；\n",
    "协作开发、版本控制等。\n",
    ">5. 【AI辅助编程 ≠ 不用编程】\n",
    "AI不会替代程序员，而是让一个程序员变得像“十个程序员”一样高效。如果你懂Python，再借助AI，你会更有生产力。"
   ]
  },
  {
   "cell_type": "code",
   "execution_count": null,
   "id": "fd24e939-0bfc-47e1-8c8f-90a2694d53b3",
   "metadata": {},
   "outputs": [],
   "source": []
  }
 ],
 "metadata": {
  "kernelspec": {
   "display_name": "Python 3 (ipykernel)",
   "language": "python",
   "name": "python3"
  },
  "language_info": {
   "codemirror_mode": {
    "name": "ipython",
    "version": 3
   },
   "file_extension": ".py",
   "mimetype": "text/x-python",
   "name": "python",
   "nbconvert_exporter": "python",
   "pygments_lexer": "ipython3",
   "version": "3.13.2"
  }
 },
 "nbformat": 4,
 "nbformat_minor": 5
}
