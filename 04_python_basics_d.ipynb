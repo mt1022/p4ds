{
 "cells": [
  {
   "cell_type": "markdown",
   "id": "c2c6ba05-d26b-4972-bb6f-e9cb946bb944",
   "metadata": {},
   "source": [
    "# 04 - Python basics D\n",
    "\n",
    "- 类(class)与实例(instance)\n",
    "- 继承(inheritance)\n",
    "- 实例的初始化\n",
    "- 脚本编写(scripting)\n",
    "\n",
    "## 学习目标\n",
    "\n",
    "- 如何根据自己的需求创建新的合适的数据类型\n",
    "- 如何编写可以提供参数的命令行脚本"
   ]
  },
  {
   "cell_type": "markdown",
   "id": "a4ac44c8-c2c9-4fed-bb17-297c54ed95b0",
   "metadata": {},
   "source": [
    "## 类与类的实例\n",
    "\n",
    "类是一个抽象的模板或蓝图，用于描述具有相同属性（数据）和行为（方法）的一组对象。它定义了对象的结构，包括属性(property)，即对象的状态信息，比如手机的内存大小、存储、电池容量；也包括方法(method)，即对象可以执行的操作，比如手机大都可以拍照、打电话。\n",
    "\n",
    "实例是根据某个类创建出来的具体对象。每个实例都有类所定义的属性和方法，但每个实例的属性值可以是不同的。例如某个型号的手机设计方案与相关的技术规格是class，但具体生产出来的手机（instance）的存储有256G的，有512G的，还有1T的。"
   ]
  },
  {
   "cell_type": "markdown",
   "id": "5a62f8a2-bfa0-4fd2-9939-634525cd2c6f",
   "metadata": {},
   "source": [
    "`class`关键字用来创建类对象，并赋予其类名；在class定义内部的赋值会成为class的特性，这些特性可以是这一类对象的状态（属性，property）或者可以执行的操作（方法，method）。类创建时定义的函数通过self来访问或修改实例的信息，因此这些函数的第一个参数一般都是`self`，运行时用来指代具体实例自身。\n",
    "\n",
    "实例通过调用类对象来创建，每个实例对象会继承这一类对象的属性，并获得自己的命名空间。如果类对象定义的某个函数能够修改self的属性，那么调用这个函数时，这个实例的属性会被修改，但类对象的属性不会变化。"
   ]
  },
  {
   "cell_type": "code",
   "execution_count": null,
   "id": "d614af5a-ad9b-4c29-bf1c-a9a11b56760e",
   "metadata": {},
   "outputs": [],
   "source": [
    "class SmartPhone: # class name, CamelCase (驼峰命名法)\n",
    "    brand = None  # class property\n",
    "    model= None   # class property\n",
    "    def set_brand(self, value):  # class method\n",
    "        self.brand = value         # set the instance property\n",
    "    def set_model(self, value):  # class method\n",
    "        self.model = value         # set the instance property\n",
    "    def display(self):           # class method\n",
    "        # print instance properties if set; otherwise class properties;\n",
    "        print(f'{self.brand} {self.model}')"
   ]
  },
  {
   "cell_type": "code",
   "execution_count": null,
   "id": "aacc5410-a11e-495c-b7db-723db84f1c4c",
   "metadata": {},
   "outputs": [],
   "source": [
    "SmartPhone"
   ]
  },
  {
   "cell_type": "code",
   "execution_count": null,
   "id": "8da781e9-e362-4e7f-889f-eb36108642ee",
   "metadata": {},
   "outputs": [],
   "source": [
    "x = SmartPhone()"
   ]
  },
  {
   "cell_type": "code",
   "execution_count": null,
   "id": "fe625da5-84e5-4506-a1eb-a27b0474328f",
   "metadata": {},
   "outputs": [],
   "source": [
    "type(x)"
   ]
  },
  {
   "cell_type": "code",
   "execution_count": null,
   "id": "5e3b9d3d-fce5-4d66-9f48-fd6d47e2439d",
   "metadata": {},
   "outputs": [],
   "source": [
    "x.set_brand('Huawei')\n",
    "x.set_model('P10')"
   ]
  },
  {
   "cell_type": "code",
   "execution_count": null,
   "id": "f5137657-7081-4856-ba8c-d8c4712fd28b",
   "metadata": {},
   "outputs": [],
   "source": [
    "print(dir(x))"
   ]
  },
  {
   "cell_type": "code",
   "execution_count": null,
   "id": "23328d45-a018-4f26-8c3e-d7ba7e4e73bc",
   "metadata": {},
   "outputs": [],
   "source": [
    "x.model"
   ]
  },
  {
   "cell_type": "code",
   "execution_count": null,
   "id": "77ae0896-eb40-47de-88e1-22a3da0a84af",
   "metadata": {},
   "outputs": [],
   "source": [
    "x.brand"
   ]
  },
  {
   "cell_type": "code",
   "execution_count": null,
   "id": "f41d3351-af6f-4328-8fd4-0c4b3a75c448",
   "metadata": {},
   "outputs": [],
   "source": [
    "# 使用实例的方法\n",
    "x.display()"
   ]
  },
  {
   "cell_type": "code",
   "execution_count": null,
   "id": "ee82a3a6-3c11-4959-951b-41770225ac33",
   "metadata": {},
   "outputs": [],
   "source": [
    "# 等价于\n",
    "SmartPhone.display(x)"
   ]
  },
  {
   "cell_type": "code",
   "execution_count": null,
   "id": "be859707-a6d8-43d8-8e90-9737a0eda7e0",
   "metadata": {},
   "outputs": [],
   "source": [
    "# 通过类对象的方法对self的修改影响的是实例x的品牌与型号；\n",
    "# 新创建的实例的品牌与型号还未设定，如果我们尝试访问的话会有什么样的结果呢？\n",
    "y = SmartPhone()\n",
    "y.display()"
   ]
  },
  {
   "cell_type": "markdown",
   "id": "ca8e9290-885c-4697-989e-53d31eb2ce4b",
   "metadata": {},
   "source": [
    "Python中的类更像是变量空间（namespace），实例是这个空间绑定特定对象后的变量空间。\n",
    "\n",
    "```mermaid\n",
    "classDiagram\n",
    "SmartPhone <|-- x: is a\n",
    "SmartPhone <|-- y: is a\n",
    "\n",
    "class SmartPhone{\n",
    "    + brand = None\n",
    "    + model = None\n",
    "    + set_brand(self, value)\n",
    "    + set_model(self, value)\n",
    "    + display(self)\n",
    "}\n",
    "\n",
    "class x{\n",
    "    + brand = \"Huawei\"\n",
    "    + model = \"P10\"\n",
    "    + set_brand(value)\n",
    "    + set_model(value)\n",
    "    + display()\n",
    "}\n",
    "\n",
    "class y{\n",
    "    + set_brand(value)\n",
    "    + set_model(value)\n",
    "    + display()\n",
    "}\n",
    "```"
   ]
  },
  {
   "cell_type": "code",
   "execution_count": null,
   "id": "9060c5bb-2bdb-4afb-9ecd-f33cc2d38ef2",
   "metadata": {},
   "outputs": [],
   "source": [
    "# 当我们尝试获取实例的某个属性，但这个属性还没创建，该实例的命名空间还不存在这个属性时，\n",
    "# Python会从类对象的命名空间尝试获取这个属性的值；\n",
    "id(SmartPhone.brand), id(x.brand), id(y.brand)"
   ]
  },
  {
   "cell_type": "code",
   "execution_count": null,
   "id": "4f877e58-0562-4d34-81ef-85476c61a310",
   "metadata": {},
   "outputs": [],
   "source": [
    "# 类对象定义时，声明的函数是普通的函数\n",
    "# 对于创建的实例，函数变成了与这个实例绑定的方法\n",
    "SmartPhone.set_brand, x.set_brand"
   ]
  },
  {
   "cell_type": "code",
   "execution_count": null,
   "id": "c6ca5e2f-f02b-4d94-b1fc-80a81fbec2a9",
   "metadata": {},
   "outputs": [],
   "source": [
    "# 对于实例的绑定的（bound）方法，可以通过__self__属性获取到这个方法绑定的实例对象\n",
    "x.set_brand.__self__, y.set_brand.__self__"
   ]
  },
  {
   "cell_type": "code",
   "execution_count": null,
   "id": "43932186-5a2a-4811-bfbc-5d3fb2a6b4f8",
   "metadata": {},
   "outputs": [],
   "source": [
    "x, y"
   ]
  },
  {
   "cell_type": "markdown",
   "id": "d07f8239-01ab-4bdd-9aa5-ba24293055df",
   "metadata": {},
   "source": [
    "------------\n",
    "🙋**练习**\n",
    "\n",
    "`id(SmartPhone.set_brand), id(x.set_brand), id(y.set_brand)`三者是否相同，为什么？\n",
    "\n",
    "-------------"
   ]
  },
  {
   "cell_type": "code",
   "execution_count": null,
   "id": "1f9b64f4-8177-46e2-a0b7-7ac171e2c4ea",
   "metadata": {},
   "outputs": [],
   "source": [
    "y.set_brand('Huawei')\n",
    "y.set_model('Nova 14 Ultra')\n",
    "y.display()"
   ]
  },
  {
   "cell_type": "markdown",
   "id": "a4288615-0052-4a94-8ba2-73c4e02f367c",
   "metadata": {},
   "source": [
    "```mermaid\n",
    "classDiagram\n",
    "SmartPhone <|-- x: is a\n",
    "SmartPhone <|-- y: is a\n",
    "\n",
    "class SmartPhone{\n",
    "    + brand = None\n",
    "    + model = None\n",
    "    + set_brand(self, value)\n",
    "    + set_model(self, value)\n",
    "    + display(self)\n",
    "}\n",
    "\n",
    "class x{\n",
    "    + brand = \"Huawei\"\n",
    "    + model = \"P10\"\n",
    "    + set_brand(value)\n",
    "    + set_model(value)\n",
    "    + display(self)\n",
    "}\n",
    "\n",
    "class y{\n",
    "    + brand = \"Huawei\"\n",
    "    + model = \"Nova 14 Ultra\"\n",
    "    + set_brand(value)\n",
    "    + set_model(value)\n",
    "    + display(self)\n",
    "}\n",
    "```"
   ]
  },
  {
   "cell_type": "code",
   "execution_count": null,
   "id": "4767f171-832a-47b5-8905-33243b7a99d7",
   "metadata": {},
   "outputs": [],
   "source": [
    "# 我们也可以通过在创建后，在这些命名空间里添加新的变量成为实例的属性\n",
    "y.battery = 5500\n",
    "print(y.battery)"
   ]
  },
  {
   "cell_type": "markdown",
   "id": "246bfec4",
   "metadata": {},
   "source": [
    "```mermaid\n",
    "classDiagram\n",
    "SmartPhone <|-- x: is a\n",
    "SmartPhone <|-- y: is a\n",
    "\n",
    "class SmartPhone{\n",
    "    + brand = None\n",
    "    + model = None\n",
    "    + set_brand(self, value)\n",
    "    + set_model(self, value)\n",
    "    + display(self)\n",
    "}\n",
    "\n",
    "class x{\n",
    "    + brand = \"Huawei\"\n",
    "    + model = \"P10\"\n",
    "    + set_brand(value)\n",
    "    + set_model(value)\n",
    "    + display()\n",
    "}\n",
    "\n",
    "class y{\n",
    "    + brand = \"Huawei\"\n",
    "    + model = \"Nova 14 Ultra\"\n",
    "    + battery = 5500\n",
    "    + set_brand(value)\n",
    "    + set_model(value)\n",
    "    + display()\n",
    "}\n",
    "```"
   ]
  },
  {
   "cell_type": "code",
   "execution_count": null,
   "id": "3563cbcf-c920-4bbc-9dd8-b3440184645f",
   "metadata": {},
   "outputs": [],
   "source": [
    "# 可以用实例或类对象自身的.__dict__属性查看命名空间中的内容\n",
    "y.__dict__"
   ]
  },
  {
   "cell_type": "code",
   "execution_count": null,
   "id": "1229774f-c011-4622-8029-bcf4dc3be4c4",
   "metadata": {},
   "outputs": [],
   "source": [
    "SmartPhone.__dict__"
   ]
  },
  {
   "cell_type": "code",
   "execution_count": null,
   "id": "8f79b110-2ead-46dc-be6e-51081c1e0a93",
   "metadata": {},
   "outputs": [],
   "source": [
    "y.__dict__"
   ]
  },
  {
   "cell_type": "code",
   "execution_count": null,
   "id": "539b7b2e-c257-47ad-afe5-166d296a674d",
   "metadata": {},
   "outputs": [],
   "source": [
    "# 给实例的命名空间添加新的函数只会是普通的函数，不会自动成为绑定的函数\n",
    "def display2(self):\n",
    "    print(f'{self.brand} {self.model} with a {self.battery} mAh battery')\n",
    "\n",
    "y.display2 = display2\n",
    "\n",
    "y.display2()"
   ]
  },
  {
   "cell_type": "code",
   "execution_count": null,
   "id": "84b1ed90-ea01-4e8a-b518-dd953cc563ba",
   "metadata": {},
   "outputs": [],
   "source": [
    "del y.display2"
   ]
  },
  {
   "cell_type": "code",
   "execution_count": null,
   "id": "150ab03d-6ef7-4512-b843-a42b8faace49",
   "metadata": {},
   "outputs": [],
   "source": [
    "y.__dict__"
   ]
  },
  {
   "cell_type": "code",
   "execution_count": null,
   "id": "dfeab3e3-40bf-4044-90fd-9e1c55a93650",
   "metadata": {},
   "outputs": [],
   "source": [
    "# 给类对象添加的新函数会成为所有同属于此类的实例的绑定函数；\n",
    "# 被绑定的对象自动成为函数的第一个参数；\n",
    "def display2(self):\n",
    "    print(f'{self.brand} {self.model} with a {self.battery} mAh battery')\n",
    "\n",
    "SmartPhone.display2 = display2\n",
    "\n",
    "y.display2()"
   ]
  },
  {
   "cell_type": "markdown",
   "id": "15a674ec-9f4b-4e74-898d-a9e4c3833f13",
   "metadata": {},
   "source": [
    "------------\n",
    "🙋**练习**\n",
    "\n",
    "1. 定义class时，其中的函数第一个参数必须叫self吗？不叫self会有什么后果？自己定义一个类试试。\n",
    "2. 如果非要给某个实例而非类对象添加新的绑定的方法，是否能够实现？如果可以，如何实现？如果不可以，为什么？\n",
    "   \n",
    "------------"
   ]
  },
  {
   "cell_type": "code",
   "execution_count": null,
   "id": "e7bb4597-54e0-4462-957e-3b42eab1a4fb",
   "metadata": {},
   "outputs": [],
   "source": [
    "del SmartPhone.display2\n",
    "y.display2()"
   ]
  },
  {
   "cell_type": "markdown",
   "id": "ca9f4a11-8a81-4bb1-880c-0400fccdb6b9",
   "metadata": {},
   "source": [
    "------------\n",
    "🙋**练习**\n",
    "\n",
    "下面的代码会报错吗，不报错的话会输出什么呢？\n",
    "```python\n",
    "SmartPhone.year = 2025\n",
    "\n",
    "x = SmartPhone()\n",
    "print(x.year)\n",
    "```\n",
    "\n",
    "-------------"
   ]
  },
  {
   "cell_type": "markdown",
   "id": "af9f2f81-171a-4298-b46a-410003103a2b",
   "metadata": {},
   "source": [
    "## 继承（Inheritance）"
   ]
  },
  {
   "cell_type": "code",
   "execution_count": null,
   "id": "820b1336-393a-4061-a537-23a8bbc0b98f",
   "metadata": {},
   "outputs": [],
   "source": [
    "class HuaweiPhone(SmartPhone):\n",
    "    def huawei_style_display(self):\n",
    "        print(f'{self.brand} {self.model} - a smartphone far ahead of its peers.')\n",
    "\n",
    "# 仅作为例子展示继承的语法，不对产品的实际表现做任何保证或评价，本课程也没有受到任何厂商的赞助或支持。"
   ]
  },
  {
   "cell_type": "code",
   "execution_count": null,
   "id": "46e3bd08-bd3d-42d8-95ad-5ed006ff0c6e",
   "metadata": {},
   "outputs": [],
   "source": [
    "x = HuaweiPhone()\n",
    "x.set_brand('Huawei')\n",
    "x.set_model('Nova 14 Ultra')\n",
    "x.display()"
   ]
  },
  {
   "cell_type": "code",
   "execution_count": null,
   "id": "16f9e89a-b1a6-448a-8846-6ab079fde13c",
   "metadata": {},
   "outputs": [],
   "source": [
    "x.huawei_style_display()"
   ]
  },
  {
   "cell_type": "markdown",
   "id": "56807f1f-302d-483f-bf51-8008688c348c",
   "metadata": {},
   "source": [
    "- 继承机制允许我们从已有的类基础上创建新的类，新创建的类叫子类（subclass），被继承的叫父类、超类（superclass）；\n",
    "- 定义子类时，被继承的父类列在子类名称后面的括号中；\n",
    "- 子类继承父类的所有特性；实例继承子类以及子类的父类的特性；\n",
    "- Python搜索实例的属性时，先搜索实例自身的命名空间，没找到的话再搜索类的命名空间，最后再搜索类的父类的命名空间；"
   ]
  },
  {
   "cell_type": "code",
   "execution_count": null,
   "id": "9edae354-6447-4a4d-9e73-029ad04e2e15",
   "metadata": {},
   "outputs": [],
   "source": [
    "# 方法重载（overloading）：当子类的方法与父类的方法名称相同时，按照Python的搜索顺序，\n",
    "# 先找到子类定义的方法，因而父类的方法看起来像是被覆盖了。\n",
    "class HuaweiPhone(SmartPhone):\n",
    "    def display(self):\n",
    "        print(f'{self.brand} {self.model} - a smartphone far ahead of its peers.')"
   ]
  },
  {
   "cell_type": "code",
   "execution_count": null,
   "id": "cfbb1aa0-eb0e-4a96-aa80-0087c4c7ed64",
   "metadata": {},
   "outputs": [],
   "source": [
    "x = HuaweiPhone()\n",
    "x.set_brand('Huawei')\n",
    "x.set_model('Nova 14 Ultra')\n",
    "x.display()"
   ]
  },
  {
   "cell_type": "code",
   "execution_count": null,
   "id": "90f71049-6b87-4415-9e6c-ba9ba686e711",
   "metadata": {},
   "outputs": [],
   "source": [
    "print(x)"
   ]
  },
  {
   "cell_type": "markdown",
   "id": "c8319e7e-8c36-4a6f-bd7a-80bc8bb932e4",
   "metadata": {},
   "source": [
    "```mermaid\n",
    "classDiagram\n",
    "SmartPhone <|-- HuaweiPhone: inherits\n",
    "\n",
    "class SmartPhone{\n",
    "    + brand = None\n",
    "    + model = None\n",
    "    + set_brand(self, value)\n",
    "    + set_model(self, value)\n",
    "    + display(self)\n",
    "}\n",
    "\n",
    "class HuaweiPhone{\n",
    "    + display*(self)\n",
    "}\n",
    "```"
   ]
  },
  {
   "cell_type": "markdown",
   "id": "2daec25c-8e71-446b-9e86-3f95718703d5",
   "metadata": {},
   "source": [
    "- `__`括起来的特性是特殊的特性，某些内置函数在运行时会自动使用这些特性；\n",
    "- 在定义类时可以重载内置的特性；\n",
    "- 如果某个类对于一个运算符没有定义或者继承默认的操作，那么这个运算符不支持这个类；"
   ]
  },
  {
   "cell_type": "code",
   "execution_count": null,
   "id": "fafbbcd7-3c62-4ded-92ab-fb80060396f5",
   "metadata": {},
   "outputs": [],
   "source": [
    "class HuaweiPhone(SmartPhone):\n",
    "    def display(self):\n",
    "        print(f'{self.brand} {self.model} - a smartphone far ahead of its peers.')\n",
    "    def __str__(self):\n",
    "        return f'{self.brand} {self.model} - a smartphone far ahead of its peers.'\n",
    "\n",
    "x = HuaweiPhone()\n",
    "x.set_brand('Huawei')\n",
    "x.set_model('Nova 14 Ultra')\n",
    "\n",
    "print(x)"
   ]
  },
  {
   "cell_type": "code",
   "execution_count": null,
   "id": "06588cae-7182-40c1-8c48-8035386a6e21",
   "metadata": {},
   "outputs": [],
   "source": [
    "class MyList(list):\n",
    "    def __add__(self, another_list):\n",
    "        return [self, another_list]"
   ]
  },
  {
   "cell_type": "code",
   "execution_count": null,
   "id": "f8c7f278-7396-4abe-b0c0-becfe138ca08",
   "metadata": {},
   "outputs": [],
   "source": [
    "x = list('abc')\n",
    "y = list('de')\n",
    "x + y"
   ]
  },
  {
   "cell_type": "code",
   "execution_count": null,
   "id": "2b3f6631-0527-4a5c-803e-2417614930d7",
   "metadata": {},
   "outputs": [],
   "source": [
    "x = MyList('abc')\n",
    "y = MyList('de')\n",
    "x, y"
   ]
  },
  {
   "cell_type": "code",
   "execution_count": null,
   "id": "5ce71680-d515-4c06-909e-8e43ace2956e",
   "metadata": {},
   "outputs": [],
   "source": [
    "x + y"
   ]
  },
  {
   "cell_type": "code",
   "execution_count": null,
   "id": "023f54ce-eabf-4b8c-92e6-4e22a7cf71dd",
   "metadata": {},
   "outputs": [],
   "source": [
    "# 可以从多个类继承\n",
    "class Camera():\n",
    "    def set_focal_length(self, value):\n",
    "        self.focal_length = value\n",
    "    def get_focal_length(self):\n",
    "        return f'{self.focal_length}mm'\n",
    "\n",
    "class HuaweiPhone(SmartPhone, Camera):\n",
    "    def display(self):\n",
    "        print(f'{self.brand} {self.model} - a smartphone far ahead of its peers.')"
   ]
  },
  {
   "cell_type": "code",
   "execution_count": null,
   "id": "b3477700-25d5-4957-a01c-2e9ae192bdc5",
   "metadata": {},
   "outputs": [],
   "source": [
    "x = HuaweiPhone()\n",
    "x.set_focal_length(50)\n",
    "x.get_focal_length()"
   ]
  },
  {
   "cell_type": "code",
   "execution_count": null,
   "id": "982c7449-ec97-4dfd-8066-9dc3cb254f85",
   "metadata": {},
   "outputs": [],
   "source": [
    "print(x.brand)"
   ]
  },
  {
   "cell_type": "code",
   "execution_count": null,
   "id": "0ee1da04-7a1a-4502-b00b-068fb22a205d",
   "metadata": {},
   "outputs": [],
   "source": [
    "x.__dict__"
   ]
  },
  {
   "cell_type": "markdown",
   "id": "1b12eb4b",
   "metadata": {},
   "source": [
    "```mermaid\n",
    "classDiagram\n",
    "SmartPhone <|-- HuaweiPhone: inherits\n",
    "Camera <|-- HuaweiPhone: inherits\n",
    "HuaweiPhone <|-- x: is a\n",
    "\n",
    "class SmartPhone{\n",
    "    + brand = None\n",
    "    + model = None\n",
    "    + set_brand(self, value)\n",
    "    + set_model(self, value)\n",
    "    + display(self)\n",
    "}\n",
    "\n",
    "class Camera{\n",
    "    + set_focal_length(self, value)\n",
    "    + get_focal_length(self)\n",
    "}\n",
    "\n",
    "class HuaweiPhone{\n",
    "    + display*(self)\n",
    "}\n",
    "\n",
    "class x{\n",
    "    + focal_length = 50\n",
    "    + set_brand(value)\n",
    "    + set_model(value)\n",
    "    + set_focal_length(value)\n",
    "    + get_focal_length()\n",
    "    + display*()\n",
    "}\n",
    "```"
   ]
  },
  {
   "cell_type": "markdown",
   "id": "7122f7b0-323d-4130-a1d5-65d3638dad46",
   "metadata": {},
   "source": [
    "## 实例的初始化"
   ]
  },
  {
   "cell_type": "code",
   "execution_count": null,
   "id": "71967ddd-9ef8-47eb-8abd-9d79cf811483",
   "metadata": {},
   "outputs": [],
   "source": [
    "class X: pass\n",
    "\n",
    "y = X()\n",
    "z = X()\n",
    "y, z"
   ]
  },
  {
   "cell_type": "code",
   "execution_count": null,
   "id": "84cc2162-4a55-42fb-9f54-053806d63bce",
   "metadata": {},
   "outputs": [],
   "source": [
    "# 类的属性是共享的属性，会影响所有实例；如果属性是每个实例私有的，则不会互相干扰\n",
    "X.name = 'Tom'\n",
    "y.name, z.name"
   ]
  },
  {
   "cell_type": "code",
   "execution_count": null,
   "id": "70f96a78-8679-46a2-a4eb-69eb85b6e03d",
   "metadata": {},
   "outputs": [],
   "source": [
    "# 可以在实例创建时定义必要的属于实例自己的属性\n",
    "class SmartPhone:\n",
    "    def __init__(self, brand=None, model=None):\n",
    "        self.brand = brand\n",
    "        self.model = model\n",
    "    def display(self):\n",
    "        print(f'{self.brand} {self.model}')"
   ]
  },
  {
   "cell_type": "code",
   "execution_count": null,
   "id": "26139bc0-4245-44d9-a319-41a4d73e6f34",
   "metadata": {},
   "outputs": [],
   "source": [
    "my_phone = SmartPhone('Huawei', 'P10')\n",
    "my_phone.display()"
   ]
  },
  {
   "cell_type": "code",
   "execution_count": null,
   "id": "85c4bc81-a93e-4160-a9a1-80e79eaca9e2",
   "metadata": {},
   "outputs": [],
   "source": [
    "SmartPhone.brand"
   ]
  },
  {
   "cell_type": "code",
   "execution_count": null,
   "id": "c209f096-5d7c-4a90-aaa9-75cca7e1cda3",
   "metadata": {},
   "outputs": [],
   "source": [
    "# 怎么用父类的方法初始化\n",
    "class HuaweiPhone(SmartPhone):\n",
    "    def __init__(self, model=None):\n",
    "        super().__init__(\"Huawei\", model)\n",
    "    def display(self):\n",
    "        print(f'{self.brand} {self.model} - a smartphone far ahead of its peers.')"
   ]
  },
  {
   "cell_type": "code",
   "execution_count": null,
   "id": "e9f77313-30f3-41ab-b2b4-5c479dde48b2",
   "metadata": {},
   "outputs": [],
   "source": [
    "my_phone = HuaweiPhone('P10')\n",
    "my_phone.display()"
   ]
  },
  {
   "cell_type": "code",
   "execution_count": null,
   "id": "efe30b1e-4a86-4c5a-a83c-9f485b2f5eae",
   "metadata": {},
   "outputs": [],
   "source": [
    "# 怎么用父类的方法初始化\n",
    "class HuaweiPhone(SmartPhone, Camera):\n",
    "    def __init__(self, model=None):\n",
    "        SmartPhone.__init__(self, \"Huawei\", model)  # 注意需要提供self参数\n",
    "    def display(self):\n",
    "        print(f'{self.brand} {self.model} - a smartphone far ahead of its peers.')"
   ]
  },
  {
   "cell_type": "code",
   "execution_count": null,
   "id": "f5269504-609a-4540-8924-ea0a7aabb1e5",
   "metadata": {},
   "outputs": [],
   "source": [
    "my_phone = HuaweiPhone('Nova 14 Ultra')\n",
    "my_phone.display()"
   ]
  },
  {
   "cell_type": "markdown",
   "id": "f047a601-6966-45f7-a298-c8ce9e91aec2",
   "metadata": {},
   "source": [
    "```mermaid\n",
    "classDiagram\n",
    "SmartPhone <|-- HuaweiPhone: inherits\n",
    "HuaweiPhone <|-- my_phone: is a\n",
    "\n",
    "class SmartPhone{\n",
    "    + __init__(self, brand=None, model=None)\n",
    "    + display(self)\n",
    "}\n",
    "\n",
    "class HuaweiPhone{\n",
    "    + __init__(self, model=None)\n",
    "    + display*(self)\n",
    "}\n",
    "\n",
    "class my_phone{\n",
    "    + brand = 'Huawei'\n",
    "    + model = 'P10'\n",
    "    + __init__(model=None)\n",
    "    + display*()\n",
    "}\n",
    "```"
   ]
  },
  {
   "cell_type": "markdown",
   "id": "094b93b2-cec1-4a1f-8ac0-d418a43d333e",
   "metadata": {},
   "source": [
    "## 脚本编写\n",
    "\n",
    "脚本是用来在终端/命令行执行的.py文件\n",
    "\n",
    "```bash\n",
    "python /path/to/your/script.py\n",
    "```"
   ]
  },
  {
   "cell_type": "code",
   "execution_count": null,
   "id": "fdab7da2-9ee5-4e3c-8238-551e9a724a80",
   "metadata": {},
   "outputs": [],
   "source": [
    "! ls src"
   ]
  },
  {
   "cell_type": "code",
   "execution_count": null,
   "id": "5c503956-7c50-4e4d-9143-935cedbbd3de",
   "metadata": {},
   "outputs": [],
   "source": [
    "! readlink -f src/hello_world.py  # absolute path to the file"
   ]
  },
  {
   "cell_type": "code",
   "execution_count": null,
   "id": "5ce21732-8740-48a6-affe-81d06e61c007",
   "metadata": {},
   "outputs": [],
   "source": [
    "! cat src/hello_world.py"
   ]
  },
  {
   "cell_type": "code",
   "execution_count": null,
   "id": "a6633e1e-bb15-4e5d-ab71-19542530dc57",
   "metadata": {},
   "outputs": [],
   "source": [
    "! python src/hello_world.py"
   ]
  },
  {
   "cell_type": "markdown",
   "id": "7a783375-fc37-4ddb-b359-a8bbde64bb6d",
   "metadata": {},
   "source": [
    "`.py`文件是Python中的模块（module），当被导入到其他文件中使用时，该模块的内置属性`__name__`是模块的名字；当`.py`文件作为主文件被Python直接执行时，`__name__`的值是`__main__`。\n",
    "\n",
    "利用这个性质，我们可以定义一些只有当文件直接被执行时才会运行的指令，而当文件被导入到其他文件时，这些指令不会被执行。只提供一些可以重复使用的函数、变量等。"
   ]
  },
  {
   "cell_type": "code",
   "execution_count": null,
   "id": "a659db6d-0c09-40fe-94c3-5c99e21c4bde",
   "metadata": {},
   "outputs": [],
   "source": [
    "! python src/hello_world2.py"
   ]
  },
  {
   "cell_type": "code",
   "execution_count": null,
   "id": "cdc59252-6b17-46a3-bfe2-ec4d497e498e",
   "metadata": {},
   "outputs": [],
   "source": [
    "from src.hello_world2 import print_hello_world"
   ]
  },
  {
   "cell_type": "code",
   "execution_count": null,
   "id": "a9e0d2b7-c3c5-4256-9523-389694e5b06d",
   "metadata": {},
   "outputs": [],
   "source": [
    "print_hello_world()"
   ]
  },
  {
   "cell_type": "markdown",
   "id": "5ea000a9-c027-411c-b1c3-9dd7f9e4cdff",
   "metadata": {},
   "source": [
    "### 解析命令行参数"
   ]
  },
  {
   "cell_type": "code",
   "execution_count": null,
   "id": "fd880356-2c99-4388-8e46-7ebe0be9d756",
   "metadata": {},
   "outputs": [],
   "source": [
    "import sys\n",
    "\n",
    "sys.argv"
   ]
  },
  {
   "cell_type": "code",
   "execution_count": null,
   "id": "d4ad3aad-d287-4d36-9802-009a0c4f66d6",
   "metadata": {},
   "outputs": [],
   "source": [
    "! python src/print_args.py Zihan"
   ]
  },
  {
   "cell_type": "code",
   "execution_count": null,
   "id": "e581a9cc-4e7f-4b57-95ac-a2cc74c26757",
   "metadata": {},
   "outputs": [],
   "source": [
    "! python src/print_args.py -p Zihan -f lanzhou"
   ]
  },
  {
   "cell_type": "markdown",
   "id": "182a7e60-845f-4ff3-8b16-72af59ef1c69",
   "metadata": {},
   "source": [
    "使用`sys.argv`传递命令行参数："
   ]
  },
  {
   "cell_type": "code",
   "execution_count": null,
   "id": "973c2d52-aacc-44e3-8932-b7fb7e13fb93",
   "metadata": {},
   "outputs": [],
   "source": [
    "! python src/hello.py Zihan lanzhou"
   ]
  },
  {
   "cell_type": "markdown",
   "id": "a7623914-92b1-4028-9a13-63871390d3e4",
   "metadata": {},
   "source": [
    "怎么检验参数传递是否正确？"
   ]
  },
  {
   "cell_type": "code",
   "execution_count": null,
   "id": "226bcfab-c40b-471b-b285-a1b503213286",
   "metadata": {},
   "outputs": [],
   "source": [
    "! python src/hello2.py Zihan lanzhou"
   ]
  },
  {
   "cell_type": "code",
   "execution_count": null,
   "id": "fe747dbd-cebc-4d54-ba36-ac09ded3651d",
   "metadata": {},
   "outputs": [],
   "source": [
    "! python src/hello2.py Zihan"
   ]
  },
  {
   "cell_type": "code",
   "execution_count": null,
   "id": "f6cec195-a655-4845-8961-9ef714fd1549",
   "metadata": {},
   "outputs": [],
   "source": [
    "! python src/hello2.py Zihan Lanzhou LZU"
   ]
  },
  {
   "cell_type": "markdown",
   "id": "5e944e8c-e606-42a6-ae1d-73c7cb509462",
   "metadata": {},
   "source": [
    "怎么实现更灵活更实用的参数传递呢？"
   ]
  },
  {
   "cell_type": "markdown",
   "id": "103a7ff3-7ece-458b-973a-4e30748a51fb",
   "metadata": {},
   "source": [
    "### argparse (from standard library)"
   ]
  },
  {
   "cell_type": "code",
   "execution_count": null,
   "id": "9fa99bea-7fa8-4f83-939d-cc030d2d0343",
   "metadata": {},
   "outputs": [],
   "source": [
    "! python src/hello3.py -h"
   ]
  },
  {
   "cell_type": "code",
   "execution_count": null,
   "id": "4d230c38-8551-41cc-8a15-f425d73de9d2",
   "metadata": {},
   "outputs": [],
   "source": [
    "! python src/hello3.py Zihan"
   ]
  },
  {
   "cell_type": "code",
   "execution_count": null,
   "id": "157b7c68-4d4e-4761-93b2-0beeddd4c8a0",
   "metadata": {},
   "outputs": [],
   "source": [
    "! python src/hello3.py -l Guangzhou Zihan"
   ]
  },
  {
   "cell_type": "code",
   "execution_count": null,
   "id": "e29b158e-80b2-442e-85e1-49de6cf19241",
   "metadata": {},
   "outputs": [],
   "source": [
    "! python src/hello3.py --loc Guangzhou Zihan"
   ]
  },
  {
   "cell_type": "code",
   "execution_count": null,
   "id": "12443de3-0c3f-413e-b8a3-dce43890c7f2",
   "metadata": {},
   "outputs": [],
   "source": [
    "! python src/hello3.py --loc Guangzhou"
   ]
  },
  {
   "cell_type": "markdown",
   "id": "7ebe9fe8-b83e-4f70-b5a1-61b8c397adfe",
   "metadata": {},
   "source": [
    "有没有更方便一些的写法？"
   ]
  },
  {
   "cell_type": "markdown",
   "id": "45f5edae-53ca-41df-b08a-50f5cf236864",
   "metadata": {},
   "source": [
    "### click (third party)"
   ]
  },
  {
   "cell_type": "code",
   "execution_count": null,
   "id": "df74b2fb-9fef-4674-8605-81f6d5232a28",
   "metadata": {},
   "outputs": [],
   "source": [
    "! python src/hello4.py"
   ]
  },
  {
   "cell_type": "code",
   "execution_count": null,
   "id": "65ea04f0-b02a-4b67-9ef7-8f613cf9d99d",
   "metadata": {},
   "outputs": [],
   "source": [
    "! python src/hello4.py -h"
   ]
  },
  {
   "cell_type": "code",
   "execution_count": null,
   "id": "24090602-019d-4fb7-b7a9-e16f540d9e19",
   "metadata": {},
   "outputs": [],
   "source": []
  },
  {
   "cell_type": "code",
   "execution_count": null,
   "id": "42d6347a-5e5b-4f3d-9d38-ee4e51be603b",
   "metadata": {},
   "outputs": [],
   "source": [
    "! python src/hello4.py -l Guangzhou Zihan"
   ]
  },
  {
   "cell_type": "code",
   "execution_count": null,
   "id": "20a3548c-47f2-45c4-9964-8f99718c52ac",
   "metadata": {},
   "outputs": [],
   "source": [
    "! python src/hello4.py Zihan"
   ]
  },
  {
   "cell_type": "code",
   "execution_count": null,
   "id": "76afd15a-88dc-427c-bc6d-144aa8195ed8",
   "metadata": {},
   "outputs": [],
   "source": [
    "! python src/hello4.py Zihan --location Guangzhou"
   ]
  },
  {
   "cell_type": "code",
   "execution_count": null,
   "id": "f9893e90-b5de-4927-a384-19745f4b293a",
   "metadata": {},
   "outputs": [],
   "source": [
    "! python src/hello4.py Zihan -r Guangzhou"
   ]
  },
  {
   "cell_type": "markdown",
   "id": "bc30cb8d-42a8-4af2-a322-2c7e2fe7870e",
   "metadata": {},
   "source": [
    "## 作业\n",
    "\n",
    "1. 创建一个`fasta.py`模块，其中定义一个DNA序列类叫做`Seq`，初始化时会给每个实例创建`id`与`seq`两个属性，`id`与`seq`都是字符串；`Seq`类有一个`revcomp`方法，执行之后会把实例的序列变为其反向互补序列，还有一个`__str__`方法，能够根据实例的`id`与`seq`生成一个用于打印的fasta格式的字符串，例如`\">id\\nAACCT\\n\"`。\n",
    "\n",
    "2. 编写一个叫做`fasta_revcomp.py`的脚本，其中包含两个函数：\n",
    "   - 第一个函数叫`read_fasta`，用于读取`fasta`格式的文件，返回`Seq`类型实例的生成器函数；\n",
    "   - 第二个函数叫`main`，有两个参数：\n",
    "       - 第一个叫`input_path`，是已知`fasta`文件的路径；\n",
    "       - 第二个叫`output_path`，是将要输出的新fasta文件的路径。\n",
    "   \n",
    "   `main`函数将调用`read_fasta`函数读取`fasta`文件中每条记录，然后利用`Seq`类的`revcomp`方法将其序列变为反向互补序列，再利用`str`函数得到实例的`fasta`格式字符串，将其写入到`output_path`所指定的文件。\n",
    "\n",
    "3. 当`fasta_revcomp.py`被直接运行时，使用`argparse`包解析命令行的参数，以此调用`main`函数。执行以下命令后，应能将homework文件夹中的fasta文件反向互补并存储在tmp文件夹下：\n",
    "\n",
    "```bash\n",
    "python fasta_revcomp.py -i homework/seqs.fasta -o tmp/output.fasta\n",
    "```\n",
    "\n",
    "4. (*) 在`fasta_revcomp.py`的基础上，创建一个新文件`fasta_revcomp2.py`，使用`click`包而非`argparse`解析命令行的参数。"
   ]
  },
  {
   "cell_type": "markdown",
   "id": "25b1ff3e-43cc-4a7f-a0be-ab10fc98589b",
   "metadata": {},
   "source": [
    "## dataclass & namedtuple"
   ]
  },
  {
   "cell_type": "code",
   "execution_count": null,
   "id": "fb7c5cf7-2c85-40e6-9825-047720f09385",
   "metadata": {},
   "outputs": [],
   "source": [
    "from collections import namedtuple\n",
    "\n",
    "# Define a named tuple for a Point\n",
    "Point = namedtuple('Point', ['x', 'y'])\n",
    "\n",
    "# Create an instance of the Point named tuple\n",
    "p = Point(x=10, y=20)\n",
    "\n",
    "# Access elements by name\n",
    "print(p.x, p.y)\n",
    "\n",
    "# Access elements by index (still possible)\n",
    "print(p[0], p[1])"
   ]
  },
  {
   "cell_type": "code",
   "execution_count": null,
   "id": "f5cc2ecf-cfed-4768-b4e6-ae597eda7148",
   "metadata": {},
   "outputs": [],
   "source": [
    "from dataclasses import dataclass\n",
    "\n",
    "\n",
    "@dataclass  # decorator\n",
    "class Point:\n",
    "    x: float\n",
    "    y: float = 0"
   ]
  },
  {
   "cell_type": "code",
   "execution_count": null,
   "id": "761e58eb-cbed-4cd7-8612-3ecac67ef687",
   "metadata": {},
   "outputs": [],
   "source": [
    "p = Point(10)\n",
    "# Access instance propoerty\n",
    "print(p.x, p.y)"
   ]
  },
  {
   "cell_type": "code",
   "execution_count": null,
   "id": "cc06825d-a293-4125-93d5-bcb6549728e2",
   "metadata": {},
   "outputs": [],
   "source": [
    "p.__dict__"
   ]
  },
  {
   "cell_type": "code",
   "execution_count": null,
   "id": "b22be244-50ff-4139-9acd-30073c5ced89",
   "metadata": {},
   "outputs": [],
   "source": [
    "type(p.x)"
   ]
  },
  {
   "cell_type": "code",
   "execution_count": null,
   "id": "c95ed563-2e79-4abf-bc96-9fb82de150d8",
   "metadata": {},
   "outputs": [],
   "source": [
    "# equivalent class\n",
    "class Point:\n",
    "    def __init__(self, x: float, y: float=0):\n",
    "        self.x = x\n",
    "        self.y = y\n",
    "\n",
    "p = Point(10)\n",
    "print(p.x, p.y)"
   ]
  }
 ],
 "metadata": {
  "kernelspec": {
   "display_name": "Python 3 (ipykernel)",
   "language": "python",
   "name": "python3"
  },
  "language_info": {
   "codemirror_mode": {
    "name": "ipython",
    "version": 3
   },
   "file_extension": ".py",
   "mimetype": "text/x-python",
   "name": "python",
   "nbconvert_exporter": "python",
   "pygments_lexer": "ipython3",
   "version": "3.13.2"
  }
 },
 "nbformat": 4,
 "nbformat_minor": 5
}
