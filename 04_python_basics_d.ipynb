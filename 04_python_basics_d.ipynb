{
 "cells": [
  {
   "cell_type": "markdown",
   "id": "c2c6ba05-d26b-4972-bb6f-e9cb946bb944",
   "metadata": {},
   "source": [
    "# 04 - Python basics D\n",
    "\n",
    "- 类class与实例instance\n",
    "- 继承\n",
    "\n",
    "学习目标\n",
    "- 如何根据自己的需求创建新的合适的数据类型；"
   ]
  },
  {
   "cell_type": "markdown",
   "id": "a4ac44c8-c2c9-4fed-bb17-297c54ed95b0",
   "metadata": {},
   "source": [
    "## 类与类的实例\n",
    "\n",
    "类是一个抽象的模板或蓝图，用于描述具有相同属性（数据）和行为（方法）的一组对象。它定义了对象的结构，包括属性，即对象的状态信息，比如手机的内存大小、存储、电池容量；也包括方法，即对象可以执行的操作，比如手机大都可以拍照、打电话。\n",
    "\n",
    "实例是根据某个类创建出来的具体对象。每个实例都有类所定义的属性和方法，但每个实例的属性值可以是不同的。例如某个品牌的手机设计图是class，但具体生产出来的手机（instance）的存储有256G的，有512G的，还有1T的。"
   ]
  },
  {
   "cell_type": "markdown",
   "id": "5a62f8a2-bfa0-4fd2-9939-634525cd2c6f",
   "metadata": {},
   "source": [
    "`class`指令用来创建类对象，并赋予其类名；在class指令内部的赋值会成为class的特性，这些特性可以是这一类对象的状态（属性，property）或者可以执行的操作（方法，method）。类创建时定义的函数通过self来访问或修改实例的信息，故这些函数的第一个参数一般都是`self`，运行时用来指代具体实例自身。\n",
    "\n",
    "实例通过调用类对象来创建，每个实例对象会机制这一类对象的属性，并获得自己的命名空间。如果类对象定义的某个函数能够修改self的属性，那么调用这个函数时，这个实例的属性会被修改，但类对象的属性不会变化。"
   ]
  },
  {
   "cell_type": "code",
   "execution_count": 136,
   "id": "d614af5a-ad9b-4c29-bf1c-a9a11b56760e",
   "metadata": {},
   "outputs": [],
   "source": [
    "class SmartPhone:\n",
    "    brand = None\n",
    "    model= None\n",
    "    def set_brand(self, value):\n",
    "        self.brand = value\n",
    "    def set_model(self, value):\n",
    "        self.model = value\n",
    "    def display(self):\n",
    "        print(f'{self.brand} {self.model}')"
   ]
  },
  {
   "cell_type": "code",
   "execution_count": 137,
   "id": "8da781e9-e362-4e7f-889f-eb36108642ee",
   "metadata": {},
   "outputs": [],
   "source": [
    "x = SmartPhone()"
   ]
  },
  {
   "cell_type": "code",
   "execution_count": 138,
   "id": "5e3b9d3d-fce5-4d66-9f48-fd6d47e2439d",
   "metadata": {},
   "outputs": [],
   "source": [
    "x.set_brand('Huawei')\n",
    "x.set_model('P10')"
   ]
  },
  {
   "cell_type": "code",
   "execution_count": 139,
   "id": "f5137657-7081-4856-ba8c-d8c4712fd28b",
   "metadata": {},
   "outputs": [
    {
     "name": "stdout",
     "output_type": "stream",
     "text": [
      "['__class__', '__delattr__', '__dict__', '__dir__', '__doc__', '__eq__', '__firstlineno__', '__format__', '__ge__', '__getattribute__', '__getstate__', '__gt__', '__hash__', '__init__', '__init_subclass__', '__le__', '__lt__', '__module__', '__ne__', '__new__', '__reduce__', '__reduce_ex__', '__repr__', '__setattr__', '__sizeof__', '__static_attributes__', '__str__', '__subclasshook__', '__weakref__', 'brand', 'display', 'model', 'set_brand', 'set_model']\n"
     ]
    }
   ],
   "source": [
    "print(dir(x))"
   ]
  },
  {
   "cell_type": "code",
   "execution_count": 140,
   "id": "23328d45-a018-4f26-8c3e-d7ba7e4e73bc",
   "metadata": {},
   "outputs": [
    {
     "data": {
      "text/plain": [
       "'P10'"
      ]
     },
     "execution_count": 140,
     "metadata": {},
     "output_type": "execute_result"
    }
   ],
   "source": [
    "x.model"
   ]
  },
  {
   "cell_type": "code",
   "execution_count": 141,
   "id": "77ae0896-eb40-47de-88e1-22a3da0a84af",
   "metadata": {},
   "outputs": [
    {
     "data": {
      "text/plain": [
       "'Huawei'"
      ]
     },
     "execution_count": 141,
     "metadata": {},
     "output_type": "execute_result"
    }
   ],
   "source": [
    "x.brand"
   ]
  },
  {
   "cell_type": "code",
   "execution_count": 142,
   "id": "f41d3351-af6f-4328-8fd4-0c4b3a75c448",
   "metadata": {},
   "outputs": [
    {
     "name": "stdout",
     "output_type": "stream",
     "text": [
      "Huawei P10\n"
     ]
    }
   ],
   "source": [
    "# 使用实例的方法\n",
    "x.display()"
   ]
  },
  {
   "cell_type": "code",
   "execution_count": 143,
   "id": "ee82a3a6-3c11-4959-951b-41770225ac33",
   "metadata": {},
   "outputs": [
    {
     "name": "stdout",
     "output_type": "stream",
     "text": [
      "Huawei P10\n"
     ]
    }
   ],
   "source": [
    "# 等价于\n",
    "SmartPhone.display(x)"
   ]
  },
  {
   "cell_type": "code",
   "execution_count": 110,
   "id": "be859707-a6d8-43d8-8e90-9737a0eda7e0",
   "metadata": {},
   "outputs": [
    {
     "name": "stdout",
     "output_type": "stream",
     "text": [
      "None None\n"
     ]
    }
   ],
   "source": [
    "# 通过类对象的方法对self的修改影响的是实例x的品牌与型号；\n",
    "# 新创建的实例的品牌与方法仍为定义类对象时设定的值；\n",
    "y = SmartPhone()\n",
    "y.display()"
   ]
  },
  {
   "cell_type": "markdown",
   "id": "ca8e9290-885c-4697-989e-53d31eb2ce4b",
   "metadata": {},
   "source": [
    "```mermaid\n",
    "classDiagram\n",
    "SmartPhone <|-- x: is a\n",
    "SmartPhone <|-- y: is a\n",
    "\n",
    "class SmartPhone{\n",
    "    + brand = None\n",
    "    + model = None\n",
    "    + set_brand(self, value)\n",
    "    + set_model(self, value)\n",
    "    + display(self)\n",
    "}\n",
    "\n",
    "class x{\n",
    "    + brand = \"Huawei\"\n",
    "    + model = \"P10\"\n",
    "    + set_brand(self, value)\n",
    "    + set_model(self, value)\n",
    "    + display(self)\n",
    "}\n",
    "\n",
    "class y{\n",
    "    + set_brand(self, value)\n",
    "    + set_model(self, value)\n",
    "    + display(self)\n",
    "}\n",
    "```"
   ]
  },
  {
   "cell_type": "code",
   "execution_count": 111,
   "id": "9060c5bb-2bdb-4afb-9ecd-f33cc2d38ef2",
   "metadata": {},
   "outputs": [
    {
     "data": {
      "text/plain": [
       "(4337431424, 4337431424, 4337431424)"
      ]
     },
     "execution_count": 111,
     "metadata": {},
     "output_type": "execute_result"
    }
   ],
   "source": [
    "# 当我们尝试获取实例的某个属性，但这个属性还没创建，该实例的命名空间还不存在这个属性时，\n",
    "# python会从类对象的命名空间尝试获取这个属性的值；\n",
    "id(SmartPhone.brand), id(x.brand), id(y.brand)"
   ]
  },
  {
   "cell_type": "code",
   "execution_count": 112,
   "id": "4f877e58-0562-4d34-81ef-85476c61a310",
   "metadata": {},
   "outputs": [
    {
     "data": {
      "text/plain": [
       "(<function __main__.SmartPhone.set_brand(self, value)>,\n",
       " <bound method SmartPhone.set_brand of <__main__.HuaweiPhone object at 0x1061efe00>>)"
      ]
     },
     "execution_count": 112,
     "metadata": {},
     "output_type": "execute_result"
    }
   ],
   "source": [
    "# 类对象定义时，声明的函数是普通的函数\n",
    "# 对于创建的实例，函数变成了与这个实例绑定的方法\n",
    "SmartPhone.set_brand, x.set_brand"
   ]
  },
  {
   "cell_type": "code",
   "execution_count": 113,
   "id": "c6ca5e2f-f02b-4d94-b1fc-80a81fbec2a9",
   "metadata": {},
   "outputs": [
    {
     "data": {
      "text/plain": [
       "(<__main__.HuaweiPhone at 0x1061efe00>, <__main__.SmartPhone at 0x106788f50>)"
      ]
     },
     "execution_count": 113,
     "metadata": {},
     "output_type": "execute_result"
    }
   ],
   "source": [
    "x.set_brand.__self__, y.set_brand.__self__"
   ]
  },
  {
   "cell_type": "code",
   "execution_count": 114,
   "id": "43932186-5a2a-4811-bfbc-5d3fb2a6b4f8",
   "metadata": {},
   "outputs": [
    {
     "data": {
      "text/plain": [
       "(<__main__.HuaweiPhone at 0x1061efe00>, <__main__.SmartPhone at 0x106788f50>)"
      ]
     },
     "execution_count": 114,
     "metadata": {},
     "output_type": "execute_result"
    }
   ],
   "source": [
    "x, y"
   ]
  },
  {
   "cell_type": "markdown",
   "id": "d07f8239-01ab-4bdd-9aa5-ba24293055df",
   "metadata": {},
   "source": [
    "------------\n",
    "🙋**练习**\n",
    "\n",
    "`id(SmartPhone.set_brand), id(x.set_brand), id(y.set_brand)`三者是否相同，为什么？\n",
    "\n",
    "-------------"
   ]
  },
  {
   "cell_type": "code",
   "execution_count": 115,
   "id": "1f9b64f4-8177-46e2-a0b7-7ac171e2c4ea",
   "metadata": {},
   "outputs": [
    {
     "name": "stdout",
     "output_type": "stream",
     "text": [
      "Huawei Nova 14\n"
     ]
    }
   ],
   "source": [
    "y.set_brand('Huawei')\n",
    "y.set_model('Nova 14')\n",
    "y.display()"
   ]
  },
  {
   "cell_type": "markdown",
   "id": "a4288615-0052-4a94-8ba2-73c4e02f367c",
   "metadata": {},
   "source": [
    "```mermaid\n",
    "classDiagram\n",
    "SmartPhone <|-- x: is a\n",
    "SmartPhone <|-- y: is a\n",
    "\n",
    "class SmartPhone{\n",
    "    + brand = None\n",
    "    + model = None\n",
    "    + set_brand(self, value)\n",
    "    + set_model(self, value)\n",
    "    + display(self)\n",
    "}\n",
    "\n",
    "class x{\n",
    "    + brand = \"Huawei\"\n",
    "    + model = \"P10\"\n",
    "    + set_brand(self, value)\n",
    "    + set_model(self, value)\n",
    "    + display(self)\n",
    "}\n",
    "\n",
    "class y{\n",
    "    + brand = \"Huawei\"\n",
    "    + model = \"Nova 14 Ultra\"\n",
    "    + set_brand(self, value)\n",
    "    + set_model(self, value)\n",
    "    + display(self)\n",
    "}\n",
    "```"
   ]
  },
  {
   "cell_type": "code",
   "execution_count": 116,
   "id": "4767f171-832a-47b5-8905-33243b7a99d7",
   "metadata": {},
   "outputs": [
    {
     "name": "stdout",
     "output_type": "stream",
     "text": [
      "5500\n"
     ]
    }
   ],
   "source": [
    "# python中的类更像是命名空间（namespace），实例是这个空间绑定特定对象后的命名空间\n",
    "# 我们也可以通过在创建后，在这些命名空间里添加新的变量成为实例的属性\n",
    "y.battery = 5500\n",
    "print(y.battery)"
   ]
  },
  {
   "cell_type": "code",
   "execution_count": 117,
   "id": "3563cbcf-c920-4bbc-9dd8-b3440184645f",
   "metadata": {},
   "outputs": [
    {
     "data": {
      "text/plain": [
       "{'brand': 'Huawei', 'model': 'Nova 14', 'battery': 5500}"
      ]
     },
     "execution_count": 117,
     "metadata": {},
     "output_type": "execute_result"
    }
   ],
   "source": [
    "# 可以用对象的.__dict__属性查看命名空间中的内容\n",
    "y.__dict__"
   ]
  },
  {
   "cell_type": "code",
   "execution_count": 118,
   "id": "1229774f-c011-4622-8029-bcf4dc3be4c4",
   "metadata": {},
   "outputs": [
    {
     "data": {
      "text/plain": [
       "mappingproxy({'__module__': '__main__',\n",
       "              '__firstlineno__': 1,\n",
       "              'brand': None,\n",
       "              'model': None,\n",
       "              'set_brand': <function __main__.SmartPhone.set_brand(self, value)>,\n",
       "              'set_model': <function __main__.SmartPhone.set_model(self, value)>,\n",
       "              'display': <function __main__.SmartPhone.display(self)>,\n",
       "              '__static_attributes__': ('brand', 'model'),\n",
       "              '__dict__': <attribute '__dict__' of 'SmartPhone' objects>,\n",
       "              '__weakref__': <attribute '__weakref__' of 'SmartPhone' objects>,\n",
       "              '__doc__': None,\n",
       "              'year': 2025})"
      ]
     },
     "execution_count": 118,
     "metadata": {},
     "output_type": "execute_result"
    }
   ],
   "source": [
    "SmartPhone.__dict__"
   ]
  },
  {
   "cell_type": "code",
   "execution_count": 71,
   "id": "539b7b2e-c257-47ad-afe5-166d296a674d",
   "metadata": {},
   "outputs": [
    {
     "ename": "TypeError",
     "evalue": "display2() missing 1 required positional argument: 'self'",
     "output_type": "error",
     "traceback": [
      "\u001b[31m---------------------------------------------------------------------------\u001b[39m",
      "\u001b[31mTypeError\u001b[39m                                 Traceback (most recent call last)",
      "\u001b[36mCell\u001b[39m\u001b[36m \u001b[39m\u001b[32mIn[71]\u001b[39m\u001b[32m, line 7\u001b[39m\n\u001b[32m      3\u001b[39m     \u001b[38;5;28mprint\u001b[39m(\u001b[33mf\u001b[39m\u001b[33m'\u001b[39m\u001b[38;5;132;01m{\u001b[39;00m\u001b[38;5;28mself\u001b[39m.brand\u001b[38;5;132;01m}\u001b[39;00m\u001b[33m \u001b[39m\u001b[38;5;132;01m{\u001b[39;00m\u001b[38;5;28mself\u001b[39m.model\u001b[38;5;132;01m}\u001b[39;00m\u001b[33m with a \u001b[39m\u001b[38;5;132;01m{\u001b[39;00mbattery\u001b[38;5;132;01m}\u001b[39;00m\u001b[33mmAh battery\u001b[39m\u001b[33m'\u001b[39m)\n\u001b[32m      5\u001b[39m y.display2 = display2\n\u001b[32m----> \u001b[39m\u001b[32m7\u001b[39m \u001b[43my\u001b[49m\u001b[43m.\u001b[49m\u001b[43mdisplay2\u001b[49m\u001b[43m(\u001b[49m\u001b[43m)\u001b[49m\n",
      "\u001b[31mTypeError\u001b[39m: display2() missing 1 required positional argument: 'self'"
     ]
    }
   ],
   "source": [
    "# 给实例赋予新的函数指挥室普通的函数，不会是绑定的函数\n",
    "def display2(self):\n",
    "    print(f'{self.brand} {self.model} with a {battery}mAh battery')\n",
    "\n",
    "y.display2 = display2\n",
    "\n",
    "y.display2()"
   ]
  },
  {
   "cell_type": "code",
   "execution_count": 72,
   "id": "84b1ed90-ea01-4e8a-b518-dd953cc563ba",
   "metadata": {},
   "outputs": [],
   "source": [
    "del y.display2"
   ]
  },
  {
   "cell_type": "code",
   "execution_count": 77,
   "id": "dfeab3e3-40bf-4044-90fd-9e1c55a93650",
   "metadata": {},
   "outputs": [
    {
     "name": "stdout",
     "output_type": "stream",
     "text": [
      "Huawei Nova 14 with a 5500mAh battery\n"
     ]
    }
   ],
   "source": [
    "# 给类对象添加的新函数会成为所有同属于此类的实例绑定函数；\n",
    "# 被绑定的对象自动成为函数的第一个参数；\n",
    "def display2(self):\n",
    "    print(f'{self.brand} {self.model} with a {self.battery}mAh battery')\n",
    "\n",
    "SmartPhone.display2 = display2\n",
    "\n",
    "y.display2()"
   ]
  },
  {
   "cell_type": "markdown",
   "id": "15a674ec-9f4b-4e74-898d-a9e4c3833f13",
   "metadata": {},
   "source": [
    "------------\n",
    "🙋**练习**\n",
    "\n",
    "定义class时，其中的函数第一个参数必须叫self吗？不叫self会有什么后果？自己定义一个类试试。\n",
    "\n",
    "------------"
   ]
  },
  {
   "cell_type": "code",
   "execution_count": 78,
   "id": "e7bb4597-54e0-4462-957e-3b42eab1a4fb",
   "metadata": {},
   "outputs": [
    {
     "ename": "AttributeError",
     "evalue": "'SmartPhone' object has no attribute 'display2'",
     "output_type": "error",
     "traceback": [
      "\u001b[31m---------------------------------------------------------------------------\u001b[39m",
      "\u001b[31mAttributeError\u001b[39m                            Traceback (most recent call last)",
      "\u001b[36mCell\u001b[39m\u001b[36m \u001b[39m\u001b[32mIn[78]\u001b[39m\u001b[32m, line 2\u001b[39m\n\u001b[32m      1\u001b[39m \u001b[38;5;28;01mdel\u001b[39;00m SmartPhone.display2\n\u001b[32m----> \u001b[39m\u001b[32m2\u001b[39m \u001b[43my\u001b[49m\u001b[43m.\u001b[49m\u001b[43mdisplay2\u001b[49m()\n",
      "\u001b[31mAttributeError\u001b[39m: 'SmartPhone' object has no attribute 'display2'"
     ]
    }
   ],
   "source": [
    "del SmartPhone.display2\n",
    "y.display2()"
   ]
  },
  {
   "cell_type": "markdown",
   "id": "ca9f4a11-8a81-4bb1-880c-0400fccdb6b9",
   "metadata": {},
   "source": [
    "------------\n",
    "🙋**练习**\n",
    "\n",
    "下面的代码会报错吗，不报错的话会输出什么呢？\n",
    "```python\n",
    "SmartPhone.year = 2025\n",
    "\n",
    "x = SmartPhone()\n",
    "print(x.year)\n",
    "```\n",
    "\n",
    "-------------"
   ]
  },
  {
   "cell_type": "markdown",
   "id": "af9f2f81-171a-4298-b46a-410003103a2b",
   "metadata": {},
   "source": [
    "## 继承（Inheritance）"
   ]
  },
  {
   "cell_type": "code",
   "execution_count": 93,
   "id": "820b1336-393a-4061-a537-23a8bbc0b98f",
   "metadata": {},
   "outputs": [],
   "source": [
    "class HuaweiPhone(SmartPhone):\n",
    "    def huawei_style_display(self):\n",
    "        print(f'{self.brand} {self.model} - a smartphone far ahead of its peers.')\n",
    "\n",
    "# 仅作为例子展示继承的语法，不对产品的实际表现做任何保证或评价。"
   ]
  },
  {
   "cell_type": "code",
   "execution_count": 88,
   "id": "46e3bd08-bd3d-42d8-95ad-5ed006ff0c6e",
   "metadata": {},
   "outputs": [
    {
     "name": "stdout",
     "output_type": "stream",
     "text": [
      "Huawei Nova 14 Ultra\n"
     ]
    }
   ],
   "source": [
    "x = HuaweiPhone()\n",
    "x.set_brand('Huawei')\n",
    "x.set_model('Nova 14 Ultra')\n",
    "x.display()"
   ]
  },
  {
   "cell_type": "code",
   "execution_count": 89,
   "id": "16f9e89a-b1a6-448a-8846-6ab079fde13c",
   "metadata": {},
   "outputs": [
    {
     "name": "stdout",
     "output_type": "stream",
     "text": [
      "Huawei Nova 14 Ultra - a smartphone far ahead of its peers.\n"
     ]
    }
   ],
   "source": [
    "x.huawei_style_display()"
   ]
  },
  {
   "cell_type": "markdown",
   "id": "56807f1f-302d-483f-bf51-8008688c348c",
   "metadata": {},
   "source": [
    "- 继承机制允许我们从以后的类基础上创建新的类，新创建的类叫子类（subclass），被继承的叫父类、超类（superclass）；\n",
    "- 定义子类时，被继承的父类列在子类名称后面的括号中；\n",
    "- 子类继承父类的所有特性；实例继承子类以及子类的父类的特性；\n",
    "- python搜索实例的属性时，先搜索实例自身的命名空间，没找到的话再搜索类的命名空间，最后再搜索类的父类的命名空间；"
   ]
  },
  {
   "cell_type": "code",
   "execution_count": 90,
   "id": "9edae354-6447-4a4d-9e73-029ad04e2e15",
   "metadata": {},
   "outputs": [],
   "source": [
    "# 方法重载（overloading）：当子类的方法与父类的方法名称相同时，按照python的搜索顺序，\n",
    "# 先找到子类定义的方法，因而父类的方法看起来像是被覆盖了。\n",
    "class HuaweiPhone(SmartPhone):\n",
    "    def display(self):\n",
    "        print(f'{self.brand} {self.model} - a smartphone far ahead of its peers.')"
   ]
  },
  {
   "cell_type": "code",
   "execution_count": 91,
   "id": "cfbb1aa0-eb0e-4a96-aa80-0087c4c7ed64",
   "metadata": {},
   "outputs": [
    {
     "name": "stdout",
     "output_type": "stream",
     "text": [
      "Huawei Nova 14 Ultra - a smartphone far ahead of its peers.\n"
     ]
    }
   ],
   "source": [
    "x = HuaweiPhone()\n",
    "x.set_brand('Huawei')\n",
    "x.set_model('Nova 14 Ultra')\n",
    "x.display()"
   ]
  },
  {
   "cell_type": "markdown",
   "id": "c8319e7e-8c36-4a6f-bd7a-80bc8bb932e4",
   "metadata": {},
   "source": [
    "```mermaid\n",
    "classDiagram\n",
    "SmartPhone <|-- HuaweiPhone: inherits\n",
    "\n",
    "class SmartPhone{\n",
    "    + brand = None\n",
    "    + model = None\n",
    "    + set_brand(self, value)\n",
    "    + set_model(self, value)\n",
    "    + display(self)\n",
    "}\n",
    "\n",
    "class HuaweiPhone{\n",
    "    + display*(self)\n",
    "}\n",
    "```"
   ]
  },
  {
   "cell_type": "code",
   "execution_count": 94,
   "id": "2eb1ea67-991c-4a1e-9793-a4b66cb51ea5",
   "metadata": {},
   "outputs": [
    {
     "name": "stdout",
     "output_type": "stream",
     "text": [
      "<__main__.HuaweiPhone object at 0x1061ef8c0>\n"
     ]
    }
   ],
   "source": [
    "print(x)"
   ]
  },
  {
   "cell_type": "markdown",
   "id": "2daec25c-8e71-446b-9e86-3f95718703d5",
   "metadata": {},
   "source": [
    "- `__`括起来的特性是特殊的特性，内置函数在运行时会自动使用这些特性；\n",
    "- 在定义类是可以重写内置的特性；\n",
    "- 如果某个类对于一个运算符没有定义或者继承默认的操作，那么这个运算符不支持这个类；"
   ]
  },
  {
   "cell_type": "code",
   "execution_count": 95,
   "id": "fafbbcd7-3c62-4ded-92ab-fb80060396f5",
   "metadata": {},
   "outputs": [
    {
     "name": "stdout",
     "output_type": "stream",
     "text": [
      "Huawei Nova 14 Ultra - a smartphone far ahead of its peers.\n"
     ]
    }
   ],
   "source": [
    "class HuaweiPhone(SmartPhone):\n",
    "    def display(self):\n",
    "        print(f'{self.brand} {self.model} - a smartphone far ahead of its peers.')\n",
    "    def __str__(self):\n",
    "        return f'{self.brand} {self.model} - a smartphone far ahead of its peers.'\n",
    "\n",
    "x = HuaweiPhone()\n",
    "x.set_brand('Huawei')\n",
    "x.set_model('Nova 14 Ultra')\n",
    "\n",
    "print(x)"
   ]
  },
  {
   "cell_type": "code",
   "execution_count": 96,
   "id": "06588cae-7182-40c1-8c48-8035386a6e21",
   "metadata": {},
   "outputs": [],
   "source": [
    "class MyList(list):\n",
    "    def __add__(self, another_list):\n",
    "        return [self, another_list]"
   ]
  },
  {
   "cell_type": "code",
   "execution_count": 98,
   "id": "f8c7f278-7396-4abe-b0c0-becfe138ca08",
   "metadata": {},
   "outputs": [
    {
     "data": {
      "text/plain": [
       "[1, 2]"
      ]
     },
     "execution_count": 98,
     "metadata": {},
     "output_type": "execute_result"
    }
   ],
   "source": [
    "x = [1]\n",
    "y = [2]\n",
    "x + y"
   ]
  },
  {
   "cell_type": "code",
   "execution_count": 100,
   "id": "2b3f6631-0527-4a5c-803e-2417614930d7",
   "metadata": {},
   "outputs": [
    {
     "data": {
      "text/plain": [
       "([1], [2])"
      ]
     },
     "execution_count": 100,
     "metadata": {},
     "output_type": "execute_result"
    }
   ],
   "source": [
    "x = MyList([1])\n",
    "y = MyList([2])\n",
    "x, y"
   ]
  },
  {
   "cell_type": "code",
   "execution_count": 101,
   "id": "5ce71680-d515-4c06-909e-8e43ace2956e",
   "metadata": {},
   "outputs": [
    {
     "data": {
      "text/plain": [
       "[[1], [2]]"
      ]
     },
     "execution_count": 101,
     "metadata": {},
     "output_type": "execute_result"
    }
   ],
   "source": [
    "x + y"
   ]
  },
  {
   "cell_type": "code",
   "execution_count": 103,
   "id": "023f54ce-eabf-4b8c-92e6-4e22a7cf71dd",
   "metadata": {},
   "outputs": [],
   "source": [
    "# 可以从多个类继承\n",
    "class Camera():\n",
    "    def set_focal_length(self, value):\n",
    "        self.focal_length = value\n",
    "    def get_focal_length(self):\n",
    "        return f'{self.focal_length}mm'\n",
    "\n",
    "class HuaweiPhone(SmartPhone, Camera):\n",
    "    def huawei_style_display(self):\n",
    "        print(f'{self.brand} {self.model} - a smartphone far ahead of its peers.')"
   ]
  },
  {
   "cell_type": "code",
   "execution_count": 104,
   "id": "b3477700-25d5-4957-a01c-2e9ae192bdc5",
   "metadata": {},
   "outputs": [
    {
     "data": {
      "text/plain": [
       "'50mm'"
      ]
     },
     "execution_count": 104,
     "metadata": {},
     "output_type": "execute_result"
    }
   ],
   "source": [
    "x = HuaweiPhone()\n",
    "x.set_focal_length(50)\n",
    "x.get_focal_length()"
   ]
  },
  {
   "cell_type": "code",
   "execution_count": 107,
   "id": "982c7449-ec97-4dfd-8066-9dc3cb254f85",
   "metadata": {},
   "outputs": [
    {
     "name": "stdout",
     "output_type": "stream",
     "text": [
      "None\n"
     ]
    }
   ],
   "source": [
    "print(x.brand)"
   ]
  },
  {
   "cell_type": "code",
   "execution_count": 108,
   "id": "0ee1da04-7a1a-4502-b00b-068fb22a205d",
   "metadata": {},
   "outputs": [
    {
     "data": {
      "text/plain": [
       "{'focal_length': 50}"
      ]
     },
     "execution_count": 108,
     "metadata": {},
     "output_type": "execute_result"
    }
   ],
   "source": [
    "x.__dict__"
   ]
  },
  {
   "cell_type": "code",
   "execution_count": null,
   "id": "9e32e275-8d6c-4a09-8650-76b21c58c415",
   "metadata": {},
   "outputs": [],
   "source": [
    "x."
   ]
  },
  {
   "cell_type": "markdown",
   "id": "7122f7b0-323d-4130-a1d5-65d3638dad46",
   "metadata": {},
   "source": [
    "### 实例的初始化"
   ]
  },
  {
   "cell_type": "code",
   "execution_count": 122,
   "id": "71967ddd-9ef8-47eb-8abd-9d79cf811483",
   "metadata": {},
   "outputs": [
    {
     "data": {
      "text/plain": [
       "(<__main__.X at 0x1061ecec0>, <__main__.X at 0x106788e10>)"
      ]
     },
     "execution_count": 122,
     "metadata": {},
     "output_type": "execute_result"
    }
   ],
   "source": [
    "class X: pass\n",
    "\n",
    "y = X()\n",
    "z = X()\n",
    "y, z"
   ]
  },
  {
   "cell_type": "code",
   "execution_count": 134,
   "id": "84cc2162-4a55-42fb-9f54-053806d63bce",
   "metadata": {},
   "outputs": [
    {
     "data": {
      "text/plain": [
       "('Tom', 'Tom')"
      ]
     },
     "execution_count": 134,
     "metadata": {},
     "output_type": "execute_result"
    }
   ],
   "source": [
    "# 类的属性是共享的属性，会影响所有实例，如果属性是每个类私有的，则不会互相干扰\n",
    "X.name = 'Tom'\n",
    "y.name, z.name"
   ]
  },
  {
   "cell_type": "code",
   "execution_count": 145,
   "id": "70f96a78-8679-46a2-a4eb-69eb85b6e03d",
   "metadata": {},
   "outputs": [],
   "source": [
    "# 可以在实例创建时定义必要的属于实例自己的属性\n",
    "class SmartPhone:\n",
    "    def __init__(self, brand=None, model=None):\n",
    "        self.brand = brand\n",
    "        self.model = model\n",
    "    def display(self):\n",
    "        print(f'{self.brand} {self.model}')"
   ]
  },
  {
   "cell_type": "code",
   "execution_count": 146,
   "id": "26139bc0-4245-44d9-a319-41a4d73e6f34",
   "metadata": {},
   "outputs": [
    {
     "name": "stdout",
     "output_type": "stream",
     "text": [
      "Huawei P10\n"
     ]
    }
   ],
   "source": [
    "my_phone = SmartPhone('Huawei', 'P10')\n",
    "my_phone.display()"
   ]
  },
  {
   "cell_type": "code",
   "execution_count": 147,
   "id": "85c4bc81-a93e-4160-a9a1-80e79eaca9e2",
   "metadata": {},
   "outputs": [
    {
     "ename": "AttributeError",
     "evalue": "type object 'SmartPhone' has no attribute 'brand'",
     "output_type": "error",
     "traceback": [
      "\u001b[31m---------------------------------------------------------------------------\u001b[39m",
      "\u001b[31mAttributeError\u001b[39m                            Traceback (most recent call last)",
      "\u001b[36mCell\u001b[39m\u001b[36m \u001b[39m\u001b[32mIn[147]\u001b[39m\u001b[32m, line 1\u001b[39m\n\u001b[32m----> \u001b[39m\u001b[32m1\u001b[39m \u001b[43mSmartPhone\u001b[49m\u001b[43m.\u001b[49m\u001b[43mbrand\u001b[49m\n",
      "\u001b[31mAttributeError\u001b[39m: type object 'SmartPhone' has no attribute 'brand'"
     ]
    }
   ],
   "source": [
    "SmartPhone.brand"
   ]
  },
  {
   "cell_type": "code",
   "execution_count": 152,
   "id": "c209f096-5d7c-4a90-aaa9-75cca7e1cda3",
   "metadata": {},
   "outputs": [],
   "source": [
    "# 怎么用父类的继承\n",
    "class HuaweiPhone(SmartPhone):\n",
    "    def __init__(self, model=None):\n",
    "        super().__init__(\"Huawei\", model)\n",
    "    def display(self):\n",
    "        print(f'{self.brand} {self.model} - a smartphone far ahead of its peers.')"
   ]
  },
  {
   "cell_type": "code",
   "execution_count": 153,
   "id": "e9f77313-30f3-41ab-b2b4-5c479dde48b2",
   "metadata": {},
   "outputs": [
    {
     "name": "stdout",
     "output_type": "stream",
     "text": [
      "Huawei P10 - a smartphone far ahead of its peers.\n"
     ]
    }
   ],
   "source": [
    "my_phone = HuaweiPhone('P10')\n",
    "my_phone.display()"
   ]
  },
  {
   "cell_type": "code",
   "execution_count": 133,
   "id": "efe30b1e-4a86-4c5a-a83c-9f485b2f5eae",
   "metadata": {},
   "outputs": [],
   "source": [
    "# 怎么用父类的继承\n",
    "class HuaweiPhone(SmartPhone, Camera):\n",
    "    def __init__(self, model=None):\n",
    "        SmartPhone.__init__(self, \"Huawei\", model)  # 注意需要提供self参数\n",
    "    def display(self):\n",
    "        print(f'{self.brand} {self.model} - a smartphone far ahead of its peers.')"
   ]
  },
  {
   "cell_type": "code",
   "execution_count": 132,
   "id": "f5269504-609a-4540-8924-ea0a7aabb1e5",
   "metadata": {},
   "outputs": [
    {
     "name": "stdout",
     "output_type": "stream",
     "text": [
      "Huawei Nova 14 Ultra - a smartphone far ahead of its peers.\n"
     ]
    }
   ],
   "source": [
    "my_phone = HuaweiPhone('Nova 14 Ultra')\n",
    "my_phone.display()"
   ]
  },
  {
   "cell_type": "markdown",
   "id": "f047a601-6966-45f7-a298-c8ce9e91aec2",
   "metadata": {},
   "source": [
    "```mermaid\n",
    "classDiagram\n",
    "SmartPhone <|-- HuaweiPhone: inherits\n",
    "HuaweiPhone <|-- my_phone: is a\n",
    "\n",
    "class SmartPhone{\n",
    "    + display(self)\n",
    "}\n",
    "\n",
    "class HuaweiPhone{\n",
    "    + display*(self)  # function\n",
    "}\n",
    "\n",
    "class my_phone{\n",
    "    + brand = 'Huawei'\n",
    "    + model = 'P10'\n",
    "    + display(self)  # bound method\n",
    "}\n",
    "```"
   ]
  },
  {
   "cell_type": "markdown",
   "id": "094b93b2-cec1-4a1f-8ac0-d418a43d333e",
   "metadata": {},
   "source": [
    "## 脚本编写\n",
    "\n",
    "脚本是用来在终端/命令行执行的.py文件\n",
    "\n",
    "```bash\n",
    "python /path/to/your/script.py\n",
    "```"
   ]
  },
  {
   "cell_type": "code",
   "execution_count": 154,
   "id": "fdab7da2-9ee5-4e3c-8238-551e9a724a80",
   "metadata": {},
   "outputs": [
    {
     "name": "stdout",
     "output_type": "stream",
     "text": [
      "\u001b[1m\u001b[36m__pycache__\u001b[m\u001b[m    hello_world.py mathlib.py\n"
     ]
    }
   ],
   "source": [
    "! ls src"
   ]
  },
  {
   "cell_type": "code",
   "execution_count": 155,
   "id": "5c503956-7c50-4e4d-9143-935cedbbd3de",
   "metadata": {},
   "outputs": [
    {
     "name": "stdout",
     "output_type": "stream",
     "text": [
      "/Users/mt1022/Code/p4ds/src/hello_world.py\n"
     ]
    }
   ],
   "source": [
    "! readlink -f src/hello_world.py"
   ]
  },
  {
   "cell_type": "code",
   "execution_count": 156,
   "id": "5ce21732-8740-48a6-affe-81d06e61c007",
   "metadata": {},
   "outputs": [
    {
     "name": "stdout",
     "output_type": "stream",
     "text": [
      "print(\"Hello, World!\")\n"
     ]
    }
   ],
   "source": [
    "! cat src/hello_world.py"
   ]
  },
  {
   "cell_type": "code",
   "execution_count": 157,
   "id": "a6633e1e-bb15-4e5d-ab71-19542530dc57",
   "metadata": {},
   "outputs": [
    {
     "name": "stdout",
     "output_type": "stream",
     "text": [
      "Hello, World!\n"
     ]
    }
   ],
   "source": [
    "! python src/hello_world.py"
   ]
  },
  {
   "cell_type": "markdown",
   "id": "7a783375-fc37-4ddb-b359-a8bbde64bb6d",
   "metadata": {},
   "source": [
    "`.py`文件是python中的module，但被导入到其他文件中使用时，该模块的内置属性`__name__`是module的名字，当`.py`文件作为主文件被python直接执行时，`__name__`的值是`__main__`.\n",
    "\n",
    "利用这个性质，我们可以定义一些文件直接被执行是才会运行的指令，而当文件被导入到其他文件时，只提供一些可以重复使用的函数、变量等。"
   ]
  },
  {
   "cell_type": "code",
   "execution_count": 160,
   "id": "a659db6d-0c09-40fe-94c3-5c99e21c4bde",
   "metadata": {},
   "outputs": [
    {
     "name": "stdout",
     "output_type": "stream",
     "text": [
      "Hello, World!\n"
     ]
    }
   ],
   "source": [
    "! python src/hello_world2.py"
   ]
  },
  {
   "cell_type": "code",
   "execution_count": 161,
   "id": "cdc59252-6b17-46a3-bfe2-ec4d497e498e",
   "metadata": {},
   "outputs": [],
   "source": [
    "from src.hello_world2 import print_hello_world"
   ]
  },
  {
   "cell_type": "code",
   "execution_count": 162,
   "id": "a9e0d2b7-c3c5-4256-9523-389694e5b06d",
   "metadata": {},
   "outputs": [
    {
     "name": "stdout",
     "output_type": "stream",
     "text": [
      "Hello, World!\n"
     ]
    }
   ],
   "source": [
    "print_hello_world()"
   ]
  },
  {
   "cell_type": "markdown",
   "id": "5ea000a9-c027-411c-b1c3-9dd7f9e4cdff",
   "metadata": {},
   "source": [
    "### 解析命令行参数"
   ]
  },
  {
   "cell_type": "code",
   "execution_count": null,
   "id": "fd880356-2c99-4388-8e46-7ebe0be9d756",
   "metadata": {},
   "outputs": [],
   "source": []
  },
  {
   "cell_type": "markdown",
   "id": "e853ce3f-2fbd-49f1-b466-c741805982a9",
   "metadata": {},
   "source": [
    "## 练习提示hint\n",
    "\n",
    "- x.set_brand和y.set_brand都是bound method（绑定方法），它们分别绑定到 x 和 y 实例。它们底层引用的是同一个类方法函数（SmartPhone.set_brand），但包装成了不同的bound method对象（绑定不同 self）。但Python对bound method的生成做了优化，可能会复用对象，因此在某些情况下（尤其是交互式环境中），你看到id(x.set_brand)和id(x.set_brand)是一样的。"
   ]
  },
  {
   "cell_type": "code",
   "execution_count": null,
   "id": "e581a9cc-4e7f-4b57-95ac-a2cc74c26757",
   "metadata": {},
   "outputs": [],
   "source": []
  }
 ],
 "metadata": {
  "kernelspec": {
   "display_name": "Python 3 (ipykernel)",
   "language": "python",
   "name": "python3"
  },
  "language_info": {
   "codemirror_mode": {
    "name": "ipython",
    "version": 3
   },
   "file_extension": ".py",
   "mimetype": "text/x-python",
   "name": "python",
   "nbconvert_exporter": "python",
   "pygments_lexer": "ipython3",
   "version": "3.13.2"
  }
 },
 "nbformat": 4,
 "nbformat_minor": 5
}
