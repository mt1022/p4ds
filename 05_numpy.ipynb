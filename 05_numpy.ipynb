{
 "cells": [
  {
   "cell_type": "markdown",
   "id": "a47ab550-287e-49d0-bd43-6ea2c6b81d30",
   "metadata": {},
   "source": [
    "# 04 - Numpy\n",
    "\n",
    "- 创建numpy array\n",
    "- array的索引、切片\n",
    "- array的基本操作\n",
    "- array的运算"
   ]
  },
  {
   "cell_type": "code",
   "execution_count": null,
   "id": "8cd50728-cb0d-49fc-9d5b-30cb3ea270db",
   "metadata": {},
   "outputs": [],
   "source": [
    "import numpy as np"
   ]
  },
  {
   "cell_type": "markdown",
   "id": "d2335321-c440-4860-a5f1-00038add3e45",
   "metadata": {},
   "source": [
    "## 创建array"
   ]
  },
  {
   "cell_type": "code",
   "execution_count": null,
   "id": "0ce6500e-6413-4721-9a3e-9f8b67844e94",
   "metadata": {},
   "outputs": [],
   "source": [
    "# with sequence\n",
    "np.array([0, 1, 2, 3, 4])"
   ]
  },
  {
   "cell_type": "code",
   "execution_count": null,
   "id": "35461e62-61b3-41ae-9050-a1b32117376b",
   "metadata": {},
   "outputs": [],
   "source": [
    "# with iterable\n",
    "np.array(range(10))"
   ]
  },
  {
   "cell_type": "code",
   "execution_count": null,
   "id": "ba22e21c-b4ea-4c9f-a8dc-e076107d818b",
   "metadata": {},
   "outputs": [],
   "source": [
    "# with builtin\n",
    "np.arange(10)"
   ]
  },
  {
   "cell_type": "code",
   "execution_count": null,
   "id": "6c4bf985-b8e3-4938-97e7-36a4c2af737b",
   "metadata": {},
   "outputs": [],
   "source": [
    "# np.linspace(from, to, number of values)\n",
    "np.linspace(0, 10, 11)"
   ]
  },
  {
   "cell_type": "code",
   "execution_count": null,
   "id": "361d700e-b542-4dd7-9f88-3f28b56ccb16",
   "metadata": {},
   "outputs": [],
   "source": [
    "np.zeros(shape=(3, 4))"
   ]
  },
  {
   "cell_type": "code",
   "execution_count": null,
   "id": "0f114ef7-521b-4bfa-b710-84527f0cb3ed",
   "metadata": {},
   "outputs": [],
   "source": [
    "np.ones(shape=(3, 4))"
   ]
  },
  {
   "cell_type": "code",
   "execution_count": null,
   "id": "9fdbce1a-7d61-4e37-b90b-5560794aa69f",
   "metadata": {},
   "outputs": [],
   "source": [
    "# random numbers\n",
    "np.random.binomial(n=10, p=0.5, size=(2,3))"
   ]
  },
  {
   "cell_type": "code",
   "execution_count": null,
   "id": "737ce660-4cb4-4ca0-8d73-0d4b96c44910",
   "metadata": {},
   "outputs": [],
   "source": [
    "x = np.random.default_rng(2025)\n",
    "x.binomial(10, 0.5, size=(2, 3))"
   ]
  },
  {
   "cell_type": "code",
   "execution_count": null,
   "id": "e9a10bda-49dc-42e5-bd7e-e8cfac8a00a9",
   "metadata": {},
   "outputs": [],
   "source": [
    "np.random.normal(loc=0, scale=1, size=(3, 3))"
   ]
  },
  {
   "cell_type": "code",
   "execution_count": null,
   "id": "e2ec4adf-42d4-448b-b9d9-4d3e4f856c03",
   "metadata": {},
   "outputs": [],
   "source": [
    "np.random.standard_normal(size=(3, 3))"
   ]
  },
  {
   "cell_type": "markdown",
   "id": "e76008ef-df46-48c2-8982-e70605d8b3db",
   "metadata": {},
   "source": [
    "--------------\n",
    "\n",
    "🙋**练习**\n",
    "\n",
    "下面两段代码多运行几次看看结果有什么区别，为什么会这样？\n",
    "```python\n",
    "# code snippet 1\n",
    "np.random.binomial(n=10, p=0.5, size=(2,3))\n",
    "```\n",
    "\n",
    "```python\n",
    "# code snippet 2\n",
    "x = np.random.default_rng(2025)\n",
    "x.binomial(10, 0.5, size=(2, 3))\n",
    "```\n",
    "--------------"
   ]
  },
  {
   "cell_type": "markdown",
   "id": "ebfc49e3-ca58-4958-bea1-01413cd51770",
   "metadata": {},
   "source": [
    "## subetting (index & slice)"
   ]
  },
  {
   "cell_type": "code",
   "execution_count": null,
   "id": "f1e3b491-6a9c-4520-9dd2-3500cb611d20",
   "metadata": {},
   "outputs": [],
   "source": [
    "(x := np.arange(12))"
   ]
  },
  {
   "cell_type": "code",
   "execution_count": null,
   "id": "26da6a0d-a76c-4bf4-8b0d-70ce05b9d2b6",
   "metadata": {},
   "outputs": [],
   "source": [
    "x.reshape(3, 4)"
   ]
  },
  {
   "cell_type": "code",
   "execution_count": null,
   "id": "d7abf1a8-5f22-46a7-97d5-19c31f52951d",
   "metadata": {},
   "outputs": [],
   "source": [
    "(x := x.reshape(3, 4))"
   ]
  },
  {
   "cell_type": "code",
   "execution_count": null,
   "id": "cd4baa52-40c1-4e75-86ff-1f314949991b",
   "metadata": {},
   "outputs": [],
   "source": [
    "# x[row, col]\n",
    "x[1, 2]"
   ]
  },
  {
   "cell_type": "code",
   "execution_count": null,
   "id": "24160aae-f05f-4d4f-9aca-791204dbda57",
   "metadata": {},
   "outputs": [],
   "source": [
    "x.dtype"
   ]
  },
  {
   "cell_type": "code",
   "execution_count": null,
   "id": "f05b8467-8ee8-4ee8-b157-a7507440a7b5",
   "metadata": {},
   "outputs": [],
   "source": [
    "x[1, ]"
   ]
  },
  {
   "cell_type": "code",
   "execution_count": null,
   "id": "dd97fee7-a333-492a-bc58-2a32730d264c",
   "metadata": {},
   "outputs": [],
   "source": [
    "x[, 1]"
   ]
  },
  {
   "cell_type": "code",
   "execution_count": null,
   "id": "a0d35271-3eed-44fd-896d-5c661eebede1",
   "metadata": {},
   "outputs": [],
   "source": [
    "# numpy array中行列的索引切片语法与列表的切片索引类似\n",
    "x[:, 1]"
   ]
  },
  {
   "cell_type": "code",
   "execution_count": null,
   "id": "bd276a4c-60b3-4be2-9eb9-a17112d34247",
   "metadata": {},
   "outputs": [],
   "source": [
    "x[:2, 1:]"
   ]
  },
  {
   "cell_type": "code",
   "execution_count": null,
   "id": "abb63756-5d2a-4294-abe5-0087d51f42f1",
   "metadata": {},
   "outputs": [],
   "source": [
    "# boolean indexing\n",
    "x > 5"
   ]
  },
  {
   "cell_type": "code",
   "execution_count": null,
   "id": "a3b41a03-e695-4a34-a362-8d5e146c27e9",
   "metadata": {},
   "outputs": [],
   "source": [
    "x[x > 5]"
   ]
  },
  {
   "cell_type": "code",
   "execution_count": null,
   "id": "c833dec8-4e99-4b4d-abc2-70acfe271547",
   "metadata": {},
   "outputs": [],
   "source": [
    "x"
   ]
  },
  {
   "cell_type": "code",
   "execution_count": null,
   "id": "555c6ed2-1c9a-42b9-abe8-9700df0bb8ae",
   "metadata": {},
   "outputs": [],
   "source": [
    "# fancy indexing\n",
    "x[np.arange(3), np.arange(3)]"
   ]
  },
  {
   "cell_type": "code",
   "execution_count": null,
   "id": "7df5160a-ec2a-48b8-8e02-955485b0fcd2",
   "metadata": {},
   "outputs": [],
   "source": [
    "x[[0, 0, 1, 2], [1, 1, 2, 3]]"
   ]
  },
  {
   "cell_type": "code",
   "execution_count": null,
   "id": "bea70e3d-f039-452f-b8a7-1fe9bcaafc82",
   "metadata": {},
   "outputs": [],
   "source": [
    "# index、slicing可以与赋值结合\n",
    "x[:2, 1:] = 0\n",
    "x"
   ]
  },
  {
   "cell_type": "markdown",
   "id": "0bf5c41c-13b9-4eb9-a660-1d1e71ed8084",
   "metadata": {},
   "source": [
    "--------------\n",
    "\n",
    "🙋**练习**\n",
    "\n",
    "这段代码的输出是什么？\n",
    "\n",
    "```python\n",
    "x = np.arange(12).reshape(3, 4)\n",
    "x[::2, ::-1]\n",
    "```\n",
    "\n",
    "---------------"
   ]
  },
  {
   "cell_type": "markdown",
   "id": "bc13e7d1-be5e-4c16-87b4-2d5eb6462199",
   "metadata": {},
   "source": [
    "## 基本操作"
   ]
  },
  {
   "cell_type": "code",
   "execution_count": null,
   "id": "78955334-a7b9-4e06-bfda-f60a1b33026f",
   "metadata": {},
   "outputs": [],
   "source": [
    "x = np.arange(3*4).reshape(3, 4)\n",
    "x"
   ]
  },
  {
   "cell_type": "code",
   "execution_count": null,
   "id": "a7f98810-42df-49f6-b076-35290f7663a3",
   "metadata": {},
   "outputs": [],
   "source": [
    "x = x.astype(float)\n",
    "x"
   ]
  },
  {
   "cell_type": "code",
   "execution_count": null,
   "id": "cd876dd6-ee12-487d-a6c4-e718b79fcb51",
   "metadata": {},
   "outputs": [],
   "source": [
    "x.dtype"
   ]
  },
  {
   "cell_type": "code",
   "execution_count": null,
   "id": "cb66fadc-0927-4312-af0a-81fda27f25e0",
   "metadata": {},
   "outputs": [],
   "source": [
    "x.reshape(-1, 2, 2)\n",
    "# 维度与括号的对应关系：左侧对应外层\n",
    "# \"-1\" 表示不显示给出，让python自己判断"
   ]
  },
  {
   "cell_type": "code",
   "execution_count": null,
   "id": "b458593a-f1ba-4abe-af53-bce11dd5e643",
   "metadata": {},
   "outputs": [],
   "source": [
    "x.size"
   ]
  },
  {
   "cell_type": "code",
   "execution_count": null,
   "id": "ebbc7c58-ac26-4f48-a493-b7640fb39966",
   "metadata": {},
   "outputs": [],
   "source": [
    "x.shape"
   ]
  },
  {
   "cell_type": "code",
   "execution_count": null,
   "id": "872c661b-0507-423a-9e7b-f76475debdf4",
   "metadata": {},
   "outputs": [],
   "source": [
    "x.T  # or x.transpose()"
   ]
  },
  {
   "cell_type": "code",
   "execution_count": null,
   "id": "6798b5d9-6b27-4992-a73b-4048f56a4437",
   "metadata": {},
   "outputs": [],
   "source": [
    "x"
   ]
  },
  {
   "cell_type": "code",
   "execution_count": null,
   "id": "88893a20-832f-4826-b435-42d51a198bac",
   "metadata": {},
   "outputs": [],
   "source": [
    "np.concatenate((x, x), axis=0)  # axis=0表示垂直方向，两个x成为不同的行"
   ]
  },
  {
   "cell_type": "code",
   "execution_count": null,
   "id": "f349947b-47d3-4094-9385-d1e56916a189",
   "metadata": {},
   "outputs": [],
   "source": [
    "np.concatenate((x, x), axis=1)  # axis=1表示水平方向，两个x成为不同的列"
   ]
  },
  {
   "cell_type": "code",
   "execution_count": null,
   "id": "1184bea5-fcfa-42f0-99e2-b40b93d19de6",
   "metadata": {},
   "outputs": [],
   "source": [
    "np.vstack((x, x))"
   ]
  },
  {
   "cell_type": "code",
   "execution_count": null,
   "id": "c96a14ab-966d-43c5-8bea-67965deabdba",
   "metadata": {},
   "outputs": [],
   "source": [
    "np.hstack((x, x))"
   ]
  },
  {
   "cell_type": "code",
   "execution_count": null,
   "id": "3f0e394b-950c-43a0-a0e3-9d4a4c426db7",
   "metadata": {},
   "outputs": [],
   "source": [
    "np.hsplit(np.hstack((x, x)), 2)"
   ]
  },
  {
   "cell_type": "markdown",
   "id": "3136060f-9ddc-4ae3-974f-7e1f3e12d5b7",
   "metadata": {},
   "source": [
    "--------------\n",
    "\n",
    "🙋**练习**\n",
    "\n",
    "`np.vstack`的逆操作是什么？猜一下对应的函数名，尝试使用。\n",
    "\n",
    "--------------"
   ]
  },
  {
   "cell_type": "markdown",
   "id": "9a0216dc-1973-497c-845e-c4c7f69a0c51",
   "metadata": {},
   "source": [
    "## array 运算"
   ]
  },
  {
   "cell_type": "code",
   "execution_count": null,
   "id": "f83e3b25-a165-4c3b-a687-adf68b2dc45c",
   "metadata": {},
   "outputs": [],
   "source": [
    "x = np.arange(10_0000)\n",
    "y = np.random.normal(size=10_0000)\n",
    "# 如何求x与y对应元素相乘之后的总和呢？"
   ]
  },
  {
   "cell_type": "code",
   "execution_count": null,
   "id": "5e877c1b-e6c5-49fc-85c9-1a31b897eefd",
   "metadata": {},
   "outputs": [],
   "source": [
    "x.shape, y.shape"
   ]
  },
  {
   "cell_type": "code",
   "execution_count": null,
   "id": "80622bf6-b610-48d5-9531-931e6d03c7c4",
   "metadata": {},
   "outputs": [],
   "source": [
    "z = 0\n",
    "for i in range(x.size):\n",
    "    z += x[i] * y[i]\n",
    "z"
   ]
  },
  {
   "cell_type": "code",
   "execution_count": null,
   "id": "0fec8c8c-f6f5-4423-81d3-335791a4f8ef",
   "metadata": {},
   "outputs": [],
   "source": [
    "np.sum(x * y)"
   ]
  },
  {
   "cell_type": "code",
   "execution_count": null,
   "id": "cdfc9e0c-a61e-4436-9cf0-c367f7c83eef",
   "metadata": {},
   "outputs": [],
   "source": [
    "np.dot(x, y)"
   ]
  },
  {
   "cell_type": "markdown",
   "id": "0fb5e785-8c3b-4cf3-aee5-f94fa7439ae7",
   "metadata": {},
   "source": [
    "哪种方法更快？"
   ]
  },
  {
   "cell_type": "code",
   "execution_count": null,
   "id": "52e9d429-79cc-44d2-aec0-84c5e0d34969",
   "metadata": {},
   "outputs": [],
   "source": [
    "%%timeit -n 10 -r 10\n",
    "z = 0\n",
    "for i in range(x.size):\n",
    "    z += x[i] * y[i]"
   ]
  },
  {
   "cell_type": "code",
   "execution_count": null,
   "id": "22b7fd3e-f205-4f04-929d-e2a5af3d3257",
   "metadata": {},
   "outputs": [],
   "source": [
    "%timeit -n1000 -r10 np.sum(x * y)"
   ]
  },
  {
   "cell_type": "code",
   "execution_count": null,
   "id": "21905451-a3f7-4682-b19a-0dda152e5105",
   "metadata": {},
   "outputs": [],
   "source": [
    "%timeit -n1000 -r10 np.dot(x, y)"
   ]
  },
  {
   "cell_type": "markdown",
   "id": "d918d68c-8496-4c15-a59e-3451cda1b2f2",
   "metadata": {},
   "source": [
    "**启示**： numpy对常用的运算进行了优化，同样的运算用numpy内置的方法比用基础的python函数效率更高！\n",
    "\n",
    "进一步了解：https://numpy.org/doc/stable/reference/ufuncs.html#ufuncs"
   ]
  },
  {
   "cell_type": "markdown",
   "id": "ea67c4ad-5ddf-48a9-96cc-56d79e5a9550",
   "metadata": {},
   "source": [
    "### 两个array运算时的broadcasting\n",
    "\n",
    "对于两个array之间的基本运算，大多数情况下都是对应元素之间逐一进行运算，但当两个array形状不一样时，需要通过broadcasting机制变成相同的形状进行运算，基本规则如下：\n",
    "\n",
    "- 维度少的：左侧增加维度，基数为1，例如三元向量变成1x3的数组；\n",
    "- 维度不同的情况下，如果其中一个array的行数或列数是1，那么通过复制变成相同的行数或列数；\n",
    "\n",
    "https://numpy.org/doc/stable/user/basics.broadcasting.html"
   ]
  },
  {
   "cell_type": "markdown",
   "id": "a663d096-2066-4194-bb2b-4aaab33d6d80",
   "metadata": {},
   "source": [
    "![](https://numpy.org/doc/stable/_images/broadcasting_1.png)"
   ]
  },
  {
   "cell_type": "code",
   "execution_count": null,
   "id": "73420809-2abf-4c09-83fe-0030623f858b",
   "metadata": {},
   "outputs": [],
   "source": [
    "a = np.array([1, 2, 3])\n",
    "b = 2\n",
    "a * b"
   ]
  },
  {
   "cell_type": "code",
   "execution_count": null,
   "id": "0ec5a48e-c206-49dd-9321-391a418748d7",
   "metadata": {},
   "outputs": [],
   "source": [
    "# 以上单元格最后一步运算的具体流程\n",
    "b2 = [2, 2, 2]  # 1 -> 3\n",
    "a * b2          # elementwise add/multiply"
   ]
  },
  {
   "cell_type": "markdown",
   "id": "309c3867-07b1-4cc4-b1c8-9b6829ca6421",
   "metadata": {},
   "source": [
    "![](https://numpy.org/doc/stable/_images/broadcasting_2.png)"
   ]
  },
  {
   "cell_type": "code",
   "execution_count": null,
   "id": "c2e28714-1d09-40b0-9dc2-b549270aeb7e",
   "metadata": {},
   "outputs": [],
   "source": [
    "a = np.array([\n",
    "    [ 0.,  0.,  0.],\n",
    "    [10., 10., 10.],\n",
    "    [20., 20., 20.],\n",
    "    [30., 30., 30.]])\n",
    "\n",
    "b = np.array([1, 2, 3])\n",
    "a, b"
   ]
  },
  {
   "cell_type": "code",
   "execution_count": null,
   "id": "42d50219-d0b7-4df0-b04a-104181320352",
   "metadata": {},
   "outputs": [],
   "source": [
    "a + b"
   ]
  },
  {
   "cell_type": "code",
   "execution_count": null,
   "id": "211e90de-616e-46f9-9ea6-5ebfb36a2180",
   "metadata": {},
   "outputs": [],
   "source": [
    "# 以上单元格最后一步运算的具体流程\n",
    "\n",
    "b2 = b.reshape(1, 3)          # 3 -> 1x3\n",
    "b3 = np.vstack([b2]*4)        # 1x3 -> 4x3\n",
    "a + b3                        # elementwise add\n",
    "\n",
    "# 还记得列表的乘法运算吗？"
   ]
  },
  {
   "cell_type": "markdown",
   "id": "7eca7b52-eb2f-4f47-8719-2425792e62cb",
   "metadata": {},
   "source": [
    "--------------\n",
    "\n",
    "🙋**练习**\n",
    "\n",
    "如何用下面的x、y、z，根据broadcasting规则进行运算，得到该例子中的矩阵`a`？\n",
    "```python\n",
    "x = np.array([0, 1, 2, 3])\n",
    "y = np.ones(3)\n",
    "z = 10\n",
    "```\n",
    "\n",
    "--------------"
   ]
  },
  {
   "cell_type": "markdown",
   "id": "097dce8d-cd3e-4d6b-b033-3554fe666dcd",
   "metadata": {},
   "source": [
    "![](https://numpy.org/doc/stable/_images/broadcasting_4.png)"
   ]
  },
  {
   "cell_type": "code",
   "execution_count": null,
   "id": "376f4a8a-d810-451a-81f8-0f27050cffc1",
   "metadata": {},
   "outputs": [],
   "source": [
    "a = np.array([[0], [10], [20], [30]])\n",
    "b = np.array([1, 2, 3])\n",
    "a, b"
   ]
  },
  {
   "cell_type": "code",
   "execution_count": null,
   "id": "99d03229-9c8f-4f5e-92f5-c910276c351a",
   "metadata": {},
   "outputs": [],
   "source": [
    "a + b"
   ]
  },
  {
   "cell_type": "markdown",
   "id": "5cf9a875-7800-4a32-b844-64a9e167f1f4",
   "metadata": {},
   "source": [
    "--------------\n",
    "\n",
    "🙋**练习**\n",
    "\n",
    "参考前面的例子，根据broadcasting的规则，写出这个例子中与broadcasting的详细过程。\n",
    "\n",
    "--------------"
   ]
  },
  {
   "cell_type": "markdown",
   "id": "6cdd5726-12e8-43bb-bf13-a9e3d1a18325",
   "metadata": {},
   "source": [
    "## 拓展\n",
    "\n",
    "- [numpy中的的线性代数相关函数](https://numpy.org/doc/stable/reference/routines.linalg.html)\n",
    "- [字符串array](https://numpy.org/doc/stable/user/basics.strings.html)\n",
    "\n",
    "--------------\n",
    "\n",
    "🙋**练习**\n",
    "\n",
    "解释为什么下面的例子中a与b最后完全相等，用什么dtype类型可以避免这种情况？\n",
    "```python\n",
    "a = np.array(['a', 'b', 'c'])\n",
    "b = np.array(['a', 'b', 'd'])\n",
    "b[2] = 'cat'\n",
    "a == b\n",
    "```\n",
    "\n",
    "---------------"
   ]
  },
  {
   "cell_type": "markdown",
   "id": "712ff60c-0094-4e09-b403-f6eba4e604ad",
   "metadata": {},
   "source": [
    "## homework\n",
    "\n",
    "自学Andrew Ng[《神经网络与深度学习》](https://www.coursera.org/learn/neural-networks-deep-learning?specialization=deep-learning#modules)第二单元的内容，根据课程内容，用numpy实现Logistic regression参数的梯度下降法(gradient descent)求解。回归模型可以用以下X与Y作为训练数据：\n",
    "\n",
    "```python\n",
    "import numpy as np\n",
    "import pandas as pd\n",
    "import seaborn as sns\n",
    "\n",
    "iris = sns.load_dataset('iris')\n",
    "iris = iris[iris['species'].isin(['setosa', 'virginica'])]\n",
    "X = iris.iloc[:,0:4].to_numpy().T\n",
    "Y = (iris['species'] == 'setosa').to_numpy().astype(int)\n",
    "```\n",
    "提示：如果load_dataset失败的话可以从[这里](https://raw.githubusercontent.com/mwaskom/seaborn-data/refs/heads/master/iris.csv)或本课程的homework文件夹直接下载数据文件。"
   ]
  }
 ],
 "metadata": {
  "kernelspec": {
   "display_name": "Python 3 (ipykernel)",
   "language": "python",
   "name": "python3"
  },
  "language_info": {
   "codemirror_mode": {
    "name": "ipython",
    "version": 3
   },
   "file_extension": ".py",
   "mimetype": "text/x-python",
   "name": "python",
   "nbconvert_exporter": "python",
   "pygments_lexer": "ipython3",
   "version": "3.13.2"
  }
 },
 "nbformat": 4,
 "nbformat_minor": 5
}
