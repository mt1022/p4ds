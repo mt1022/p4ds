{
 "cells": [
  {
   "cell_type": "markdown",
   "id": "fe4da253-ac50-489b-8a41-2918efe29b71",
   "metadata": {},
   "source": [
    "# 0C - Python basics C\n",
    "\n",
    "- function\n",
    "- generator\n",
    "- argument scope\n",
    "- module"
   ]
  },
  {
   "cell_type": "markdown",
   "id": "69b8b167-f8df-4362-b8df-daab748a805a",
   "metadata": {},
   "source": [
    "## 1. 函数的基本语法\n",
    "\n",
    "Python中使用`def`关键字定义函数。\n",
    "\n",
    "基本语法：\n",
    "```python\n",
    "def function_name(parameters):\n",
    "    \"\"\"文档字符串（可选）\"\"\"\n",
    "    # 函数体\n",
    "    return value  # 可选\n",
    "```"
   ]
  },
  {
   "cell_type": "code",
   "execution_count": 3,
   "id": "ea0465f5",
   "metadata": {},
   "outputs": [
    {
     "name": "stdout",
     "output_type": "stream",
     "text": [
      "Hello, Alice!\n"
     ]
    }
   ],
   "source": [
    "# 简单的函数示例\n",
    "def greet(name):\n",
    "    \"\"\"\n",
    "    问候函数\n",
    "    参数：name - 要问候的人的姓名\n",
    "    返回：问候语字符串\n",
    "    \"\"\"\n",
    "    return f\"Hello, {name}!\"\n",
    "\n",
    "# 调用函数\n",
    "message = greet(\"Alice\")\n",
    "print(message)\n"
   ]
  },
  {
   "cell_type": "code",
   "execution_count": 4,
   "id": "d6343fbf",
   "metadata": {},
   "outputs": [
    {
     "name": "stdout",
     "output_type": "stream",
     "text": [
      "Name: Bob\n",
      "Age: 25\n"
     ]
    }
   ],
   "source": [
    "\n",
    "# 无返回值的函数\n",
    "def print_info(name, age):\n",
    "    print(f\"Name: {name}\")\n",
    "    print(f\"Age: {age}\")\n",
    "\n",
    "print_info(\"Bob\", 25)"
   ]
  },
  {
   "cell_type": "markdown",
   "id": "2674f727",
   "metadata": {},
   "source": [
    "## 2. 函数参数的类型\n",
    "\n",
    "Python函数支持多种参数类型：\n",
    "\n",
    "1. **位置参数**：按顺序传递的参数\n",
    "2. **关键字参数**：使用参数名传递的参数\n",
    "3. **默认参数**：有默认值的参数\n",
    "4. **可变参数**：\n",
    "   - `*args`：接收任意数量的位置参数\n",
    "   - `**kwargs`：接收任意数量的关键字参数\n",
    "5. **强制关键字参数**：使用`*`分隔的参数"
   ]
  },
  {
   "cell_type": "code",
   "execution_count": 5,
   "id": "c0bc3886",
   "metadata": {},
   "outputs": [
    {
     "name": "stdout",
     "output_type": "stream",
     "text": [
      "I am Tom, 30 years old, from Beijing\n"
     ]
    }
   ],
   "source": [
    "# 1. 位置参数和关键字参数\n",
    "def introduce(name, age, city):\n",
    "    return f\"I am {name}, {age} years old, from {city}\"\n",
    "\n",
    "# 位置参数调用\n",
    "print(introduce(\"Tom\", 30, \"Beijing\"))\n"
   ]
  },
  {
   "cell_type": "code",
   "execution_count": 6,
   "id": "cd88e091",
   "metadata": {},
   "outputs": [
    {
     "name": "stdout",
     "output_type": "stream",
     "text": [
      "I am Jerry, 25 years old, from Shanghai\n"
     ]
    }
   ],
   "source": [
    "# 关键字参数调用\n",
    "print(introduce(city=\"Shanghai\", name=\"Jerry\", age=25))"
   ]
  },
  {
   "cell_type": "code",
   "execution_count": 7,
   "id": "8b1a52c2",
   "metadata": {},
   "outputs": [
    {
     "name": "stdout",
     "output_type": "stream",
     "text": [
      "I am Mike, 28 years old, from Guangzhou\n"
     ]
    }
   ],
   "source": [
    "# 混合调用（位置参数必须在关键字参数前面）\n",
    "print(introduce(\"Mike\", age=28, city=\"Guangzhou\"))"
   ]
  },
  {
   "cell_type": "code",
   "execution_count": 8,
   "id": "983f3055",
   "metadata": {},
   "outputs": [
    {
     "name": "stdout",
     "output_type": "stream",
     "text": [
      "Hello, Mr./Ms. Tom!\n"
     ]
    }
   ],
   "source": [
    "# 2. 默认参数\n",
    "def greet_with_title(name, title=\"Mr./Ms.\"):\n",
    "    return f\"Hello, {title} {name}!\"\n",
    "\n",
    "# 使用默认参数\n",
    "print(greet_with_title(\"Tom\"))"
   ]
  },
  {
   "cell_type": "code",
   "execution_count": 9,
   "id": "7cd4f2e6",
   "metadata": {},
   "outputs": [
    {
     "name": "stdout",
     "output_type": "stream",
     "text": [
      "Hello, Dr. Jerry!\n"
     ]
    }
   ],
   "source": [
    "# 覆盖默认参数\n",
    "print(greet_with_title(\"Jerry\", \"Dr.\"))"
   ]
  },
  {
   "cell_type": "code",
   "execution_count": 10,
   "id": "0ee25cae",
   "metadata": {},
   "outputs": [
    {
     "name": "stdout",
     "output_type": "stream",
     "text": [
      "list1: ['apple']\n",
      "list2: ['banana']\n"
     ]
    }
   ],
   "source": [
    "# 注意：默认参数应该是不可变对象\n",
    "def add_item(item, target_list=None):\n",
    "    if target_list is None:\n",
    "        target_list = []  # 每次调用时创建新列表\n",
    "    target_list.append(item)\n",
    "    return target_list\n",
    "\n",
    "list1 = add_item(\"apple\")\n",
    "list2 = add_item(\"banana\")\n",
    "print(\"list1:\", list1)\n",
    "print(\"list2:\", list2)"
   ]
  },
  {
   "cell_type": "code",
   "execution_count": 11,
   "id": "86cfd839",
   "metadata": {},
   "outputs": [
    {
     "name": "stdout",
     "output_type": "stream",
     "text": [
      "(1, 2, 3)\n",
      "6\n",
      "(1, 2, 3, 4, 5)\n",
      "15\n"
     ]
    }
   ],
   "source": [
    "# 3. 可变参数 *args 和 **kwargs\n",
    "def calculate_sum(*numbers):\n",
    "    \"\"\"计算任意数量数字的和\"\"\"\n",
    "    print(numbers)\n",
    "    return sum(numbers)\n",
    "\n",
    "print(calculate_sum(1, 2, 3))\n",
    "print(calculate_sum(1, 2, 3, 4, 5))"
   ]
  },
  {
   "cell_type": "code",
   "execution_count": 12,
   "id": "12570067",
   "metadata": {},
   "outputs": [
    {
     "name": "stdout",
     "output_type": "stream",
     "text": [
      "Personal Info:\n",
      "name: Tom\n",
      "age: 30\n",
      "city: Beijing\n",
      "job: Engineer\n"
     ]
    }
   ],
   "source": [
    "def print_info(**info):\n",
    "    \"\"\"打印任意数量的键值对信息\"\"\"\n",
    "    for key, value in info.items():\n",
    "        print(f\"{key}: {value}\")\n",
    "\n",
    "print(\"Personal Info:\")\n",
    "print_info(name=\"Tom\", age=30, city=\"Beijing\", job=\"Engineer\")\n"
   ]
  },
  {
   "cell_type": "code",
   "execution_count": 13,
   "id": "7c744edc",
   "metadata": {},
   "outputs": [
    {
     "name": "stdout",
     "output_type": "stream",
     "text": [
      "Required parameter: required_value\n",
      "Default parameter: custom_default\n",
      "Extra positional args: (1, 2, 3)\n",
      "Extra keyword args: {'extra1': 'value1', 'extra2': 'value2'}\n"
     ]
    }
   ],
   "source": [
    "# 混合使用不同类型的参数\n",
    "def complex_function(required, default_param=\"default\", *args, **kwargs):\n",
    "    print(f\"Required parameter: {required}\")\n",
    "    print(f\"Default parameter: {default_param}\")\n",
    "    print(f\"Extra positional args: {args}\")\n",
    "    print(f\"Extra keyword args: {kwargs}\")\n",
    "\n",
    "complex_function(\"required_value\", \"custom_default\", 1, 2, 3, extra1=\"value1\", extra2=\"value2\")"
   ]
  },
  {
   "cell_type": "code",
   "execution_count": 14,
   "id": "e35a9f92",
   "metadata": {},
   "outputs": [
    {
     "name": "stdout",
     "output_type": "stream",
     "text": [
      "{'name': 'Tom', 'email': 'tom@example.com'}\n",
      "{'name': 'Jerry', 'email': 'jerry@example.com', 'age': 25}\n"
     ]
    }
   ],
   "source": [
    "# 4. 强制关键字参数（Keyword-only arguments）\n",
    "def create_user(name, *, email, age=None):\n",
    "    \"\"\"\n",
    "    创建用户，email必须使用关键字传递\n",
    "    \"\"\"\n",
    "    user = {\"name\": name, \"email\": email}\n",
    "    if age is not None:\n",
    "        user[\"age\"] = age\n",
    "    return user\n",
    "\n",
    "# 正确调用\n",
    "user1 = create_user(\"Tom\", email=\"tom@example.com\")\n",
    "user2 = create_user(\"Jerry\", email=\"jerry@example.com\", age=25)\n",
    "print(user1)\n",
    "print(user2)\n"
   ]
  },
  {
   "cell_type": "code",
   "execution_count": 15,
   "id": "b8454bd0",
   "metadata": {},
   "outputs": [],
   "source": [
    "# 错误调用会报错\n",
    "# user3 = create_user(\"Mike\", \"mike@example.com\")  # 这会报错"
   ]
  },
  {
   "cell_type": "markdown",
   "id": "414225b5",
   "metadata": {},
   "source": [
    "## 3. 函数文档字符串（Docstring）\n",
    "\n",
    "文档字符串是函数的重要组成部分，用于描述函数的功能、参数和返回值。它们位于函数定义的第一行，使用三重引号。\n",
    "\n",
    "常见的文档字符串格式：\n",
    "- **Google风格**\n",
    "- **NumPy风格**  \n",
    "- **Sphinx风格**\n",
    "\n",
    "良好的文档字符串应该包含：\n",
    "1. 函数的简短描述\n",
    "2. 参数说明\n",
    "3. 返回值说明\n",
    "4. 示例（可选）\n",
    "5. 异常说明（如果有的话）"
   ]
  },
  {
   "cell_type": "code",
   "execution_count": 16,
   "id": "ac9ac21a",
   "metadata": {},
   "outputs": [
    {
     "name": "stdout",
     "output_type": "stream",
     "text": [
      "BMI: 22.86\n",
      "\n",
      "Function documentation:\n",
      "\n",
      "计算身体质量指数(BMI)。\n",
      "\n",
      "Args:\n",
      "    weight (float): 体重，单位为千克\n",
      "    height (float): 身高，单位为米\n",
      "\n",
      "Returns:\n",
      "    float: BMI值\n",
      "\n",
      "Raises:\n",
      "    ValueError: 当weight或height小于等于0时\n",
      "\n",
      "Examples:\n",
      "    >>> calculate_bmi(70, 1.75)\n",
      "    22.857142857142858\n",
      "\n",
      "Help on function calculate_bmi in module __main__:\n",
      "\n",
      "calculate_bmi(weight, height)\n",
      "    计算身体质量指数(BMI)。\n",
      "\n",
      "    Args:\n",
      "        weight (float): 体重，单位为千克\n",
      "        height (float): 身高，单位为米\n",
      "\n",
      "    Returns:\n",
      "        float: BMI值\n",
      "\n",
      "    Raises:\n",
      "        ValueError: 当weight或height小于等于0时\n",
      "\n",
      "    Examples:\n",
      "        >>> calculate_bmi(70, 1.75)\n",
      "        22.857142857142858\n",
      "\n"
     ]
    }
   ],
   "source": [
    "# Google风格的文档字符串示例\n",
    "def calculate_bmi(weight, height):\n",
    "    \"\"\"\n",
    "    计算身体质量指数(BMI)。\n",
    "    \n",
    "    Args:\n",
    "        weight (float): 体重，单位为千克\n",
    "        height (float): 身高，单位为米\n",
    "        \n",
    "    Returns:\n",
    "        float: BMI值\n",
    "        \n",
    "    Raises:\n",
    "        ValueError: 当weight或height小于等于0时\n",
    "        \n",
    "    Examples:\n",
    "        >>> calculate_bmi(70, 1.75)\n",
    "        22.857142857142858\n",
    "    \"\"\"\n",
    "    if weight <= 0 or height <= 0:\n",
    "        raise ValueError(\"Weight and height must be greater than 0\")\n",
    "    \n",
    "    bmi = weight / (height ** 2)\n",
    "    return bmi\n",
    "\n",
    "# 测试函数\n",
    "try:\n",
    "    bmi = calculate_bmi(70, 1.75)\n",
    "    print(f\"BMI: {bmi:.2f}\")\n",
    "    \n",
    "    # 查看函数的文档字符串\n",
    "    print(\"\\nFunction documentation:\")\n",
    "    print(calculate_bmi.__doc__)\n",
    "    \n",
    "    # 使用help()函数查看更详细的帮助\n",
    "    help(calculate_bmi)\n",
    "except ValueError as e:\n",
    "    print(f\"Error: {e}\")"
   ]
  },
  {
   "cell_type": "markdown",
   "id": "c5d5c640",
   "metadata": {},
   "source": [
    "## 4. 生成器（Generator）和yield关键字\n",
    "\n",
    "生成器是Python中一种特殊的迭代器，它使用`yield`关键字来产生值，而不是`return`。\n",
    "\n",
    "**生成器的特点：**\n",
    "1. **惰性求值**：只在需要时才计算下一个值\n",
    "2. **内存效率**：不会一次性将所有值加载到内存中\n",
    "3. **状态保持**：函数的执行状态在每次yield后被保存\n",
    "\n",
    "**生成器的创建方式：**\n",
    "1. 生成器函数（使用yield）\n",
    "2. 生成器表达式\n",
    "\n",
    "**yield vs return：**\n",
    "- `return`：终止函数执行并返回值\n",
    "- `yield`：暂停函数执行，返回值，下次调用时从暂停处继续"
   ]
  },
  {
   "cell_type": "code",
   "execution_count": 17,
   "id": "3613e077",
   "metadata": {},
   "outputs": [
    {
     "name": "stdout",
     "output_type": "stream",
     "text": [
      "Generator object: <generator object count_up_to at 0x1088d69b0>\n",
      "Generator type: <class 'generator'>\n"
     ]
    }
   ],
   "source": [
    "# 1. 简单的生成器函数\n",
    "def count_up_to(max_count):\n",
    "    \"\"\"\n",
    "    生成从1到max_count的数字序列\n",
    "    \"\"\"\n",
    "    count = 1\n",
    "    while count <= max_count:\n",
    "        print(f\"Generating {count}\")\n",
    "        yield count\n",
    "        count += 1\n",
    "    print(\"Generator finished\")\n",
    "\n",
    "# 创建生成器对象\n",
    "counter = count_up_to(3)\n",
    "print(f\"Generator object: {counter}\")\n",
    "print(f\"Generator type: {type(counter)}\")\n"
   ]
  },
  {
   "cell_type": "code",
   "execution_count": 18,
   "id": "eb1487a0",
   "metadata": {},
   "outputs": [
    {
     "name": "stdout",
     "output_type": "stream",
     "text": [
      "\n",
      "Using next() to get values:\n",
      "Generating 1\n",
      "1\n",
      "Generating 2\n",
      "2\n",
      "Generating 3\n",
      "3\n"
     ]
    }
   ],
   "source": [
    "# 使用next()函数逐个获取值\n",
    "print(\"\\nUsing next() to get values:\")\n",
    "print(next(counter))\n",
    "print(next(counter))\n",
    "print(next(counter))\n"
   ]
  },
  {
   "cell_type": "code",
   "execution_count": 19,
   "id": "2579246f",
   "metadata": {},
   "outputs": [
    {
     "name": "stdout",
     "output_type": "stream",
     "text": [
      "Generator finished\n",
      "Generator exhausted\n"
     ]
    }
   ],
   "source": [
    "# 当生成器耗尽时，再次调用next()会抛出StopIteration异常\n",
    "try:\n",
    "    print(next(counter))\n",
    "except StopIteration:\n",
    "    print(\"Generator exhausted\")"
   ]
  },
  {
   "cell_type": "code",
   "execution_count": 20,
   "id": "aeb99f71",
   "metadata": {},
   "outputs": [
    {
     "name": "stdout",
     "output_type": "stream",
     "text": [
      "First 10 Fibonacci numbers:\n",
      "0 1 1 2 3 5 8 13 21 34 \n"
     ]
    }
   ],
   "source": [
    "# 2. 在for循环中使用生成器\n",
    "def fibonacci_generator(n):\n",
    "    \"\"\"\n",
    "    生成前n个斐波那契数\n",
    "    \"\"\"\n",
    "    a, b = 0, 1\n",
    "    count = 0\n",
    "    while count < n:\n",
    "        yield a\n",
    "        a, b = b, a + b\n",
    "        count += 1\n",
    "\n",
    "print(\"First 10 Fibonacci numbers:\")\n",
    "for num in fibonacci_generator(10):\n",
    "    print(num, end=\" \")\n",
    "print()"
   ]
  },
  {
   "cell_type": "code",
   "execution_count": 21,
   "id": "d10ef6b7",
   "metadata": {},
   "outputs": [
    {
     "name": "stdout",
     "output_type": "stream",
     "text": [
      "\n",
      "Generator object is memory efficient: <generator object large_sequence at 0x10865fe80>\n"
     ]
    }
   ],
   "source": [
    "# 3. 生成器的内存效率演示\n",
    "def large_sequence():\n",
    "    \"\"\"生成一个大序列，但不占用大量内存\"\"\"\n",
    "    for i in range(1000000):\n",
    "        yield i ** 2\n",
    "\n",
    "# 使用生成器（内存友好）\n",
    "squares_gen = large_sequence()\n",
    "print(f\"\\nGenerator object is memory efficient: {squares_gen}\")\n"
   ]
  },
  {
   "cell_type": "code",
   "execution_count": 22,
   "id": "51356402",
   "metadata": {},
   "outputs": [
    {
     "name": "stdout",
     "output_type": "stream",
     "text": [
      "First 5 square numbers:\n",
      "0\n",
      "1\n",
      "4\n",
      "9\n",
      "16\n"
     ]
    }
   ],
   "source": [
    "# 只取前5个值\n",
    "print(\"First 5 square numbers:\")\n",
    "for i, square in enumerate(squares_gen):\n",
    "    if i >= 5:\n",
    "        break\n",
    "    print(square)"
   ]
  },
  {
   "cell_type": "code",
   "execution_count": 24,
   "id": "e16be9c1",
   "metadata": {},
   "outputs": [
    {
     "name": "stdout",
     "output_type": "stream",
     "text": [
      "List comprehension: [1, 4, 9, 16, 25]\n",
      "Generator expression: <generator object <genexpr> at 0x1088d6c20>\n",
      "Generator content: [1, 4, 9, 16, 25]\n"
     ]
    }
   ],
   "source": [
    "# 4. 生成器表达式（Generator Expression）\n",
    "# 类似列表推导式，但使用圆括号且返回生成器\n",
    "numbers = [1, 2, 3, 4, 5]\n",
    "\n",
    "# 列表推导式（立即创建所有元素）\n",
    "squares_list = [x**2 for x in numbers]\n",
    "print(f\"List comprehension: {squares_list}\")\n",
    "\n",
    "# 生成器表达式（惰性求值）\n",
    "squares_gen = (x**2 for x in numbers)\n",
    "print(f\"Generator expression: {squares_gen}\")\n",
    "print(f\"Generator content: {list(squares_gen)}\")\n"
   ]
  },
  {
   "cell_type": "code",
   "execution_count": 25,
   "id": "7f5932c6",
   "metadata": {},
   "outputs": [
    {
     "name": "stdout",
     "output_type": "stream",
     "text": [
      "Generator started\n",
      "Waiting for input...\n",
      "Received: Hello\n",
      "Echo: Hello\n",
      "Waiting for input...\n",
      "Received: World\n",
      "Echo: World\n",
      "Generator is closing\n"
     ]
    }
   ],
   "source": [
    "# 5. 生成器的send()方法 - 双向通信\n",
    "def echo_generator():\n",
    "    \"\"\"\n",
    "    演示生成器的双向通信\n",
    "    \"\"\"\n",
    "    print(\"Generator started\")\n",
    "    try:\n",
    "        while True:\n",
    "            # yield可以接收外部发送的值\n",
    "            received = yield \"Waiting for input...\"\n",
    "            if received is not None:\n",
    "                print(f\"Received: {received}\")\n",
    "                yield f\"Echo: {received}\"\n",
    "    except GeneratorExit:\n",
    "        print(\"Generator is closing\")\n",
    "\n",
    "# 使用send()方法与生成器通信\n",
    "gen = echo_generator()\n",
    "print(next(gen))  # 启动生成器\n",
    "\n",
    "# 发送值给生成器\n",
    "print(gen.send(\"Hello\"))\n",
    "print(next(gen))\n",
    "print(gen.send(\"World\"))\n",
    "\n",
    "# 关闭生成器\n",
    "gen.close()"
   ]
  },
  {
   "cell_type": "markdown",
   "id": "08ca35ec",
   "metadata": {},
   "source": [
    "## 5. 变量作用域（Scope）\n",
    "\n",
    "Python中的变量作用域遵循**LEGB规则**：\n",
    "\n",
    "1. **L (Local)**：局部作用域 - 函数内部\n",
    "2. **E (Enclosing)**：嵌套作用域 - 外层函数的局部作用域  \n",
    "3. **G (Global)**：全局作用域 - 模块级别\n",
    "4. **B (Built-in)**：内置作用域 - Python内置名称\n",
    "\n",
    "Python按照L→E→G→B的顺序搜索变量。\n",
    "\n",
    "**关键字：**\n",
    "- `global`：声明全局变量\n",
    "- `nonlocal`：声明嵌套作用域中的变量"
   ]
  },
  {
   "cell_type": "code",
   "execution_count": 26,
   "id": "60867d56",
   "metadata": {},
   "outputs": [
    {
     "name": "stdout",
     "output_type": "stream",
     "text": [
      "Accessing global variable inside function: I am a global variable\n",
      "Accessing local variable inside function: I am a local variable\n",
      "Local variables dictionary: {'local_var': 'I am a local variable'}\n"
     ]
    }
   ],
   "source": [
    "# 全局变量\n",
    "global_var = \"I am a global variable\"\n",
    "\n",
    "def scope_demo():\n",
    "    # 局部变量\n",
    "    local_var = \"I am a local variable\"\n",
    "    \n",
    "    print(f\"Accessing global variable inside function: {global_var}\")\n",
    "    print(f\"Accessing local variable inside function: {local_var}\")\n",
    "    \n",
    "    # 查看局部作用域中的所有变量\n",
    "    print(f\"Local variables dictionary: {locals()}\")\n",
    "\n",
    "scope_demo()"
   ]
  },
  {
   "cell_type": "code",
   "execution_count": null,
   "id": "cc72eb8e",
   "metadata": {},
   "outputs": [],
   "source": [
    "\n",
    "# 在函数外部无法访问局部变量\n",
    "try:\n",
    "    print(local_var)  # 这会报错\n",
    "except NameError as e:\n",
    "    print(f\"Error: {e}\")"
   ]
  },
  {
   "cell_type": "code",
   "execution_count": null,
   "id": "79539f51",
   "metadata": {},
   "outputs": [],
   "source": [
    "print(f\"Global variable is still accessible: {global_var}\")\n",
    "\n",
    "# 查看全局作用域中的变量（部分）\n",
    "print(f\"Global variables include: {[k for k in globals().keys() if not k.startswith('_')][:10]}\")  # 只显示前10个"
   ]
  },
  {
   "cell_type": "code",
   "execution_count": null,
   "id": "778c546a",
   "metadata": {},
   "outputs": [],
   "source": [
    "# global关键字示例\n",
    "counter = 0  # 全局变量\n",
    "\n",
    "def increment():\n",
    "    global counter  # 声明要修改全局变量\n",
    "    counter += 1\n",
    "    print(f\"Counter value: {counter}\")\n",
    "\n",
    "def increment_local():\n",
    "    counter = 100  # 这是局部变量，不会影响全局变量\n",
    "    print(f\"Local counter: {counter}\")\n",
    "\n",
    "print(f\"Initial counter: {counter}\")\n",
    "increment()\n",
    "increment_local()\n",
    "print(f\"Global counter: {counter}\")"
   ]
  },
  {
   "cell_type": "code",
   "execution_count": null,
   "id": "841839c4",
   "metadata": {},
   "outputs": [],
   "source": [
    "# nonlocal关键字示例 - 嵌套函数\n",
    "def outer_function():\n",
    "    x = 10\n",
    "    \n",
    "    def inner_function():\n",
    "        nonlocal x  # 声明要修改外层函数的变量\n",
    "        x += 5\n",
    "        print(f\"x in inner function: {x}\")\n",
    "    \n",
    "    def inner_function_local():\n",
    "        x = 20  # 这是内层函数的局部变量\n",
    "        print(f\"Local x in inner function: {x}\")\n",
    "    \n",
    "    print(f\"Initial x in outer function: {x}\")\n",
    "    inner_function()\n",
    "    print(f\"x after calling inner_function: {x}\")\n",
    "    inner_function_local()\n",
    "    print(f\"x after calling inner_function_local: {x}\")\n",
    "    \n",
    "    return inner_function"
   ]
  },
  {
   "cell_type": "code",
   "execution_count": null,
   "id": "d72a0d0d",
   "metadata": {},
   "outputs": [],
   "source": [
    "# 测试嵌套函数\n",
    "func = outer_function()\n",
    "func()  # 再次调用内层函数"
   ]
  },
  {
   "cell_type": "markdown",
   "id": "41b56264",
   "metadata": {},
   "source": [
    "## 6. 模块（Module）\n",
    "\n",
    "模块是包含Python代码的文件，以`.py`为扩展名。模块可以包含函数、类、变量以及可执行的代码。\n",
    "\n",
    "**模块的作用：**\n",
    "1. **代码重用**：避免重复编写相同的代码\n",
    "2. **命名空间**：避免变量名冲突\n",
    "3. **代码组织**：将相关功能组织在一起\n",
    "\n",
    "**导入模块的方式：**\n",
    "1. `import module_name`\n",
    "2. `from module_name import function_name`\n",
    "3. `from module_name import *`\n",
    "4. `import module_name as alias`\n",
    "\n",
    "**内置模块示例：**\n",
    "- `math`：数学函数\n",
    "- `random`：随机数生成\n",
    "- `datetime`：日期时间处理\n",
    "- `os`：操作系统接口"
   ]
  },
  {
   "cell_type": "code",
   "execution_count": null,
   "id": "8292d4a7",
   "metadata": {},
   "outputs": [],
   "source": [
    "# 1. 导入整个模块\n",
    "import math\n",
    "import random\n",
    "import datetime\n",
    "\n",
    "# 使用模块中的函数\n",
    "print(f\"Pi: {math.pi}\")\n",
    "print(f\"Square root of 10: {math.sqrt(10)}\")\n",
    "print(f\"Random number: {random.randint(1, 100)}\")\n",
    "print(f\"Current time: {datetime.datetime.now()}\")"
   ]
  },
  {
   "cell_type": "code",
   "execution_count": null,
   "id": "0bd22813",
   "metadata": {},
   "outputs": [],
   "source": [
    "# 2. 从模块导入特定函数\n",
    "from math import sin, cos, radians\n",
    "from random import choice\n",
    "\n",
    "angle = radians(45)  # 45度转弧度\n",
    "print(f\"sin(45°) = {sin(angle):.4f}\")\n",
    "print(f\"cos(45°) = {cos(angle):.4f}\")\n",
    "\n",
    "fruits = [\"apple\", \"banana\", \"orange\"]\n",
    "print(f\"Randomly chosen fruit: {choice(fruits)}\")"
   ]
  },
  {
   "cell_type": "code",
   "execution_count": null,
   "id": "3c6423f8",
   "metadata": {},
   "outputs": [],
   "source": [
    "# 3. 使用别名导入\n",
    "import datetime as dt\n",
    "# import numpy as np  # 如果安装了numpy\n",
    "\n",
    "current_time = dt.datetime.now()\n",
    "print(f\"Current time using alias: {current_time}\")"
   ]
  },
  {
   "cell_type": "code",
   "execution_count": null,
   "id": "c6d37e79",
   "metadata": {},
   "outputs": [],
   "source": [
    "# 4. 查看模块信息\n",
    "# 查看模块的属性和方法\n",
    "print(f\"Some attributes of math module: {[attr for attr in dir(math) if not attr.startswith('_')][:10]}\")\n",
    "\n",
    "print(f\"\\nMath module documentation: {math.__doc__}\")\n",
    "print(f\"Math module file location: {math.__file__}\")"
   ]
  },
  {
   "cell_type": "code",
   "execution_count": null,
   "id": "8611153c",
   "metadata": {},
   "outputs": [],
   "source": [
    "# 5. 创建自定义模块的示例\n",
    "# 注意：在实际应用中，这些代码应该保存在单独的.py文件中\n",
    "\n",
    "# 模拟一个数学工具模块的内容\n",
    "def add(a, b):\n",
    "    \"\"\"加法函数\"\"\"\n",
    "    return a + b\n",
    "\n",
    "def multiply(a, b):\n",
    "    \"\"\"乘法函数\"\"\"\n",
    "    return a * b\n",
    "\n",
    "def factorial(n):\n",
    "    \"\"\"计算阶乘\"\"\"\n",
    "    if n <= 1:\n",
    "        return 1\n",
    "    return n * factorial(n - 1)\n",
    "\n",
    "# 模块级别的变量\n",
    "PI = 3.14159\n",
    "VERSION = \"1.0.0\""
   ]
  },
  {
   "cell_type": "code",
   "execution_count": null,
   "id": "46aa178a",
   "metadata": {},
   "outputs": [],
   "source": [
    "# 测试自定义函数\n",
    "print(f\"5 + 3 = {add(5, 3)}\")\n",
    "print(f\"4 * 6 = {multiply(4, 6)}\")\n",
    "print(f\"5! = {factorial(5)}\")\n",
    "print(f\"Module PI value: {PI}\")\n",
    "print(f\"Module version: {VERSION}\")"
   ]
  },
  {
   "cell_type": "code",
   "execution_count": null,
   "id": "8b294f50",
   "metadata": {},
   "outputs": [],
   "source": [
    "# 6. __name__ 变量的使用\n",
    "print(f\"Current module name: {__name__}\")\n",
    "\n",
    "# 在真实的模块文件中，通常会有这样的代码：\n",
    "if __name__ == \"__main__\":\n",
    "    print(\"This module is being run directly, not imported\")\n",
    "    # 这里可以放测试代码\n",
    "else:\n",
    "    print(\"This module is being imported\")"
   ]
  },
  {
   "cell_type": "markdown",
   "id": "aafb4d3f",
   "metadata": {},
   "source": [
    "## 7. 总结\n",
    "\n",
    "本节我们学习了Python中的重要概念：\n",
    "\n",
    "### 🔧 函数（Functions）\n",
    "- **基本语法**：使用`def`关键字定义函数\n",
    "- **参数类型**：位置参数、关键字参数、默认参数、可变参数(*args, **kwargs)、强制关键字参数\n",
    "- **文档字符串**：使用docstring记录函数功能、参数和返回值\n",
    "\n",
    "### ⚡ 生成器（Generators）\n",
    "- **yield关键字**：创建生成器函数，实现惰性求值\n",
    "- **内存效率**：适合处理大量数据，节省内存\n",
    "- **双向通信**：使用send()方法与生成器交互\n",
    "- **生成器表达式**：简洁的语法创建生成器\n",
    "\n",
    "### 🔍 变量作用域（Scope）\n",
    "- **LEGB规则**：Local → Enclosing → Global → Built-in\n",
    "- **global关键字**：修改全局变量\n",
    "- **nonlocal关键字**：修改嵌套作用域变量\n",
    "\n",
    "### 📦 模块（Modules）\n",
    "- **代码重用**：将相关功能组织成模块\n",
    "- **导入方式**：import、from...import、别名导入\n",
    "- **内置模块**：math、random、datetime等\n",
    "- **__name__变量**：区分模块是被导入还是直接运行\n",
    "\n",
    "这些概念是Python编程的基础，掌握它们将帮助你写出更清晰、更高效的代码！"
   ]
  }
 ],
 "metadata": {
  "kernelspec": {
   "display_name": "main",
   "language": "python",
   "name": "python3"
  },
  "language_info": {
   "codemirror_mode": {
    "name": "ipython",
    "version": 3
   },
   "file_extension": ".py",
   "mimetype": "text/x-python",
   "name": "python",
   "nbconvert_exporter": "python",
   "pygments_lexer": "ipython3",
   "version": "3.13.2"
  }
 },
 "nbformat": 4,
 "nbformat_minor": 5
}
