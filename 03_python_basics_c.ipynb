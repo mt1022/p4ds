{
 "cells": [
  {
   "cell_type": "markdown",
   "id": "fe4da253-ac50-489b-8a41-2918efe29b71",
   "metadata": {},
   "source": [
    "# 0C - Python basics C\n",
    "\n",
    "- function\n",
    "- generator\n",
    "- argument scope\n",
    "- module"
   ]
  },
  {
   "cell_type": "markdown",
   "id": "801a0bdb",
   "metadata": {},
   "source": [
    "## 函数function"
   ]
  },
  {
   "cell_type": "markdown",
   "id": "69b8b167-f8df-4362-b8df-daab748a805a",
   "metadata": {},
   "source": [
    "### 函数的基本语法\n",
    "\n",
    "为什么我们要写函数？\n",
    "- 代码复用\n",
    "- 代码组织\n",
    "- 提高可读性\n",
    "\n",
    "Python中使用`def`关键字定义函数。\n",
    "\n",
    "基本语法：\n",
    "```python\n",
    "def function_name(parameters):\n",
    "    \"\"\"文档字符串（可选）\"\"\"\n",
    "    # 函数体\n",
    "    return value  # 可选\n",
    "```"
   ]
  },
  {
   "cell_type": "code",
   "execution_count": 113,
   "id": "ea0465f5",
   "metadata": {},
   "outputs": [
    {
     "name": "stdout",
     "output_type": "stream",
     "text": [
      "Hello, Alice!\n"
     ]
    }
   ],
   "source": [
    "# 简单的函数示例\n",
    "def greet(name):   # 定义一个函数，将其命名为greet，接受一个参数，在函数内赋值给变量name\n",
    "    \"\"\"\n",
    "    问候函数\n",
    "    参数：name - 要问候的人的姓名\n",
    "    返回：问候语字符串\n",
    "    \"\"\"\n",
    "    return f\"Hello, {name}!\"   # 返回一个对象，作为函数的输出\n",
    "    print(\"This line will not be executed.\")  # 这行代码不会被执行，因为return语句已经结束了函数的执行\n",
    "\n",
    "# 调用函数\n",
    "message = greet(\"Alice\")\n",
    "print(message)"
   ]
  },
  {
   "cell_type": "code",
   "execution_count": 114,
   "id": "9e8af3a1",
   "metadata": {},
   "outputs": [
    {
     "name": "stdout",
     "output_type": "stream",
     "text": [
      "<class 'function'>\n",
      "greet\n"
     ]
    }
   ],
   "source": [
    "# 函数也是对象\n",
    "print(type(greet))  # 输出函数的类型\n",
    "print(greet.__name__)  # 输出函数的名称"
   ]
  },
  {
   "cell_type": "code",
   "execution_count": 115,
   "id": "3de98b19",
   "metadata": {},
   "outputs": [
    {
     "name": "stdout",
     "output_type": "stream",
     "text": [
      "['__annotations__', '__builtins__', '__call__', '__class__', '__closure__', '__code__', '__defaults__', '__delattr__', '__dict__', '__dir__', '__doc__', '__eq__', '__format__', '__ge__', '__get__', '__getattribute__', '__getstate__', '__globals__', '__gt__', '__hash__', '__init__', '__init_subclass__', '__kwdefaults__', '__le__', '__lt__', '__module__', '__name__', '__ne__', '__new__', '__qualname__', '__reduce__', '__reduce_ex__', '__repr__', '__setattr__', '__sizeof__', '__str__', '__subclasshook__', '__type_params__']\n"
     ]
    }
   ],
   "source": [
    "print(dir(greet))  # 查看函数的属性和方法"
   ]
  },
  {
   "cell_type": "code",
   "execution_count": 119,
   "id": "7526f81f",
   "metadata": {},
   "outputs": [
    {
     "name": "stdout",
     "output_type": "stream",
     "text": [
      "def greet(name):   # 定义一个函数，将其命名为greet，接受一个参数，在函数内赋值给变量name\n",
      "    \"\"\"\n",
      "    问候函数\n",
      "    参数：name - 要问候的人的姓名\n",
      "    返回：问候语字符串\n",
      "    \"\"\"\n",
      "    return f\"Hello, {name}!\"   # 返回一个对象，作为函数的输出\n",
      "    print(\"This line will not be executed.\")  # 这行代码不会被执行，因为return语句已经结束了函数的执行\n",
      "\n"
     ]
    }
   ],
   "source": [
    "from inspect import getsource\n",
    "print(getsource(greet))  # 获取函数的源代码"
   ]
  },
  {
   "cell_type": "code",
   "execution_count": 10,
   "id": "a9ec0c89",
   "metadata": {},
   "outputs": [
    {
     "name": "stdout",
     "output_type": "stream",
     "text": [
      "Hello, Bob!\n"
     ]
    }
   ],
   "source": [
    "greet2 = greet  # 将函数赋值给另一个变量\n",
    "print(greet2(\"Bob\"))  # 调用新的变量名，输出结果与原函数相同"
   ]
  },
  {
   "cell_type": "code",
   "execution_count": 11,
   "id": "d6343fbf",
   "metadata": {},
   "outputs": [
    {
     "name": "stdout",
     "output_type": "stream",
     "text": [
      "Name: Bob\n",
      "Age: 25\n"
     ]
    }
   ],
   "source": [
    "# 无返回值的函数\n",
    "def print_info(name, age):\n",
    "    print(f\"Name: {name}\")\n",
    "    print(f\"Age: {age}\")\n",
    "\n",
    "x = print_info(\"Bob\", 25)"
   ]
  },
  {
   "cell_type": "code",
   "execution_count": 13,
   "id": "2e36678e",
   "metadata": {},
   "outputs": [
    {
     "name": "stdout",
     "output_type": "stream",
     "text": [
      "None\n"
     ]
    }
   ],
   "source": [
    "print(x)"
   ]
  },
  {
   "cell_type": "markdown",
   "id": "1a2b208f",
   "metadata": {},
   "source": [
    "### 匿名函数lambda"
   ]
  },
  {
   "cell_type": "code",
   "execution_count": null,
   "id": "bde786a6",
   "metadata": {},
   "outputs": [
    {
     "name": "stdout",
     "output_type": "stream",
     "text": [
      "abc, 123\n"
     ]
    }
   ],
   "source": [
    "# 除了用def之外，还可以用lambda创建函数\n",
    "# lambda在创建函数时不需要指定名称，而是将所创建的函数作为返回值\n",
    "f = lambda x, y: f\"{x}, {y}\"\n",
    "print(f('abc', 123))  # 调用lambda函数"
   ]
  },
  {
   "cell_type": "code",
   "execution_count": 19,
   "id": "28d12292",
   "metadata": {},
   "outputs": [
    {
     "data": {
      "text/plain": [
       "{1: 3, 2: 9, 3: 17, 4: 27}"
      ]
     },
     "execution_count": 19,
     "metadata": {},
     "output_type": "execute_result"
    }
   ],
   "source": [
    "apply = lambda func, seq: {x: func(x) for x in seq}  # 定义一个lambda函数，接受一个函数和一个序列，返回应用函数后的结果\n",
    "\n",
    "# lambda可以创建简单的匿名函数，这个函数仅在这里使用，其他地方几乎不会用到，所以命名没有必要；\n",
    "apply(lambda x:x**2 + x*3 -1, [1, 2, 3, 4])"
   ]
  },
  {
   "cell_type": "code",
   "execution_count": 120,
   "id": "7f405a85",
   "metadata": {},
   "outputs": [
    {
     "data": {
      "text/plain": [
       "39"
      ]
     },
     "execution_count": 120,
     "metadata": {},
     "output_type": "execute_result"
    }
   ],
   "source": [
    "(lambda x: x**2 + x*3 - 1)(5)  # 调用lambda函数，计算5的平方加上3倍的5减去1"
   ]
  },
  {
   "cell_type": "markdown",
   "id": "895dbf6a",
   "metadata": {},
   "source": [
    "### 变量作用域（Scope）"
   ]
  },
  {
   "cell_type": "code",
   "execution_count": null,
   "id": "3e235821",
   "metadata": {},
   "outputs": [
    {
     "name": "stdout",
     "output_type": "stream",
     "text": [
      "Inside add: var1=3, var2=5, res=8\n"
     ]
    },
    {
     "data": {
      "text/plain": [
       "8"
      ]
     },
     "execution_count": 23,
     "metadata": {},
     "output_type": "execute_result"
    }
   ],
   "source": [
    "# def或lambda创建的函数在每次运行时会创建一个本次运行的局部作用领域，\n",
    "# 函数接受的参数、以及函数中定义的变量都是这个函数的局部变量(local)\n",
    "# 这意味着它们只能在函数内部访问，函数外部无法访问这些变量\n",
    "def add(var1, var2):\n",
    "    res = var1 + var2\n",
    "    print(f\"Inside add: var1={var1}, var2={var2}, res={res}\")  # 在函数内部可以访问var1, var2, res\n",
    "    return res\n",
    "\n",
    "add(3, 5)\n"
   ]
  },
  {
   "cell_type": "code",
   "execution_count": 24,
   "id": "326306d3",
   "metadata": {},
   "outputs": [
    {
     "ename": "NameError",
     "evalue": "name 'var1' is not defined",
     "output_type": "error",
     "traceback": [
      "\u001b[31m---------------------------------------------------------------------------\u001b[39m",
      "\u001b[31mNameError\u001b[39m                                 Traceback (most recent call last)",
      "\u001b[36mCell\u001b[39m\u001b[36m \u001b[39m\u001b[32mIn[24]\u001b[39m\u001b[32m, line 1\u001b[39m\n\u001b[32m----> \u001b[39m\u001b[32m1\u001b[39m \u001b[43mvar1\u001b[49m\n",
      "\u001b[31mNameError\u001b[39m: name 'var1' is not defined"
     ]
    }
   ],
   "source": [
    "var1"
   ]
  },
  {
   "cell_type": "code",
   "execution_count": 25,
   "id": "49fa9f0e",
   "metadata": {},
   "outputs": [
    {
     "data": {
      "text/plain": [
       "21"
      ]
     },
     "execution_count": 25,
     "metadata": {},
     "output_type": "execute_result"
    }
   ],
   "source": [
    "def add2_time3(x):\n",
    "    y = x + 2\n",
    "    def time(z):\n",
    "        \"\"\"\n",
    "        对于嵌套的函数，外部函数中定义的变量x、y对于外部函数是局部变量，\n",
    "        但对于内部函数来说x、y，是非局部变量(nonlocal)，可以在内部函数中访问。\n",
    "        内部函数自己定义的变量z、result是内部函数的局部变量，外部函数无法访问。\n",
    "        \"\"\"\n",
    "        result = y * z\n",
    "        return result\n",
    "    return time(3)\n",
    "\n",
    "add2_time3(5)"
   ]
  },
  {
   "cell_type": "code",
   "execution_count": 30,
   "id": "3abcc290",
   "metadata": {},
   "outputs": [
    {
     "ename": "NameError",
     "evalue": "name 'z' is not defined",
     "output_type": "error",
     "traceback": [
      "\u001b[31m---------------------------------------------------------------------------\u001b[39m",
      "\u001b[31mNameError\u001b[39m                                 Traceback (most recent call last)",
      "\u001b[36mCell\u001b[39m\u001b[36m \u001b[39m\u001b[32mIn[30]\u001b[39m\u001b[32m, line 9\u001b[39m\n\u001b[32m      6\u001b[39m     \u001b[38;5;28mprint\u001b[39m(z)  \u001b[38;5;66;03m# 这里会报错，因为z是内部函数的局部变量，外部函数无法访问\u001b[39;00m\n\u001b[32m      7\u001b[39m     \u001b[38;5;28;01mreturn\u001b[39;00m result\n\u001b[32m----> \u001b[39m\u001b[32m9\u001b[39m \u001b[38;5;28mprint\u001b[39m(\u001b[43madd2_time3\u001b[49m\u001b[43m(\u001b[49m\u001b[32;43m5\u001b[39;49m\u001b[43m)\u001b[49m)\n",
      "\u001b[36mCell\u001b[39m\u001b[36m \u001b[39m\u001b[32mIn[30]\u001b[39m\u001b[32m, line 6\u001b[39m, in \u001b[36madd2_time3\u001b[39m\u001b[34m(x)\u001b[39m\n\u001b[32m      4\u001b[39m     \u001b[38;5;28;01mreturn\u001b[39;00m y * z\n\u001b[32m      5\u001b[39m result = time(\u001b[32m3\u001b[39m)\n\u001b[32m----> \u001b[39m\u001b[32m6\u001b[39m \u001b[38;5;28mprint\u001b[39m(\u001b[43mz\u001b[49m)  \u001b[38;5;66;03m# 这里会报错，因为z是内部函数的局部变量，外部函数无法访问\u001b[39;00m\n\u001b[32m      7\u001b[39m \u001b[38;5;28;01mreturn\u001b[39;00m result\n",
      "\u001b[31mNameError\u001b[39m: name 'z' is not defined"
     ]
    }
   ],
   "source": [
    "def add2_time3(x):\n",
    "    y = x + 2\n",
    "    def time(z):\n",
    "        return y * z\n",
    "    result = time(3)\n",
    "    print(z)  # 这里会报错，因为z是内部函数的局部变量，外部函数无法访问\n",
    "    return result\n",
    "\n",
    "print(add2_time3(5))"
   ]
  },
  {
   "cell_type": "code",
   "execution_count": 31,
   "id": "656371f1",
   "metadata": {},
   "outputs": [],
   "source": [
    "# 在任何def或lambda函数以外创建的变量都是当前文件中的全局变量(global)\n",
    "a = 10"
   ]
  },
  {
   "cell_type": "markdown",
   "id": "90481162",
   "metadata": {},
   "source": [
    "#### Python看到一个变量名时，怎么确定它是某个局部变量还是全局变量？\n",
    "Python中变量作用域的解析遵循**LEGB规则**：\n",
    "\n",
    "1. **L (Local)**：局部作用域 - 函数内部\n",
    "2. **E (Enclosing)**：嵌套作用域 - 外层函数的局部作用域  \n",
    "3. **G (Global)**：全局作用域 - 模块级别\n",
    "4. **B (Built-in)**：内置作用域 - Python内置名称\n",
    "\n",
    "Python按照L→E→G→B的顺序搜索变量。"
   ]
  },
  {
   "cell_type": "code",
   "execution_count": 32,
   "id": "704f2b5c",
   "metadata": {},
   "outputs": [
    {
     "data": {
      "text/plain": [
       "2"
      ]
     },
     "execution_count": 32,
     "metadata": {},
     "output_type": "execute_result"
    }
   ],
   "source": [
    "a = 1\n",
    "\n",
    "def f1():\n",
    "    a = 2\n",
    "    return a\n",
    "\n",
    "f1()"
   ]
  },
  {
   "cell_type": "code",
   "execution_count": 33,
   "id": "6a115277",
   "metadata": {},
   "outputs": [
    {
     "data": {
      "text/plain": [
       "1"
      ]
     },
     "execution_count": 33,
     "metadata": {},
     "output_type": "execute_result"
    }
   ],
   "source": [
    "def f1():\n",
    "    return a\n",
    "\n",
    "f1()"
   ]
  },
  {
   "cell_type": "code",
   "execution_count": null,
   "id": "f9534719",
   "metadata": {},
   "outputs": [
    {
     "data": {
      "text/plain": [
       "4"
      ]
     },
     "execution_count": 34,
     "metadata": {},
     "output_type": "execute_result"
    }
   ],
   "source": [
    "def f2():\n",
    "    a = 3\n",
    "    def f3():\n",
    "        a = 4\n",
    "        return a\n",
    "    return f3()\n",
    "\n",
    "f2()"
   ]
  },
  {
   "cell_type": "code",
   "execution_count": 35,
   "id": "3e4e3ed6",
   "metadata": {},
   "outputs": [
    {
     "data": {
      "text/plain": [
       "3"
      ]
     },
     "execution_count": 35,
     "metadata": {},
     "output_type": "execute_result"
    }
   ],
   "source": [
    "def f2():\n",
    "    a = 3\n",
    "    def f3():\n",
    "        return a\n",
    "    return f3()\n",
    "\n",
    "f2()"
   ]
  },
  {
   "cell_type": "code",
   "execution_count": 36,
   "id": "e208a1e6",
   "metadata": {},
   "outputs": [
    {
     "data": {
      "text/plain": [
       "1"
      ]
     },
     "execution_count": 36,
     "metadata": {},
     "output_type": "execute_result"
    }
   ],
   "source": [
    "def f2():\n",
    "    def f3():\n",
    "        return a\n",
    "    return f3()\n",
    "\n",
    "f2()"
   ]
  },
  {
   "cell_type": "code",
   "execution_count": 37,
   "id": "b1106198",
   "metadata": {},
   "outputs": [
    {
     "ename": "NameError",
     "evalue": "name 'abc' is not defined",
     "output_type": "error",
     "traceback": [
      "\u001b[31m---------------------------------------------------------------------------\u001b[39m",
      "\u001b[31mNameError\u001b[39m                                 Traceback (most recent call last)",
      "\u001b[36mCell\u001b[39m\u001b[36m \u001b[39m\u001b[32mIn[37]\u001b[39m\u001b[32m, line 6\u001b[39m\n\u001b[32m      3\u001b[39m         \u001b[38;5;28;01mreturn\u001b[39;00m abc\n\u001b[32m      4\u001b[39m     \u001b[38;5;28;01mreturn\u001b[39;00m f3()\n\u001b[32m----> \u001b[39m\u001b[32m6\u001b[39m \u001b[43mf2\u001b[49m\u001b[43m(\u001b[49m\u001b[43m)\u001b[49m\n",
      "\u001b[36mCell\u001b[39m\u001b[36m \u001b[39m\u001b[32mIn[37]\u001b[39m\u001b[32m, line 4\u001b[39m, in \u001b[36mf2\u001b[39m\u001b[34m()\u001b[39m\n\u001b[32m      2\u001b[39m \u001b[38;5;28;01mdef\u001b[39;00m\u001b[38;5;250m \u001b[39m\u001b[34mf3\u001b[39m():\n\u001b[32m      3\u001b[39m     \u001b[38;5;28;01mreturn\u001b[39;00m abc\n\u001b[32m----> \u001b[39m\u001b[32m4\u001b[39m \u001b[38;5;28;01mreturn\u001b[39;00m \u001b[43mf3\u001b[49m\u001b[43m(\u001b[49m\u001b[43m)\u001b[49m\n",
      "\u001b[36mCell\u001b[39m\u001b[36m \u001b[39m\u001b[32mIn[37]\u001b[39m\u001b[32m, line 3\u001b[39m, in \u001b[36mf2.<locals>.f3\u001b[39m\u001b[34m()\u001b[39m\n\u001b[32m      2\u001b[39m \u001b[38;5;28;01mdef\u001b[39;00m\u001b[38;5;250m \u001b[39m\u001b[34mf3\u001b[39m():\n\u001b[32m----> \u001b[39m\u001b[32m3\u001b[39m     \u001b[38;5;28;01mreturn\u001b[39;00m \u001b[43mabc\u001b[49m\n",
      "\u001b[31mNameError\u001b[39m: name 'abc' is not defined"
     ]
    }
   ],
   "source": [
    "def f2():\n",
    "    def f3():\n",
    "        return abc\n",
    "    return f3()\n",
    "\n",
    "f2()"
   ]
  },
  {
   "cell_type": "code",
   "execution_count": null,
   "id": "e9ca4e31",
   "metadata": {},
   "outputs": [
    {
     "ename": "UnboundLocalError",
     "evalue": "cannot access local variable 'a' where it is not associated with a value",
     "output_type": "error",
     "traceback": [
      "\u001b[31m---------------------------------------------------------------------------\u001b[39m",
      "\u001b[31mUnboundLocalError\u001b[39m                         Traceback (most recent call last)",
      "\u001b[36mCell\u001b[39m\u001b[36m \u001b[39m\u001b[32mIn[47]\u001b[39m\u001b[32m, line 7\u001b[39m\n\u001b[32m      4\u001b[39m     a = a + \u001b[32m1\u001b[39m\n\u001b[32m      5\u001b[39m     \u001b[38;5;28;01mreturn\u001b[39;00m a\n\u001b[32m----> \u001b[39m\u001b[32m7\u001b[39m \u001b[43mf\u001b[49m\u001b[43m(\u001b[49m\u001b[43m)\u001b[49m\n",
      "\u001b[36mCell\u001b[39m\u001b[36m \u001b[39m\u001b[32mIn[47]\u001b[39m\u001b[32m, line 4\u001b[39m, in \u001b[36mf\u001b[39m\u001b[34m()\u001b[39m\n\u001b[32m      3\u001b[39m \u001b[38;5;28;01mdef\u001b[39;00m\u001b[38;5;250m \u001b[39m\u001b[34mf\u001b[39m():\n\u001b[32m----> \u001b[39m\u001b[32m4\u001b[39m     a = \u001b[43ma\u001b[49m + \u001b[32m1\u001b[39m\n\u001b[32m      5\u001b[39m     \u001b[38;5;28;01mreturn\u001b[39;00m a\n",
      "\u001b[31mUnboundLocalError\u001b[39m: cannot access local variable 'a' where it is not associated with a value"
     ]
    }
   ],
   "source": [
    "# 当我们在函数内部给a赋值时，python会先认定a是函数内部创建的局部变量，\n",
    "# 然后在根据=右边的表达式确定其值，但是认定a是局部变量后，a在之前并没有定义，所以无法计算a+1，导致错误；\n",
    "a = 1\n",
    "\n",
    "def f():\n",
    "    a = a + 1\n",
    "    return a\n",
    "\n",
    "f()"
   ]
  },
  {
   "cell_type": "code",
   "execution_count": 48,
   "id": "d5ae9e4a",
   "metadata": {},
   "outputs": [
    {
     "data": {
      "text/plain": [
       "1"
      ]
     },
     "execution_count": 48,
     "metadata": {},
     "output_type": "execute_result"
    }
   ],
   "source": [
    "a = 1\n",
    "\n",
    "def f():\n",
    "    b = a + 1\n",
    "    return a\n",
    "\n",
    "f()"
   ]
  },
  {
   "cell_type": "code",
   "execution_count": 50,
   "id": "9dc34466",
   "metadata": {},
   "outputs": [
    {
     "name": "stdout",
     "output_type": "stream",
     "text": [
      "2\n",
      "2\n"
     ]
    }
   ],
   "source": [
    "# 在函数内部强行修改全局变量的值时，需要使用global关键字\n",
    "a = 1\n",
    "def f():\n",
    "    global a  # 声明a是全局变量\n",
    "    a = a + 1\n",
    "    return a\n",
    "\n",
    "print(f())\n",
    "\n",
    "print(a)"
   ]
  },
  {
   "cell_type": "code",
   "execution_count": 54,
   "id": "bf6b9580",
   "metadata": {},
   "outputs": [
    {
     "ename": "UnboundLocalError",
     "evalue": "cannot access local variable 'b' where it is not associated with a value",
     "output_type": "error",
     "traceback": [
      "\u001b[31m---------------------------------------------------------------------------\u001b[39m",
      "\u001b[31mUnboundLocalError\u001b[39m                         Traceback (most recent call last)",
      "\u001b[36mCell\u001b[39m\u001b[36m \u001b[39m\u001b[32mIn[54]\u001b[39m\u001b[32m, line 12\u001b[39m\n\u001b[32m      9\u001b[39m     \u001b[38;5;28mprint\u001b[39m(\u001b[33mf\u001b[39m\u001b[33m'\u001b[39m\u001b[33mouter b = \u001b[39m\u001b[38;5;132;01m{\u001b[39;00mb\u001b[38;5;132;01m}\u001b[39;00m\u001b[33m'\u001b[39m)\n\u001b[32m     10\u001b[39m     \u001b[38;5;28;01mreturn\u001b[39;00m result\n\u001b[32m---> \u001b[39m\u001b[32m12\u001b[39m \u001b[43mf1\u001b[49m\u001b[43m(\u001b[49m\u001b[43m)\u001b[49m\n",
      "\u001b[36mCell\u001b[39m\u001b[36m \u001b[39m\u001b[32mIn[54]\u001b[39m\u001b[32m, line 8\u001b[39m, in \u001b[36mf1\u001b[39m\u001b[34m()\u001b[39m\n\u001b[32m      6\u001b[39m     \u001b[38;5;28mprint\u001b[39m(\u001b[33mf\u001b[39m\u001b[33m'\u001b[39m\u001b[33minner b = \u001b[39m\u001b[38;5;132;01m{\u001b[39;00mb\u001b[38;5;132;01m}\u001b[39;00m\u001b[33m'\u001b[39m)\n\u001b[32m      7\u001b[39m     \u001b[38;5;28;01mreturn\u001b[39;00m b\n\u001b[32m----> \u001b[39m\u001b[32m8\u001b[39m result = \u001b[43mf2\u001b[49m\u001b[43m(\u001b[49m\u001b[43m)\u001b[49m\n\u001b[32m      9\u001b[39m \u001b[38;5;28mprint\u001b[39m(\u001b[33mf\u001b[39m\u001b[33m'\u001b[39m\u001b[33mouter b = \u001b[39m\u001b[38;5;132;01m{\u001b[39;00mb\u001b[38;5;132;01m}\u001b[39;00m\u001b[33m'\u001b[39m)\n\u001b[32m     10\u001b[39m \u001b[38;5;28;01mreturn\u001b[39;00m result\n",
      "\u001b[36mCell\u001b[39m\u001b[36m \u001b[39m\u001b[32mIn[54]\u001b[39m\u001b[32m, line 5\u001b[39m, in \u001b[36mf1.<locals>.f2\u001b[39m\u001b[34m()\u001b[39m\n\u001b[32m      4\u001b[39m \u001b[38;5;28;01mdef\u001b[39;00m\u001b[38;5;250m \u001b[39m\u001b[34mf2\u001b[39m():\n\u001b[32m----> \u001b[39m\u001b[32m5\u001b[39m     \u001b[43mb\u001b[49m += \u001b[32m1\u001b[39m\n\u001b[32m      6\u001b[39m     \u001b[38;5;28mprint\u001b[39m(\u001b[33mf\u001b[39m\u001b[33m'\u001b[39m\u001b[33minner b = \u001b[39m\u001b[38;5;132;01m{\u001b[39;00mb\u001b[38;5;132;01m}\u001b[39;00m\u001b[33m'\u001b[39m)\n\u001b[32m      7\u001b[39m     \u001b[38;5;28;01mreturn\u001b[39;00m b\n",
      "\u001b[31mUnboundLocalError\u001b[39m: cannot access local variable 'b' where it is not associated with a value"
     ]
    }
   ],
   "source": [
    "# 对于嵌套函数，存在同样的问题，内层函数不能修改nonlocal变量的值\n",
    "def f1():\n",
    "    b = 1\n",
    "    def f2():\n",
    "        b += 1\n",
    "        print(f'inner b = {b}')\n",
    "        return b\n",
    "    result = f2()\n",
    "    print(f'outer b = {b}')\n",
    "    return result\n",
    "\n",
    "f1()"
   ]
  },
  {
   "cell_type": "code",
   "execution_count": 55,
   "id": "00ff6699",
   "metadata": {},
   "outputs": [
    {
     "name": "stdout",
     "output_type": "stream",
     "text": [
      "inner b = 2\n",
      "outer b = 2\n"
     ]
    },
    {
     "data": {
      "text/plain": [
       "2"
      ]
     },
     "execution_count": 55,
     "metadata": {},
     "output_type": "execute_result"
    }
   ],
   "source": [
    "# 如果非要修改内层函数的nonlocal变量，可以使用nonlocal关键字声明\n",
    "def f1():\n",
    "    b = 1\n",
    "    def f2():\n",
    "        nonlocal b\n",
    "        b += 1\n",
    "        print(f'inner b = {b}')\n",
    "        return b\n",
    "    result = f2()\n",
    "    print(f'outer b = {b}')\n",
    "    return result\n",
    "\n",
    "f1()"
   ]
  },
  {
   "cell_type": "markdown",
   "id": "2674f727",
   "metadata": {},
   "source": [
    "### 函数参数\n",
    "- 函数参数的传递就是把对象赋值给对应的局部变量；\n",
    "- 如果参数是一个可变对象，修改这个对象的内容会影响到外部对象，但如果重新赋值，则不会影响外部对象。"
   ]
  },
  {
   "cell_type": "code",
   "execution_count": null,
   "id": "0b98bab0",
   "metadata": {},
   "outputs": [
    {
     "data": {
      "text/plain": [
       "5"
      ]
     },
     "execution_count": 56,
     "metadata": {},
     "output_type": "execute_result"
    }
   ],
   "source": [
    "def f(x):  # 接受一个参数，赋给函数内的局部变量x\n",
    "    x = x + 1  # 修改局部变量的值\n",
    "    return x   # 返回局部变量\n",
    "\n",
    "x = 4  # 创建一个全局变量x\n",
    "f(x = x)  # 第一个x是函数运行时将会创建的局部变量，第二个x是全局变量"
   ]
  },
  {
   "cell_type": "code",
   "execution_count": 60,
   "id": "f627bb53",
   "metadata": {},
   "outputs": [
    {
     "name": "stdout",
     "output_type": "stream",
     "text": [
      "4658359360\n",
      "[1, 2, 3, 4]\n",
      "4658359360\n"
     ]
    }
   ],
   "source": [
    "a = [1, 2, 3]\n",
    "print(id(a))  # 输出全局变量a的内存地址\n",
    "\n",
    "def f(x):\n",
    "    x.append(4)\n",
    "    return None\n",
    "\n",
    "f(a) \n",
    "# 全局变量a是可变对象，当f运行时，把a作为参数传递给x等价于在函数内定义了x = a\n",
    "# 所以在函数内对x的修改会影响到全局变量a的值，但是注意变量a指向一直是同一个对象，其内存地址没有发生改变\n",
    "\n",
    "print(a)\n",
    "print(id(a))"
   ]
  },
  {
   "cell_type": "markdown",
   "id": "f2f3f2fb",
   "metadata": {},
   "source": [
    "当有多个参数时，Python函数支持多种参数传递方式：\n",
    "\n",
    "- **位置参数**：按顺序传递的参数\n",
    "- **关键字参数**：使用参数名传递的参数\n",
    "- **默认参数**：有默认值的参数\n",
    "- **可变参数**：\n",
    "   - `*args`：接收任意数量的位置参数\n",
    "   - `**kwargs`：接收任意数量的关键字参数\n",
    "- **强制关键字参数**：使用`*`分隔的参数"
   ]
  },
  {
   "cell_type": "code",
   "execution_count": 65,
   "id": "c0bc3886",
   "metadata": {},
   "outputs": [
    {
     "name": "stdout",
     "output_type": "stream",
     "text": [
      "I am Tom, Beijing years old, from 30\n"
     ]
    }
   ],
   "source": [
    "def introduce(name, age, city):\n",
    "    return f\"I am {name}, {age} years old, from {city}\"\n",
    "\n",
    "# 位置参数严格按照顺序从左到右与变量名匹配\n",
    "print(introduce(\"Tom\", \"Beijing\", 30))"
   ]
  },
  {
   "cell_type": "code",
   "execution_count": 79,
   "id": "7bdc7f3f",
   "metadata": {},
   "outputs": [
    {
     "ename": "TypeError",
     "evalue": "introduce() takes 3 positional arguments but 4 were given",
     "output_type": "error",
     "traceback": [
      "\u001b[31m---------------------------------------------------------------------------\u001b[39m",
      "\u001b[31mTypeError\u001b[39m                                 Traceback (most recent call last)",
      "\u001b[36mCell\u001b[39m\u001b[36m \u001b[39m\u001b[32mIn[79]\u001b[39m\u001b[32m, line 2\u001b[39m\n\u001b[32m      1\u001b[39m \u001b[38;5;66;03m# 参数的数目要与函数定义时的参数数目一致\u001b[39;00m\n\u001b[32m----> \u001b[39m\u001b[32m2\u001b[39m \u001b[38;5;28mprint\u001b[39m(\u001b[43mintroduce\u001b[49m\u001b[43m(\u001b[49m\u001b[33;43m\"\u001b[39;49m\u001b[33;43mTom\u001b[39;49m\u001b[33;43m\"\u001b[39;49m\u001b[43m,\u001b[49m\u001b[43m \u001b[49m\u001b[33;43m\"\u001b[39;49m\u001b[33;43mBeijing\u001b[39;49m\u001b[33;43m\"\u001b[39;49m\u001b[43m,\u001b[49m\u001b[43m \u001b[49m\u001b[32;43m30\u001b[39;49m\u001b[43m,\u001b[49m\u001b[43m \u001b[49m\u001b[33;43m\"\u001b[39;49m\u001b[33;43mEcology\u001b[39;49m\u001b[33;43m\"\u001b[39;49m\u001b[43m)\u001b[49m)\n",
      "\u001b[31mTypeError\u001b[39m: introduce() takes 3 positional arguments but 4 were given"
     ]
    }
   ],
   "source": [
    "# 参数的数目要与函数定义时的参数数目一致\n",
    "print(introduce(\"Tom\", \"Beijing\", 30, \"Ecology\"))"
   ]
  },
  {
   "cell_type": "code",
   "execution_count": 80,
   "id": "aa853bc8",
   "metadata": {},
   "outputs": [
    {
     "ename": "TypeError",
     "evalue": "introduce() missing 1 required positional argument: 'city'",
     "output_type": "error",
     "traceback": [
      "\u001b[31m---------------------------------------------------------------------------\u001b[39m",
      "\u001b[31mTypeError\u001b[39m                                 Traceback (most recent call last)",
      "\u001b[36mCell\u001b[39m\u001b[36m \u001b[39m\u001b[32mIn[80]\u001b[39m\u001b[32m, line 1\u001b[39m\n\u001b[32m----> \u001b[39m\u001b[32m1\u001b[39m \u001b[38;5;28mprint\u001b[39m(\u001b[43mintroduce\u001b[49m\u001b[43m(\u001b[49m\u001b[33;43m\"\u001b[39;49m\u001b[33;43mTom\u001b[39;49m\u001b[33;43m\"\u001b[39;49m\u001b[43m,\u001b[49m\u001b[43m \u001b[49m\u001b[33;43m\"\u001b[39;49m\u001b[33;43mBeijing\u001b[39;49m\u001b[33;43m\"\u001b[39;49m\u001b[43m)\u001b[49m)\n",
      "\u001b[31mTypeError\u001b[39m: introduce() missing 1 required positional argument: 'city'"
     ]
    }
   ],
   "source": [
    "print(introduce(\"Tom\", \"Beijing\"))"
   ]
  },
  {
   "cell_type": "code",
   "execution_count": 67,
   "id": "cd88e091",
   "metadata": {},
   "outputs": [
    {
     "name": "stdout",
     "output_type": "stream",
     "text": [
      "I am Jerry, 25 years old, from Shanghai\n"
     ]
    }
   ],
   "source": [
    "# 关键字参数调用根据参数名匹配，区分大小写，顺序不重要\n",
    "print(introduce(city=\"Shanghai\", name=\"Jerry\", age=25))"
   ]
  },
  {
   "cell_type": "code",
   "execution_count": 68,
   "id": "7b4d517b",
   "metadata": {},
   "outputs": [
    {
     "ename": "TypeError",
     "evalue": "introduce() got an unexpected keyword argument 'Age'. Did you mean 'age'?",
     "output_type": "error",
     "traceback": [
      "\u001b[31m---------------------------------------------------------------------------\u001b[39m",
      "\u001b[31mTypeError\u001b[39m                                 Traceback (most recent call last)",
      "\u001b[36mCell\u001b[39m\u001b[36m \u001b[39m\u001b[32mIn[68]\u001b[39m\u001b[32m, line 1\u001b[39m\n\u001b[32m----> \u001b[39m\u001b[32m1\u001b[39m \u001b[38;5;28mprint\u001b[39m(\u001b[43mintroduce\u001b[49m\u001b[43m(\u001b[49m\u001b[43mcity\u001b[49m\u001b[43m=\u001b[49m\u001b[33;43m\"\u001b[39;49m\u001b[33;43mShanghai\u001b[39;49m\u001b[33;43m\"\u001b[39;49m\u001b[43m,\u001b[49m\u001b[43m \u001b[49m\u001b[43mname\u001b[49m\u001b[43m=\u001b[49m\u001b[33;43m\"\u001b[39;49m\u001b[33;43mJerry\u001b[39;49m\u001b[33;43m\"\u001b[39;49m\u001b[43m,\u001b[49m\u001b[43m \u001b[49m\u001b[43mAge\u001b[49m\u001b[43m=\u001b[49m\u001b[32;43m25\u001b[39;49m\u001b[43m)\u001b[49m)\n",
      "\u001b[31mTypeError\u001b[39m: introduce() got an unexpected keyword argument 'Age'. Did you mean 'age'?"
     ]
    }
   ],
   "source": [
    "print(introduce(city=\"Shanghai\", name=\"Jerry\", Age=25))"
   ]
  },
  {
   "cell_type": "code",
   "execution_count": 72,
   "id": "247d3c56",
   "metadata": {},
   "outputs": [
    {
     "ename": "TypeError",
     "evalue": "introduce() got an unexpected keyword argument 'n'",
     "output_type": "error",
     "traceback": [
      "\u001b[31m---------------------------------------------------------------------------\u001b[39m",
      "\u001b[31mTypeError\u001b[39m                                 Traceback (most recent call last)",
      "\u001b[36mCell\u001b[39m\u001b[36m \u001b[39m\u001b[32mIn[72]\u001b[39m\u001b[32m, line 2\u001b[39m\n\u001b[32m      1\u001b[39m \u001b[38;5;66;03m# 关键字参数调用时，参数名必须与函数定义中的参数名完全匹配\u001b[39;00m\n\u001b[32m----> \u001b[39m\u001b[32m2\u001b[39m \u001b[38;5;28mprint\u001b[39m(\u001b[43mintroduce\u001b[49m\u001b[43m(\u001b[49m\u001b[43mcity\u001b[49m\u001b[43m=\u001b[49m\u001b[33;43m\"\u001b[39;49m\u001b[33;43mShanghai\u001b[39;49m\u001b[33;43m\"\u001b[39;49m\u001b[43m,\u001b[49m\u001b[43m \u001b[49m\u001b[43mn\u001b[49m\u001b[43m=\u001b[49m\u001b[33;43m\"\u001b[39;49m\u001b[33;43mJerry\u001b[39;49m\u001b[33;43m\"\u001b[39;49m\u001b[43m,\u001b[49m\u001b[43m \u001b[49m\u001b[43mage\u001b[49m\u001b[43m=\u001b[49m\u001b[32;43m25\u001b[39;49m\u001b[43m)\u001b[49m)\n",
      "\u001b[31mTypeError\u001b[39m: introduce() got an unexpected keyword argument 'n'"
     ]
    }
   ],
   "source": [
    "# 关键字参数调用时，参数名必须与函数定义中的参数名完全匹配\n",
    "print(introduce(city=\"Shanghai\", n=\"Jerry\", age=25))"
   ]
  },
  {
   "cell_type": "code",
   "execution_count": 73,
   "id": "8b1a52c2",
   "metadata": {},
   "outputs": [
    {
     "name": "stdout",
     "output_type": "stream",
     "text": [
      "I am Mike, 28 years old, from Guangzhou\n"
     ]
    }
   ],
   "source": [
    "# 混合调用（位置参数必须在关键字参数前面）\n",
    "print(introduce(\"Mike\", age=28, city=\"Guangzhou\"))"
   ]
  },
  {
   "cell_type": "code",
   "execution_count": 74,
   "id": "b3c98a79",
   "metadata": {},
   "outputs": [
    {
     "ename": "SyntaxError",
     "evalue": "positional argument follows keyword argument (69524516.py, line 1)",
     "output_type": "error",
     "traceback": [
      "  \u001b[36mCell\u001b[39m\u001b[36m \u001b[39m\u001b[32mIn[74]\u001b[39m\u001b[32m, line 1\u001b[39m\n\u001b[31m    \u001b[39m\u001b[31mprint(introduce(age=28, city=\"Guangzhou\", \"Mike\"))\u001b[39m\n                                                    ^\n\u001b[31mSyntaxError\u001b[39m\u001b[31m:\u001b[39m positional argument follows keyword argument\n"
     ]
    }
   ],
   "source": [
    "print(introduce(age=28, city=\"Guangzhou\", \"Mike\"))"
   ]
  },
  {
   "cell_type": "code",
   "execution_count": 77,
   "id": "ec517707",
   "metadata": {},
   "outputs": [
    {
     "ename": "SyntaxError",
     "evalue": "keyword argument repeated: city (432361409.py, line 2)",
     "output_type": "error",
     "traceback": [
      "  \u001b[36mCell\u001b[39m\u001b[36m \u001b[39m\u001b[32mIn[77]\u001b[39m\u001b[32m, line 2\u001b[39m\n\u001b[31m    \u001b[39m\u001b[31mprint(introduce(name=\"Mike\", age=28, city=\"Guangzhou\", city=\"Lanzhou\"))\u001b[39m\n                                                           ^\n\u001b[31mSyntaxError\u001b[39m\u001b[31m:\u001b[39m keyword argument repeated: city\n"
     ]
    }
   ],
   "source": [
    "# 每个关键字参数只能出现一次，不能重复\n",
    "print(introduce(name=\"Mike\", age=28, city=\"Guangzhou\", city=\"Lanzhou\"))"
   ]
  },
  {
   "cell_type": "code",
   "execution_count": 81,
   "id": "983f3055",
   "metadata": {},
   "outputs": [
    {
     "name": "stdout",
     "output_type": "stream",
     "text": [
      "Hello, Mr./Ms. Tom!\n"
     ]
    }
   ],
   "source": [
    "# 定义时设定了默认值的参数可以在调用时省略\n",
    "def greet_with_title(name, title=\"Mr./Ms.\"):\n",
    "    return f\"Hello, {title} {name}!\"\n",
    "\n",
    "# 使用默认参数\n",
    "print(greet_with_title(\"Tom\"))"
   ]
  },
  {
   "cell_type": "code",
   "execution_count": 82,
   "id": "7cd4f2e6",
   "metadata": {},
   "outputs": [
    {
     "name": "stdout",
     "output_type": "stream",
     "text": [
      "Hello, Dr. Jerry!\n"
     ]
    }
   ],
   "source": [
    "# 对于有默认值的参数，如果我们调用时提供了参数值，函数会使用提供的值覆盖默认参数\n",
    "print(greet_with_title(\"Jerry\", \"Dr.\"))"
   ]
  },
  {
   "cell_type": "code",
   "execution_count": null,
   "id": "0ee25cae",
   "metadata": {},
   "outputs": [
    {
     "name": "stdout",
     "output_type": "stream",
     "text": [
      "list1: ['apple']\n",
      "list2: ['banana']\n"
     ]
    }
   ],
   "source": [
    "# 注意：默认参数应该是不可变对象\n",
    "# 如果默认参数是可变对象（如列表或字典），会导致意外的行为，因为默认参数在函数定义时只被创建一次，而不是每次调用时都创建新的实例。\n",
    "def add_item(item, target_list=None):\n",
    "    if target_list is None:\n",
    "        target_list = []  # 每次调用时创建新列表\n",
    "    target_list.append(item)\n",
    "    return target_list\n",
    "\n",
    "list1 = add_item(\"apple\")\n",
    "list2 = add_item(\"banana\")\n",
    "print(\"list1:\", list1)\n",
    "print(\"list2:\", list2)"
   ]
  },
  {
   "cell_type": "markdown",
   "id": "673ef056",
   "metadata": {},
   "source": [
    "练习：如果上述代码中`target_list`的默认值是`[]`，那么输出会是怎样的？请尝试修改代码并运行，观察结果。"
   ]
  },
  {
   "cell_type": "code",
   "execution_count": 93,
   "id": "86cfd839",
   "metadata": {},
   "outputs": [
    {
     "name": "stdout",
     "output_type": "stream",
     "text": [
      "((), {})\n",
      "((1, 2, 3), {})\n",
      "((1, 2, 3), {'a': 4, 'b': 5})\n"
     ]
    }
   ],
   "source": [
    "# *args来收集任意数量的位置参数,局部变量args将被赋值为tuple；\n",
    "# **kwargs收集任意数量的关键字参数，局部变量kwargs将被赋值为dict；\n",
    "def f(*numbers, **pairs):\n",
    "    \"\"\"计算任意数量数字的和\"\"\"\n",
    "    return numbers, pairs\n",
    "\n",
    "print(f())\n",
    "print(f(1, 2, 3))\n",
    "print(f(1, 2, 3, a = 4, b = 5))"
   ]
  },
  {
   "cell_type": "code",
   "execution_count": 94,
   "id": "7c744edc",
   "metadata": {},
   "outputs": [
    {
     "name": "stdout",
     "output_type": "stream",
     "text": [
      "Required parameter: required_value\n",
      "Default parameter: custom_default\n",
      "Extra positional args: (1, 2, 3)\n",
      "Extra keyword args: {'extra1': 'value1', 'extra2': 'value2'}\n"
     ]
    }
   ],
   "source": [
    "# 混合使用不同类型的参数\n",
    "def complex_function(required, default_param=\"default\", *args, **kwargs):\n",
    "    print(f\"Required parameter: {required}\")\n",
    "    print(f\"Default parameter: {default_param}\")\n",
    "    print(f\"Extra positional args: {args}\")\n",
    "    print(f\"Extra keyword args: {kwargs}\")\n",
    "\n",
    "complex_function(\"required_value\", \"custom_default\", 1, 2, 3, extra1=\"value1\", extra2=\"value2\")"
   ]
  },
  {
   "cell_type": "code",
   "execution_count": 96,
   "id": "e35a9f92",
   "metadata": {},
   "outputs": [
    {
     "name": "stdout",
     "output_type": "stream",
     "text": [
      "{'name': 'Tom', 'email': 'tom@example.com'}\n"
     ]
    },
    {
     "ename": "TypeError",
     "evalue": "create_user() takes 1 positional argument but 2 positional arguments (and 1 keyword-only argument) were given",
     "output_type": "error",
     "traceback": [
      "\u001b[31m---------------------------------------------------------------------------\u001b[39m",
      "\u001b[31mTypeError\u001b[39m                                 Traceback (most recent call last)",
      "\u001b[36mCell\u001b[39m\u001b[36m \u001b[39m\u001b[32mIn[96]\u001b[39m\u001b[32m, line 14\u001b[39m\n\u001b[32m     12\u001b[39m user1 = create_user(\u001b[33m\"\u001b[39m\u001b[33mTom\u001b[39m\u001b[33m\"\u001b[39m, email=\u001b[33m\"\u001b[39m\u001b[33mtom@example.com\u001b[39m\u001b[33m\"\u001b[39m)\n\u001b[32m     13\u001b[39m \u001b[38;5;28mprint\u001b[39m(user1)\n\u001b[32m---> \u001b[39m\u001b[32m14\u001b[39m user2 = \u001b[43mcreate_user\u001b[49m\u001b[43m(\u001b[49m\u001b[33;43m\"\u001b[39;49m\u001b[33;43mJerry\u001b[39;49m\u001b[33;43m\"\u001b[39;49m\u001b[43m,\u001b[49m\u001b[43m \u001b[49m\u001b[33;43m\"\u001b[39;49m\u001b[33;43mjerry@example.com\u001b[39;49m\u001b[33;43m\"\u001b[39;49m\u001b[43m,\u001b[49m\u001b[43m \u001b[49m\u001b[43mage\u001b[49m\u001b[43m=\u001b[49m\u001b[32;43m25\u001b[39;49m\u001b[43m)\u001b[49m\n\u001b[32m     15\u001b[39m \u001b[38;5;28mprint\u001b[39m(user2)\n",
      "\u001b[31mTypeError\u001b[39m: create_user() takes 1 positional argument but 2 positional arguments (and 1 keyword-only argument) were given"
     ]
    }
   ],
   "source": [
    "# 强制关键字参数（Keyword-only arguments）\n",
    "def create_user(name, *, email, age=None):\n",
    "    \"\"\"\n",
    "    创建用户，email必须使用关键字传递\n",
    "    \"\"\"\n",
    "    user = {\"name\": name, \"email\": email}\n",
    "    if age is not None:\n",
    "        user[\"age\"] = age\n",
    "    return user\n",
    "\n",
    "# 正确调用\n",
    "user1 = create_user(\"Tom\", email=\"tom@example.com\")\n",
    "print(user1)\n",
    "user2 = create_user(\"Jerry\", \"jerry@example.com\", age=25)\n",
    "print(user2)\n"
   ]
  },
  {
   "cell_type": "markdown",
   "id": "b8454bd0",
   "metadata": {},
   "source": [
    "练习：\n",
    "\n",
    "1. 可以要求所有参数通过关键字传递吗？修改上面的代码试一试。\n",
    "2. 反过来，可以要求部分或所有参数必须通过位置传递吗？查一查python是否支持，如果支持的话如何实现？"
   ]
  },
  {
   "cell_type": "markdown",
   "id": "414225b5",
   "metadata": {},
   "source": [
    "### 函数文档字符串（Docstring）\n",
    "\n",
    "文档字符串是函数的重要组成部分，用于描述函数的功能、参数和返回值。它们位于函数定义的第一行，使用三重引号。\n",
    "\n",
    "良好的文档字符串应该包含：\n",
    "1. 函数的简短描述\n",
    "2. 参数说明\n",
    "3. 返回值说明\n",
    "4. 示例（可选）\n",
    "5. 异常说明（如果有的话）"
   ]
  },
  {
   "cell_type": "code",
   "execution_count": 100,
   "id": "ac9ac21a",
   "metadata": {},
   "outputs": [
    {
     "name": "stdout",
     "output_type": "stream",
     "text": [
      "\n",
      "计算身体质量指数(BMI)。\n",
      "\n",
      "Args:\n",
      "    weight (float): 体重，单位为千克\n",
      "    height (float): 身高，单位为米\n",
      "\n",
      "Returns:\n",
      "    float: BMI值\n",
      "\n",
      "Raises:\n",
      "    ValueError: 当weight或height小于等于0时\n",
      "\n",
      "Examples:\n",
      "    >>> calculate_bmi(70, 1.75)\n",
      "    22.857142857142858\n",
      "\n"
     ]
    }
   ],
   "source": [
    "# Google风格的文档字符串示例\n",
    "def calculate_bmi(weight, height):\n",
    "    \"\"\"\n",
    "    计算身体质量指数(BMI)。\n",
    "    \n",
    "    Args:\n",
    "        weight (float): 体重，单位为千克\n",
    "        height (float): 身高，单位为米\n",
    "        \n",
    "    Returns:\n",
    "        float: BMI值\n",
    "        \n",
    "    Raises:\n",
    "        ValueError: 当weight或height小于等于0时\n",
    "        \n",
    "    Examples:\n",
    "        >>> calculate_bmi(70, 1.75)\n",
    "        22.857142857142858\n",
    "    \"\"\"\n",
    "    if weight <= 0 or height <= 0:\n",
    "        raise ValueError(\"Weight and height must be greater than 0\")\n",
    "    \n",
    "    bmi = weight / (height ** 2)\n",
    "    return bmi\n",
    "\n",
    "\n",
    "    \n",
    "# 查看函数的文档字符串\n",
    "print(calculate_bmi.__doc__)"
   ]
  },
  {
   "cell_type": "code",
   "execution_count": 103,
   "id": "08d609ae",
   "metadata": {},
   "outputs": [
    {
     "name": "stdout",
     "output_type": "stream",
     "text": [
      "Help on function calculate_bmi in module __main__:\n",
      "\n",
      "calculate_bmi(weight, height)\n",
      "    计算身体质量指数(BMI)。\n",
      "\n",
      "    Args:\n",
      "        weight (float): 体重，单位为千克\n",
      "        height (float): 身高，单位为米\n",
      "\n",
      "    Returns:\n",
      "        float: BMI值\n",
      "\n",
      "    Raises:\n",
      "        ValueError: 当weight或height小于等于0时\n",
      "\n",
      "    Examples:\n",
      "        >>> calculate_bmi(70, 1.75)\n",
      "        22.857142857142858\n",
      "\n"
     ]
    }
   ],
   "source": [
    "# help函数返回的其实也是函数的`.__doc__`的内容：\n",
    "help(calculate_bmi)"
   ]
  },
  {
   "cell_type": "markdown",
   "id": "c5d5c640",
   "metadata": {},
   "source": [
    "### 生成器（Generator）和yield关键字\n",
    "\n",
    "生成器是Python中一种特殊的迭代器，创建生成器的函数使用`yield`关键字来产生值，而不是`return`。\n",
    "\n",
    "**生成器的特点：**\n",
    "1. **惰性求值**：只在需要时才计算下一个值\n",
    "2. **内存效率**：不会一次性将所有值加载到内存中\n",
    "3. **状态保持**：函数的执行状态在每次yield后被保存\n",
    "\n",
    "**生成器的创建方式：**\n",
    "1. 生成器函数（使用yield）\n",
    "2. 生成器表达式\n",
    "\n",
    "**yield vs return：**\n",
    "- `return`：终止函数执行并返回值\n",
    "- `yield`：暂停函数执行，返回值，下次调用时从暂停处继续"
   ]
  },
  {
   "cell_type": "code",
   "execution_count": 135,
   "id": "3613e077",
   "metadata": {},
   "outputs": [
    {
     "name": "stdout",
     "output_type": "stream",
     "text": [
      "Generator object: <generator object count_up_to at 0x115d8d7e0>\n",
      "Generator type: <class 'generator'>\n"
     ]
    }
   ],
   "source": [
    "# 1. 简单的生成器函数\n",
    "def count_up_to(max_count):\n",
    "    \"\"\"\n",
    "    生成从1到max_count的数字序列\n",
    "    \"\"\"\n",
    "    for i in range(1, max_count + 1):\n",
    "        yield i\n",
    "    print(\"Generator finished\")\n",
    "\n",
    "# 创建生成器对象\n",
    "counter = count_up_to(3)\n",
    "print(f\"Generator object: {counter}\")\n",
    "print(f\"Generator type: {type(counter)}\")\n"
   ]
  },
  {
   "cell_type": "code",
   "execution_count": 136,
   "id": "eb1487a0",
   "metadata": {},
   "outputs": [
    {
     "name": "stdout",
     "output_type": "stream",
     "text": [
      "\n",
      "Using next() to get values:\n",
      "1\n",
      "2\n",
      "3\n"
     ]
    }
   ],
   "source": [
    "# 使用next()函数逐个获取值\n",
    "print(\"\\nUsing next() to get values:\")\n",
    "print(next(counter))\n",
    "print(next(counter))\n",
    "print(next(counter))\n"
   ]
  },
  {
   "cell_type": "code",
   "execution_count": 137,
   "id": "2579246f",
   "metadata": {},
   "outputs": [
    {
     "name": "stdout",
     "output_type": "stream",
     "text": [
      "Generator finished\n",
      "Generator exhausted\n"
     ]
    }
   ],
   "source": [
    "# 当生成器耗尽时，再次调用next()会抛出StopIteration异常\n",
    "try:\n",
    "    print(next(counter))\n",
    "except StopIteration:\n",
    "    print(\"Generator exhausted\")"
   ]
  },
  {
   "cell_type": "code",
   "execution_count": 138,
   "id": "aeb99f71",
   "metadata": {},
   "outputs": [
    {
     "name": "stdout",
     "output_type": "stream",
     "text": [
      "First 10 Fibonacci numbers:\n",
      "0 1 1 2 3 5 8 13 21 34 \n"
     ]
    }
   ],
   "source": [
    "# 2. 在for循环中使用生成器\n",
    "def fibonacci_generator(n):\n",
    "    \"\"\"\n",
    "    生成前n个斐波那契数\n",
    "    \"\"\"\n",
    "    a, b = 0, 1\n",
    "    for i in range(n):\n",
    "        yield a\n",
    "        a, b = b, a + b\n",
    "\n",
    "print(\"First 10 Fibonacci numbers:\")\n",
    "for num in fibonacci_generator(10):\n",
    "    print(num, end=\" \")\n",
    "print()"
   ]
  },
  {
   "cell_type": "code",
   "execution_count": 24,
   "id": "e16be9c1",
   "metadata": {},
   "outputs": [
    {
     "name": "stdout",
     "output_type": "stream",
     "text": [
      "List comprehension: [1, 4, 9, 16, 25]\n",
      "Generator expression: <generator object <genexpr> at 0x1088d6c20>\n",
      "Generator content: [1, 4, 9, 16, 25]\n"
     ]
    }
   ],
   "source": [
    "# 4. 生成器表达式（Generator Expression）\n",
    "# 类似列表推导式，但使用圆括号且返回生成器\n",
    "numbers = [1, 2, 3, 4, 5]\n",
    "\n",
    "# 列表推导式（立即创建所有元素）\n",
    "squares_list = [x**2 for x in numbers]\n",
    "print(f\"List comprehension: {squares_list}\")\n",
    "\n",
    "# 生成器表达式（惰性求值）\n",
    "squares_gen = (x**2 for x in numbers)\n",
    "print(f\"Generator expression: {squares_gen}\")\n",
    "print(f\"Generator content: {list(squares_gen)}\")\n"
   ]
  },
  {
   "cell_type": "code",
   "execution_count": 144,
   "id": "ba3ec3d4",
   "metadata": {},
   "outputs": [
    {
     "data": {
      "text/plain": [
       "[0, 1, 2, 3, 4, 0, 1, 4, 9, 16]"
      ]
     },
     "execution_count": 144,
     "metadata": {},
     "output_type": "execute_result"
    }
   ],
   "source": [
    "# 一个函数可以有两个yield表达式\n",
    "def f(n):\n",
    "    for i in range(n): yield i\n",
    "    for i in range(n): yield i**2\n",
    "\n",
    "list(f(5))"
   ]
  },
  {
   "cell_type": "code",
   "execution_count": 145,
   "id": "b7789cf1",
   "metadata": {},
   "outputs": [
    {
     "data": {
      "text/plain": [
       "[0, 0, 1, 1, 2, 4, 3, 9, 4, 16]"
      ]
     },
     "execution_count": 145,
     "metadata": {},
     "output_type": "execute_result"
    }
   ],
   "source": [
    "def f(n):\n",
    "    def g(n):\n",
    "        yield n\n",
    "        yield n**2\n",
    "    for i in range(n):\n",
    "            for j in g(i): yield j\n",
    "\n",
    "list(f(5))"
   ]
  },
  {
   "cell_type": "code",
   "execution_count": 147,
   "id": "2643f715",
   "metadata": {},
   "outputs": [
    {
     "data": {
      "text/plain": [
       "[0, 0, 1, 1, 2, 4, 3, 9, 4, 16]"
      ]
     },
     "execution_count": 147,
     "metadata": {},
     "output_type": "execute_result"
    }
   ],
   "source": [
    "# \"yield from\"语句可以简化生成器的嵌套调用\n",
    "# 它可以将一个生成器的所有值直接传递给外层生成器\n",
    "def f(n):\n",
    "    def g(n):\n",
    "        yield n\n",
    "        yield n**2\n",
    "    for i in range(n): yield from g(i)\n",
    "\n",
    "list(f(5))"
   ]
  },
  {
   "cell_type": "markdown",
   "id": "6ec3c634",
   "metadata": {},
   "source": [
    "### 函数编程工具"
   ]
  },
  {
   "cell_type": "code",
   "execution_count": 128,
   "id": "acea6024",
   "metadata": {},
   "outputs": [
    {
     "name": "stdout",
     "output_type": "stream",
     "text": [
      "True\n"
     ]
    },
    {
     "data": {
      "text/plain": [
       "[0, 1, 4, 9, 16, 25, 36, 49, 64, 81]"
      ]
     },
     "execution_count": 128,
     "metadata": {},
     "output_type": "execute_result"
    }
   ],
   "source": [
    "# map可以将一个函数应用到一个可迭代对象的每个元素上，并返回一个生成器\n",
    "x = range(10)\n",
    "y = map(lambda x: x**2, x)\n",
    "print('__next__' in dir(y))\n",
    "list(y)"
   ]
  },
  {
   "cell_type": "code",
   "execution_count": null,
   "id": "f1632f14",
   "metadata": {},
   "outputs": [
    {
     "name": "stdout",
     "output_type": "stream",
     "text": [
      "True\n"
     ]
    },
    {
     "data": {
      "text/plain": [
       "[0, 1, 4, 9, 16, 25, 36, 49, 64, 81]"
      ]
     },
     "execution_count": 131,
     "metadata": {},
     "output_type": "execute_result"
    }
   ],
   "source": [
    "# 用我们刚讲过的生成器函数来实现相同的功能\n",
    "def g(f, x):\n",
    "    for i in x:\n",
    "        yield f(i)\n",
    "\n",
    "y = g(lambda x: x**2, range(10))\n",
    "\n",
    "print('__next__' in dir(y))\n",
    "list(y)"
   ]
  },
  {
   "cell_type": "code",
   "execution_count": 133,
   "id": "292724cb",
   "metadata": {},
   "outputs": [
    {
     "data": {
      "text/plain": [
       "[0, 2, 4, 6, 8]"
      ]
     },
     "execution_count": 133,
     "metadata": {},
     "output_type": "execute_result"
    }
   ],
   "source": [
    "# filter可以过滤可迭代对象中的元素，返回一个生成器\n",
    "list(filter(lambda x: x % 2 == 0, range(10)))  # 过滤出偶数"
   ]
  },
  {
   "cell_type": "code",
   "execution_count": 134,
   "id": "4e35b1d0",
   "metadata": {},
   "outputs": [
    {
     "data": {
      "text/plain": [
       "45"
      ]
     },
     "execution_count": 134,
     "metadata": {},
     "output_type": "execute_result"
    }
   ],
   "source": [
    "# reduce函数可以对可迭代对象中的元素进行累积操作\n",
    "from functools import reduce\n",
    "\n",
    "# cumsum\n",
    "reduce(lambda x, y: x + y, range(10))  # 计算0到9的累积和"
   ]
  },
  {
   "cell_type": "markdown",
   "id": "41b56264",
   "metadata": {},
   "source": [
    "## 6. 模块（Module）\n",
    "\n",
    "模块是包含Python代码的文件，以`.py`为扩展名。模块可以包含函数、类、变量以及可执行的代码。\n",
    "\n",
    "**模块的作用：**\n",
    "1. **代码重用**：避免重复编写相同的代码\n",
    "2. **命名空间**：避免变量名冲突\n",
    "3. **代码组织**：将相关功能组织在一起\n",
    "\n",
    "**导入模块的方式：**\n",
    "1. `import module_name`\n",
    "2. `from module_name import function_name`\n",
    "3. `from module_name import *`\n",
    "4. `import module_name as alias`\n",
    "\n",
    "**内置模块示例：**\n",
    "- `math`：数学函数\n",
    "- `random`：随机数生成\n",
    "- `datetime`：日期时间处理\n",
    "- `os`：操作系统接口"
   ]
  },
  {
   "cell_type": "code",
   "execution_count": 148,
   "id": "8292d4a7",
   "metadata": {},
   "outputs": [
    {
     "name": "stdout",
     "output_type": "stream",
     "text": [
      "Pi: 3.141592653589793\n",
      "Square root of 10: 3.1622776601683795\n",
      "Random number: 40\n",
      "Current time: 2025-07-17 20:14:17.369721\n"
     ]
    }
   ],
   "source": [
    "# 1. 导入整个模块\n",
    "import math\n",
    "import random\n",
    "import datetime\n",
    "\n",
    "# 使用模块中的函数\n",
    "print(f\"Pi: {math.pi}\")\n",
    "print(f\"Square root of 10: {math.sqrt(10)}\")\n",
    "print(f\"Random number: {random.randint(1, 100)}\")\n",
    "print(f\"Current time: {datetime.datetime.now()}\")"
   ]
  },
  {
   "cell_type": "code",
   "execution_count": 149,
   "id": "0bd22813",
   "metadata": {},
   "outputs": [
    {
     "name": "stdout",
     "output_type": "stream",
     "text": [
      "sin(45°) = 0.7071\n",
      "cos(45°) = 0.7071\n",
      "Randomly chosen fruit: banana\n"
     ]
    }
   ],
   "source": [
    "# 2. 从模块导入特定函数\n",
    "from math import sin, cos, radians\n",
    "from random import choice\n",
    "\n",
    "angle = radians(45)  # 45度转弧度\n",
    "print(f\"sin(45°) = {sin(angle):.4f}\")\n",
    "print(f\"cos(45°) = {cos(angle):.4f}\")\n",
    "\n",
    "fruits = [\"apple\", \"banana\", \"orange\"]\n",
    "print(f\"Randomly chosen fruit: {choice(fruits)}\")"
   ]
  },
  {
   "cell_type": "code",
   "execution_count": 153,
   "id": "3c6423f8",
   "metadata": {},
   "outputs": [
    {
     "name": "stdout",
     "output_type": "stream",
     "text": [
      "Current time using alias: 2025-07-17 20:15:18.936989\n",
      "Value of pi using alias: 3.141592653589793\n"
     ]
    }
   ],
   "source": [
    "# 3. 使用别名导入\n",
    "import datetime as dt\n",
    "# import numpy as np  # 如果安装了numpy\n",
    "\n",
    "current_time = dt.datetime.now()\n",
    "print(f\"Current time using alias: {current_time}\")\n",
    "\n",
    "from math import pi as PI\n",
    "print(f\"Value of pi using alias: {PI}\")"
   ]
  },
  {
   "cell_type": "code",
   "execution_count": null,
   "id": "c6d37e79",
   "metadata": {},
   "outputs": [],
   "source": [
    "# 4. 查看模块信息\n",
    "# 查看模块的属性和方法\n",
    "print(f\"Some attributes of math module: {[attr for attr in dir(math) if not attr.startswith('_')][:10]}\")\n",
    "\n",
    "print(f\"\\nMath module documentation: {math.__doc__}\")\n",
    "print(f\"Math module file location: {math.__file__}\")"
   ]
  },
  {
   "cell_type": "code",
   "execution_count": null,
   "id": "8611153c",
   "metadata": {},
   "outputs": [],
   "source": [
    "# 5. 创建自定义模块的示例\n",
    "# 注意：在实际应用中，这些代码应该保存在单独的.py文件中\n",
    "\n",
    "# 模拟一个数学工具模块的内容\n",
    "def add(a, b):\n",
    "    \"\"\"加法函数\"\"\"\n",
    "    return a + b\n",
    "\n",
    "def multiply(a, b):\n",
    "    \"\"\"乘法函数\"\"\"\n",
    "    return a * b\n",
    "\n",
    "def factorial(n):\n",
    "    \"\"\"计算阶乘\"\"\"\n",
    "    if n <= 1:\n",
    "        return 1\n",
    "    return n * factorial(n - 1)\n",
    "\n",
    "# 模块级别的变量\n",
    "PI = 3.14159\n",
    "VERSION = \"1.0.0\""
   ]
  },
  {
   "cell_type": "code",
   "execution_count": 157,
   "id": "f45e9527",
   "metadata": {},
   "outputs": [
    {
     "name": "stdout",
     "output_type": "stream",
     "text": [
      "This module is imported from the workding directory\n"
     ]
    }
   ],
   "source": [
    "import mathlib"
   ]
  },
  {
   "cell_type": "code",
   "execution_count": 158,
   "id": "3a2d155d",
   "metadata": {},
   "outputs": [
    {
     "data": {
      "text/plain": [
       "3.14159"
      ]
     },
     "execution_count": 158,
     "metadata": {},
     "output_type": "execute_result"
    }
   ],
   "source": [
    "mathlib.PI"
   ]
  },
  {
   "cell_type": "code",
   "execution_count": null,
   "id": "c0931db4",
   "metadata": {},
   "outputs": [
    {
     "name": "stdout",
     "output_type": "stream",
     "text": [
      "This module is being imported from the src directory\n"
     ]
    }
   ],
   "source": [
    "# 如果.py文件存在于某个子文件夹，需要在导入时加上具体路径\n",
    "from src.mathlib import add, multiply, factorial, PI, VERSION"
   ]
  },
  {
   "cell_type": "code",
   "execution_count": 160,
   "id": "46aa178a",
   "metadata": {},
   "outputs": [
    {
     "name": "stdout",
     "output_type": "stream",
     "text": [
      "5 + 3 = 8\n",
      "4 * 6 = 24\n",
      "5! = 120\n",
      "Module PI value: 3.14159\n",
      "Module version: 1.0.0\n"
     ]
    }
   ],
   "source": [
    "# 测试自定义函数\n",
    "print(f\"5 + 3 = {add(5, 3)}\")\n",
    "print(f\"4 * 6 = {multiply(4, 6)}\")\n",
    "print(f\"5! = {factorial(5)}\")\n",
    "print(f\"Module PI value: {PI}\")\n",
    "print(f\"Module version: {VERSION}\")"
   ]
  },
  {
   "cell_type": "code",
   "execution_count": null,
   "id": "8b294f50",
   "metadata": {},
   "outputs": [],
   "source": [
    "# 6. __name__ 变量的使用\n",
    "print(f\"Current module name: {__name__}\")\n",
    "\n",
    "# 在真实的模块文件中，通常会有这样的代码：\n",
    "if __name__ == \"__main__\":\n",
    "    print(\"This module is being run directly, not imported\")\n",
    "    # 这里可以放测试代码\n",
    "else:\n",
    "    print(\"This module is being imported\")"
   ]
  },
  {
   "cell_type": "markdown",
   "id": "aafb4d3f",
   "metadata": {},
   "source": [
    "## 总结\n",
    "\n",
    "本节我们学习了Python中的重要概念：\n",
    "\n",
    "### 🔧 函数（Functions）\n",
    "- **基本语法**：使用`def`关键字定义函数\n",
    "- **参数类型**：位置参数、关键字参数、默认参数、可变参数(*args, **kwargs)、强制关键字参数\n",
    "- **文档字符串**：使用docstring记录函数功能、参数和返回值\n",
    "\n",
    "### 🔍 变量作用域（Scope）\n",
    "- **LEGB规则**：Local → Enclosing → Global → Built-in\n",
    "- **global关键字**：修改全局变量\n",
    "- **nonlocal关键字**：修改嵌套作用域变量\n",
    "\n",
    "### ⚡ 生成器（Generators）\n",
    "- **yield关键字**：创建生成器函数，实现惰性求值\n",
    "- **内存效率**：适合处理大量数据，节省内存\n",
    "- **双向通信**：使用send()方法与生成器交互\n",
    "- **生成器表达式**：简洁的语法创建生成器\n",
    "\n",
    "### 📦 模块（Modules）\n",
    "- **代码重用**：将相关功能组织成模块\n",
    "- **导入方式**：import、from...import、别名导入\n",
    "- **内置模块**：math、random、datetime等\n",
    "- **__name__变量**：区分模块是被导入还是直接运行\n",
    "\n",
    "这些概念是Python编程的基础，掌握它们将帮助你写出更清晰、更高效的代码！"
   ]
  },
  {
   "cell_type": "markdown",
   "id": "8013adef",
   "metadata": {},
   "source": []
  }
 ],
 "metadata": {
  "kernelspec": {
   "display_name": "main",
   "language": "python",
   "name": "python3"
  },
  "language_info": {
   "codemirror_mode": {
    "name": "ipython",
    "version": 3
   },
   "file_extension": ".py",
   "mimetype": "text/x-python",
   "name": "python",
   "nbconvert_exporter": "python",
   "pygments_lexer": "ipython3",
   "version": "3.13.2"
  }
 },
 "nbformat": 4,
 "nbformat_minor": 5
}
