{
 "cells": [
  {
   "cell_type": "markdown",
   "id": "fe4da253-ac50-489b-8a41-2918efe29b71",
   "metadata": {},
   "source": [
    "# 0C - Python basics C\n",
    "\n",
    "- 函数 function\n",
    "- 变量作用域 variable scope\n",
    "- 参数传递 argument passing\n",
    "- 生成器 generator\n",
    "- 模块 module"
   ]
  },
  {
   "cell_type": "markdown",
   "id": "801a0bdb",
   "metadata": {},
   "source": [
    "## 函数function\n",
    "\n",
    "为什么我们要自己写函数？\n",
    "- 代码复用\n",
    "- 代码组织\n",
    "- 提高可读性"
   ]
  },
  {
   "cell_type": "markdown",
   "id": "69b8b167-f8df-4362-b8df-daab748a805a",
   "metadata": {},
   "source": [
    "### 函数的基本语法\n",
    "\n",
    "Python中使用`def`关键字定义函数。\n",
    "\n",
    "基本语法：\n",
    "```python\n",
    "def function_name(parameters):\n",
    "    \"\"\"文档字符串（非必须）\"\"\"\n",
    "    ... # 函数体\n",
    "    return value  # 返回结果\n",
    "```\n",
    "\n",
    "关于参数：\n",
    "| 概念         | 英文术语         | 中文俗称       | 定义简述                                               | 出现时机     |\n",
    "|--------------|------------------|----------------|--------------------------------------------------------|--------------|\n",
    "| 参数 / 形参  | Parameter        | 形参           | 函数定义时声明的变量，用于接收传入的值，是占位符       | 函数定义时   |\n",
    "| 实参 / 实际参数 | Argument         | 实参           | 函数调用时传递给函数的具体值，用于初始化形参           | 函数调用时   |"
   ]
  },
  {
   "cell_type": "code",
   "execution_count": 1,
   "id": "d7a93603-dbb8-4a97-a4f3-e5c09ee505c5",
   "metadata": {},
   "outputs": [],
   "source": [
    "# 简单的函数示例\n",
    "def greet(name):   # 定义一个函数，将其命名为greet，接受一个参数，在函数内赋值给变量name\n",
    "    \"\"\"\n",
    "    问候函数\n",
    "    参数：name - 要问候的人的姓名\n",
    "    返回：问候语字符串\n",
    "    \"\"\"\n",
    "    print(\"This line will be executed.\")\n",
    "    return f\"Hello, {name}!\"   # 返回一个对象，作为函数的输出\n",
    "    print(\"This line will not be executed.\")  # 这行代码不会被执行，因为return已经结束了函数的执行"
   ]
  },
  {
   "cell_type": "code",
   "execution_count": 2,
   "id": "3936e20b-6700-4873-8194-01bf7be896cc",
   "metadata": {},
   "outputs": [
    {
     "data": {
      "text/plain": [
       "<function __main__.greet(name)>"
      ]
     },
     "execution_count": 2,
     "metadata": {},
     "output_type": "execute_result"
    }
   ],
   "source": [
    "greet"
   ]
  },
  {
   "cell_type": "code",
   "execution_count": 3,
   "id": "5fd38551-8817-4d30-9023-339716f62af8",
   "metadata": {},
   "outputs": [
    {
     "name": "stdout",
     "output_type": "stream",
     "text": [
      "This line will be executed.\n",
      "Hello, Alice!\n"
     ]
    }
   ],
   "source": [
    "# 调用函数\n",
    "# \"Alice\"是实参，调用greet时，greet将实参赋值给了函数定义时的形参name；\n",
    "# 相当于在函数内偷偷执行了name = \"Alice\"\n",
    "message = greet(\"Alice\")\n",
    "print(message)"
   ]
  },
  {
   "cell_type": "code",
   "execution_count": 4,
   "id": "9e8af3a1",
   "metadata": {},
   "outputs": [
    {
     "name": "stdout",
     "output_type": "stream",
     "text": [
      "<class 'function'>\n",
      "greet\n"
     ]
    }
   ],
   "source": [
    "# 函数也是对象\n",
    "print(type(greet))  # 输出函数的类型\n",
    "print(greet.__name__)  # 输出函数的名称"
   ]
  },
  {
   "cell_type": "code",
   "execution_count": 5,
   "id": "3de98b19",
   "metadata": {},
   "outputs": [
    {
     "name": "stdout",
     "output_type": "stream",
     "text": [
      "['__annotations__', '__builtins__', '__call__', '__class__', '__closure__', '__code__', '__defaults__', '__delattr__', '__dict__', '__dir__', '__doc__', '__eq__', '__format__', '__ge__', '__get__', '__getattribute__', '__getstate__', '__globals__', '__gt__', '__hash__', '__init__', '__init_subclass__', '__kwdefaults__', '__le__', '__lt__', '__module__', '__name__', '__ne__', '__new__', '__qualname__', '__reduce__', '__reduce_ex__', '__repr__', '__setattr__', '__sizeof__', '__str__', '__subclasshook__', '__type_params__']\n"
     ]
    }
   ],
   "source": [
    "print(dir(greet))  # 查看函数的属性和方法"
   ]
  },
  {
   "cell_type": "code",
   "execution_count": 6,
   "id": "7526f81f",
   "metadata": {},
   "outputs": [
    {
     "name": "stdout",
     "output_type": "stream",
     "text": [
      "def greet(name):   # 定义一个函数，将其命名为greet，接受一个参数，在函数内赋值给变量name\n",
      "    \"\"\"\n",
      "    问候函数\n",
      "    参数：name - 要问候的人的姓名\n",
      "    返回：问候语字符串\n",
      "    \"\"\"\n",
      "    print(\"This line will be executed.\")\n",
      "    return f\"Hello, {name}!\"   # 返回一个对象，作为函数的输出\n",
      "    print(\"This line will not be executed.\")  # 这行代码不会被执行，因为return已经结束了函数的执行\n",
      "\n"
     ]
    }
   ],
   "source": [
    "from inspect import getsource\n",
    "print(getsource(greet))  # 获取函数的源代码"
   ]
  },
  {
   "cell_type": "code",
   "execution_count": 7,
   "id": "a9ec0c89",
   "metadata": {},
   "outputs": [
    {
     "name": "stdout",
     "output_type": "stream",
     "text": [
      "This line will be executed.\n",
      "Hello, Bob!\n"
     ]
    }
   ],
   "source": [
    "greet2 = greet  # 将函数赋值给另一个变量\n",
    "print(greet2(\"Bob\"))  # 调用新的变量名，输出结果与原函数相同"
   ]
  },
  {
   "cell_type": "code",
   "execution_count": 8,
   "id": "d6343fbf",
   "metadata": {},
   "outputs": [
    {
     "name": "stdout",
     "output_type": "stream",
     "text": [
      "Name: Bob\n",
      "Age: 25\n"
     ]
    }
   ],
   "source": [
    "# return可以省略，但一般最好不要这么做，明确地写出来，提高代码可读性。 \n",
    "def print_info(name, age):\n",
    "    print(f\"Name: {name}\")\n",
    "    print(f\"Age: {age}\")\n",
    "\n",
    "print_info(\"Bob\", 25)"
   ]
  },
  {
   "cell_type": "markdown",
   "id": "843ab096-fbb7-4b06-9d2e-32de504287e1",
   "metadata": {},
   "source": [
    "-----------------\n",
    "\n",
    "🙋**练习**\n",
    "\n",
    "没有明确定义`return`的函数返回什么？试着将以上单元格中的函数运行的结果赋值给一个变量，打印出其值来验证你的猜想。\n",
    "\n",
    "-----------------"
   ]
  },
  {
   "cell_type": "markdown",
   "id": "1a2b208f",
   "metadata": {},
   "source": [
    "### lambda函数"
   ]
  },
  {
   "cell_type": "code",
   "execution_count": 9,
   "id": "54cb79a9-0c57-4425-a2d9-64c346310f4d",
   "metadata": {},
   "outputs": [
    {
     "data": {
      "text/plain": [
       "<function __main__.<lambda>(x, y)>"
      ]
     },
     "execution_count": 9,
     "metadata": {},
     "output_type": "execute_result"
    }
   ],
   "source": [
    "# 除了用def之外，还可以用lambda创建函数\n",
    "# lambda在创建函数时不需要指定名称，而是将所创建的函数作为返回值\n",
    "f = lambda x, y: f\"{x}, {y}\"\n",
    "f"
   ]
  },
  {
   "cell_type": "code",
   "execution_count": 10,
   "id": "e76faff1-18f3-4280-a705-03925abd7161",
   "metadata": {},
   "outputs": [
    {
     "name": "stdout",
     "output_type": "stream",
     "text": [
      "abc, 123\n"
     ]
    }
   ],
   "source": [
    "print(f('abc', 123))  # 调用lambda函数"
   ]
  },
  {
   "cell_type": "code",
   "execution_count": 11,
   "id": "7f405a85",
   "metadata": {},
   "outputs": [
    {
     "data": {
      "text/plain": [
       "39"
      ]
     },
     "execution_count": 11,
     "metadata": {},
     "output_type": "execute_result"
    }
   ],
   "source": [
    "# lambda函数是一个表达式（expression），不是一条指令（statement）；\n",
    "# 而通过def定义函数是指令，不是表达式；\n",
    "# 因此lambda函数的定义可以作为指令的一部分使用；\n",
    "(lambda x: x**2 + x*3 - 1)(5)  # 调用lambda函数，计算5的平方加上3倍的5减去1"
   ]
  },
  {
   "cell_type": "code",
   "execution_count": 12,
   "id": "28d12292",
   "metadata": {},
   "outputs": [
    {
     "data": {
      "text/plain": [
       "{1: 3, 2: 9, 3: 17, 4: 27}"
      ]
     },
     "execution_count": 12,
     "metadata": {},
     "output_type": "execute_result"
    }
   ],
   "source": [
    " # 定义一个lambda函数，接受一个函数和一个序列，返回应用函数后的结果\n",
    "apply = lambda func, seq: {x: func(x) for x in seq} \n",
    "\n",
    "# lambda可以创建简单的匿名函数，这个函数仅在这里使用，其他地方几乎不会用到，所以命名没有必要；\n",
    "apply(lambda x:x**2 + x*3 -1, [1, 2, 3, 4])"
   ]
  },
  {
   "cell_type": "markdown",
   "id": "335220f6-0e09-480d-9d2b-78987a5d7564",
   "metadata": {},
   "source": [
    "-----------------\n",
    "\n",
    "🙋**练习**\n",
    "\n",
    "尝试不使用函数，用第二次课中讲到的字典推导式(dictionary comprehensions)得到跟以上单元格相同的结果。\n",
    "\n",
    "-----------------"
   ]
  },
  {
   "cell_type": "code",
   "execution_count": 13,
   "id": "71ce5baa-02f4-461f-9aa2-d03273b33b7f",
   "metadata": {},
   "outputs": [],
   "source": [
    "# 函数的定义可以嵌套，函数的返回值可以是函数\n",
    "def f(n):\n",
    "    def g(x):\n",
    "        return x**n\n",
    "    return g"
   ]
  },
  {
   "cell_type": "markdown",
   "id": "51673cd3-ee5a-47c1-9ae5-8d30af613c1d",
   "metadata": {},
   "source": [
    "-----------------\n",
    "\n",
    "🙋**练习**\n",
    "\n",
    "对于上方单元格中定义的函数`f`，以下代码的输出结果是什么？\n",
    "\n",
    "```python\n",
    "f(3)(2)\n",
    "```\n",
    "\n",
    "-----------------"
   ]
  },
  {
   "cell_type": "markdown",
   "id": "895dbf6a",
   "metadata": {},
   "source": [
    "### 变量作用域（Scope）\n",
    "\n",
    "def或lambda创建的函数在每次运行时会创建一个本次运行的局部作用领域，函数接受的参数、以及函数中定义的变量都是这个函数的局部变量(local)， 这意味着它们只能在函数内部访问，函数外部无法访问这些变量。"
   ]
  },
  {
   "cell_type": "code",
   "execution_count": 14,
   "id": "aa0da937-a2a6-49c0-bc86-25946a75c07b",
   "metadata": {},
   "outputs": [],
   "source": [
    "# 函数在调用时执行，执行时才会创建局部变量；\n",
    "# 所以定义函数时，使用了并没有定义的变量也不会报错；\n",
    "def add(var1):\n",
    "    res = var1 + var2\n",
    "    return res"
   ]
  },
  {
   "cell_type": "code",
   "execution_count": 15,
   "id": "c5fa5150-7c61-4b9a-a6d1-f59c1a5ac64e",
   "metadata": {},
   "outputs": [
    {
     "ename": "NameError",
     "evalue": "name 'var2' is not defined",
     "output_type": "error",
     "traceback": [
      "\u001b[31m---------------------------------------------------------------------------\u001b[39m",
      "\u001b[31mNameError\u001b[39m                                 Traceback (most recent call last)",
      "\u001b[36mCell\u001b[39m\u001b[36m \u001b[39m\u001b[32mIn[15]\u001b[39m\u001b[32m, line 1\u001b[39m\n\u001b[32m----> \u001b[39m\u001b[32m1\u001b[39m \u001b[43madd\u001b[49m\u001b[43m(\u001b[49m\u001b[32;43m3\u001b[39;49m\u001b[43m)\u001b[49m\n",
      "\u001b[36mCell\u001b[39m\u001b[36m \u001b[39m\u001b[32mIn[14]\u001b[39m\u001b[32m, line 4\u001b[39m, in \u001b[36madd\u001b[39m\u001b[34m(var1)\u001b[39m\n\u001b[32m      3\u001b[39m \u001b[38;5;28;01mdef\u001b[39;00m\u001b[38;5;250m \u001b[39m\u001b[34madd\u001b[39m(var1):\n\u001b[32m----> \u001b[39m\u001b[32m4\u001b[39m     res = var1 + \u001b[43mvar2\u001b[49m\n\u001b[32m      5\u001b[39m     \u001b[38;5;28;01mreturn\u001b[39;00m res\n",
      "\u001b[31mNameError\u001b[39m: name 'var2' is not defined"
     ]
    }
   ],
   "source": [
    "add(3)"
   ]
  },
  {
   "cell_type": "code",
   "execution_count": 16,
   "id": "3e235821",
   "metadata": {},
   "outputs": [
    {
     "name": "stdout",
     "output_type": "stream",
     "text": [
      "Inside add: var1=3, var2=5, res=8\n"
     ]
    },
    {
     "data": {
      "text/plain": [
       "8"
      ]
     },
     "execution_count": 16,
     "metadata": {},
     "output_type": "execute_result"
    }
   ],
   "source": [
    "def add(var1, var2):\n",
    "    res = var1 + var2\n",
    "    # 在函数内部可以访问var1, var2, res\n",
    "    print(f\"Inside add: var1={var1}, var2={var2}, res={res}\")\n",
    "    return res\n",
    "\n",
    "add(3, 5)"
   ]
  },
  {
   "cell_type": "code",
   "execution_count": 17,
   "id": "326306d3",
   "metadata": {},
   "outputs": [
    {
     "ename": "NameError",
     "evalue": "name 'var1' is not defined",
     "output_type": "error",
     "traceback": [
      "\u001b[31m---------------------------------------------------------------------------\u001b[39m",
      "\u001b[31mNameError\u001b[39m                                 Traceback (most recent call last)",
      "\u001b[36mCell\u001b[39m\u001b[36m \u001b[39m\u001b[32mIn[17]\u001b[39m\u001b[32m, line 2\u001b[39m\n\u001b[32m      1\u001b[39m \u001b[38;5;66;03m# 在函数外部不可以\u001b[39;00m\n\u001b[32m----> \u001b[39m\u001b[32m2\u001b[39m \u001b[43mvar1\u001b[49m\n",
      "\u001b[31mNameError\u001b[39m: name 'var1' is not defined"
     ]
    }
   ],
   "source": [
    "# 在函数外部不可以\n",
    "var1"
   ]
  },
  {
   "cell_type": "code",
   "execution_count": 18,
   "id": "49fa9f0e",
   "metadata": {},
   "outputs": [
    {
     "data": {
      "text/plain": [
       "21"
      ]
     },
     "execution_count": 18,
     "metadata": {},
     "output_type": "execute_result"
    }
   ],
   "source": [
    "# 对于嵌套的函数，外部函数中定义的变量x、y对于外部函数是局部变量，\n",
    "# 但对于内部函数来说x、y，是非局部变量(nonlocal)，可以在内部函数中访问。\n",
    "# 内部函数自己定义的变量z、result是内部函数的局部变量，外部函数无法访问。\n",
    "\n",
    "def add2_time3(x):\n",
    "    y = x + 2\n",
    "    def time(z):\n",
    "        result = y * z\n",
    "        return result\n",
    "    return time(3)\n",
    "\n",
    "add2_time3(5)"
   ]
  },
  {
   "cell_type": "code",
   "execution_count": 19,
   "id": "3abcc290",
   "metadata": {},
   "outputs": [
    {
     "ename": "NameError",
     "evalue": "name 'z' is not defined",
     "output_type": "error",
     "traceback": [
      "\u001b[31m---------------------------------------------------------------------------\u001b[39m",
      "\u001b[31mNameError\u001b[39m                                 Traceback (most recent call last)",
      "\u001b[36mCell\u001b[39m\u001b[36m \u001b[39m\u001b[32mIn[19]\u001b[39m\u001b[32m, line 11\u001b[39m\n\u001b[32m      8\u001b[39m     \u001b[38;5;28mprint\u001b[39m(z)\n\u001b[32m      9\u001b[39m     \u001b[38;5;28;01mreturn\u001b[39;00m result\n\u001b[32m---> \u001b[39m\u001b[32m11\u001b[39m \u001b[38;5;28mprint\u001b[39m(\u001b[43madd2_time3\u001b[49m\u001b[43m(\u001b[49m\u001b[32;43m5\u001b[39;49m\u001b[43m)\u001b[49m)\n",
      "\u001b[36mCell\u001b[39m\u001b[36m \u001b[39m\u001b[32mIn[19]\u001b[39m\u001b[32m, line 8\u001b[39m, in \u001b[36madd2_time3\u001b[39m\u001b[34m(x)\u001b[39m\n\u001b[32m      6\u001b[39m     \u001b[38;5;28;01mreturn\u001b[39;00m y * z\n\u001b[32m      7\u001b[39m result = time(\u001b[32m3\u001b[39m)\n\u001b[32m----> \u001b[39m\u001b[32m8\u001b[39m \u001b[38;5;28mprint\u001b[39m(\u001b[43mz\u001b[49m)\n\u001b[32m      9\u001b[39m \u001b[38;5;28;01mreturn\u001b[39;00m result\n",
      "\u001b[31mNameError\u001b[39m: name 'z' is not defined"
     ]
    }
   ],
   "source": [
    "# 因为z是内层函数的局部变量，外层函数无法访问\n",
    "# 你的就是我的，我的还是我的:)  <---- 请分析，这里的\"我\"是谁？\n",
    "def add2_time3(x):\n",
    "    y = x + 2\n",
    "    def time(z):\n",
    "        return y * z\n",
    "    result = time(3)\n",
    "    print(z)\n",
    "    return result\n",
    "\n",
    "print(add2_time3(5))"
   ]
  },
  {
   "cell_type": "markdown",
   "id": "5b33288b-6cf3-401c-abbd-690beeaccc00",
   "metadata": {},
   "source": [
    "-----------------\n",
    "\n",
    "🙋**练习**\n",
    "\n",
    "1. 对于上方单元格中的变量`time`，它对`add2_time3`函数来说是局部变量还是非局部变量？`time`变量对`time`函数来说是局部变量还是非局部变量？\n",
    "\n",
    "2. 函数可以自己调用自己吗？试着定义一个函数，函数体中至少调用一次函数自身，看看能不能运行。\n",
    "\n",
    "-----------------"
   ]
  },
  {
   "cell_type": "code",
   "execution_count": 20,
   "id": "656371f1",
   "metadata": {},
   "outputs": [],
   "source": [
    "# 在任何def或lambda函数以外创建的变量都是当前文件中的全局变量(global)\n",
    "a = 10"
   ]
  },
  {
   "cell_type": "code",
   "execution_count": 21,
   "id": "5f118f3c-d978-4180-8ed2-348f7e608984",
   "metadata": {},
   "outputs": [
    {
     "ename": "RuntimeError",
     "evalue": "dictionary changed size during iteration",
     "output_type": "error",
     "traceback": [
      "\u001b[31m---------------------------------------------------------------------------\u001b[39m",
      "\u001b[31mRuntimeError\u001b[39m                              Traceback (most recent call last)",
      "\u001b[36mCell\u001b[39m\u001b[36m \u001b[39m\u001b[32mIn[21]\u001b[39m\u001b[32m, line 3\u001b[39m\n\u001b[32m      1\u001b[39m \u001b[38;5;66;03m# 可以用globals查看当前文件中的全局变量\u001b[39;00m\n\u001b[32m----> \u001b[39m\u001b[32m3\u001b[39m \u001b[38;5;28;43;01mfor\u001b[39;49;00m\u001b[43m \u001b[49m\u001b[43mk\u001b[49m\u001b[43m,\u001b[49m\u001b[43m \u001b[49m\u001b[43mv\u001b[49m\u001b[43m \u001b[49m\u001b[38;5;129;43;01min\u001b[39;49;00m\u001b[43m \u001b[49m\u001b[38;5;28;43mglobals\u001b[39;49m\u001b[43m(\u001b[49m\u001b[43m)\u001b[49m\u001b[43m.\u001b[49m\u001b[43mitems\u001b[49m\u001b[43m(\u001b[49m\u001b[43m)\u001b[49m\u001b[43m:\u001b[49m\n\u001b[32m      4\u001b[39m \u001b[43m    \u001b[49m\u001b[38;5;28;43;01mif\u001b[39;49;00m\u001b[43m \u001b[49m\u001b[38;5;129;43;01mnot\u001b[39;49;00m\u001b[43m \u001b[49m\u001b[43mk\u001b[49m\u001b[43m.\u001b[49m\u001b[43mstartswith\u001b[49m\u001b[43m(\u001b[49m\u001b[33;43m'\u001b[39;49m\u001b[33;43m_\u001b[39;49m\u001b[33;43m'\u001b[39;49m\u001b[43m)\u001b[49m\u001b[43m \u001b[49m\u001b[38;5;129;43;01mand\u001b[39;49;00m\u001b[43m \u001b[49m\u001b[43mk\u001b[49m\u001b[43m \u001b[49m\u001b[38;5;129;43;01mnot\u001b[39;49;00m\u001b[43m \u001b[49m\u001b[38;5;129;43;01min\u001b[39;49;00m\u001b[43m \u001b[49m\u001b[43m(\u001b[49m\u001b[33;43m\"\u001b[39;49m\u001b[33;43mIn\u001b[39;49m\u001b[33;43m\"\u001b[39;49m\u001b[43m,\u001b[49m\u001b[43m \u001b[49m\u001b[33;43m\"\u001b[39;49m\u001b[33;43mOut\u001b[39;49m\u001b[33;43m\"\u001b[39;49m\u001b[43m)\u001b[49m\u001b[43m:\u001b[49m\n\u001b[32m      5\u001b[39m \u001b[43m        \u001b[49m\u001b[38;5;28;43mprint\u001b[39;49m\u001b[43m(\u001b[49m\u001b[33;43mf\u001b[39;49m\u001b[33;43m'\u001b[39;49m\u001b[38;5;132;43;01m{\u001b[39;49;00m\u001b[43mk\u001b[49m\u001b[38;5;132;43;01m}\u001b[39;49;00m\u001b[33;43m: \u001b[39;49m\u001b[38;5;132;43;01m{\u001b[39;49;00m\u001b[43mv\u001b[49m\u001b[38;5;132;43;01m}\u001b[39;49;00m\u001b[33;43m'\u001b[39;49m\u001b[43m)\u001b[49m\n",
      "\u001b[31mRuntimeError\u001b[39m: dictionary changed size during iteration"
     ]
    }
   ],
   "source": [
    "# 可以用globals查看当前文件中的全局变量\n",
    "\n",
    "for k, v in globals().items():\n",
    "    if not k.startswith('_') and k not in (\"In\", \"Out\"):\n",
    "        print(f'{k}: {v}')"
   ]
  },
  {
   "cell_type": "code",
   "execution_count": 22,
   "id": "60ea7a74-18e1-4cb1-8540-6335f3b2fd51",
   "metadata": {},
   "outputs": [
    {
     "name": "stdout",
     "output_type": "stream",
     "text": [
      "{'n': 2, 'a': 3}\n"
     ]
    },
    {
     "data": {
      "text/plain": [
       "6"
      ]
     },
     "execution_count": 22,
     "metadata": {},
     "output_type": "execute_result"
    }
   ],
   "source": [
    "# 用locals可以查看当前环境中已经定义的局部变量\n",
    "def f(n):\n",
    "    a = 3\n",
    "    print(locals())\n",
    "    b = a + 3\n",
    "    return b\n",
    "\n",
    "f(2)"
   ]
  },
  {
   "cell_type": "markdown",
   "id": "90481162",
   "metadata": {},
   "source": [
    "#### Python看到一个变量名时，怎么解析其对应的值？\n",
    "Python中变量作用域的解析遵循**LEGB规则**：\n",
    "\n",
    "1. **L (Local)**：局部作用域 - 函数内部\n",
    "2. **E (Enclosing)**：嵌套作用域 - 外层函数的局部作用域  \n",
    "3. **G (Global)**：全局作用域 - 模块级别\n",
    "4. **B (Built-in)**：内置作用域 - Python内置名称\n",
    "\n",
    "Python按照L→E→G→B的顺序搜索变量。"
   ]
  },
  {
   "cell_type": "code",
   "execution_count": 23,
   "id": "704f2b5c",
   "metadata": {},
   "outputs": [
    {
     "data": {
      "text/plain": [
       "2"
      ]
     },
     "execution_count": 23,
     "metadata": {},
     "output_type": "execute_result"
    }
   ],
   "source": [
    "a = 1\n",
    "\n",
    "def f():\n",
    "    a = 2\n",
    "    return a\n",
    "\n",
    "f()"
   ]
  },
  {
   "cell_type": "code",
   "execution_count": 24,
   "id": "6a115277",
   "metadata": {},
   "outputs": [
    {
     "data": {
      "text/plain": [
       "1"
      ]
     },
     "execution_count": 24,
     "metadata": {},
     "output_type": "execute_result"
    }
   ],
   "source": [
    "def f():\n",
    "    return a\n",
    "\n",
    "f()"
   ]
  },
  {
   "cell_type": "code",
   "execution_count": 25,
   "id": "f9534719",
   "metadata": {},
   "outputs": [
    {
     "data": {
      "text/plain": [
       "4"
      ]
     },
     "execution_count": 25,
     "metadata": {},
     "output_type": "execute_result"
    }
   ],
   "source": [
    "def f2():\n",
    "    a = 3\n",
    "    def f3():\n",
    "        a = 4\n",
    "        return a\n",
    "    return f3()\n",
    "\n",
    "f2()"
   ]
  },
  {
   "cell_type": "code",
   "execution_count": 26,
   "id": "3e4e3ed6",
   "metadata": {},
   "outputs": [
    {
     "data": {
      "text/plain": [
       "3"
      ]
     },
     "execution_count": 26,
     "metadata": {},
     "output_type": "execute_result"
    }
   ],
   "source": [
    "def f2():\n",
    "    a = 3\n",
    "    def f3():\n",
    "        return a\n",
    "    return f3()\n",
    "\n",
    "f2()"
   ]
  },
  {
   "cell_type": "code",
   "execution_count": 27,
   "id": "e208a1e6",
   "metadata": {},
   "outputs": [
    {
     "data": {
      "text/plain": [
       "1"
      ]
     },
     "execution_count": 27,
     "metadata": {},
     "output_type": "execute_result"
    }
   ],
   "source": [
    "def f2():\n",
    "    def f3():\n",
    "        return a\n",
    "    return f3()\n",
    "\n",
    "f2()"
   ]
  },
  {
   "cell_type": "code",
   "execution_count": 28,
   "id": "b1106198",
   "metadata": {},
   "outputs": [
    {
     "ename": "NameError",
     "evalue": "name 'abc' is not defined",
     "output_type": "error",
     "traceback": [
      "\u001b[31m---------------------------------------------------------------------------\u001b[39m",
      "\u001b[31mNameError\u001b[39m                                 Traceback (most recent call last)",
      "\u001b[36mCell\u001b[39m\u001b[36m \u001b[39m\u001b[32mIn[28]\u001b[39m\u001b[32m, line 6\u001b[39m\n\u001b[32m      3\u001b[39m         \u001b[38;5;28;01mreturn\u001b[39;00m abc\n\u001b[32m      4\u001b[39m     \u001b[38;5;28;01mreturn\u001b[39;00m f3()\n\u001b[32m----> \u001b[39m\u001b[32m6\u001b[39m \u001b[43mf2\u001b[49m\u001b[43m(\u001b[49m\u001b[43m)\u001b[49m\n",
      "\u001b[36mCell\u001b[39m\u001b[36m \u001b[39m\u001b[32mIn[28]\u001b[39m\u001b[32m, line 4\u001b[39m, in \u001b[36mf2\u001b[39m\u001b[34m()\u001b[39m\n\u001b[32m      2\u001b[39m \u001b[38;5;28;01mdef\u001b[39;00m\u001b[38;5;250m \u001b[39m\u001b[34mf3\u001b[39m():\n\u001b[32m      3\u001b[39m     \u001b[38;5;28;01mreturn\u001b[39;00m abc\n\u001b[32m----> \u001b[39m\u001b[32m4\u001b[39m \u001b[38;5;28;01mreturn\u001b[39;00m \u001b[43mf3\u001b[49m\u001b[43m(\u001b[49m\u001b[43m)\u001b[49m\n",
      "\u001b[36mCell\u001b[39m\u001b[36m \u001b[39m\u001b[32mIn[28]\u001b[39m\u001b[32m, line 3\u001b[39m, in \u001b[36mf2.<locals>.f3\u001b[39m\u001b[34m()\u001b[39m\n\u001b[32m      2\u001b[39m \u001b[38;5;28;01mdef\u001b[39;00m\u001b[38;5;250m \u001b[39m\u001b[34mf3\u001b[39m():\n\u001b[32m----> \u001b[39m\u001b[32m3\u001b[39m     \u001b[38;5;28;01mreturn\u001b[39;00m \u001b[43mabc\u001b[49m\n",
      "\u001b[31mNameError\u001b[39m: name 'abc' is not defined"
     ]
    }
   ],
   "source": [
    "def f2():\n",
    "    def f3():\n",
    "        return abc\n",
    "    return f3()\n",
    "\n",
    "f2()"
   ]
  },
  {
   "cell_type": "markdown",
   "id": "e3dd7075-5786-4ad2-862b-23c088b98793",
   "metadata": {},
   "source": [
    "-----------------\n",
    "\n",
    "🙋**练习**\n",
    "\n",
    "为什么下面的代码片段1不能正常运行但片段2可以？请结合片段1运行后的报错信息进行分析。\n",
    "\n",
    "片段1：\n",
    "```python\n",
    "a = 1\n",
    "\n",
    "def f():\n",
    "    a = a + 1\n",
    "    return a\n",
    "\n",
    "f()\n",
    "```\n",
    "\n",
    "片段2：\n",
    "```python\n",
    "a = 1\n",
    "\n",
    "def f():\n",
    "    b = a + 1\n",
    "    return b\n",
    "\n",
    "f()\n",
    "```\n",
    "\n",
    "（notebook的结尾有这道练习题的提示）\n",
    "\n",
    "-----------------"
   ]
  },
  {
   "cell_type": "code",
   "execution_count": 29,
   "id": "9dc34466",
   "metadata": {},
   "outputs": [
    {
     "name": "stdout",
     "output_type": "stream",
     "text": [
      "2\n",
      "2\n"
     ]
    }
   ],
   "source": [
    "# 在函数内不能修改全局变量的值；\n",
    "# 在函数内部强行修改全局变量的值时，需要使用global关键字；\n",
    "a = 1\n",
    "def f():\n",
    "    global a  # 声明a是全局变量\n",
    "    a = a + 1\n",
    "    return a\n",
    "\n",
    "print(f())\n",
    "\n",
    "print(a)"
   ]
  },
  {
   "cell_type": "code",
   "execution_count": 30,
   "id": "bf6b9580",
   "metadata": {},
   "outputs": [
    {
     "ename": "UnboundLocalError",
     "evalue": "cannot access local variable 'b' where it is not associated with a value",
     "output_type": "error",
     "traceback": [
      "\u001b[31m---------------------------------------------------------------------------\u001b[39m",
      "\u001b[31mUnboundLocalError\u001b[39m                         Traceback (most recent call last)",
      "\u001b[36mCell\u001b[39m\u001b[36m \u001b[39m\u001b[32mIn[30]\u001b[39m\u001b[32m, line 12\u001b[39m\n\u001b[32m      9\u001b[39m     \u001b[38;5;28mprint\u001b[39m(\u001b[33mf\u001b[39m\u001b[33m'\u001b[39m\u001b[33mouter b = \u001b[39m\u001b[38;5;132;01m{\u001b[39;00mb\u001b[38;5;132;01m}\u001b[39;00m\u001b[33m'\u001b[39m)\n\u001b[32m     10\u001b[39m     \u001b[38;5;28;01mreturn\u001b[39;00m result\n\u001b[32m---> \u001b[39m\u001b[32m12\u001b[39m \u001b[43mf1\u001b[49m\u001b[43m(\u001b[49m\u001b[43m)\u001b[49m\n",
      "\u001b[36mCell\u001b[39m\u001b[36m \u001b[39m\u001b[32mIn[30]\u001b[39m\u001b[32m, line 8\u001b[39m, in \u001b[36mf1\u001b[39m\u001b[34m()\u001b[39m\n\u001b[32m      6\u001b[39m     \u001b[38;5;28mprint\u001b[39m(\u001b[33mf\u001b[39m\u001b[33m'\u001b[39m\u001b[33minner b = \u001b[39m\u001b[38;5;132;01m{\u001b[39;00mb\u001b[38;5;132;01m}\u001b[39;00m\u001b[33m'\u001b[39m)\n\u001b[32m      7\u001b[39m     \u001b[38;5;28;01mreturn\u001b[39;00m b\n\u001b[32m----> \u001b[39m\u001b[32m8\u001b[39m result = \u001b[43mf2\u001b[49m\u001b[43m(\u001b[49m\u001b[43m)\u001b[49m\n\u001b[32m      9\u001b[39m \u001b[38;5;28mprint\u001b[39m(\u001b[33mf\u001b[39m\u001b[33m'\u001b[39m\u001b[33mouter b = \u001b[39m\u001b[38;5;132;01m{\u001b[39;00mb\u001b[38;5;132;01m}\u001b[39;00m\u001b[33m'\u001b[39m)\n\u001b[32m     10\u001b[39m \u001b[38;5;28;01mreturn\u001b[39;00m result\n",
      "\u001b[36mCell\u001b[39m\u001b[36m \u001b[39m\u001b[32mIn[30]\u001b[39m\u001b[32m, line 5\u001b[39m, in \u001b[36mf1.<locals>.f2\u001b[39m\u001b[34m()\u001b[39m\n\u001b[32m      4\u001b[39m \u001b[38;5;28;01mdef\u001b[39;00m\u001b[38;5;250m \u001b[39m\u001b[34mf2\u001b[39m():\n\u001b[32m----> \u001b[39m\u001b[32m5\u001b[39m     \u001b[43mb\u001b[49m += \u001b[32m1\u001b[39m\n\u001b[32m      6\u001b[39m     \u001b[38;5;28mprint\u001b[39m(\u001b[33mf\u001b[39m\u001b[33m'\u001b[39m\u001b[33minner b = \u001b[39m\u001b[38;5;132;01m{\u001b[39;00mb\u001b[38;5;132;01m}\u001b[39;00m\u001b[33m'\u001b[39m)\n\u001b[32m      7\u001b[39m     \u001b[38;5;28;01mreturn\u001b[39;00m b\n",
      "\u001b[31mUnboundLocalError\u001b[39m: cannot access local variable 'b' where it is not associated with a value"
     ]
    }
   ],
   "source": [
    "# 对于嵌套函数，存在同样的问题，内层函数不能修改外层函数定义的变量的值；\n",
    "def f1():\n",
    "    b = 1\n",
    "    def f2():\n",
    "        b += 1\n",
    "        print(f'inner b = {b}')\n",
    "        return b\n",
    "    result = f2()\n",
    "    print(f'outer b = {b}')\n",
    "    return result\n",
    "\n",
    "f1()"
   ]
  },
  {
   "cell_type": "code",
   "execution_count": 31,
   "id": "00ff6699",
   "metadata": {},
   "outputs": [
    {
     "name": "stdout",
     "output_type": "stream",
     "text": [
      "inner b = 2\n",
      "outer b = 2\n"
     ]
    },
    {
     "data": {
      "text/plain": [
       "2"
      ]
     },
     "execution_count": 31,
     "metadata": {},
     "output_type": "execute_result"
    }
   ],
   "source": [
    "# 如果非要修改内层函数的nonlocal变量，可以使用nonlocal关键字声明\n",
    "def f1():\n",
    "    b = 1\n",
    "    def f2():\n",
    "        nonlocal b\n",
    "        b += 1\n",
    "        print(f'inner b = {b}')\n",
    "        return b\n",
    "    result = f2()\n",
    "    print(f'outer b = {b}')\n",
    "    return result\n",
    "\n",
    "f1()"
   ]
  },
  {
   "cell_type": "markdown",
   "id": "2674f727",
   "metadata": {},
   "source": [
    "### 函数参数\n",
    "- 函数参数的传递就是把实际参数值(argument)赋给对应的形参（parameter，即函数定义时函数名后面的括号里声明的参数名）；\n",
    "- 如果参数是一个可变对象，修改这个对象的内容会影响到外部对象，但如果重新赋值，则不会影响外部对象。"
   ]
  },
  {
   "cell_type": "code",
   "execution_count": 32,
   "id": "0b98bab0",
   "metadata": {},
   "outputs": [
    {
     "data": {
      "text/plain": [
       "5"
      ]
     },
     "execution_count": 32,
     "metadata": {},
     "output_type": "execute_result"
    }
   ],
   "source": [
    "def f(x):  # 接受一个参数，赋给函数内的局部变量x\n",
    "    x = x + 1  # 修改局部变量的值\n",
    "    return x   # 返回局部变量\n",
    "\n",
    "x = 4  # 创建一个全局变量x\n",
    "f(x=x)  # 第一个x是形参，函数运行时将会创建的局部变量；第二个x实参，我们刚刚定义的全局变量x；"
   ]
  },
  {
   "cell_type": "code",
   "execution_count": 33,
   "id": "f627bb53",
   "metadata": {},
   "outputs": [
    {
     "name": "stdout",
     "output_type": "stream",
     "text": [
      "4581319680\n",
      "[1, 2, 3, 4]\n",
      "[1, 2, 3, 4]\n",
      "4581319680\n"
     ]
    }
   ],
   "source": [
    "a = [1, 2, 3]\n",
    "print(id(a))  # 输出全局变量a的内存地址\n",
    "\n",
    "def f(x):\n",
    "    x.append(4)\n",
    "    return x\n",
    "\n",
    "print(f(a))\n",
    "\n",
    "# 全局变量a是可变对象，当f运行时，把a作为参数传递给x等价于在函数内定义了x = a\n",
    "# 所以在函数内对x的修改会影响到全局变量a的值，但是注意变量a一直是指向同一个对象，其内存地址没有发生改变；\n",
    "\n",
    "print(a)\n",
    "print(id(a))"
   ]
  },
  {
   "cell_type": "markdown",
   "id": "f2f3f2fb",
   "metadata": {},
   "source": [
    "当有多个参数时，Python支持多种参数传递方式实现形参与实参的对应：\n",
    "\n",
    "- **位置参数 (positional arguments)**：按顺序传递的参数\n",
    "- **关键字参数 (keyword arguments)**：使用参数名传递的参数\n",
    "- **默认（default）参数**：有默认值的参数\n",
    "- **可变参数**：\n",
    "   - `*args`：接收任意数量的位置参数\n",
    "   - `**kwargs`：接收任意数量的关键字参数\n",
    "- **强制关键字参数**：使用`*`分隔的参数"
   ]
  },
  {
   "cell_type": "code",
   "execution_count": 34,
   "id": "c0bc3886",
   "metadata": {},
   "outputs": [
    {
     "name": "stdout",
     "output_type": "stream",
     "text": [
      "I am Tom, Beijing years old, from 30\n"
     ]
    }
   ],
   "source": [
    "def introduce(name, age, city):\n",
    "    return f\"I am {name}, {age} years old, from {city}\"\n",
    "\n",
    "# 位置参数严格按照顺序从左到右与变量名匹配\n",
    "print(introduce(\"Tom\", \"Beijing\", 30))"
   ]
  },
  {
   "cell_type": "code",
   "execution_count": 35,
   "id": "c2e069c6-febb-426e-8c2b-de479f2d2baa",
   "metadata": {},
   "outputs": [
    {
     "name": "stdout",
     "output_type": "stream",
     "text": [
      "I am Tom, 30 years old, from Beijing\n"
     ]
    }
   ],
   "source": [
    "print(introduce(\"Tom\", 30, \"Beijing\"))"
   ]
  },
  {
   "cell_type": "code",
   "execution_count": 36,
   "id": "7bdc7f3f",
   "metadata": {},
   "outputs": [
    {
     "ename": "TypeError",
     "evalue": "introduce() takes 3 positional arguments but 4 were given",
     "output_type": "error",
     "traceback": [
      "\u001b[31m---------------------------------------------------------------------------\u001b[39m",
      "\u001b[31mTypeError\u001b[39m                                 Traceback (most recent call last)",
      "\u001b[36mCell\u001b[39m\u001b[36m \u001b[39m\u001b[32mIn[36]\u001b[39m\u001b[32m, line 2\u001b[39m\n\u001b[32m      1\u001b[39m \u001b[38;5;66;03m# 参数的数目要与函数定义时的参数数目一致\u001b[39;00m\n\u001b[32m----> \u001b[39m\u001b[32m2\u001b[39m \u001b[38;5;28mprint\u001b[39m(\u001b[43mintroduce\u001b[49m\u001b[43m(\u001b[49m\u001b[33;43m\"\u001b[39;49m\u001b[33;43mTom\u001b[39;49m\u001b[33;43m\"\u001b[39;49m\u001b[43m,\u001b[49m\u001b[43m \u001b[49m\u001b[33;43m\"\u001b[39;49m\u001b[33;43mBeijing\u001b[39;49m\u001b[33;43m\"\u001b[39;49m\u001b[43m,\u001b[49m\u001b[43m \u001b[49m\u001b[32;43m30\u001b[39;49m\u001b[43m,\u001b[49m\u001b[43m \u001b[49m\u001b[33;43m\"\u001b[39;49m\u001b[33;43mEcology\u001b[39;49m\u001b[33;43m\"\u001b[39;49m\u001b[43m)\u001b[49m)\n",
      "\u001b[31mTypeError\u001b[39m: introduce() takes 3 positional arguments but 4 were given"
     ]
    }
   ],
   "source": [
    "# 参数的数目要与函数定义时的参数数目一致\n",
    "print(introduce(\"Tom\", \"Beijing\", 30, \"Ecology\"))"
   ]
  },
  {
   "cell_type": "code",
   "execution_count": 37,
   "id": "aa853bc8",
   "metadata": {},
   "outputs": [
    {
     "ename": "TypeError",
     "evalue": "introduce() missing 1 required positional argument: 'city'",
     "output_type": "error",
     "traceback": [
      "\u001b[31m---------------------------------------------------------------------------\u001b[39m",
      "\u001b[31mTypeError\u001b[39m                                 Traceback (most recent call last)",
      "\u001b[36mCell\u001b[39m\u001b[36m \u001b[39m\u001b[32mIn[37]\u001b[39m\u001b[32m, line 1\u001b[39m\n\u001b[32m----> \u001b[39m\u001b[32m1\u001b[39m \u001b[38;5;28mprint\u001b[39m(\u001b[43mintroduce\u001b[49m\u001b[43m(\u001b[49m\u001b[33;43m\"\u001b[39;49m\u001b[33;43mTom\u001b[39;49m\u001b[33;43m\"\u001b[39;49m\u001b[43m,\u001b[49m\u001b[43m \u001b[49m\u001b[33;43m\"\u001b[39;49m\u001b[33;43mBeijing\u001b[39;49m\u001b[33;43m\"\u001b[39;49m\u001b[43m)\u001b[49m)\n",
      "\u001b[31mTypeError\u001b[39m: introduce() missing 1 required positional argument: 'city'"
     ]
    }
   ],
   "source": [
    "print(introduce(\"Tom\", \"Beijing\"))"
   ]
  },
  {
   "cell_type": "code",
   "execution_count": 38,
   "id": "cd88e091",
   "metadata": {},
   "outputs": [
    {
     "name": "stdout",
     "output_type": "stream",
     "text": [
      "I am Jerry, 25 years old, from Shanghai\n"
     ]
    }
   ],
   "source": [
    "# 关键字参数调用根据参数名匹配，区分大小写，顺序不重要\n",
    "print(introduce(city=\"Shanghai\", name=\"Jerry\", age=25))"
   ]
  },
  {
   "cell_type": "code",
   "execution_count": 39,
   "id": "7b4d517b",
   "metadata": {},
   "outputs": [
    {
     "ename": "TypeError",
     "evalue": "introduce() got an unexpected keyword argument 'Age'. Did you mean 'age'?",
     "output_type": "error",
     "traceback": [
      "\u001b[31m---------------------------------------------------------------------------\u001b[39m",
      "\u001b[31mTypeError\u001b[39m                                 Traceback (most recent call last)",
      "\u001b[36mCell\u001b[39m\u001b[36m \u001b[39m\u001b[32mIn[39]\u001b[39m\u001b[32m, line 1\u001b[39m\n\u001b[32m----> \u001b[39m\u001b[32m1\u001b[39m \u001b[38;5;28mprint\u001b[39m(\u001b[43mintroduce\u001b[49m\u001b[43m(\u001b[49m\u001b[43mcity\u001b[49m\u001b[43m=\u001b[49m\u001b[33;43m\"\u001b[39;49m\u001b[33;43mShanghai\u001b[39;49m\u001b[33;43m\"\u001b[39;49m\u001b[43m,\u001b[49m\u001b[43m \u001b[49m\u001b[43mname\u001b[49m\u001b[43m=\u001b[49m\u001b[33;43m\"\u001b[39;49m\u001b[33;43mJerry\u001b[39;49m\u001b[33;43m\"\u001b[39;49m\u001b[43m,\u001b[49m\u001b[43m \u001b[49m\u001b[43mAge\u001b[49m\u001b[43m=\u001b[49m\u001b[32;43m25\u001b[39;49m\u001b[43m)\u001b[49m)\n",
      "\u001b[31mTypeError\u001b[39m: introduce() got an unexpected keyword argument 'Age'. Did you mean 'age'?"
     ]
    }
   ],
   "source": [
    "print(introduce(city=\"Shanghai\", name=\"Jerry\", Age=25))"
   ]
  },
  {
   "cell_type": "code",
   "execution_count": 40,
   "id": "247d3c56",
   "metadata": {},
   "outputs": [
    {
     "ename": "TypeError",
     "evalue": "introduce() got an unexpected keyword argument 'n'",
     "output_type": "error",
     "traceback": [
      "\u001b[31m---------------------------------------------------------------------------\u001b[39m",
      "\u001b[31mTypeError\u001b[39m                                 Traceback (most recent call last)",
      "\u001b[36mCell\u001b[39m\u001b[36m \u001b[39m\u001b[32mIn[40]\u001b[39m\u001b[32m, line 2\u001b[39m\n\u001b[32m      1\u001b[39m \u001b[38;5;66;03m# 关键字参数调用时，参数名必须与函数定义中的参数名完全匹配\u001b[39;00m\n\u001b[32m----> \u001b[39m\u001b[32m2\u001b[39m \u001b[38;5;28mprint\u001b[39m(\u001b[43mintroduce\u001b[49m\u001b[43m(\u001b[49m\u001b[43mcity\u001b[49m\u001b[43m=\u001b[49m\u001b[33;43m\"\u001b[39;49m\u001b[33;43mShanghai\u001b[39;49m\u001b[33;43m\"\u001b[39;49m\u001b[43m,\u001b[49m\u001b[43m \u001b[49m\u001b[43mn\u001b[49m\u001b[43m=\u001b[49m\u001b[33;43m\"\u001b[39;49m\u001b[33;43mJerry\u001b[39;49m\u001b[33;43m\"\u001b[39;49m\u001b[43m,\u001b[49m\u001b[43m \u001b[49m\u001b[43mage\u001b[49m\u001b[43m=\u001b[49m\u001b[32;43m25\u001b[39;49m\u001b[43m)\u001b[49m)\n",
      "\u001b[31mTypeError\u001b[39m: introduce() got an unexpected keyword argument 'n'"
     ]
    }
   ],
   "source": [
    "# 关键字参数调用时，参数名必须与函数定义中的参数名完全匹配\n",
    "print(introduce(city=\"Shanghai\", n=\"Jerry\", age=25))"
   ]
  },
  {
   "cell_type": "code",
   "execution_count": 41,
   "id": "8b1a52c2",
   "metadata": {},
   "outputs": [
    {
     "name": "stdout",
     "output_type": "stream",
     "text": [
      "I am Mike, 28 years old, from Guangzhou\n"
     ]
    }
   ],
   "source": [
    "# 混合调用（位置参数必须在关键字参数前面）\n",
    "print(introduce(\"Mike\", age=28, city=\"Guangzhou\"))"
   ]
  },
  {
   "cell_type": "code",
   "execution_count": 42,
   "id": "b3c98a79",
   "metadata": {},
   "outputs": [
    {
     "ename": "SyntaxError",
     "evalue": "positional argument follows keyword argument (69524516.py, line 1)",
     "output_type": "error",
     "traceback": [
      "  \u001b[36mCell\u001b[39m\u001b[36m \u001b[39m\u001b[32mIn[42]\u001b[39m\u001b[32m, line 1\u001b[39m\n\u001b[31m    \u001b[39m\u001b[31mprint(introduce(age=28, city=\"Guangzhou\", \"Mike\"))\u001b[39m\n                                                    ^\n\u001b[31mSyntaxError\u001b[39m\u001b[31m:\u001b[39m positional argument follows keyword argument\n"
     ]
    }
   ],
   "source": [
    "print(introduce(age=28, city=\"Guangzhou\", \"Mike\"))"
   ]
  },
  {
   "cell_type": "code",
   "execution_count": 43,
   "id": "ec517707",
   "metadata": {},
   "outputs": [
    {
     "ename": "SyntaxError",
     "evalue": "keyword argument repeated: city (432361409.py, line 2)",
     "output_type": "error",
     "traceback": [
      "  \u001b[36mCell\u001b[39m\u001b[36m \u001b[39m\u001b[32mIn[43]\u001b[39m\u001b[32m, line 2\u001b[39m\n\u001b[31m    \u001b[39m\u001b[31mprint(introduce(name=\"Mike\", age=28, city=\"Guangzhou\", city=\"Lanzhou\"))\u001b[39m\n                                                           ^\n\u001b[31mSyntaxError\u001b[39m\u001b[31m:\u001b[39m keyword argument repeated: city\n"
     ]
    }
   ],
   "source": [
    "# 每个关键字参数只能出现一次，不能重复\n",
    "print(introduce(name=\"Mike\", age=28, city=\"Guangzhou\", city=\"Lanzhou\"))"
   ]
  },
  {
   "cell_type": "code",
   "execution_count": 44,
   "id": "983f3055",
   "metadata": {},
   "outputs": [
    {
     "name": "stdout",
     "output_type": "stream",
     "text": [
      "Hello, Mr./Ms. Tom!\n"
     ]
    }
   ],
   "source": [
    "# 定义函数时可以给形参提供默认值，如果调用时没有提供实参，将会使用默认值\n",
    "def greet_with_title(name, title=\"Mr./Ms.\"):\n",
    "    return f\"Hello, {title} {name}!\"\n",
    "\n",
    "# 使用默认参数\n",
    "print(greet_with_title(\"Tom\"))"
   ]
  },
  {
   "cell_type": "code",
   "execution_count": 45,
   "id": "7cd4f2e6",
   "metadata": {},
   "outputs": [
    {
     "name": "stdout",
     "output_type": "stream",
     "text": [
      "Hello, Dr. Jerry!\n"
     ]
    }
   ],
   "source": [
    "# 即使有默认值，如果我们调用时提供了实参，函数会使用实参而非默认值\n",
    "print(greet_with_title(\"Jerry\", \"Dr.\"))"
   ]
  },
  {
   "cell_type": "markdown",
   "id": "470052df-99d8-45d6-833d-74d2e4e6c7aa",
   "metadata": {},
   "source": [
    "-----------------\n",
    "\n",
    "🙋**练习**\n",
    "\n",
    "函数的默认参数最好是不可变对象，如果默认参数是可变对象（如列表或字典），会导致意外的行为引发错误。先看看这段代码：\n",
    "\n",
    "```python\n",
    "def add_item(item, target_list=None):\n",
    "    if target_list is None:\n",
    "        target_list = []  # 每次调用时创建新列表\n",
    "    target_list.append(item)\n",
    "    return target_list\n",
    "\n",
    "list1 = add_item(\"apple\")\n",
    "list2 = add_item(\"banana\")\n",
    "print(\"list1:\", list1)\n",
    "print(\"list2:\", list2)\n",
    "```\n",
    "\n",
    "1. 请预测这段代码运行后的输出结果，跟你预期的是否一样，为什么会这样？\n",
    "2. 如果`target_list`的默认值是`[]`，那么输出会是怎样的？请尝试修改代码并运行，观察结果。\n",
    "\n",
    "（文档末尾有这道练习题的提示）\n",
    "\n",
    "-----------------"
   ]
  },
  {
   "cell_type": "code",
   "execution_count": 46,
   "id": "86cfd839",
   "metadata": {},
   "outputs": [
    {
     "name": "stdout",
     "output_type": "stream",
     "text": [
      "((), {})\n",
      "((1, 2, 3), {})\n",
      "((1, 2, 3), {'a': 4, 'b': 5})\n"
     ]
    }
   ],
   "source": [
    "# *args来收集任意数量的位置参数,局部变量args将被赋值为tuple；\n",
    "# **kwargs收集任意数量的关键字参数，局部变量kwargs将被赋值为dict；\n",
    "def f(*a, **b):\n",
    "    \"\"\"计算任意数量数字的和\"\"\"\n",
    "    return a, b\n",
    "\n",
    "print(f())\n",
    "print(f(1, 2, 3))\n",
    "print(f(1, 2, 3, a = 4, b = 5))"
   ]
  },
  {
   "cell_type": "code",
   "execution_count": 47,
   "id": "7c744edc",
   "metadata": {},
   "outputs": [
    {
     "name": "stdout",
     "output_type": "stream",
     "text": [
      "Required parameter: required_value\n",
      "Default parameter: custom_default\n",
      "Extra positional args: (1, 2, 3)\n",
      "Extra keyword args: {'extra1': 'value1', 'extra2': 'value2'}\n"
     ]
    }
   ],
   "source": [
    "# 混合使用不同类型的参数\n",
    "def complex_function(required, default_param=\"default\", *args, **kwargs):\n",
    "    print(f\"Required parameter: {required}\")\n",
    "    print(f\"Default parameter: {default_param}\")\n",
    "    print(f\"Extra positional args: {args}\")\n",
    "    print(f\"Extra keyword args: {kwargs}\")\n",
    "\n",
    "complex_function(\"required_value\", \"custom_default\", 1, 2, 3, extra1=\"value1\", extra2=\"value2\")"
   ]
  },
  {
   "cell_type": "code",
   "execution_count": 48,
   "id": "e35a9f92",
   "metadata": {},
   "outputs": [
    {
     "name": "stdout",
     "output_type": "stream",
     "text": [
      "{'name': 'Tom', 'email': 'tom@example.com'}\n"
     ]
    },
    {
     "ename": "TypeError",
     "evalue": "create_user() takes 1 positional argument but 2 positional arguments (and 1 keyword-only argument) were given",
     "output_type": "error",
     "traceback": [
      "\u001b[31m---------------------------------------------------------------------------\u001b[39m",
      "\u001b[31mTypeError\u001b[39m                                 Traceback (most recent call last)",
      "\u001b[36mCell\u001b[39m\u001b[36m \u001b[39m\u001b[32mIn[48]\u001b[39m\u001b[32m, line 16\u001b[39m\n\u001b[32m     14\u001b[39m \u001b[38;5;28mprint\u001b[39m(user1)\n\u001b[32m     15\u001b[39m \u001b[38;5;66;03m# 不正确调用\u001b[39;00m\n\u001b[32m---> \u001b[39m\u001b[32m16\u001b[39m user2 = \u001b[43mcreate_user\u001b[49m\u001b[43m(\u001b[49m\u001b[33;43m\"\u001b[39;49m\u001b[33;43mJerry\u001b[39;49m\u001b[33;43m\"\u001b[39;49m\u001b[43m,\u001b[49m\u001b[43m \u001b[49m\u001b[33;43m\"\u001b[39;49m\u001b[33;43mjerry@example.com\u001b[39;49m\u001b[33;43m\"\u001b[39;49m\u001b[43m,\u001b[49m\u001b[43m \u001b[49m\u001b[43mage\u001b[49m\u001b[43m=\u001b[49m\u001b[32;43m25\u001b[39;49m\u001b[43m)\u001b[49m\n\u001b[32m     17\u001b[39m \u001b[38;5;28mprint\u001b[39m(user2)\n",
      "\u001b[31mTypeError\u001b[39m: create_user() takes 1 positional argument but 2 positional arguments (and 1 keyword-only argument) were given"
     ]
    }
   ],
   "source": [
    "# 加一个单独的*表示其后的参数为强制关键字参数（Keyword-only arguments）；\n",
    "# *本身并不算作一个形参；\n",
    "def create_user(name, *, email, age=None):\n",
    "    \"\"\"\n",
    "    创建用户，email必须使用关键字传递\n",
    "    \"\"\"\n",
    "    user = {\"name\": name, \"email\": email}\n",
    "    if age is not None:\n",
    "        user[\"age\"] = age\n",
    "    return user\n",
    "\n",
    "# 正确调用\n",
    "user1 = create_user(\"Tom\", email=\"tom@example.com\")\n",
    "print(user1)\n",
    "# 不正确调用\n",
    "user2 = create_user(\"Jerry\", \"jerry@example.com\", age=25)\n",
    "print(user2)\n"
   ]
  },
  {
   "cell_type": "markdown",
   "id": "b8454bd0",
   "metadata": {},
   "source": [
    "-----------------\n",
    "\n",
    "🙋**练习**\n",
    "\n",
    "1. 可以要求所有参数通过关键字传递吗？修改上面的代码试一试。\n",
    "2. 反过来，可以要求部分或所有参数必须通过位置传递吗？查一查python是否支持，如果支持的话如何实现？\n",
    "\n",
    "\n",
    "（第二个问题文档末尾有提示）\n",
    "\n",
    "-----------------"
   ]
  },
  {
   "cell_type": "markdown",
   "id": "414225b5",
   "metadata": {},
   "source": [
    "### 函数文档字符串（Docstring）\n",
    "\n",
    "文档字符串是函数的重要组成部分，用于描述函数的功能、参数和返回值。它们位于函数定义的第一行，使用三重引号。\n",
    "\n",
    "具体内容没有官方的格式要求，但一个良好的文档字符串可以包含：\n",
    "1. 函数的简短描述\n",
    "2. 参数说明\n",
    "3. 返回值说明\n",
    "4. 示例（可选）\n",
    "5. 异常说明（如果有的话）"
   ]
  },
  {
   "cell_type": "code",
   "execution_count": 49,
   "id": "ac9ac21a",
   "metadata": {},
   "outputs": [
    {
     "name": "stdout",
     "output_type": "stream",
     "text": [
      "\n",
      "计算身体质量指数(BMI)。\n",
      "\n",
      "Args:\n",
      "    weight (float): 体重，单位为千克;\n",
      "    height (float): 身高，单位为米;\n",
      "\n",
      "Returns:\n",
      "    float: BMI值\n",
      "\n",
      "Raises:\n",
      "    ValueError: 当weight或height小于等于0时;\n",
      "\n",
      "Examples:\n",
      "    >>> calculate_bmi(70, 1.75)\n",
      "    22.857142857142858\n",
      "\n"
     ]
    }
   ],
   "source": [
    "# Google风格的文档字符串示例\n",
    "def calculate_bmi(weight, height):\n",
    "    \"\"\"\n",
    "    计算身体质量指数(BMI)。\n",
    "    \n",
    "    Args:\n",
    "        weight (float): 体重，单位为千克;\n",
    "        height (float): 身高，单位为米;\n",
    "        \n",
    "    Returns:\n",
    "        float: BMI值\n",
    "        \n",
    "    Raises:\n",
    "        ValueError: 当weight或height小于等于0时;\n",
    "        \n",
    "    Examples:\n",
    "        >>> calculate_bmi(70, 1.75)\n",
    "        22.857142857142858\n",
    "    \"\"\"\n",
    "    if weight <= 0 or height <= 0:\n",
    "        raise ValueError(\"Weight and height must be greater than 0\")\n",
    "    \n",
    "    bmi = weight / (height ** 2)\n",
    "    return bmi\n",
    "\n",
    "\n",
    "    \n",
    "# 查看函数的文档字符串\n",
    "print(calculate_bmi.__doc__)   # doc: documentation"
   ]
  },
  {
   "cell_type": "code",
   "execution_count": 50,
   "id": "08d609ae",
   "metadata": {},
   "outputs": [
    {
     "name": "stdout",
     "output_type": "stream",
     "text": [
      "Help on function calculate_bmi in module __main__:\n",
      "\n",
      "calculate_bmi(weight, height)\n",
      "    计算身体质量指数(BMI)。\n",
      "\n",
      "    Args:\n",
      "        weight (float): 体重，单位为千克;\n",
      "        height (float): 身高，单位为米;\n",
      "\n",
      "    Returns:\n",
      "        float: BMI值\n",
      "\n",
      "    Raises:\n",
      "        ValueError: 当weight或height小于等于0时;\n",
      "\n",
      "    Examples:\n",
      "        >>> calculate_bmi(70, 1.75)\n",
      "        22.857142857142858\n",
      "\n"
     ]
    }
   ],
   "source": [
    "# help函数所呈现的其实就是函数的`.__doc__`的内容：\n",
    "help(calculate_bmi)"
   ]
  },
  {
   "cell_type": "markdown",
   "id": "c5d5c640",
   "metadata": {},
   "source": [
    "### 生成器（Generator）和yield关键字\n",
    "\n",
    "生成器是Python中一种特殊的迭代器，创建生成器的函数使用`yield`关键字来产生值，而不是`return`。\n",
    "\n",
    "**生成器的特点：**\n",
    "1. **惰性求值**：只在需要时才计算下一个值\n",
    "2. **内存效率**：不会一次性将所有值加载到内存中\n",
    "3. **状态保持**：函数的执行状态在每次yield后被保存\n",
    "\n",
    "**生成器的创建方式：**\n",
    "1. 生成器函数（使用yield）\n",
    "2. 生成器表达式\n",
    "\n",
    "**yield vs return：**\n",
    "- `return`：终止函数执行并返回值\n",
    "- `yield`：暂停函数执行，返回值，下次调用时从暂停处继续"
   ]
  },
  {
   "cell_type": "code",
   "execution_count": 51,
   "id": "3613e077",
   "metadata": {},
   "outputs": [
    {
     "name": "stdout",
     "output_type": "stream",
     "text": [
      "Generator object: <generator object count_up_to at 0x1110e3760>\n",
      "Generator type: <class 'generator'>\n"
     ]
    }
   ],
   "source": [
    "# 简单的生成器函数\n",
    "def count_up_to(max_count):\n",
    "    \"\"\"\n",
    "    生成从1到max_count的数字序列\n",
    "    \"\"\"\n",
    "    for i in range(1, max_count + 1):\n",
    "        yield i\n",
    "    print(\"Generator finished\")\n",
    "\n",
    "# 创建生成器对象\n",
    "counter = count_up_to(3)\n",
    "print(f\"Generator object: {counter}\")\n",
    "print(f\"Generator type: {type(counter)}\")\n"
   ]
  },
  {
   "cell_type": "code",
   "execution_count": 52,
   "id": "a61972d6-8ce8-4342-aca6-f526aeca7af6",
   "metadata": {},
   "outputs": [
    {
     "name": "stdout",
     "output_type": "stream",
     "text": [
      "\n",
      "Using next() to get values:\n",
      "1\n"
     ]
    }
   ],
   "source": [
    "# 使用next()函数逐个获取值\n",
    "print(\"\\nUsing next() to get values:\")\n",
    "print(next(counter))"
   ]
  },
  {
   "cell_type": "code",
   "execution_count": 53,
   "id": "80640487-4135-4baf-8c4b-4a52ce3f2380",
   "metadata": {},
   "outputs": [
    {
     "name": "stdout",
     "output_type": "stream",
     "text": [
      "2\n",
      "3\n"
     ]
    }
   ],
   "source": [
    "print(next(counter))\n",
    "print(next(counter))"
   ]
  },
  {
   "cell_type": "code",
   "execution_count": 54,
   "id": "2579246f",
   "metadata": {},
   "outputs": [
    {
     "name": "stdout",
     "output_type": "stream",
     "text": [
      "Generator finished\n",
      "Generator exhausted\n"
     ]
    }
   ],
   "source": [
    "# 当生成器耗尽时，再次调用next()会抛出StopIteration异常\n",
    "try:\n",
    "    print(next(counter))\n",
    "except StopIteration:\n",
    "    print(\"Generator exhausted\")"
   ]
  },
  {
   "cell_type": "code",
   "execution_count": 55,
   "id": "aeb99f71",
   "metadata": {},
   "outputs": [
    {
     "name": "stdout",
     "output_type": "stream",
     "text": [
      "First 10 Fibonacci numbers:\n",
      "0 1 1 2 3 5 8 13 21 34 \n"
     ]
    }
   ],
   "source": [
    "# 在for循环中使用生成器\n",
    "def fibonacci_generator(n):\n",
    "    \"\"\"\n",
    "    生成前n个斐波那契数\n",
    "    \"\"\"\n",
    "    a, b = 0, 1\n",
    "    for i in range(n):\n",
    "        yield a\n",
    "        a, b = b, a + b\n",
    "\n",
    "print(\"First 10 Fibonacci numbers:\")\n",
    "for num in fibonacci_generator(10):\n",
    "    print(num, end=\" \")\n",
    "print()"
   ]
  },
  {
   "cell_type": "code",
   "execution_count": 56,
   "id": "e16be9c1",
   "metadata": {},
   "outputs": [
    {
     "name": "stdout",
     "output_type": "stream",
     "text": [
      "List comprehension: [1, 4, 9, 16, 25]\n",
      "Generator expression: <generator object <genexpr> at 0x111245be0>\n",
      "Generator content: [1, 4, 9, 16, 25]\n"
     ]
    }
   ],
   "source": [
    "# 生成器表达式（Generator Expression）\n",
    "# 类似列表推导式，但使用圆括号且返回生成器\n",
    "numbers = [1, 2, 3, 4, 5]\n",
    "\n",
    "# 列表推导式（立即创建所有元素）\n",
    "squares_list = [x**2 for x in numbers]\n",
    "print(f\"List comprehension: {squares_list}\")\n",
    "\n",
    "# 生成器表达式（惰性求值）\n",
    "squares_gen = (x**2 for x in numbers)\n",
    "print(f\"Generator expression: {squares_gen}\")\n",
    "print(f\"Generator content: {list(squares_gen)}\")\n"
   ]
  },
  {
   "cell_type": "code",
   "execution_count": 57,
   "id": "ba3ec3d4",
   "metadata": {},
   "outputs": [
    {
     "data": {
      "text/plain": [
       "[0, 1, 2, 3, 4, 0, 1, 4, 9, 16]"
      ]
     },
     "execution_count": 57,
     "metadata": {},
     "output_type": "execute_result"
    }
   ],
   "source": [
    "# 一个函数可以有两个yield表达式\n",
    "def f(n):\n",
    "    for i in range(n): yield i\n",
    "    for i in range(n): yield i**2\n",
    "\n",
    "list(f(5))"
   ]
  },
  {
   "cell_type": "code",
   "execution_count": 58,
   "id": "b7789cf1",
   "metadata": {},
   "outputs": [
    {
     "data": {
      "text/plain": [
       "[0, 0, 1, 1, 2, 4, 3, 9, 4, 16]"
      ]
     },
     "execution_count": 58,
     "metadata": {},
     "output_type": "execute_result"
    }
   ],
   "source": [
    "def f(n):\n",
    "    def g(n):\n",
    "        yield n\n",
    "        yield n**2\n",
    "    for i in range(n):\n",
    "            for j in g(i): yield j\n",
    "\n",
    "list(f(5))"
   ]
  },
  {
   "cell_type": "code",
   "execution_count": 59,
   "id": "2643f715",
   "metadata": {},
   "outputs": [
    {
     "data": {
      "text/plain": [
       "[0, 0, 1, 1, 2, 4, 3, 9, 4, 16]"
      ]
     },
     "execution_count": 59,
     "metadata": {},
     "output_type": "execute_result"
    }
   ],
   "source": [
    "# \"yield from\"语句可以简化生成器的嵌套调用\n",
    "# 它可以将一个生成器的所有值直接传递给外层生成器\n",
    "def f(n):\n",
    "    def g(n):\n",
    "        yield n\n",
    "        yield n**2\n",
    "    for i in range(n): yield from g(i)\n",
    "\n",
    "list(f(5))"
   ]
  },
  {
   "cell_type": "markdown",
   "id": "6ec3c634",
   "metadata": {},
   "source": [
    "### 函数编程工具"
   ]
  },
  {
   "cell_type": "code",
   "execution_count": 60,
   "id": "acea6024",
   "metadata": {},
   "outputs": [
    {
     "name": "stdout",
     "output_type": "stream",
     "text": [
      "True\n"
     ]
    },
    {
     "data": {
      "text/plain": [
       "[0, 1, 4, 9, 16, 25, 36, 49, 64, 81]"
      ]
     },
     "execution_count": 60,
     "metadata": {},
     "output_type": "execute_result"
    }
   ],
   "source": [
    "# map可以将一个函数应用到一个可迭代对象的每个元素上，并返回一个生成器\n",
    "x = range(10)\n",
    "y = map(lambda x: x**2, x)\n",
    "print('__next__' in dir(y))\n",
    "list(y)"
   ]
  },
  {
   "cell_type": "markdown",
   "id": "35afd323-07de-41e5-9e77-a48d9b097255",
   "metadata": {},
   "source": [
    "-----------------\n",
    "\n",
    "🙋**练习**\n",
    "\n",
    "利用刚讲过的yield创建一个生成器函数`g`，使得下面的代码运行后得到跟上面的单元格同样的输出结果。\n",
    "```python\n",
    "y = g(lambda x: x**2, range(10))\n",
    "\n",
    "print('__next__' in dir(y))\n",
    "list(y)\n",
    "```\n",
    "\n",
    "-------------------"
   ]
  },
  {
   "cell_type": "code",
   "execution_count": 61,
   "id": "292724cb",
   "metadata": {},
   "outputs": [
    {
     "data": {
      "text/plain": [
       "[0, 2, 4, 6, 8]"
      ]
     },
     "execution_count": 61,
     "metadata": {},
     "output_type": "execute_result"
    }
   ],
   "source": [
    "# filter可以过滤可迭代对象中的元素，返回一个生成器\n",
    "list(filter(lambda x: x % 2 == 0, range(10)))  # 过滤出偶数"
   ]
  },
  {
   "cell_type": "code",
   "execution_count": 62,
   "id": "4e35b1d0",
   "metadata": {},
   "outputs": [
    {
     "name": "stdout",
     "output_type": "stream",
     "text": [
      "[0, 1, 2, 3, 4, 5, 6, 7, 8, 9]\n"
     ]
    },
    {
     "data": {
      "text/plain": [
       "45"
      ]
     },
     "execution_count": 62,
     "metadata": {},
     "output_type": "execute_result"
    }
   ],
   "source": [
    "# reduce函数可以对可迭代对象中的元素进行累积操作\n",
    "from functools import reduce\n",
    "\n",
    "# cumsum\n",
    "print(list(range(10)))\n",
    "reduce(lambda x, y: x + y, range(10))  # 计算0到9的累积和"
   ]
  },
  {
   "cell_type": "markdown",
   "id": "41b56264",
   "metadata": {},
   "source": [
    "## 6. 模块（Module）\n",
    "\n",
    "模块是包含Python代码的文件，以`.py`为扩展名。模块可以包含函数、类、变量以及可执行的代码。\n",
    "\n",
    "**模块的作用：**\n",
    "1. **代码重用**：避免重复编写相同的代码；\n",
    "2. **命名空间**：每一个模块都有自己的全局变量，可以避免变量名冲突；\n",
    "3. **代码组织**：将相关功能组织在一起；\n",
    "\n",
    "**导入模块的方式：**\n",
    "1. `import module_name`\n",
    "2. `from module_name import function_name`\n",
    "3. `from module_name import *`\n",
    "4. `import module_name as alias`\n",
    "\n",
    "**一些常用内置模块：**\n",
    "\n",
    "- `sys`: 与系统交互；\n",
    "- `math`：数学函数\n",
    "- `random`：随机数生成\n",
    "- `datetime`：日期时间处理\n",
    "- `os`：操作系统接口"
   ]
  },
  {
   "cell_type": "code",
   "execution_count": 63,
   "id": "8292d4a7",
   "metadata": {},
   "outputs": [
    {
     "name": "stdout",
     "output_type": "stream",
     "text": [
      "Pi: 3.141592653589793\n",
      "Square root of 10: 3.1622776601683795\n",
      "Random number: 84\n",
      "Current time: 2025-07-21 21:14:13.642541\n"
     ]
    }
   ],
   "source": [
    "# 1. 导入整个模块\n",
    "import math\n",
    "import random\n",
    "import datetime\n",
    "\n",
    "# 使用模块中的函数\n",
    "print(f\"Pi: {math.pi}\")\n",
    "print(f\"Square root of 10: {math.sqrt(10)}\")\n",
    "print(f\"Random number: {random.randint(1, 100)}\")\n",
    "print(f\"Current time: {datetime.datetime.now()}\")"
   ]
  },
  {
   "cell_type": "code",
   "execution_count": 64,
   "id": "6b78c7b1-db2d-4366-a167-bc66780f1807",
   "metadata": {},
   "outputs": [],
   "source": [
    "def sin(x):\n",
    "    return x"
   ]
  },
  {
   "cell_type": "code",
   "execution_count": 65,
   "id": "0bd22813",
   "metadata": {},
   "outputs": [
    {
     "name": "stdout",
     "output_type": "stream",
     "text": [
      "sin(45°) = 0.7071\n",
      "cos(45°) = 0.7071\n",
      "Randomly chosen fruit: banana\n"
     ]
    }
   ],
   "source": [
    "# 2. 从模块导入特定函数\n",
    "from math import sin, cos, radians\n",
    "from random import choice\n",
    "\n",
    "angle = radians(45)  # 45度转弧度\n",
    "print(f\"sin(45°) = {sin(angle):.4f}\")\n",
    "print(f\"cos(45°) = {cos(angle):.4f}\")\n",
    "\n",
    "fruits = [\"apple\", \"banana\", \"orange\"]\n",
    "print(f\"Randomly chosen fruit: {choice(fruits)}\")"
   ]
  },
  {
   "cell_type": "code",
   "execution_count": 66,
   "id": "3c6423f8",
   "metadata": {},
   "outputs": [
    {
     "name": "stdout",
     "output_type": "stream",
     "text": [
      "Current time using alias: 2025-07-21 21:14:14.601245\n",
      "Value of pi using alias: 3.141592653589793\n"
     ]
    }
   ],
   "source": [
    "# 3. 使用别名导入\n",
    "import datetime as dt\n",
    "# import numpy as np  # 如果安装了numpy\n",
    "# import pandas as pd\n",
    "\n",
    "current_time = dt.datetime.now()\n",
    "print(f\"Current time using alias: {current_time}\")\n",
    "\n",
    "from math import pi as PI\n",
    "print(f\"Value of pi using alias: {PI}\")"
   ]
  },
  {
   "cell_type": "code",
   "execution_count": 67,
   "id": "c6d37e79",
   "metadata": {},
   "outputs": [
    {
     "name": "stdout",
     "output_type": "stream",
     "text": [
      "Some attributes of math module: ['acos', 'acosh', 'asin', 'asinh', 'atan', 'atan2', 'atanh', 'cbrt', 'ceil', 'comb']\n",
      "\n",
      "Math module documentation: This module provides access to the mathematical functions\n",
      "defined by the C standard.\n",
      "Math module file location: /Users/mt1022/miniforge3/envs/main/lib/python3.13/lib-dynload/math.cpython-313-darwin.so\n"
     ]
    }
   ],
   "source": [
    "# 4. 查看模块信息\n",
    "# 查看模块的属性和方法\n",
    "print(f\"Some attributes of math module: {[attr for attr in dir(math) if not attr.startswith('_')][:10]}\")\n",
    "\n",
    "print(f\"\\nMath module documentation: {math.__doc__}\")\n",
    "print(f\"Math module file location: {math.__file__}\")"
   ]
  },
  {
   "cell_type": "code",
   "execution_count": 68,
   "id": "8611153c",
   "metadata": {},
   "outputs": [],
   "source": [
    "# 5. 创建自定义模块的示例\n",
    "# 注意：在实际应用中，这些代码应该保存在单独的.py文件中\n",
    "\n",
    "# 模拟一个数学工具模块的内容\n",
    "def add(a, b):\n",
    "    \"\"\"加法函数\"\"\"\n",
    "    return a + b\n",
    "\n",
    "def multiply(a, b):\n",
    "    \"\"\"乘法函数\"\"\"\n",
    "    return a * b\n",
    "\n",
    "def factorial(n):\n",
    "    \"\"\"计算阶乘\"\"\"\n",
    "    if n <= 1:\n",
    "        return 1\n",
    "    return n * factorial(n - 1)\n",
    "\n",
    "# 模块级别的变量\n",
    "PI = 3.14159\n",
    "VERSION = \"1.0.0\""
   ]
  },
  {
   "cell_type": "code",
   "execution_count": 69,
   "id": "f45e9527",
   "metadata": {},
   "outputs": [
    {
     "name": "stdout",
     "output_type": "stream",
     "text": [
      "This module is imported from the workding directory\n"
     ]
    }
   ],
   "source": [
    "import mathlib"
   ]
  },
  {
   "cell_type": "code",
   "execution_count": 70,
   "id": "3a2d155d",
   "metadata": {},
   "outputs": [
    {
     "data": {
      "text/plain": [
       "3.14"
      ]
     },
     "execution_count": 70,
     "metadata": {},
     "output_type": "execute_result"
    }
   ],
   "source": [
    "mathlib.PI"
   ]
  },
  {
   "cell_type": "code",
   "execution_count": 71,
   "id": "c0931db4",
   "metadata": {},
   "outputs": [
    {
     "name": "stdout",
     "output_type": "stream",
     "text": [
      "This module is being imported from the src directory\n"
     ]
    }
   ],
   "source": [
    "# 如果.py文件存在于某个子文件夹，需要在导入时加上具体路径\n",
    "from src.mathlib import add, multiply, factorial, PI, VERSION"
   ]
  },
  {
   "cell_type": "code",
   "execution_count": 72,
   "id": "46aa178a",
   "metadata": {},
   "outputs": [
    {
     "name": "stdout",
     "output_type": "stream",
     "text": [
      "5 + 3 = 8\n",
      "4 * 6 = 24\n",
      "5! = 120\n",
      "Module PI value: 3.14159\n",
      "Module version: 1.0.0\n"
     ]
    }
   ],
   "source": [
    "# 测试自定义函数\n",
    "print(f\"5 + 3 = {add(5, 3)}\")\n",
    "print(f\"4 * 6 = {multiply(4, 6)}\")\n",
    "print(f\"5! = {factorial(5)}\")\n",
    "print(f\"Module PI value: {PI}\")\n",
    "print(f\"Module version: {VERSION}\")"
   ]
  },
  {
   "cell_type": "code",
   "execution_count": 73,
   "id": "8b294f50",
   "metadata": {},
   "outputs": [
    {
     "name": "stdout",
     "output_type": "stream",
     "text": [
      "Current module name: __main__\n",
      "This module is being run directly, not imported\n"
     ]
    }
   ],
   "source": [
    "#  __name__ 变量的使用\n",
    "print(f\"Current module name: {__name__}\")\n",
    "\n",
    "# 在真实的模块文件中，通常会有这样的代码：\n",
    "if __name__ == \"__main__\":\n",
    "    print(\"This module is being run directly, not imported\")\n",
    "    # 这里可以放测试代码\n",
    "else:\n",
    "    print(\"This module is being imported\")"
   ]
  },
  {
   "cell_type": "code",
   "execution_count": 74,
   "id": "1c76bebb-0ea9-48c1-b58e-084f68d39f87",
   "metadata": {},
   "outputs": [
    {
     "data": {
      "text/plain": [
       "'__main__'"
      ]
     },
     "execution_count": 74,
     "metadata": {},
     "output_type": "execute_result"
    }
   ],
   "source": [
    "globals()['__name__']"
   ]
  },
  {
   "cell_type": "code",
   "execution_count": 75,
   "id": "205c45fb-d85e-4abc-b820-f3182a6a6c2e",
   "metadata": {},
   "outputs": [
    {
     "data": {
      "text/plain": [
       "'math'"
      ]
     },
     "execution_count": 75,
     "metadata": {},
     "output_type": "execute_result"
    }
   ],
   "source": [
    "math.__name__"
   ]
  },
  {
   "cell_type": "code",
   "execution_count": 76,
   "id": "ef12110c-6037-4a88-8073-9b7e6c776522",
   "metadata": {},
   "outputs": [
    {
     "data": {
      "text/plain": [
       "'mathlib'"
      ]
     },
     "execution_count": 76,
     "metadata": {},
     "output_type": "execute_result"
    }
   ],
   "source": [
    "mathlib.__name__"
   ]
  },
  {
   "cell_type": "markdown",
   "id": "aafb4d3f",
   "metadata": {},
   "source": [
    "## 总结\n",
    "\n",
    "本节我们学习了Python中的重要概念：\n",
    "\n",
    "### 🔧 函数（Functions）\n",
    "- **基本语法**：使用`def`关键字定义函数\n",
    "- **参数类型**：位置参数、关键字参数、默认参数、可变参数(*args, **kwargs)、强制关键字参数\n",
    "- **文档字符串**：使用docstring记录函数功能、参数和返回值\n",
    "\n",
    "### 🔍 变量作用域（Scope）\n",
    "- **LEGB规则**：Local → Enclosing → Global → Built-in\n",
    "- **global关键字**：修改全局变量\n",
    "- **nonlocal关键字**：修改嵌套作用域变量\n",
    "\n",
    "### ⚡ 生成器（Generators）\n",
    "- **yield关键字**：创建生成器函数，实现惰性求值\n",
    "- **内存效率**：适合处理大量数据，节省内存\n",
    "- **双向通信**：使用send()方法与生成器交互\n",
    "- **生成器表达式**：简洁的语法创建生成器\n",
    "\n",
    "### 📦 模块（Modules）\n",
    "- **代码重用**：将相关功能组织成模块\n",
    "- **导入方式**：import、from...import、别名导入\n",
    "- **内置模块**：math、random、datetime等\n",
    "- **__name__变量**：区分模块是被导入还是直接运行\n",
    "\n",
    "这些概念是Python编程的基础，掌握它们将帮助你写出更清晰、更高效的代码！"
   ]
  },
  {
   "cell_type": "markdown",
   "id": "09d3646b",
   "metadata": {},
   "source": [
    "## Homework\n",
    "\n",
    "创建一个名为`fasta.py`的模块，包含以下函数：\n",
    "- `read_fasta(file_path)`: 创建一个读取fasta文件中序列的generator，每次以tuple的形式返回一条序列记录的id与序列，两者都是字符串;\n",
    "- `reverse_complement(sequence)`: 返回给定DNA序列的反向互补序列;\n",
    "\n",
    "然后定义一个名为`main`的函数，输入一个fasta文件的路径（字符串），调用`fasta`模块读取该fasta文件，然后用`fasta`模块中的`reverse_complement`函数将文件中每条序列全部转换为反向互补序列，并以fasta格式输出到一个新的文件中。"
   ]
  },
  {
   "cell_type": "markdown",
   "id": "820f2f62",
   "metadata": {},
   "source": [
    "## 拓展内容\n",
    "\n",
    "- 怎么创建自己的python package并发布到PyPI供它人通过`pip`安装: https://packaging.python.org/en/latest/"
   ]
  },
  {
   "cell_type": "markdown",
   "id": "ad49f74d-1560-49c2-8831-6d3ebf5dbd0f",
   "metadata": {},
   "source": [
    "## 部分练习题的提示\n",
    "\n",
    "- 当我们在函数内部给一个变量a赋值时，python会先认定a是函数内部创建的局部变量，然后再根据=右边的表达式确定其值，但是认定a是局部变量后，a在之前并没有定义，所以无法计算a+1，导致错误；\n",
    "- 默认参数在函数定义时只被创建一次，而不是每次调用时都创建新的实例；\n",
    "- 在最近的python版本中，强制位置参数可以通过反斜杠实现；"
   ]
  }
 ],
 "metadata": {
  "kernelspec": {
   "display_name": "Python 3 (ipykernel)",
   "language": "python",
   "name": "python3"
  },
  "language_info": {
   "codemirror_mode": {
    "name": "ipython",
    "version": 3
   },
   "file_extension": ".py",
   "mimetype": "text/x-python",
   "name": "python",
   "nbconvert_exporter": "python",
   "pygments_lexer": "ipython3",
   "version": "3.13.2"
  }
 },
 "nbformat": 4,
 "nbformat_minor": 5
}
