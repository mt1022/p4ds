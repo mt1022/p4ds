{
 "cells": [
  {
   "cell_type": "markdown",
   "id": "a31d1733-aa21-4839-a5f8-3f17d3831a22",
   "metadata": {},
   "source": [
    "# 07 - 可视化基础（visualization）\n",
    "\n",
    "官方教学\n",
    "- 底层基础matplotlib：https://matplotlib.org/stable/users/explain/quick_start.html\n",
    "- `seaborn`: https://seaborn.pydata.org/tutorial/introduction.html\n",
    "- `plotnine` (ggplot2 style): https://plotnine.org/guide/overview.html\n",
    "\n",
    "第三方资源\n",
    "\n",
    "- [Python for Data Analysis, 3E](https://wesmckinney.com/book/)\n",
    "- 常用函数速查：https://github.com/gxelab/tutorials/blob/main/essential_visualization.md"
   ]
  },
  {
   "cell_type": "code",
   "execution_count": null,
   "id": "33eb4a27-890b-4e22-bd67-b66609458089",
   "metadata": {},
   "outputs": [],
   "source": [
    "import numpy as np\n",
    "import pandas as pd\n",
    "import matplotlib.pyplot as plt\n",
    "import seaborn as sns\n",
    "from plotnine import *"
   ]
  },
  {
   "cell_type": "code",
   "execution_count": null,
   "id": "985dec43-b78c-4a3a-af19-b914f64e0d1f",
   "metadata": {},
   "outputs": [],
   "source": [
    "iris = sns.load_dataset('iris')"
   ]
  },
  {
   "cell_type": "markdown",
   "id": "e0edbda0-d027-4e1d-a183-d29d4d3f2a25",
   "metadata": {},
   "source": [
    "## `matplotlib`\n",
    "\n",
    "- Figure: 画布、画板；\n",
    "- Axes: 画布上每一个具体的图；(不是指Axis的复数)\n",
    "- Title: 图的标题；\n",
    "- Legend: 图注；\n",
    "- Axis: 图的坐标轴；\n",
    "- Tick: 刻度（major大，minor小）；\n",
    "- Grid: 网格；\n",
    "- Marker: 点；\n",
    "- Line: 线；\n",
    "\n",
    "![](https://matplotlib.org/stable/_images/anatomy.png)"
   ]
  },
  {
   "cell_type": "code",
   "execution_count": null,
   "id": "6e0203d9-2a9a-4c3d-9823-1fe2af32feb1",
   "metadata": {},
   "outputs": [],
   "source": [
    "fig, ax = plt.subplots()  # a figure with a single Axes"
   ]
  },
  {
   "cell_type": "code",
   "execution_count": null,
   "id": "123601ff-7889-472b-8fc8-86ff4743b61e",
   "metadata": {},
   "outputs": [],
   "source": [
    "ax.scatter('sepal_width', 'sepal_length', data=iris)\n",
    "fig"
   ]
  },
  {
   "cell_type": "code",
   "execution_count": null,
   "id": "5b46feff-f39e-41a2-8d21-697ed46d2bf5",
   "metadata": {},
   "outputs": [],
   "source": [
    "from matplotlib.patches import Patch\n",
    "\n",
    "\n",
    "cmap = {'setosa': 'grey', 'versicolor': 'orange', 'virginica': 'purple'}\n",
    "iris['species_col'] =iris['species'].map(cmap)\n",
    "\n",
    "fig, ax = plt.subplots()\n",
    "ax.scatter('sepal_width', 'sepal_length', c='species_col', data=iris)\n",
    "ax.set_xlabel('Sepal width')\n",
    "ax.set_ylabel('Sepal length')\n",
    "ax.set_title('Iris')"
   ]
  },
  {
   "cell_type": "code",
   "execution_count": null,
   "id": "de50db39-1544-447a-a66b-af6c6e7c0d52",
   "metadata": {},
   "outputs": [],
   "source": [
    "fig, ax = plt.subplots()\n",
    "ax.scatter(iris['sepal_width'], iris['sepal_length'])"
   ]
  },
  {
   "cell_type": "code",
   "execution_count": null,
   "id": "d0d45e2b-83ce-4406-b262-960917584e1c",
   "metadata": {},
   "outputs": [],
   "source": [
    "fig, axs = plt.subplots(1, 3)\n",
    "axs[0].scatter('sepal_width', 'sepal_length', data=iris[iris.species == 'setosa'])\n",
    "axs[1].scatter('sepal_width', 'sepal_length', data=iris[iris.species == 'versicolor'])\n",
    "axs[2].scatter('sepal_width', 'sepal_length', data=iris[iris.species == 'virginica'])"
   ]
  },
  {
   "cell_type": "markdown",
   "id": "b918f87b-73b9-4dd1-a417-b1b5b546e03d",
   "metadata": {},
   "source": [
    "## `seaborn`"
   ]
  },
  {
   "cell_type": "code",
   "execution_count": null,
   "id": "e408838b-e2c2-475f-ae7c-95f70794874b",
   "metadata": {},
   "outputs": [],
   "source": [
    "ax = sns.scatterplot(x='sepal_width', y='sepal_length', hue='species', data=iris)\n",
    "# seaborn作图函数的返回值是Axes，对应的Figure对象可以通过ax.figure查看"
   ]
  },
  {
   "cell_type": "markdown",
   "id": "271bd8ae-502b-4759-9125-d95489a3019d",
   "metadata": {},
   "source": [
    "## `plotnine`"
   ]
  },
  {
   "cell_type": "code",
   "execution_count": null,
   "id": "d694b9c8-49c7-40ac-ba7a-8e7ea3f835d7",
   "metadata": {},
   "outputs": [],
   "source": [
    "(\n",
    "    ggplot(iris, aes(x='sepal_width', y='sepal_length', color='species')) +\n",
    "    geom_point() +\n",
    "    geom_smooth(method='lm')\n",
    ")"
   ]
  },
  {
   "cell_type": "markdown",
   "id": "d5427512-4cef-4da2-bb9c-38454df6d2c8",
   "metadata": {},
   "source": [
    "Python代码与对应的R代码几乎一样，可视化效果也基本一致：\n",
    "\n",
    "```R\n",
    "ggplot(iris, aes(x=sepal_width, y=sepal_length, color=species)) +\n",
    "    geom_point() +\n",
    "    geom_smooth(method='lm')\n",
    "\n",
    "```"
   ]
  },
  {
   "cell_type": "markdown",
   "id": "d39ffcda-0141-4d1c-a8d8-6a94af610bb6",
   "metadata": {},
   "source": [
    "## Homework\n",
    "\n",
    "homework文件夹下面给大家提供了我们人类自身基因组所有基因的信息([链接](https://github.com/mt1022/p4ds/blob/main/homework/Homo_sapiens.GRCh38.111.gtf.txinfo.tsv.gz))，请大家将该文件加载到python中，尝试各种可能进行探索性分析与可视化，更好地了解我们自身的基因组。\n",
    "\n",
    "提示：可以问一些非常简单的问题并尝试利用所学的知识编程求解，例如\n",
    "- 人类有多少蛋白质编码基因(protein-coding)，多少非编码基因？\n",
    "- 平均每个基因有多少个转录本？\n",
    "- 转录本的长度分布是怎样的？\n",
    "- 不同转录本5' UTR与3' UTR的长度是正相关还是负相关？\n",
    "- CDS的长度都是3的整倍数吗？"
   ]
  }
 ],
 "metadata": {
  "kernelspec": {
   "display_name": "Python 3 (ipykernel)",
   "language": "python",
   "name": "python3"
  },
  "language_info": {
   "codemirror_mode": {
    "name": "ipython",
    "version": 3
   },
   "file_extension": ".py",
   "mimetype": "text/x-python",
   "name": "python",
   "nbconvert_exporter": "python",
   "pygments_lexer": "ipython3",
   "version": "3.13.2"
  }
 },
 "nbformat": 4,
 "nbformat_minor": 5
}
